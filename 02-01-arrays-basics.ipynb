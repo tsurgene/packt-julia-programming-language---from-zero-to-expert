{
 "cells": [
  {
   "cell_type": "markdown",
   "id": "great-survivor",
   "metadata": {},
   "source": [
    "# Arrays, Matrices & Tensors"
   ]
  },
  {
   "cell_type": "markdown",
   "id": "lyric-horizon",
   "metadata": {},
   "source": [
    "Arrays are the most powerful and useful features in Julia. Let's start with some basics. "
   ]
  },
  {
   "cell_type": "code",
   "execution_count": 1,
   "id": "stable-visiting",
   "metadata": {},
   "outputs": [
    {
     "data": {
      "text/plain": [
       "3-element Array{String,1}:\n",
       " \"jack\"\n",
       " \"jill\"\n",
       " \"john\""
      ]
     },
     "execution_count": 1,
     "metadata": {},
     "output_type": "execute_result"
    }
   ],
   "source": [
    "students = [\"jack\", \"jill\", \"john\"]"
   ]
  },
  {
   "cell_type": "code",
   "execution_count": 2,
   "id": "natural-official",
   "metadata": {},
   "outputs": [
    {
     "data": {
      "text/plain": [
       "Array{String,1}"
      ]
     },
     "execution_count": 2,
     "metadata": {},
     "output_type": "execute_result"
    }
   ],
   "source": [
    "typeof(students)"
   ]
  },
  {
   "cell_type": "markdown",
   "id": "executive-planning",
   "metadata": {},
   "source": [
    "String defines the type of the elements and 1 is the dimension of the array. So, this is a **\"1D array of string values\"**."
   ]
  },
  {
   "cell_type": "code",
   "execution_count": 3,
   "id": "downtown-recording",
   "metadata": {},
   "outputs": [
    {
     "data": {
      "text/plain": [
       "7-element Array{Int64,1}:\n",
       "  1\n",
       "  1\n",
       "  2\n",
       "  3\n",
       "  5\n",
       "  8\n",
       " 13"
      ]
     },
     "execution_count": 3,
     "metadata": {},
     "output_type": "execute_result"
    }
   ],
   "source": [
    "fib = [1, 1, 2, 3, 5, 8, 13]"
   ]
  },
  {
   "cell_type": "code",
   "execution_count": 4,
   "id": "chemical-klein",
   "metadata": {},
   "outputs": [
    {
     "data": {
      "text/plain": [
       "Array{Int64,1}"
      ]
     },
     "execution_count": 4,
     "metadata": {},
     "output_type": "execute_result"
    }
   ],
   "source": [
    "typeof(fib)"
   ]
  },
  {
   "cell_type": "code",
   "execution_count": 5,
   "id": "taken-restaurant",
   "metadata": {},
   "outputs": [
    {
     "data": {
      "text/plain": [
       "8-element Array{Int64,1}:\n",
       "  1\n",
       "  1\n",
       "  2\n",
       "  3\n",
       "  5\n",
       "  8\n",
       " 13\n",
       " 21"
      ]
     },
     "execution_count": 5,
     "metadata": {},
     "output_type": "execute_result"
    }
   ],
   "source": [
    "push!(fib, 21)"
   ]
  },
  {
   "cell_type": "code",
   "execution_count": 6,
   "id": "equal-generic",
   "metadata": {},
   "outputs": [
    {
     "name": "stdout",
     "output_type": "stream",
     "text": [
      "fib = [1, 1, 2, 3, 5, 8, 13, 21]\n"
     ]
    }
   ],
   "source": [
    "@show fib; "
   ]
  },
  {
   "cell_type": "code",
   "execution_count": 7,
   "id": "artificial-diesel",
   "metadata": {},
   "outputs": [
    {
     "data": {
      "text/plain": [
       "21"
      ]
     },
     "execution_count": 7,
     "metadata": {},
     "output_type": "execute_result"
    }
   ],
   "source": [
    "pop!(fib)"
   ]
  },
  {
   "cell_type": "code",
   "execution_count": 8,
   "id": "professional-liberty",
   "metadata": {},
   "outputs": [
    {
     "name": "stdout",
     "output_type": "stream",
     "text": [
      "fib = [1, 1, 2, 3, 5, 8, 13]\n"
     ]
    }
   ],
   "source": [
    "@show fib;"
   ]
  },
  {
   "cell_type": "markdown",
   "id": "third-illustration",
   "metadata": {},
   "source": [
    "## 2D Arrays"
   ]
  },
  {
   "cell_type": "code",
   "execution_count": 11,
   "id": "covered-stanley",
   "metadata": {},
   "outputs": [
    {
     "data": {
      "text/plain": [
       "3-element Array{Array{Int64,1},1}:\n",
       " [1, 2, 3]\n",
       " [4, 5, 6]\n",
       " [7, 8, 9, 24]"
      ]
     },
     "execution_count": 11,
     "metadata": {},
     "output_type": "execute_result"
    }
   ],
   "source": [
    "mat = [\n",
    "    [1, 2, 3], \n",
    "    [4, 5, 6], \n",
    "    [7, 8, 9, 24]\n",
    "]"
   ]
  },
  {
   "cell_type": "code",
   "execution_count": 12,
   "id": "dependent-monster",
   "metadata": {},
   "outputs": [
    {
     "data": {
      "text/plain": [
       "Array{Array{Int64,1},1}"
      ]
     },
     "execution_count": 12,
     "metadata": {},
     "output_type": "execute_result"
    }
   ],
   "source": [
    "typeof(mat)"
   ]
  },
  {
   "cell_type": "markdown",
   "id": "consecutive-algebra",
   "metadata": {},
   "source": [
    "Notice the type! It's not a 2D matrix. It's a 1D array but each element within it is a 1D array itself! These are useful in certain cases, but we are usually interested in 2D arrays in data science and machine learning.\n",
    "\n",
    "Let's create a 2D array. "
   ]
  },
  {
   "cell_type": "markdown",
   "id": "focused-latvia",
   "metadata": {},
   "source": [
    "## Matrices "
   ]
  },
  {
   "cell_type": "code",
   "execution_count": 13,
   "id": "cognitive-insight",
   "metadata": {},
   "outputs": [
    {
     "data": {
      "text/plain": [
       "1×3 Array{Int64,2}:\n",
       " 1  2  3"
      ]
     },
     "execution_count": 13,
     "metadata": {},
     "output_type": "execute_result"
    }
   ],
   "source": [
    "x = [1 2 3]       # notice the lack of commas (and the dimensions) "
   ]
  },
  {
   "cell_type": "code",
   "execution_count": 14,
   "id": "willing-double",
   "metadata": {},
   "outputs": [
    {
     "data": {
      "text/plain": [
       "3×1 LinearAlgebra.Adjoint{Int64,Array{Int64,2}}:\n",
       " 1\n",
       " 2\n",
       " 3"
      ]
     },
     "execution_count": 14,
     "metadata": {},
     "output_type": "execute_result"
    }
   ],
   "source": [
    "x'                # turn this into a column vector "
   ]
  },
  {
   "cell_type": "code",
   "execution_count": 22,
   "id": "brief-mathematics",
   "metadata": {},
   "outputs": [
    {
     "data": {
      "text/plain": [
       "3×3 Array{Int64,2}:\n",
       " 1  2  3\n",
       " 4  5  6\n",
       " 7  8  9"
      ]
     },
     "execution_count": 22,
     "metadata": {},
     "output_type": "execute_result"
    }
   ],
   "source": [
    "mat = [\n",
    "       [1  2  3] \n",
    "       [4  5  6] \n",
    "       [7  8  9]\n",
    "      ]"
   ]
  },
  {
   "cell_type": "code",
   "execution_count": 23,
   "id": "historical-novel",
   "metadata": {},
   "outputs": [
    {
     "data": {
      "text/plain": [
       "Array{Int64,2}"
      ]
     },
     "execution_count": 23,
     "metadata": {},
     "output_type": "execute_result"
    }
   ],
   "source": [
    "typeof(mat)"
   ]
  },
  {
   "cell_type": "markdown",
   "id": "dangerous-australia",
   "metadata": {},
   "source": [
    "### Sizes (Shapes) and Reshaping "
   ]
  },
  {
   "cell_type": "code",
   "execution_count": 24,
   "id": "yellow-christianity",
   "metadata": {},
   "outputs": [
    {
     "data": {
      "text/plain": [
       "(3, 3)"
      ]
     },
     "execution_count": 24,
     "metadata": {},
     "output_type": "execute_result"
    }
   ],
   "source": [
    "size(mat)     # extremely important in modern machine learning "
   ]
  },
  {
   "cell_type": "code",
   "execution_count": 25,
   "id": "occupational-circulation",
   "metadata": {},
   "outputs": [
    {
     "data": {
      "text/plain": [
       "(1, 3)"
      ]
     },
     "execution_count": 25,
     "metadata": {},
     "output_type": "execute_result"
    }
   ],
   "source": [
    "size(x)"
   ]
  },
  {
   "cell_type": "code",
   "execution_count": 26,
   "id": "broken-chapel",
   "metadata": {},
   "outputs": [
    {
     "data": {
      "text/plain": [
       "(7,)"
      ]
     },
     "execution_count": 26,
     "metadata": {},
     "output_type": "execute_result"
    }
   ],
   "source": [
    "size(fib)     # Important difference "
   ]
  },
  {
   "cell_type": "code",
   "execution_count": 27,
   "id": "fiscal-projection",
   "metadata": {},
   "outputs": [
    {
     "data": {
      "text/plain": [
       "4×3 Array{Int64,2}:\n",
       "  1   2   3\n",
       "  4   5   6\n",
       "  7   8   9\n",
       " 10  11  12"
      ]
     },
     "execution_count": 27,
     "metadata": {},
     "output_type": "execute_result"
    }
   ],
   "source": [
    "X = [\n",
    "       [1   2   3] \n",
    "       [4   5   6] \n",
    "       [7   8   9]\n",
    "       [10  11  12]\n",
    "      ]"
   ]
  },
  {
   "cell_type": "code",
   "execution_count": 28,
   "id": "revolutionary-motel",
   "metadata": {},
   "outputs": [
    {
     "data": {
      "text/plain": [
       "2×6 Array{Int64,2}:\n",
       " 1   7  2   8  3   9\n",
       " 4  10  5  11  6  12"
      ]
     },
     "execution_count": 28,
     "metadata": {},
     "output_type": "execute_result"
    }
   ],
   "source": [
    "X = reshape(X, 2, 6)"
   ]
  },
  {
   "cell_type": "code",
   "execution_count": 29,
   "id": "liked-mattress",
   "metadata": {},
   "outputs": [
    {
     "data": {
      "text/plain": [
       "12×1 Array{Int64,2}:\n",
       "  1\n",
       "  4\n",
       "  7\n",
       " 10\n",
       "  2\n",
       "  5\n",
       "  8\n",
       " 11\n",
       "  3\n",
       "  6\n",
       "  9\n",
       " 12"
      ]
     },
     "execution_count": 29,
     "metadata": {},
     "output_type": "execute_result"
    }
   ],
   "source": [
    "X = reshape(X, 12, 1)"
   ]
  },
  {
   "cell_type": "code",
   "execution_count": 31,
   "id": "exempt-slovenia",
   "metadata": {},
   "outputs": [
    {
     "data": {
      "text/plain": [
       "4×3 Array{Int64,2}:\n",
       "  1   2   3\n",
       "  4   5   6\n",
       "  7   8   9\n",
       " 10  11  12"
      ]
     },
     "execution_count": 31,
     "metadata": {},
     "output_type": "execute_result"
    }
   ],
   "source": [
    "X = reshape(X, 4, 3)"
   ]
  },
  {
   "cell_type": "markdown",
   "id": "related-sacramento",
   "metadata": {},
   "source": [
    "## Helper Functions "
   ]
  },
  {
   "cell_type": "markdown",
   "id": "patient-bedroom",
   "metadata": {},
   "source": [
    "### Creating Random Matrices"
   ]
  },
  {
   "cell_type": "code",
   "execution_count": 32,
   "id": "worth-lewis",
   "metadata": {},
   "outputs": [
    {
     "data": {
      "text/plain": [
       "4×3 Array{Float64,2}:\n",
       " 0.192271  0.902721  0.431684\n",
       " 0.978904  0.326399  0.66349\n",
       " 0.184517  0.912208  0.604661\n",
       " 0.651662  0.799301  0.040425"
      ]
     },
     "execution_count": 32,
     "metadata": {},
     "output_type": "execute_result"
    }
   ],
   "source": [
    "rand(4, 3)"
   ]
  },
  {
   "cell_type": "code",
   "execution_count": 33,
   "id": "modern-money",
   "metadata": {},
   "outputs": [
    {
     "data": {
      "text/plain": [
       "4×3 Array{Float64,2}:\n",
       " 0.907329  0.686946  0.0433964\n",
       " 0.25102   0.271209  0.436602\n",
       " 0.833106  0.362261  0.493701\n",
       " 0.305279  0.625281  0.295096"
      ]
     },
     "execution_count": 33,
     "metadata": {},
     "output_type": "execute_result"
    }
   ],
   "source": [
    "mat = rand(4, 3)"
   ]
  },
  {
   "cell_type": "code",
   "execution_count": 34,
   "id": "periodic-motion",
   "metadata": {},
   "outputs": [],
   "source": [
    "mat_2 = mat;"
   ]
  },
  {
   "cell_type": "code",
   "execution_count": 35,
   "id": "right-vietnamese",
   "metadata": {},
   "outputs": [
    {
     "data": {
      "text/plain": [
       "100.0"
      ]
     },
     "execution_count": 35,
     "metadata": {},
     "output_type": "execute_result"
    }
   ],
   "source": [
    "mat_2[1, 1] = 100.0"
   ]
  },
  {
   "cell_type": "code",
   "execution_count": 36,
   "id": "recovered-sodium",
   "metadata": {},
   "outputs": [
    {
     "data": {
      "text/plain": [
       "4×3 Array{Float64,2}:\n",
       " 100.0       0.686946  0.0433964\n",
       "   0.25102   0.271209  0.436602\n",
       "   0.833106  0.362261  0.493701\n",
       "   0.305279  0.625281  0.295096"
      ]
     },
     "execution_count": 36,
     "metadata": {},
     "output_type": "execute_result"
    }
   ],
   "source": [
    "mat_2"
   ]
  },
  {
   "cell_type": "code",
   "execution_count": 37,
   "id": "shared-spencer",
   "metadata": {},
   "outputs": [
    {
     "data": {
      "text/plain": [
       "4×3 Array{Float64,2}:\n",
       " 100.0       0.686946  0.0433964\n",
       "   0.25102   0.271209  0.436602\n",
       "   0.833106  0.362261  0.493701\n",
       "   0.305279  0.625281  0.295096"
      ]
     },
     "execution_count": 37,
     "metadata": {},
     "output_type": "execute_result"
    }
   ],
   "source": [
    "mat"
   ]
  },
  {
   "cell_type": "markdown",
   "id": "running-proof",
   "metadata": {},
   "source": [
    "### Copying Arrays "
   ]
  },
  {
   "cell_type": "code",
   "execution_count": 38,
   "id": "hydraulic-powder",
   "metadata": {},
   "outputs": [
    {
     "data": {
      "text/plain": [
       "4×3 Array{Float64,2}:\n",
       " 100.0       0.686946  0.0433964\n",
       "   0.25102   0.271209  0.436602\n",
       "   0.833106  0.362261  0.493701\n",
       "   0.305279  0.625281  0.295096"
      ]
     },
     "execution_count": 38,
     "metadata": {},
     "output_type": "execute_result"
    }
   ],
   "source": [
    "mat_3 = copy(mat)  \n",
    "# this creates a copy of the values "
   ]
  },
  {
   "cell_type": "code",
   "execution_count": 39,
   "id": "continuing-butterfly",
   "metadata": {},
   "outputs": [
    {
     "data": {
      "text/plain": [
       "999.0"
      ]
     },
     "execution_count": 39,
     "metadata": {},
     "output_type": "execute_result"
    }
   ],
   "source": [
    "mat_3[1, 1] = 999.0"
   ]
  },
  {
   "cell_type": "code",
   "execution_count": 40,
   "id": "sixth-worship",
   "metadata": {},
   "outputs": [
    {
     "data": {
      "text/plain": [
       "4×3 Array{Float64,2}:\n",
       " 100.0       0.686946  0.0433964\n",
       "   0.25102   0.271209  0.436602\n",
       "   0.833106  0.362261  0.493701\n",
       "   0.305279  0.625281  0.295096"
      ]
     },
     "execution_count": 40,
     "metadata": {},
     "output_type": "execute_result"
    }
   ],
   "source": [
    "mat"
   ]
  },
  {
   "cell_type": "code",
   "execution_count": 41,
   "id": "therapeutic-county",
   "metadata": {},
   "outputs": [
    {
     "data": {
      "text/plain": [
       "4×3 Array{Float64,2}:\n",
       " 999.0       0.686946  0.0433964\n",
       "   0.25102   0.271209  0.436602\n",
       "   0.833106  0.362261  0.493701\n",
       "   0.305279  0.625281  0.295096"
      ]
     },
     "execution_count": 41,
     "metadata": {},
     "output_type": "execute_result"
    }
   ],
   "source": [
    "mat_3"
   ]
  },
  {
   "cell_type": "markdown",
   "id": "lucky-resolution",
   "metadata": {},
   "source": [
    "## Comprehensions "
   ]
  },
  {
   "cell_type": "markdown",
   "id": "enormous-boutique",
   "metadata": {},
   "source": [
    "We can also do nested loops with comprehensions. "
   ]
  },
  {
   "cell_type": "code",
   "execution_count": 44,
   "id": "interracial-chemical",
   "metadata": {},
   "outputs": [
    {
     "data": {
      "text/plain": [
       "10-element Array{Int64,1}:\n",
       "   1\n",
       "   4\n",
       "   9\n",
       "  16\n",
       "  25\n",
       "  36\n",
       "  49\n",
       "  64\n",
       "  81\n",
       " 100"
      ]
     },
     "execution_count": 44,
     "metadata": {},
     "output_type": "execute_result"
    }
   ],
   "source": [
    "[i^2 for i in 1:10]"
   ]
  },
  {
   "cell_type": "code",
   "execution_count": 45,
   "id": "timely-startup",
   "metadata": {},
   "outputs": [
    {
     "data": {
      "text/plain": [
       "5×5 Array{Tuple{Int64,Int64},2}:\n",
       " (1, 6)  (1, 7)  (1, 8)  (1, 9)  (1, 10)\n",
       " (2, 6)  (2, 7)  (2, 8)  (2, 9)  (2, 10)\n",
       " (3, 6)  (3, 7)  (3, 8)  (3, 9)  (3, 10)\n",
       " (4, 6)  (4, 7)  (4, 8)  (4, 9)  (4, 10)\n",
       " (5, 6)  (5, 7)  (5, 8)  (5, 9)  (5, 10)"
      ]
     },
     "execution_count": 45,
     "metadata": {},
     "output_type": "execute_result"
    }
   ],
   "source": [
    "[(i, j) for i in 1:5, j in 6:10]      # cartesian product (or nested loop)"
   ]
  },
  {
   "cell_type": "code",
   "execution_count": 48,
   "id": "legitimate-animation",
   "metadata": {},
   "outputs": [
    {
     "data": {
      "text/plain": [
       "5×5 Array{Tuple{Int64,Rational{Int64}},2}:\n",
       " (1, 13//2)   (1, 15//2)   (1, 17//2)   (1, 19//2)   (1, 21//2)\n",
       " (4, 13//2)   (4, 15//2)   (4, 17//2)   (4, 19//2)   (4, 21//2)\n",
       " (9, 13//2)   (9, 15//2)   (9, 17//2)   (9, 19//2)   (9, 21//2)\n",
       " (16, 13//2)  (16, 15//2)  (16, 17//2)  (16, 19//2)  (16, 21//2)\n",
       " (25, 13//2)  (25, 15//2)  (25, 17//2)  (25, 19//2)  (25, 21//2)"
      ]
     },
     "execution_count": 48,
     "metadata": {},
     "output_type": "execute_result"
    }
   ],
   "source": [
    "[(i^2, j+1//2) for i in 1:5, j in 6:10]"
   ]
  },
  {
   "cell_type": "markdown",
   "id": "contrary-shipping",
   "metadata": {},
   "source": [
    "## Matrix Operations "
   ]
  },
  {
   "cell_type": "code",
   "execution_count": 49,
   "id": "greater-hartford",
   "metadata": {},
   "outputs": [
    {
     "data": {
      "text/plain": [
       "3×3 Array{Int64,2}:\n",
       " 15  16  19\n",
       " 10  11  13\n",
       " 10  16  18"
      ]
     },
     "execution_count": 49,
     "metadata": {},
     "output_type": "execute_result"
    }
   ],
   "source": [
    "A = rand(10:20, 3, 3)\n",
    "\n",
    "\n",
    "# 3x3 matrix with each value between 10 and 20 "
   ]
  },
  {
   "cell_type": "code",
   "execution_count": 50,
   "id": "sweet-rolling",
   "metadata": {},
   "outputs": [
    {
     "data": {
      "text/plain": [
       "3×3 Array{Float64,2}:\n",
       " 10.0  15.0  12.0\n",
       " 18.0  17.0  16.0\n",
       " 18.0  10.0  10.0"
      ]
     },
     "execution_count": 50,
     "metadata": {},
     "output_type": "execute_result"
    }
   ],
   "source": [
    "A = rand(10.:20, 3, 3) \n",
    "# Changing the range changes the type to Float64"
   ]
  },
  {
   "cell_type": "markdown",
   "id": "eleven-forge",
   "metadata": {},
   "source": [
    "Instead of random values, we can provide a specific value using the fill method. "
   ]
  },
  {
   "cell_type": "code",
   "execution_count": 51,
   "id": "protecting-birmingham",
   "metadata": {},
   "outputs": [
    {
     "data": {
      "text/plain": [
       "3-element Array{Float64,1}:\n",
       " 10.0\n",
       " 10.0\n",
       " 10.0"
      ]
     },
     "execution_count": 51,
     "metadata": {},
     "output_type": "execute_result"
    }
   ],
   "source": [
    "x = fill(10.0, (3, ))"
   ]
  },
  {
   "cell_type": "code",
   "execution_count": 52,
   "id": "sticky-calcium",
   "metadata": {},
   "outputs": [
    {
     "data": {
      "text/plain": [
       "3-element Array{Float64,1}:\n",
       " 370.0\n",
       " 510.0\n",
       " 380.0"
      ]
     },
     "execution_count": 52,
     "metadata": {},
     "output_type": "execute_result"
    }
   ],
   "source": [
    "A*x \n",
    "# this is the usual matrix-vector multiplication \n",
    "# of course, this requires a 'size match'"
   ]
  },
  {
   "cell_type": "markdown",
   "id": "changed-manchester",
   "metadata": {},
   "source": [
    "### Transpose, Trace, Determinant"
   ]
  },
  {
   "cell_type": "code",
   "execution_count": 53,
   "id": "geographic-making",
   "metadata": {},
   "outputs": [
    {
     "data": {
      "text/plain": [
       "3×3 LinearAlgebra.Adjoint{Float64,Array{Float64,2}}:\n",
       " 10.0  18.0  18.0\n",
       " 15.0  17.0  10.0\n",
       " 12.0  16.0  10.0"
      ]
     },
     "execution_count": 53,
     "metadata": {},
     "output_type": "execute_result"
    }
   ],
   "source": [
    "A'"
   ]
  },
  {
   "cell_type": "code",
   "execution_count": 54,
   "id": "acute-compact",
   "metadata": {},
   "outputs": [
    {
     "data": {
      "text/plain": [
       "3×3 Array{Float64,2}:\n",
       " 748.0  636.0  588.0\n",
       " 636.0  614.0  552.0\n",
       " 588.0  552.0  500.0"
      ]
     },
     "execution_count": 54,
     "metadata": {},
     "output_type": "execute_result"
    }
   ],
   "source": [
    "A' * A"
   ]
  },
  {
   "cell_type": "code",
   "execution_count": 55,
   "id": "south-committee",
   "metadata": {},
   "outputs": [
    {
     "data": {
      "text/plain": [
       "3×3 Array{Float64,2}:\n",
       " 748.0  636.0  588.0\n",
       " 636.0  614.0  552.0\n",
       " 588.0  552.0  500.0"
      ]
     },
     "execution_count": 55,
     "metadata": {},
     "output_type": "execute_result"
    }
   ],
   "source": [
    "A'A      # shortcut ... typical with Julia "
   ]
  },
  {
   "cell_type": "code",
   "execution_count": 58,
   "id": "inner-christopher",
   "metadata": {},
   "outputs": [
    {
     "data": {
      "text/plain": [
       "37.0"
      ]
     },
     "execution_count": 58,
     "metadata": {},
     "output_type": "execute_result"
    }
   ],
   "source": [
    "tr(A)     # the trace of A "
   ]
  },
  {
   "cell_type": "code",
   "execution_count": 57,
   "id": "breeding-minnesota",
   "metadata": {},
   "outputs": [],
   "source": [
    "using LinearAlgebra"
   ]
  },
  {
   "cell_type": "code",
   "execution_count": 60,
   "id": "minute-taxation",
   "metadata": {},
   "outputs": [
    {
     "data": {
      "text/plain": [
       "208.00000000000017"
      ]
     },
     "execution_count": 60,
     "metadata": {},
     "output_type": "execute_result"
    }
   ],
   "source": [
    "det(A)    # determinant needs the LinearAlgebra package "
   ]
  },
  {
   "cell_type": "code",
   "execution_count": 61,
   "id": "competent-bradford",
   "metadata": {},
   "outputs": [
    {
     "data": {
      "text/plain": [
       "3×3 Array{Float64,2}:\n",
       "  0.0480769  -0.144231   0.173077\n",
       "  0.519231   -0.557692   0.269231\n",
       " -0.605769    0.817308  -0.480769"
      ]
     },
     "execution_count": 61,
     "metadata": {},
     "output_type": "execute_result"
    }
   ],
   "source": [
    "inv(A)"
   ]
  },
  {
   "cell_type": "markdown",
   "id": "tough-wells",
   "metadata": {},
   "source": [
    "## Solving Linear Equations Directly "
   ]
  },
  {
   "cell_type": "code",
   "execution_count": 62,
   "id": "together-defeat",
   "metadata": {},
   "outputs": [
    {
     "data": {
      "text/plain": [
       "3×3 Array{Float64,2}:\n",
       " 0.488533    0.492501  0.982323\n",
       " 0.066644    0.495637  0.486983\n",
       " 0.00134901  0.464733  0.0322481"
      ]
     },
     "execution_count": 62,
     "metadata": {},
     "output_type": "execute_result"
    }
   ],
   "source": [
    "A = rand(3, 3)"
   ]
  },
  {
   "cell_type": "code",
   "execution_count": 63,
   "id": "subtle-haiti",
   "metadata": {},
   "outputs": [
    {
     "data": {
      "text/plain": [
       "3-element Array{Float64,1}:\n",
       " 10.0\n",
       " 10.0\n",
       " 10.0"
      ]
     },
     "execution_count": 63,
     "metadata": {},
     "output_type": "execute_result"
    }
   ],
   "source": [
    "x"
   ]
  },
  {
   "cell_type": "code",
   "execution_count": 64,
   "id": "possible-allocation",
   "metadata": {},
   "outputs": [
    {
     "data": {
      "text/plain": [
       "3-element Array{Float64,1}:\n",
       " 19.633568748304175\n",
       " 10.492637889309762\n",
       "  4.983298643938216"
      ]
     },
     "execution_count": 64,
     "metadata": {},
     "output_type": "execute_result"
    }
   ],
   "source": [
    "b = A*x"
   ]
  },
  {
   "cell_type": "code",
   "execution_count": 65,
   "id": "downtown-service",
   "metadata": {},
   "outputs": [
    {
     "data": {
      "text/plain": [
       "3-element Array{Float64,1}:\n",
       "  9.999999999999993\n",
       "  9.999999999999998\n",
       " 10.000000000000005"
      ]
     },
     "execution_count": 65,
     "metadata": {},
     "output_type": "execute_result"
    }
   ],
   "source": [
    "A\\b  # Solve for b "
   ]
  },
  {
   "cell_type": "markdown",
   "id": "mechanical-cement",
   "metadata": {},
   "source": [
    "## More ... "
   ]
  },
  {
   "cell_type": "markdown",
   "id": "ultimate-minute",
   "metadata": {},
   "source": [
    "We can create n-dim arrays easily too. These tensors will come in handy when we get to machine learning.  "
   ]
  },
  {
   "cell_type": "code",
   "execution_count": 67,
   "id": "unlikely-nation",
   "metadata": {},
   "outputs": [
    {
     "data": {
      "text/plain": [
       "4×3×2×5 Array{Float64,4}:\n",
       "[:, :, 1, 1] =\n",
       " 0.423244  0.0352447  0.774295\n",
       " 0.489153  0.785294   0.172679\n",
       " 0.388045  0.977007   0.0229555\n",
       " 0.344082  0.542838   0.473859\n",
       "\n",
       "[:, :, 2, 1] =\n",
       " 0.745864  0.193607  0.238217\n",
       " 0.330387  0.93698   0.565352\n",
       " 0.283217  0.539425  0.072358\n",
       " 0.402641  0.787651  0.124508\n",
       "\n",
       "[:, :, 1, 2] =\n",
       " 0.672048  0.246398  0.829686\n",
       " 0.148401  0.947259  0.212136\n",
       " 0.255381  0.657003  0.804505\n",
       " 0.238833  0.827475  0.29062\n",
       "\n",
       "[:, :, 2, 2] =\n",
       " 0.367693  0.102804  0.163404\n",
       " 0.78897   0.968477  0.0506917\n",
       " 0.806755  0.605732  0.487859\n",
       " 0.131589  0.222102  0.928187\n",
       "\n",
       "[:, :, 1, 3] =\n",
       " 0.452051  0.809278  0.274124\n",
       " 0.875623  0.157866  0.740942\n",
       " 0.542228  0.781493  0.0584045\n",
       " 0.311778  0.501798  0.586056\n",
       "\n",
       "[:, :, 2, 3] =\n",
       " 0.281244   0.274081  0.365858\n",
       " 0.123989   0.251427  0.934947\n",
       " 0.40397    0.85127   0.851383\n",
       " 0.0800254  0.327581  0.444562\n",
       "\n",
       "[:, :, 1, 4] =\n",
       " 0.102543  0.700775  0.69672\n",
       " 0.979993  0.835484  0.5031\n",
       " 0.582695  0.23989   0.698904\n",
       " 0.470617  0.935795  0.307495\n",
       "\n",
       "[:, :, 2, 4] =\n",
       " 0.561043  0.544674  0.169406\n",
       " 0.50032   0.243785  0.779416\n",
       " 0.655147  0.295753  0.870119\n",
       " 0.431398  0.541839  0.0484904\n",
       "\n",
       "[:, :, 1, 5] =\n",
       " 0.976235    0.81163   0.114252\n",
       " 0.505645    0.666897  0.285226\n",
       " 0.721287    0.351533  0.234465\n",
       " 0.00764613  0.129071  0.372353\n",
       "\n",
       "[:, :, 2, 5] =\n",
       " 0.159495   0.356237  0.944864\n",
       " 0.0162243  0.792555  0.793582\n",
       " 0.242195   0.61757   0.317093\n",
       " 0.912875   0.296029  0.287464"
      ]
     },
     "execution_count": 67,
     "metadata": {},
     "output_type": "execute_result"
    }
   ],
   "source": [
    "rand(4, 3, 2, 5)"
   ]
  },
  {
   "cell_type": "markdown",
   "id": "subject-religion",
   "metadata": {},
   "source": [
    "More operations can be seen in the LinearAlgebra package. https://docs.julialang.org/en/v1/stdlib/LinearAlgebra/\n",
    "\n",
    "We will get to these if and when we need more. "
   ]
  },
  {
   "cell_type": "code",
   "execution_count": null,
   "id": "velvet-canvas",
   "metadata": {},
   "outputs": [],
   "source": []
  }
 ],
 "metadata": {
  "kernelspec": {
   "display_name": "Julia 1.5.3",
   "language": "julia",
   "name": "julia-1.5"
  },
  "language_info": {
   "file_extension": ".jl",
   "mimetype": "application/julia",
   "name": "julia",
   "version": "1.5.3"
  }
 },
 "nbformat": 4,
 "nbformat_minor": 5
}
