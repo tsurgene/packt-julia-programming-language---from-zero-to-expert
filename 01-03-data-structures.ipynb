{
 "cells": [
  {
   "cell_type": "markdown",
   "id": "appropriate-junction",
   "metadata": {},
   "source": [
    "# Data Structures "
   ]
  },
  {
   "cell_type": "markdown",
   "id": "younger-salad",
   "metadata": {},
   "source": [
    "## Lists / Arrays"
   ]
  },
  {
   "cell_type": "markdown",
   "id": "operating-employer",
   "metadata": {},
   "source": [
    "You've already seen these. These are mutable, ordered collections and are called **Arrays** in Julia."
   ]
  },
  {
   "cell_type": "code",
   "execution_count": 1,
   "id": "unnecessary-proportion",
   "metadata": {},
   "outputs": [
    {
     "data": {
      "text/plain": [
       "4-element Array{Int64,1}:\n",
       " 1\n",
       " 2\n",
       " 4\n",
       " 5"
      ]
     },
     "execution_count": 1,
     "metadata": {},
     "output_type": "execute_result"
    }
   ],
   "source": [
    "collection = [1, 2, 4, 5] "
   ]
  },
  {
   "cell_type": "code",
   "execution_count": 2,
   "id": "numerical-copyright",
   "metadata": {},
   "outputs": [
    {
     "data": {
      "text/plain": [
       "4-element Array{Float64,1}:\n",
       " 1.0\n",
       " 2.0\n",
       " 4.0\n",
       " 5.0"
      ]
     },
     "execution_count": 2,
     "metadata": {},
     "output_type": "execute_result"
    }
   ],
   "source": [
    "collection = [1, 2, 4, 5.0]    # notice the data type "
   ]
  },
  {
   "cell_type": "code",
   "execution_count": 3,
   "id": "persistent-suspect",
   "metadata": {},
   "outputs": [
    {
     "data": {
      "text/plain": [
       "5-element Array{Float64,1}:\n",
       " 1.0\n",
       " 2.0\n",
       " 4.0\n",
       " 1.6666666666666667\n",
       " 5.7"
      ]
     },
     "execution_count": 3,
     "metadata": {},
     "output_type": "execute_result"
    }
   ],
   "source": [
    "collection = [1, 2, 4, 5//3, 5.7]  # rationals will get translated to floats here "
   ]
  },
  {
   "cell_type": "code",
   "execution_count": 4,
   "id": "balanced-third",
   "metadata": {},
   "outputs": [
    {
     "data": {
      "text/plain": [
       "4-element Array{Any,1}:\n",
       " 1\n",
       " 2\n",
       " 4\n",
       "  \"5\""
      ]
     },
     "execution_count": 4,
     "metadata": {},
     "output_type": "execute_result"
    }
   ],
   "source": [
    "collection = [1, 2, 4, \"5\"]   "
   ]
  },
  {
   "cell_type": "code",
   "execution_count": 5,
   "id": "sized-trial",
   "metadata": {},
   "outputs": [
    {
     "data": {
      "text/plain": [
       "4-element Array{Int64,1}:\n",
       " 1\n",
       " 2\n",
       " 4\n",
       " 5"
      ]
     },
     "execution_count": 5,
     "metadata": {},
     "output_type": "execute_result"
    }
   ],
   "source": [
    "collection = [1, 2, 4, 5]"
   ]
  },
  {
   "cell_type": "code",
   "execution_count": 6,
   "id": "rapid-broadway",
   "metadata": {},
   "outputs": [
    {
     "data": {
      "text/plain": [
       "5-element Array{Int64,1}:\n",
       "  1\n",
       "  2\n",
       "  4\n",
       "  5\n",
       " 60"
      ]
     },
     "execution_count": 6,
     "metadata": {},
     "output_type": "execute_result"
    }
   ],
   "source": [
    "append!(collection, 60)     # functions with a bang (!) at the end mutate the passed object "
   ]
  },
  {
   "cell_type": "code",
   "execution_count": 7,
   "id": "embedded-bracelet",
   "metadata": {},
   "outputs": [
    {
     "data": {
      "text/plain": [
       "5-element Array{Int64,1}:\n",
       "  1\n",
       "  2\n",
       "  4\n",
       "  5\n",
       " 60"
      ]
     },
     "execution_count": 7,
     "metadata": {},
     "output_type": "execute_result"
    }
   ],
   "source": [
    "collection"
   ]
  },
  {
   "cell_type": "code",
   "execution_count": 8,
   "id": "decimal-blues",
   "metadata": {},
   "outputs": [
    {
     "data": {
      "text/plain": [
       "4-element Array{Int64,1}:\n",
       " 1\n",
       " 2\n",
       " 4\n",
       " 5"
      ]
     },
     "execution_count": 8,
     "metadata": {},
     "output_type": "execute_result"
    }
   ],
   "source": [
    "collection = [1, 2, 4, 5]"
   ]
  },
  {
   "cell_type": "code",
   "execution_count": 9,
   "id": "split-complex",
   "metadata": {},
   "outputs": [
    {
     "ename": "LoadError",
     "evalue": "BoundsError: attempt to access 4-element Array{Int64,1} at index [0]",
     "output_type": "error",
     "traceback": [
      "BoundsError: attempt to access 4-element Array{Int64,1} at index [0]",
      "",
      "Stacktrace:",
      " [1] getindex(::Array{Int64,1}, ::Int64) at ./array.jl:809",
      " [2] top-level scope at In[9]:1",
      " [3] include_string(::Function, ::Module, ::String, ::String) at ./loading.jl:1091"
     ]
    }
   ],
   "source": [
    "collection[0]      # !! Important! "
   ]
  },
  {
   "cell_type": "code",
   "execution_count": 10,
   "id": "premium-company",
   "metadata": {},
   "outputs": [
    {
     "data": {
      "text/plain": [
       "1"
      ]
     },
     "execution_count": 10,
     "metadata": {},
     "output_type": "execute_result"
    }
   ],
   "source": [
    "collection[1]      # julia uses ... "
   ]
  },
  {
   "cell_type": "code",
   "execution_count": 11,
   "id": "empirical-calvin",
   "metadata": {},
   "outputs": [
    {
     "data": {
      "text/plain": [
       "9-element Array{Int64,1}:\n",
       " 10\n",
       " 20\n",
       " 30\n",
       " 40\n",
       " 50\n",
       " 60\n",
       " 70\n",
       " 80\n",
       " 90"
      ]
     },
     "execution_count": 11,
     "metadata": {},
     "output_type": "execute_result"
    }
   ],
   "source": [
    "collection = [10, 20, 30, 40, 50, 60, 70, 80, 90]"
   ]
  },
  {
   "cell_type": "code",
   "execution_count": 12,
   "id": "extensive-tanzania",
   "metadata": {},
   "outputs": [
    {
     "data": {
      "text/plain": [
       "5-element Array{Int64,1}:\n",
       " 10\n",
       " 20\n",
       " 30\n",
       " 40\n",
       " 50"
      ]
     },
     "execution_count": 12,
     "metadata": {},
     "output_type": "execute_result"
    }
   ],
   "source": [
    "collection[1:5]   # this is different from python!"
   ]
  },
  {
   "cell_type": "code",
   "execution_count": 13,
   "id": "fifth-industry",
   "metadata": {},
   "outputs": [
    {
     "data": {
      "text/plain": [
       "5-element Array{Int64,1}:\n",
       " 50\n",
       " 60\n",
       " 70\n",
       " 80\n",
       " 90"
      ]
     },
     "execution_count": 13,
     "metadata": {},
     "output_type": "execute_result"
    }
   ],
   "source": [
    "collection[5:end]   # doesn't work if you omit the `end` "
   ]
  },
  {
   "cell_type": "code",
   "execution_count": 14,
   "id": "signed-advantage",
   "metadata": {},
   "outputs": [
    {
     "data": {
      "text/plain": [
       "9-element Array{Int64,1}:\n",
       " 10\n",
       " 20\n",
       " 30\n",
       " 40\n",
       " 50\n",
       " 60\n",
       " 70\n",
       " 80\n",
       " 90"
      ]
     },
     "execution_count": 14,
     "metadata": {},
     "output_type": "execute_result"
    }
   ],
   "source": [
    "collection[:]       # this works though (creates a copy )"
   ]
  },
  {
   "cell_type": "code",
   "execution_count": 15,
   "id": "verbal-castle",
   "metadata": {},
   "outputs": [
    {
     "data": {
      "text/plain": [
       "40"
      ]
     },
     "execution_count": 15,
     "metadata": {},
     "output_type": "execute_result"
    }
   ],
   "source": [
    "collection[:4]     # this is different! It's just 4  "
   ]
  },
  {
   "cell_type": "code",
   "execution_count": 16,
   "id": "otherwise-merchant",
   "metadata": {},
   "outputs": [
    {
     "data": {
      "text/plain": [
       "4-element Array{Int64,1}:\n",
       " 10\n",
       " 20\n",
       " 30\n",
       " 40"
      ]
     },
     "execution_count": 16,
     "metadata": {},
     "output_type": "execute_result"
    }
   ],
   "source": [
    "collection[1:4]"
   ]
  },
  {
   "cell_type": "code",
   "execution_count": 17,
   "id": "dense-analysis",
   "metadata": {},
   "outputs": [
    {
     "ename": "LoadError",
     "evalue": "BoundsError: attempt to access 9-element Array{Int64,1} at index [-1]",
     "output_type": "error",
     "traceback": [
      "BoundsError: attempt to access 9-element Array{Int64,1} at index [-1]",
      "",
      "Stacktrace:",
      " [1] getindex(::Array{Int64,1}, ::Int64) at ./array.jl:809",
      " [2] top-level scope at In[17]:1",
      " [3] include_string(::Function, ::Module, ::String, ::String) at ./loading.jl:1091"
     ]
    }
   ],
   "source": [
    "collection[-1]     # also bad "
   ]
  },
  {
   "cell_type": "code",
   "execution_count": 18,
   "id": "terminal-diagram",
   "metadata": {},
   "outputs": [
    {
     "data": {
      "text/plain": [
       "80"
      ]
     },
     "execution_count": 18,
     "metadata": {},
     "output_type": "execute_result"
    }
   ],
   "source": [
    "collection[end-1]  # different from python again! "
   ]
  },
  {
   "cell_type": "markdown",
   "id": "assigned-blast",
   "metadata": {},
   "source": [
    "All of these are pretty easy to get used to. You won't have much trouble with this after a while. Don't worry about them too much.  "
   ]
  },
  {
   "cell_type": "markdown",
   "id": "lightweight-outline",
   "metadata": {},
   "source": [
    "### Mutation"
   ]
  },
  {
   "cell_type": "code",
   "execution_count": 19,
   "id": "republican-wrong",
   "metadata": {},
   "outputs": [
    {
     "data": {
      "text/plain": [
       "99"
      ]
     },
     "execution_count": 19,
     "metadata": {},
     "output_type": "execute_result"
    }
   ],
   "source": [
    "collection[1] = 99"
   ]
  },
  {
   "cell_type": "code",
   "execution_count": 21,
   "id": "surprised-fortune",
   "metadata": {},
   "outputs": [
    {
     "name": "stdout",
     "output_type": "stream",
     "text": [
      "collection = [99, 20, 30, 40, 50, 60, 70, 80, 90]\n"
     ]
    }
   ],
   "source": [
    "@show collection;       # we'll need this show macro below   "
   ]
  },
  {
   "cell_type": "code",
   "execution_count": 22,
   "id": "brilliant-freeze",
   "metadata": {},
   "outputs": [
    {
     "data": {
      "text/plain": [
       "9-element Array{Int64,1}:\n",
       " 99\n",
       " 20\n",
       " 30\n",
       " 40\n",
       " 50\n",
       " 60\n",
       " 70\n",
       " 80\n",
       " 90"
      ]
     },
     "execution_count": 22,
     "metadata": {},
     "output_type": "execute_result"
    }
   ],
   "source": [
    "copy_of_collection = collection "
   ]
  },
  {
   "cell_type": "code",
   "execution_count": 23,
   "id": "distributed-joshua",
   "metadata": {},
   "outputs": [
    {
     "data": {
      "text/plain": [
       "9-element Array{Int64,1}:\n",
       " 100\n",
       "  20\n",
       "  30\n",
       "  40\n",
       "  50\n",
       "  60\n",
       "  70\n",
       "  80\n",
       "  90"
      ]
     },
     "execution_count": 23,
     "metadata": {},
     "output_type": "execute_result"
    }
   ],
   "source": [
    "copy_of_collection[1] = 100 \n",
    "copy_of_collection"
   ]
  },
  {
   "cell_type": "code",
   "execution_count": 24,
   "id": "collect-essex",
   "metadata": {},
   "outputs": [
    {
     "data": {
      "text/plain": [
       "9-element Array{Int64,1}:\n",
       " 100\n",
       "  20\n",
       "  30\n",
       "  40\n",
       "  50\n",
       "  60\n",
       "  70\n",
       "  80\n",
       "  90"
      ]
     },
     "execution_count": 24,
     "metadata": {},
     "output_type": "execute_result"
    }
   ],
   "source": [
    "collection"
   ]
  },
  {
   "cell_type": "code",
   "execution_count": 25,
   "id": "dated-serve",
   "metadata": {},
   "outputs": [
    {
     "data": {
      "text/plain": [
       "9-element Array{Int64,1}:\n",
       " 100\n",
       "  20\n",
       "  30\n",
       "  40\n",
       "  50\n",
       "  60\n",
       "  70\n",
       "  80\n",
       "  90"
      ]
     },
     "execution_count": 25,
     "metadata": {},
     "output_type": "execute_result"
    }
   ],
   "source": [
    "second_copy = copy(collection)"
   ]
  },
  {
   "cell_type": "code",
   "execution_count": 26,
   "id": "demanding-camel",
   "metadata": {},
   "outputs": [
    {
     "name": "stdout",
     "output_type": "stream",
     "text": [
      "second_copy = [9999, 20, 30, 40, 50, 60, 70, 80, 90]\n",
      "collection = [100, 20, 30, 40, 50, 60, 70, 80, 90]\n",
      "copy_of_collection = [100, 20, 30, 40, 50, 60, 70, 80, 90]\n"
     ]
    }
   ],
   "source": [
    "second_copy[1] = 9999           \n",
    "@show second_copy          \n",
    "@show collection\n",
    "@show copy_of_collection;"
   ]
  },
  {
   "cell_type": "code",
   "execution_count": null,
   "id": "descending-rider",
   "metadata": {},
   "outputs": [],
   "source": [
    "# there's also the issue of deepcopy but we'll leave that for more advanced videos "
   ]
  },
  {
   "cell_type": "markdown",
   "id": "reduced-repair",
   "metadata": {},
   "source": [
    "## Tuples "
   ]
  },
  {
   "cell_type": "markdown",
   "id": "hundred-friendly",
   "metadata": {},
   "source": [
    "Similar to arrays but immutable. "
   ]
  },
  {
   "cell_type": "code",
   "execution_count": 27,
   "id": "neural-ontario",
   "metadata": {},
   "outputs": [
    {
     "data": {
      "text/plain": [
       "(1, 2, 4)"
      ]
     },
     "execution_count": 27,
     "metadata": {},
     "output_type": "execute_result"
    }
   ],
   "source": [
    "collection = (1, 2, 4) "
   ]
  },
  {
   "cell_type": "code",
   "execution_count": 28,
   "id": "processed-vehicle",
   "metadata": {},
   "outputs": [
    {
     "data": {
      "text/plain": [
       "(\"julia\", \"python\", \"c\", \"java\")"
      ]
     },
     "execution_count": 28,
     "metadata": {},
     "output_type": "execute_result"
    }
   ],
   "source": [
    "languages = (\"julia\", \"python\", \"c\", \"java\")"
   ]
  },
  {
   "cell_type": "code",
   "execution_count": 29,
   "id": "lucky-customer",
   "metadata": {},
   "outputs": [
    {
     "data": {
      "text/plain": [
       "\"julia\""
      ]
     },
     "execution_count": 29,
     "metadata": {},
     "output_type": "execute_result"
    }
   ],
   "source": [
    "languages[1]"
   ]
  },
  {
   "cell_type": "code",
   "execution_count": 30,
   "id": "blessed-mechanics",
   "metadata": {},
   "outputs": [
    {
     "ename": "LoadError",
     "evalue": "MethodError: no method matching setindex!(::NTuple{4,String}, ::String, ::Int64)",
     "output_type": "error",
     "traceback": [
      "MethodError: no method matching setindex!(::NTuple{4,String}, ::String, ::Int64)",
      "",
      "Stacktrace:",
      " [1] top-level scope at In[30]:1",
      " [2] include_string(::Function, ::Module, ::String, ::String) at ./loading.jl:1091"
     ]
    }
   ],
   "source": [
    "languages[1] = \"Go\""
   ]
  },
  {
   "cell_type": "code",
   "execution_count": 31,
   "id": "extra-reduction",
   "metadata": {},
   "outputs": [
    {
     "data": {
      "text/plain": [
       "(\"julia\", \"python\", \"c\", \"java\")"
      ]
     },
     "execution_count": 31,
     "metadata": {},
     "output_type": "execute_result"
    }
   ],
   "source": [
    "languages"
   ]
  },
  {
   "cell_type": "markdown",
   "id": "welcome-forwarding",
   "metadata": {},
   "source": [
    "### Named Tuples "
   ]
  },
  {
   "cell_type": "code",
   "execution_count": 32,
   "id": "conventional-friendly",
   "metadata": {},
   "outputs": [
    {
     "data": {
      "text/plain": [
       "(language = \"julia\", ide = \"pluto\", explorer = \"perseverence\")"
      ]
     },
     "execution_count": 32,
     "metadata": {},
     "output_type": "execute_result"
    }
   ],
   "source": [
    "tools = (language =\"julia\", ide=\"pluto\", explorer=\"perseverence\")"
   ]
  },
  {
   "cell_type": "code",
   "execution_count": 33,
   "id": "boring-lloyd",
   "metadata": {},
   "outputs": [
    {
     "data": {
      "text/plain": [
       "\"julia\""
      ]
     },
     "execution_count": 33,
     "metadata": {},
     "output_type": "execute_result"
    }
   ],
   "source": [
    "tools[1]"
   ]
  },
  {
   "cell_type": "code",
   "execution_count": 34,
   "id": "excessive-stadium",
   "metadata": {},
   "outputs": [
    {
     "data": {
      "text/plain": [
       "\"julia\""
      ]
     },
     "execution_count": 34,
     "metadata": {},
     "output_type": "execute_result"
    }
   ],
   "source": [
    "tools.language"
   ]
  },
  {
   "cell_type": "markdown",
   "id": "remarkable-accreditation",
   "metadata": {},
   "source": [
    "## Dictionaries "
   ]
  },
  {
   "cell_type": "code",
   "execution_count": 35,
   "id": "operating-litigation",
   "metadata": {},
   "outputs": [
    {
     "data": {
      "text/plain": [
       "Dict{String,String} with 2 entries:\n",
       "  \"language\" => \"julia\"\n",
       "  \"ide\"      => \"pluto\""
      ]
     },
     "execution_count": 35,
     "metadata": {},
     "output_type": "execute_result"
    }
   ],
   "source": [
    "d = Dict(\"language\" =>  \"julia\", \"ide\"  => \"pluto\") "
   ]
  },
  {
   "cell_type": "code",
   "execution_count": 36,
   "id": "entire-mailman",
   "metadata": {},
   "outputs": [
    {
     "data": {
      "text/plain": [
       "\"julia\""
      ]
     },
     "execution_count": 36,
     "metadata": {},
     "output_type": "execute_result"
    }
   ],
   "source": [
    "d[\"language\"]"
   ]
  },
  {
   "cell_type": "code",
   "execution_count": 37,
   "id": "collect-sleep",
   "metadata": {},
   "outputs": [
    {
     "ename": "LoadError",
     "evalue": "type Dict has no field language",
     "output_type": "error",
     "traceback": [
      "type Dict has no field language",
      "",
      "Stacktrace:",
      " [1] getproperty(::Dict{String,String}, ::Symbol) at ./Base.jl:33",
      " [2] top-level scope at In[37]:1",
      " [3] include_string(::Function, ::Module, ::String, ::String) at ./loading.jl:1091"
     ]
    }
   ],
   "source": [
    "d.language   # that doesn't work"
   ]
  },
  {
   "cell_type": "code",
   "execution_count": 38,
   "id": "short-dylan",
   "metadata": {},
   "outputs": [
    {
     "data": {
      "text/plain": [
       "\"perseverence\""
      ]
     },
     "execution_count": 38,
     "metadata": {},
     "output_type": "execute_result"
    }
   ],
   "source": [
    "d[\"explorer\"] = \"perseverence\""
   ]
  },
  {
   "cell_type": "code",
   "execution_count": 39,
   "id": "horizontal-notebook",
   "metadata": {},
   "outputs": [
    {
     "name": "stdout",
     "output_type": "stream",
     "text": [
      "d = Dict(\"explorer\" => \"perseverence\",\"language\" => \"julia\",\"ide\" => \"pluto\")\n"
     ]
    }
   ],
   "source": [
    "@show d;"
   ]
  },
  {
   "cell_type": "code",
   "execution_count": 40,
   "id": "hybrid-representation",
   "metadata": {},
   "outputs": [
    {
     "data": {
      "text/plain": [
       "\"explorer\" => \"perseverence\""
      ]
     },
     "execution_count": 40,
     "metadata": {},
     "output_type": "execute_result"
    }
   ],
   "source": [
    "pop!(d)      # bang functions \"mutate\" objects (by convention)"
   ]
  },
  {
   "cell_type": "code",
   "execution_count": 41,
   "id": "italic-customer",
   "metadata": {},
   "outputs": [
    {
     "name": "stdout",
     "output_type": "stream",
     "text": [
      "d = Dict(\"language\" => \"julia\",\"ide\" => \"pluto\")\n"
     ]
    }
   ],
   "source": [
    "@show d;"
   ]
  },
  {
   "cell_type": "code",
   "execution_count": 42,
   "id": "domestic-table",
   "metadata": {},
   "outputs": [
    {
     "data": {
      "text/plain": [
       "Dict{String,String} with 2 entries:\n",
       "  \"language\" => \"java\"\n",
       "  \"os\"       => \"arch\""
      ]
     },
     "execution_count": 42,
     "metadata": {},
     "output_type": "execute_result"
    }
   ],
   "source": [
    "# can merge two dictionaries \n",
    "e = Dict(\"os\" => \"arch\", \"language\" => \"java\")"
   ]
  },
  {
   "cell_type": "code",
   "execution_count": 43,
   "id": "infrared-metadata",
   "metadata": {},
   "outputs": [
    {
     "data": {
      "text/plain": [
       "Dict{String,String} with 3 entries:\n",
       "  \"language\" => \"java\"\n",
       "  \"ide\"      => \"pluto\"\n",
       "  \"os\"       => \"arch\""
      ]
     },
     "execution_count": 43,
     "metadata": {},
     "output_type": "execute_result"
    }
   ],
   "source": [
    "merge!(d, e)      # duplicated keys in e override those in d "
   ]
  },
  {
   "cell_type": "code",
   "execution_count": 45,
   "id": "ecological-complement",
   "metadata": {},
   "outputs": [
    {
     "name": "stdout",
     "output_type": "stream",
     "text": [
      "d = Dict(\"language\" => \"java\",\"ide\" => \"pluto\",\"os\" => \"arch\")\n",
      "e = Dict(\"language\" => \"java\",\"os\" => \"arch\")\n"
     ]
    }
   ],
   "source": [
    "@show d;\n",
    "@show e;"
   ]
  },
  {
   "cell_type": "code",
   "execution_count": 46,
   "id": "transparent-tiger",
   "metadata": {},
   "outputs": [
    {
     "name": "stdout",
     "output_type": "stream",
     "text": [
      "key=language  \t  val=java\n",
      "key=ide  \t  val=pluto\n",
      "key=os  \t  val=arch\n"
     ]
    }
   ],
   "source": [
    "for (k, v) in d           # parens are necessary \n",
    "    println(\"key=$k  \\t  val=$v\")\n",
    "end "
   ]
  },
  {
   "cell_type": "markdown",
   "id": "configured-budapest",
   "metadata": {},
   "source": [
    "### Using Symbols as Keys"
   ]
  },
  {
   "cell_type": "code",
   "execution_count": 47,
   "id": "remarkable-thesaurus",
   "metadata": {},
   "outputs": [
    {
     "data": {
      "text/plain": [
       "Dict{Symbol,String} with 2 entries:\n",
       "  :lang => \"julia\"\n",
       "  :ide  => \"pluto\""
      ]
     },
     "execution_count": 47,
     "metadata": {},
     "output_type": "execute_result"
    }
   ],
   "source": [
    "simple = Dict(:lang => \"julia\", \n",
    "          :ide => \"pluto\")"
   ]
  },
  {
   "cell_type": "code",
   "execution_count": 48,
   "id": "romantic-decline",
   "metadata": {},
   "outputs": [
    {
     "data": {
      "text/plain": [
       "\"julia\""
      ]
     },
     "execution_count": 48,
     "metadata": {},
     "output_type": "execute_result"
    }
   ],
   "source": [
    "simple[:lang]     # this is slightly faster and more memory efficient "
   ]
  },
  {
   "cell_type": "code",
   "execution_count": 49,
   "id": "incorrect-sunday",
   "metadata": {},
   "outputs": [
    {
     "name": "stdout",
     "output_type": "stream",
     "text": [
      "lang\n",
      "ide\n"
     ]
    }
   ],
   "source": [
    "for (k, v) in simple   # rest of it is the same\n",
    "    println(k)\n",
    "end"
   ]
  },
  {
   "cell_type": "code",
   "execution_count": null,
   "id": "beautiful-jacksonville",
   "metadata": {},
   "outputs": [],
   "source": []
  }
 ],
 "metadata": {
  "kernelspec": {
   "display_name": "Julia 1.5.3",
   "language": "julia",
   "name": "julia-1.5"
  },
  "language_info": {
   "file_extension": ".jl",
   "mimetype": "application/julia",
   "name": "julia",
   "version": "1.5.3"
  }
 },
 "nbformat": 4,
 "nbformat_minor": 5
}
