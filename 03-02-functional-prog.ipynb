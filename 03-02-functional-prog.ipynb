{
 "cells": [
  {
   "cell_type": "markdown",
   "id": "invalid-embassy",
   "metadata": {},
   "source": [
    "# Basic Functional Programming "
   ]
  },
  {
   "cell_type": "markdown",
   "id": "lucky-italy",
   "metadata": {},
   "source": [
    "Functional programming is very useful when thinking in terms of mathematics. It's also massively parallelizable and you really should learn the concepts. Here, we will take a look at some basics. "
   ]
  },
  {
   "cell_type": "markdown",
   "id": "embedded-soundtrack",
   "metadata": {},
   "source": [
    "## Map "
   ]
  },
  {
   "cell_type": "markdown",
   "id": "wanted-amino",
   "metadata": {},
   "source": [
    "Map applies a function to all elements of a collection. "
   ]
  },
  {
   "cell_type": "code",
   "execution_count": 1,
   "id": "wrapped-condition",
   "metadata": {},
   "outputs": [
    {
     "data": {
      "text/plain": [
       "3-element Array{Int64,1}:\n",
       " 1\n",
       " 2\n",
       " 4"
      ]
     },
     "execution_count": 1,
     "metadata": {},
     "output_type": "execute_result"
    }
   ],
   "source": [
    "collection = [1, 2, 4]"
   ]
  },
  {
   "cell_type": "code",
   "execution_count": 2,
   "id": "confident-ballot",
   "metadata": {},
   "outputs": [
    {
     "data": {
      "text/plain": [
       "3-element Array{Int64,1}:\n",
       "  1\n",
       "  4\n",
       " 16"
      ]
     },
     "execution_count": 2,
     "metadata": {},
     "output_type": "execute_result"
    }
   ],
   "source": [
    "map(x -> x^2, collection)"
   ]
  },
  {
   "cell_type": "code",
   "execution_count": 3,
   "id": "bizarre-jurisdiction",
   "metadata": {},
   "outputs": [],
   "source": [
    "squares = map(x -> x^2, collection);"
   ]
  },
  {
   "cell_type": "code",
   "execution_count": 4,
   "id": "coupled-extent",
   "metadata": {},
   "outputs": [
    {
     "name": "stdout",
     "output_type": "stream",
     "text": [
      "squares = [1, 4, 16]\n"
     ]
    }
   ],
   "source": [
    "@show squares;"
   ]
  },
  {
   "cell_type": "markdown",
   "id": "loose-mortality",
   "metadata": {},
   "source": [
    "`map` is, therefore, a **higher-order function** since it takes in a function as it's argument. Functional programming revolves around this very concept. It's very useful since, as you can see, it can be parallelized. There are complete algorithms that solve many common problems using functional programming concepts such as `map`, `reduce` and `filter`. "
   ]
  },
  {
   "cell_type": "markdown",
   "id": "binding-costume",
   "metadata": {},
   "source": [
    "## Reduce \n"
   ]
  },
  {
   "cell_type": "code",
   "execution_count": 7,
   "id": "mineral-inventory",
   "metadata": {},
   "outputs": [
    {
     "data": {
      "text/plain": [
       "4-element Array{Int64,1}:\n",
       "  1\n",
       "  2\n",
       "  4\n",
       " 10"
      ]
     },
     "execution_count": 7,
     "metadata": {},
     "output_type": "execute_result"
    }
   ],
   "source": [
    "collection = [1, 2, 4, 10]"
   ]
  },
  {
   "cell_type": "code",
   "execution_count": 8,
   "id": "narrative-exhibition",
   "metadata": {},
   "outputs": [
    {
     "data": {
      "text/plain": [
       "17"
      ]
     },
     "execution_count": 8,
     "metadata": {},
     "output_type": "execute_result"
    }
   ],
   "source": [
    "reduce(+, collection)  # applies the function to first two elements, then result+3rd_element and so on ...  "
   ]
  },
  {
   "cell_type": "markdown",
   "id": "contained-optimum",
   "metadata": {},
   "source": [
    "We will leave the rest of this for you to explore when you need this. We need to move to something much more relevant to Julia and our course of action. "
   ]
  },
  {
   "cell_type": "markdown",
   "id": "portuguese-universal",
   "metadata": {},
   "source": [
    "## Broadcast "
   ]
  },
  {
   "cell_type": "markdown",
   "id": "activated-drama",
   "metadata": {},
   "source": [
    "Let's see this with an example. "
   ]
  },
  {
   "cell_type": "code",
   "execution_count": 9,
   "id": "italian-harvey",
   "metadata": {},
   "outputs": [
    {
     "data": {
      "text/plain": [
       "3-element Array{Int64,1}:\n",
       " 1\n",
       " 2\n",
       " 4"
      ]
     },
     "execution_count": 9,
     "metadata": {},
     "output_type": "execute_result"
    }
   ],
   "source": [
    "collection = [1, 2, 4]"
   ]
  },
  {
   "cell_type": "code",
   "execution_count": 10,
   "id": "meaning-standard",
   "metadata": {},
   "outputs": [
    {
     "data": {
      "text/plain": [
       "f (generic function with 1 method)"
      ]
     },
     "execution_count": 10,
     "metadata": {},
     "output_type": "execute_result"
    }
   ],
   "source": [
    "function f(x) \n",
    "    x ^ 2 \n",
    "end"
   ]
  },
  {
   "cell_type": "code",
   "execution_count": 11,
   "id": "likely-trail",
   "metadata": {},
   "outputs": [
    {
     "data": {
      "text/plain": [
       "3-element Array{Int64,1}:\n",
       "  1\n",
       "  4\n",
       " 16"
      ]
     },
     "execution_count": 11,
     "metadata": {},
     "output_type": "execute_result"
    }
   ],
   "source": [
    "broadcast(f, collection)      # seems similar to map "
   ]
  },
  {
   "cell_type": "code",
   "execution_count": 12,
   "id": "dangerous-leone",
   "metadata": {},
   "outputs": [
    {
     "data": {
      "text/plain": [
       "3-element Array{Int64,1}:\n",
       " 1\n",
       " 2\n",
       " 4"
      ]
     },
     "execution_count": 12,
     "metadata": {},
     "output_type": "execute_result"
    }
   ],
   "source": [
    "collection"
   ]
  },
  {
   "cell_type": "code",
   "execution_count": 13,
   "id": "serial-olive",
   "metadata": {},
   "outputs": [
    {
     "data": {
      "text/plain": [
       "3-element Array{Int64,1}:\n",
       "  1\n",
       "  4\n",
       " 16"
      ]
     },
     "execution_count": 13,
     "metadata": {},
     "output_type": "execute_result"
    }
   ],
   "source": [
    "f.(collection)   # it's so useful, it has a shortcut "
   ]
  },
  {
   "cell_type": "code",
   "execution_count": 14,
   "id": "enclosed-induction",
   "metadata": {},
   "outputs": [
    {
     "ename": "LoadError",
     "evalue": "MethodError: no method matching ^(::Array{Int64,1}, ::Int64)\nClosest candidates are:\n  ^(!Matched::Float32, ::Integer) at math.jl:907\n  ^(!Matched::Float16, ::Integer) at math.jl:915\n  ^(!Matched::Regex, ::Integer) at regex.jl:729\n  ...",
     "output_type": "error",
     "traceback": [
      "MethodError: no method matching ^(::Array{Int64,1}, ::Int64)\nClosest candidates are:\n  ^(!Matched::Float32, ::Integer) at math.jl:907\n  ^(!Matched::Float16, ::Integer) at math.jl:915\n  ^(!Matched::Regex, ::Integer) at regex.jl:729\n  ...",
      "",
      "Stacktrace:",
      " [1] macro expansion at ./none:0 [inlined]",
      " [2] literal_pow at ./none:0 [inlined]",
      " [3] f(::Array{Int64,1}) at ./In[10]:2",
      " [4] top-level scope at In[14]:1",
      " [5] include_string(::Function, ::Module, ::String, ::String) at ./loading.jl:1091"
     ]
    }
   ],
   "source": [
    "f(collection)     # this does not work because you can't square an array "
   ]
  },
  {
   "cell_type": "markdown",
   "id": "strong-tract",
   "metadata": {},
   "source": [
    "Let's see how a broadcast call is different from a normal call. "
   ]
  },
  {
   "cell_type": "code",
   "execution_count": 15,
   "id": "located-burden",
   "metadata": {},
   "outputs": [
    {
     "data": {
      "text/plain": [
       "3×3 Array{Float64,2}:\n",
       " 1.0  1.0  1.0\n",
       " 1.0  1.0  1.0\n",
       " 1.0  1.0  1.0"
      ]
     },
     "execution_count": 15,
     "metadata": {},
     "output_type": "execute_result"
    }
   ],
   "source": [
    "m = ones(3, 3)"
   ]
  },
  {
   "cell_type": "code",
   "execution_count": 16,
   "id": "moved-sucking",
   "metadata": {},
   "outputs": [
    {
     "data": {
      "text/plain": [
       "3×3 Array{Float64,2}:\n",
       " 3.0  3.0  3.0\n",
       " 3.0  3.0  3.0\n",
       " 3.0  3.0  3.0"
      ]
     },
     "execution_count": 16,
     "metadata": {},
     "output_type": "execute_result"
    }
   ],
   "source": [
    "f(m)      # this is m^2, which is m*m "
   ]
  },
  {
   "cell_type": "code",
   "execution_count": 17,
   "id": "mounted-accused",
   "metadata": {},
   "outputs": [
    {
     "data": {
      "text/plain": [
       "3×3 Array{Float64,2}:\n",
       " 1.0  1.0  1.0\n",
       " 1.0  1.0  1.0\n",
       " 1.0  1.0  1.0"
      ]
     },
     "execution_count": 17,
     "metadata": {},
     "output_type": "execute_result"
    }
   ],
   "source": [
    "f.(m)     # this applies x^2 to each element separately! "
   ]
  },
  {
   "cell_type": "code",
   "execution_count": 18,
   "id": "desperate-copying",
   "metadata": {},
   "outputs": [
    {
     "data": {
      "text/plain": [
       "3×3 Array{Int64,2}:\n",
       " 1  2  3\n",
       " 4  5  6\n",
       " 7  8  9"
      ]
     },
     "execution_count": 18,
     "metadata": {},
     "output_type": "execute_result"
    }
   ],
   "source": [
    "A = [\n",
    "     [1 2 3]\n",
    "     [4 5 6]\n",
    "     [7 8 9]\n",
    "    ]"
   ]
  },
  {
   "cell_type": "code",
   "execution_count": 19,
   "id": "celtic-conditions",
   "metadata": {},
   "outputs": [
    {
     "data": {
      "text/plain": [
       "3×3 Array{Int64,2}:\n",
       " 2  3   4\n",
       " 5  6   7\n",
       " 8  9  10"
      ]
     },
     "execution_count": 19,
     "metadata": {},
     "output_type": "execute_result"
    }
   ],
   "source": [
    "A .+ 1     # apply +1 to each element separately "
   ]
  },
  {
   "cell_type": "code",
   "execution_count": 20,
   "id": "recovered-badge",
   "metadata": {},
   "outputs": [
    {
     "data": {
      "text/plain": [
       "3×3 Array{Int64,2}:\n",
       "  2   4   6\n",
       "  8  10  12\n",
       " 14  16  18"
      ]
     },
     "execution_count": 20,
     "metadata": {},
     "output_type": "execute_result"
    }
   ],
   "source": [
    "A .* 2 "
   ]
  },
  {
   "cell_type": "code",
   "execution_count": 21,
   "id": "naked-inspiration",
   "metadata": {},
   "outputs": [
    {
     "data": {
      "text/plain": [
       "3×3 Array{Int64,2}:\n",
       "  2   4   6\n",
       "  8  10  12\n",
       " 14  16  18"
      ]
     },
     "execution_count": 21,
     "metadata": {},
     "output_type": "execute_result"
    }
   ],
   "source": [
    "# or even ... \n",
    "2A   "
   ]
  },
  {
   "cell_type": "code",
   "execution_count": null,
   "id": "fourth-portable",
   "metadata": {},
   "outputs": [],
   "source": [
    "f.(2A) # we can write stuff that is closer to the maths this way! "
   ]
  },
  {
   "cell_type": "markdown",
   "id": "federal-swift",
   "metadata": {},
   "source": [
    "This comes up again and again in Julia's practice. "
   ]
  },
  {
   "cell_type": "markdown",
   "id": "critical-saudi",
   "metadata": {},
   "source": [
    "### Broadcasting for Matrices "
   ]
  },
  {
   "cell_type": "code",
   "execution_count": 22,
   "id": "funny-watson",
   "metadata": {},
   "outputs": [
    {
     "data": {
      "text/plain": [
       "2×3 Array{Int64,2}:\n",
       " 1  2  3\n",
       " 4  5  6"
      ]
     },
     "execution_count": 22,
     "metadata": {},
     "output_type": "execute_result"
    }
   ],
   "source": [
    "A = [\n",
    "    [1 2 3]\n",
    "    [4 5 6]\n",
    "    ]"
   ]
  },
  {
   "cell_type": "code",
   "execution_count": 23,
   "id": "chubby-adams",
   "metadata": {},
   "outputs": [
    {
     "ename": "LoadError",
     "evalue": "DimensionMismatch(\"matrix A has dimensions (2,3), matrix B has dimensions (1,3)\")",
     "output_type": "error",
     "traceback": [
      "DimensionMismatch(\"matrix A has dimensions (2,3), matrix B has dimensions (1,3)\")",
      "",
      "Stacktrace:",
      " [1] _generic_matmatmul!(::Array{Int64,2}, ::Char, ::Char, ::Array{Int64,2}, ::Array{Int64,2}, ::LinearAlgebra.MulAddMul{true,true,Bool,Bool}) at /Users/julia/buildbot/worker/package_macos64/build/usr/share/julia/stdlib/v1.5/LinearAlgebra/src/matmul.jl:740",
      " [2] generic_matmatmul!(::Array{Int64,2}, ::Char, ::Char, ::Array{Int64,2}, ::Array{Int64,2}, ::LinearAlgebra.MulAddMul{true,true,Bool,Bool}) at /Users/julia/buildbot/worker/package_macos64/build/usr/share/julia/stdlib/v1.5/LinearAlgebra/src/matmul.jl:728",
      " [3] mul! at /Users/julia/buildbot/worker/package_macos64/build/usr/share/julia/stdlib/v1.5/LinearAlgebra/src/matmul.jl:235 [inlined]",
      " [4] mul! at /Users/julia/buildbot/worker/package_macos64/build/usr/share/julia/stdlib/v1.5/LinearAlgebra/src/matmul.jl:208 [inlined]",
      " [5] *(::Array{Int64,2}, ::Array{Int64,2}) at /Users/julia/buildbot/worker/package_macos64/build/usr/share/julia/stdlib/v1.5/LinearAlgebra/src/matmul.jl:153",
      " [6] top-level scope at In[23]:2",
      " [7] include_string(::Function, ::Module, ::String, ::String) at ./loading.jl:1091"
     ]
    }
   ],
   "source": [
    "# Without broadcasting \n",
    "A * [10 20 30]             # works if you transpose but that's a different operation"
   ]
  },
  {
   "cell_type": "code",
   "execution_count": 31,
   "id": "olympic-caribbean",
   "metadata": {},
   "outputs": [],
   "source": [
    "A = [\n",
    "    [1  2  3]\n",
    "    [4  5  6]\n",
    "    ];"
   ]
  },
  {
   "cell_type": "code",
   "execution_count": 29,
   "id": "elder-office",
   "metadata": {},
   "outputs": [
    {
     "data": {
      "text/plain": [
       "3×3 Array{Int64,2}:\n",
       " 10   40   90\n",
       " 40  100  180\n",
       " 50  160  210"
      ]
     },
     "execution_count": 29,
     "metadata": {},
     "output_type": "execute_result"
    }
   ],
   "source": [
    "# With broadcasting \n",
    "\n",
    "A .* [10 20 30]          # row vector is duplicated for each row "
   ]
  },
  {
   "cell_type": "code",
   "execution_count": 32,
   "id": "excellent-clark",
   "metadata": {},
   "outputs": [
    {
     "data": {
      "text/plain": [
       "2×3 Array{Int64,2}:\n",
       " 10   20   30\n",
       " 80  100  120"
      ]
     },
     "execution_count": 32,
     "metadata": {},
     "output_type": "execute_result"
    }
   ],
   "source": [
    "A .* [10 20]'            # column vector is duplicated for each column "
   ]
  },
  {
   "cell_type": "code",
   "execution_count": null,
   "id": "accepted-cookbook",
   "metadata": {},
   "outputs": [],
   "source": []
  }
 ],
 "metadata": {
  "kernelspec": {
   "display_name": "Julia 1.5.3",
   "language": "julia",
   "name": "julia-1.5"
  },
  "language_info": {
   "file_extension": ".jl",
   "mimetype": "application/julia",
   "name": "julia",
   "version": "1.5.3"
  }
 },
 "nbformat": 4,
 "nbformat_minor": 5
}
