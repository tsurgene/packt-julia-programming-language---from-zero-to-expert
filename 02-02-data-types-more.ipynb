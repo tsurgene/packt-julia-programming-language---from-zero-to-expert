{
 "cells": [
  {
   "cell_type": "markdown",
   "id": "smooth-bidding",
   "metadata": {},
   "source": [
    "# Data Type Details (Optional For Now)"
   ]
  },
  {
   "cell_type": "markdown",
   "id": "toxic-blend",
   "metadata": {},
   "source": [
    "## Basic Data Types "
   ]
  },
  {
   "cell_type": "code",
   "execution_count": 1,
   "id": "sharing-marketing",
   "metadata": {},
   "outputs": [
    {
     "data": {
      "text/plain": [
       "5"
      ]
     },
     "execution_count": 1,
     "metadata": {},
     "output_type": "execute_result"
    }
   ],
   "source": [
    "i = 5 "
   ]
  },
  {
   "cell_type": "code",
   "execution_count": 2,
   "id": "identical-reservoir",
   "metadata": {},
   "outputs": [
    {
     "data": {
      "text/plain": [
       "15.0"
      ]
     },
     "execution_count": 2,
     "metadata": {},
     "output_type": "execute_result"
    }
   ],
   "source": [
    "f = 15.0"
   ]
  },
  {
   "cell_type": "code",
   "execution_count": 5,
   "id": "hungarian-insider",
   "metadata": {},
   "outputs": [
    {
     "data": {
      "text/plain": [
       "5.0f0"
      ]
     },
     "execution_count": 5,
     "metadata": {},
     "output_type": "execute_result"
    }
   ],
   "source": [
    "i = Float32(5)"
   ]
  },
  {
   "cell_type": "code",
   "execution_count": 6,
   "id": "defined-generation",
   "metadata": {},
   "outputs": [
    {
     "data": {
      "text/plain": [
       "Float32"
      ]
     },
     "execution_count": 6,
     "metadata": {},
     "output_type": "execute_result"
    }
   ],
   "source": [
    "typeof(i)"
   ]
  },
  {
   "cell_type": "markdown",
   "id": "urban-lindsay",
   "metadata": {},
   "source": [
    "## Further Details "
   ]
  },
  {
   "cell_type": "code",
   "execution_count": 7,
   "id": "desirable-priority",
   "metadata": {},
   "outputs": [
    {
     "data": {
      "text/plain": [
       "1 + 3im"
      ]
     },
     "execution_count": 7,
     "metadata": {},
     "output_type": "execute_result"
    }
   ],
   "source": [
    "c = 1 + 3*im"
   ]
  },
  {
   "cell_type": "code",
   "execution_count": 8,
   "id": "authorized-remainder",
   "metadata": {},
   "outputs": [
    {
     "data": {
      "text/plain": [
       "1 + 3im"
      ]
     },
     "execution_count": 8,
     "metadata": {},
     "output_type": "execute_result"
    }
   ],
   "source": [
    "c = 1 + 3im"
   ]
  },
  {
   "cell_type": "code",
   "execution_count": 9,
   "id": "unusual-nirvana",
   "metadata": {},
   "outputs": [
    {
     "data": {
      "text/plain": [
       "Complex{Int64}"
      ]
     },
     "execution_count": 9,
     "metadata": {},
     "output_type": "execute_result"
    }
   ],
   "source": [
    "typeof(c)"
   ]
  },
  {
   "cell_type": "code",
   "execution_count": 10,
   "id": "incoming-portland",
   "metadata": {},
   "outputs": [
    {
     "data": {
      "text/plain": [
       "1.0 + 3.0im"
      ]
     },
     "execution_count": 10,
     "metadata": {},
     "output_type": "execute_result"
    }
   ],
   "source": [
    "c = Complex{Float64}(1 + 3im)"
   ]
  },
  {
   "cell_type": "code",
   "execution_count": 11,
   "id": "plain-contents",
   "metadata": {},
   "outputs": [
    {
     "data": {
      "text/plain": [
       "Complex{Float64}"
      ]
     },
     "execution_count": 11,
     "metadata": {},
     "output_type": "execute_result"
    }
   ],
   "source": [
    "typeof(c)"
   ]
  },
  {
   "cell_type": "code",
   "execution_count": 12,
   "id": "backed-cement",
   "metadata": {},
   "outputs": [
    {
     "data": {
      "text/plain": [
       "3-element Array{Int64,1}:\n",
       " 1\n",
       " 2\n",
       " 4"
      ]
     },
     "execution_count": 12,
     "metadata": {},
     "output_type": "execute_result"
    }
   ],
   "source": [
    "A = [1, 2, 4]"
   ]
  },
  {
   "cell_type": "code",
   "execution_count": 13,
   "id": "operational-henry",
   "metadata": {},
   "outputs": [
    {
     "data": {
      "text/plain": [
       "3-element Array{Float64,1}:\n",
       " 1.0\n",
       " 2.0\n",
       " 5.0"
      ]
     },
     "execution_count": 13,
     "metadata": {},
     "output_type": "execute_result"
    }
   ],
   "source": [
    "A = Float64[1, 2, 5]"
   ]
  },
  {
   "cell_type": "code",
   "execution_count": 14,
   "id": "dressed-painting",
   "metadata": {},
   "outputs": [
    {
     "data": {
      "text/plain": [
       "3-element Array{Complex{Float64},1}:\n",
       " 1.0 + 0.0im\n",
       " 2.0 + 0.0im\n",
       " 5.0 + 0.0im"
      ]
     },
     "execution_count": 14,
     "metadata": {},
     "output_type": "execute_result"
    }
   ],
   "source": [
    "A = Complex{Float64}[1, 2, 5]    # Just wanted to show you this weird syntax "
   ]
  },
  {
   "cell_type": "code",
   "execution_count": 15,
   "id": "structural-football",
   "metadata": {},
   "outputs": [
    {
     "data": {
      "text/plain": [
       "false"
      ]
     },
     "execution_count": 15,
     "metadata": {},
     "output_type": "execute_result"
    }
   ],
   "source": [
    "isa(1., Int64)"
   ]
  },
  {
   "cell_type": "code",
   "execution_count": 18,
   "id": "documented-behalf",
   "metadata": {},
   "outputs": [
    {
     "data": {
      "text/plain": [
       "true"
      ]
     },
     "execution_count": 18,
     "metadata": {},
     "output_type": "execute_result"
    }
   ],
   "source": [
    "isa(1., Float64)"
   ]
  },
  {
   "cell_type": "code",
   "execution_count": null,
   "id": "republican-lighting",
   "metadata": {},
   "outputs": [],
   "source": []
  }
 ],
 "metadata": {
  "kernelspec": {
   "display_name": "Julia 1.5.3",
   "language": "julia",
   "name": "julia-1.5"
  },
  "language_info": {
   "file_extension": ".jl",
   "mimetype": "application/julia",
   "name": "julia",
   "version": "1.5.3"
  }
 },
 "nbformat": 4,
 "nbformat_minor": 5
}
