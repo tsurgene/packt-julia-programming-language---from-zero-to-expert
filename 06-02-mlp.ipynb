{
 "cells": [
  {
   "cell_type": "markdown",
   "id": "alert-piece",
   "metadata": {},
   "source": [
    "# Multi-Layer Perceptrons "
   ]
  },
  {
   "cell_type": "code",
   "execution_count": null,
   "id": "studied-editing",
   "metadata": {},
   "outputs": [],
   "source": [
    "using Flux"
   ]
  },
  {
   "cell_type": "code",
   "execution_count": null,
   "id": "earned-yield",
   "metadata": {},
   "outputs": [],
   "source": [
    "# Layer 1: weights, bias and forward pass \n",
    "\n",
    "W1 = rand(3, 5)           # 3 nodes, 5 values coming in to each node \n",
    "b1 = rand(3)              # each node has its own bias term \n",
    "\n",
    "layer1(x) = W1 * x .+ b1"
   ]
  },
  {
   "cell_type": "code",
   "execution_count": null,
   "id": "closed-london",
   "metadata": {},
   "outputs": [],
   "source": [
    "σ(0), σ(1), σ(-1)   # typical sigmoid function, just for demo "
   ]
  },
  {
   "cell_type": "code",
   "execution_count": null,
   "id": "patient-cornell",
   "metadata": {},
   "outputs": [],
   "source": [
    "# activation for layer 1 \n",
    "l1(x) = σ.(layer1(x))"
   ]
  },
  {
   "cell_type": "code",
   "execution_count": null,
   "id": "suitable-candle",
   "metadata": {},
   "outputs": [],
   "source": [
    "# Layer 2\n",
    "W2 = rand(2, 3)            # 2 nodes, 3 values coming in to each node (because L1 had 3)\n",
    "b2 = rand(2) \n",
    "\n",
    "layer2(x) = W2 * x .+ b2"
   ]
  },
  {
   "cell_type": "code",
   "execution_count": null,
   "id": "absolute-robertson",
   "metadata": {},
   "outputs": [],
   "source": [
    "# combine to form a model with linear activation \n",
    "model(x) = layer2( l1(x) )      "
   ]
  },
  {
   "cell_type": "code",
   "execution_count": null,
   "id": "banned-wrist",
   "metadata": {},
   "outputs": [],
   "source": [
    "model(rand(5))     # at this point, we can write a loss function as before but ... "
   ]
  },
  {
   "cell_type": "markdown",
   "id": "simplified-chick",
   "metadata": {},
   "source": [
    "This makes the prediction but it's quickly going to get ugly. So, let's clean this up a bit. "
   ]
  },
  {
   "cell_type": "markdown",
   "id": "warming-arabic",
   "metadata": {},
   "source": [
    "## Cleaning Up the Code "
   ]
  },
  {
   "cell_type": "markdown",
   "id": "aware-superior",
   "metadata": {},
   "source": [
    "### Layer types "
   ]
  },
  {
   "cell_type": "code",
   "execution_count": null,
   "id": "powerful-murray",
   "metadata": {},
   "outputs": [],
   "source": [
    "function linear(in, out)\n",
    "  W = randn(out, in)\n",
    "  b = randn(out)\n",
    "  x -> W * x .+ b      # returns a function that takes in a vector and produces another \n",
    "end"
   ]
  },
  {
   "cell_type": "code",
   "execution_count": null,
   "id": "informational-cambridge",
   "metadata": {},
   "outputs": [],
   "source": [
    "linear(5, 3)  # 5 nodes coming in, 3 in current layer "
   ]
  },
  {
   "cell_type": "code",
   "execution_count": null,
   "id": "typical-treat",
   "metadata": {},
   "outputs": [],
   "source": [
    "linear1 = linear(5, 3) \n",
    "linear2 = linear(3, 2)"
   ]
  },
  {
   "cell_type": "code",
   "execution_count": null,
   "id": "accompanied-masters",
   "metadata": {},
   "outputs": [],
   "source": [
    "linear1.W   # these are perfectly visible (it's a closure, in case you're interested)"
   ]
  },
  {
   "cell_type": "code",
   "execution_count": null,
   "id": "cutting-accordance",
   "metadata": {},
   "outputs": [],
   "source": [
    "model(x) = linear2( σ.(linear1(x)) )"
   ]
  },
  {
   "cell_type": "code",
   "execution_count": null,
   "id": "interior-hayes",
   "metadata": {},
   "outputs": [],
   "source": [
    "x = rand(5) "
   ]
  },
  {
   "cell_type": "code",
   "execution_count": null,
   "id": "single-yemen",
   "metadata": {},
   "outputs": [],
   "source": [
    "model(x)"
   ]
  },
  {
   "cell_type": "code",
   "execution_count": null,
   "id": "tired-layout",
   "metadata": {},
   "outputs": [],
   "source": [
    "# or even make it more readable with pipes \n",
    "model_p(x) = σ.(linear1(x)) |>  \n",
    "             linear2 \n",
    "        "
   ]
  },
  {
   "cell_type": "code",
   "execution_count": null,
   "id": "linear-librarian",
   "metadata": {},
   "outputs": [],
   "source": [
    "model_p(x)"
   ]
  },
  {
   "cell_type": "markdown",
   "id": "current-display",
   "metadata": {},
   "source": [
    "That is almost the same as the built-in layers in Flux. Let's start using them from now on. "
   ]
  },
  {
   "cell_type": "markdown",
   "id": "quiet-dream",
   "metadata": {},
   "source": [
    "## Layers in Flux "
   ]
  },
  {
   "cell_type": "markdown",
   "id": "retired-chrome",
   "metadata": {},
   "source": [
    "Let's restart the kernel first because we defined it as a function above. "
   ]
  },
  {
   "cell_type": "code",
   "execution_count": 1,
   "id": "public-floating",
   "metadata": {},
   "outputs": [],
   "source": [
    "using Flux "
   ]
  },
  {
   "cell_type": "code",
   "execution_count": 2,
   "id": "favorite-athletics",
   "metadata": {},
   "outputs": [
    {
     "data": {
      "text/plain": [
       "Dense(10, 5, σ)"
      ]
     },
     "execution_count": 2,
     "metadata": {},
     "output_type": "execute_result"
    }
   ],
   "source": [
    "layer1 = Dense(10, 5, σ)"
   ]
  },
  {
   "cell_type": "code",
   "execution_count": 3,
   "id": "laden-language",
   "metadata": {},
   "outputs": [
    {
     "data": {
      "text/plain": [
       "Chain(Dense(10, 5, σ), Dense(5, 2), softmax)"
      ]
     },
     "execution_count": 3,
     "metadata": {},
     "output_type": "execute_result"
    }
   ],
   "source": [
    "model2 = Chain(\n",
    "  Dense(10, 5, σ),    # input shape is (10, ), nodes are 5 \n",
    "  Dense(5, 2),\n",
    "  softmax)            # builtin softmax "
   ]
  },
  {
   "cell_type": "code",
   "execution_count": 4,
   "id": "broad-storage",
   "metadata": {},
   "outputs": [
    {
     "data": {
      "text/plain": [
       "2-element Array{Float32,1}:\n",
       " 0.21253945\n",
       " 0.78746057"
      ]
     },
     "execution_count": 4,
     "metadata": {},
     "output_type": "execute_result"
    }
   ],
   "source": [
    "model2(rand(10))  "
   ]
  },
  {
   "cell_type": "code",
   "execution_count": null,
   "id": "beginning-burden",
   "metadata": {},
   "outputs": [],
   "source": []
  }
 ],
 "metadata": {
  "kernelspec": {
   "display_name": "Julia 1.5.3",
   "language": "julia",
   "name": "julia-1.5"
  },
  "language_info": {
   "file_extension": ".jl",
   "mimetype": "application/julia",
   "name": "julia",
   "version": "1.5.3"
  }
 },
 "nbformat": 4,
 "nbformat_minor": 5
}
