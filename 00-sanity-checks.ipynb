{
 "cells": [
  {
   "cell_type": "markdown",
   "id": "inclusive-robertson",
   "metadata": {},
   "source": [
    "# Check Julia Install "
   ]
  },
  {
   "cell_type": "code",
   "execution_count": 1,
   "id": "attempted-poker",
   "metadata": {},
   "outputs": [
    {
     "data": {
      "text/plain": [
       "\"hey \""
      ]
     },
     "execution_count": 1,
     "metadata": {},
     "output_type": "execute_result"
    }
   ],
   "source": [
    "s = \"hey \""
   ]
  },
  {
   "cell_type": "code",
   "execution_count": 2,
   "id": "demanding-bridge",
   "metadata": {},
   "outputs": [
    {
     "data": {
      "text/plain": [
       "\"hey hey hey \""
      ]
     },
     "execution_count": 2,
     "metadata": {},
     "output_type": "execute_result"
    }
   ],
   "source": [
    "s ^ 3  # just to make sure we're writing Julia and not python! "
   ]
  },
  {
   "cell_type": "code",
   "execution_count": 3,
   "id": "mighty-separation",
   "metadata": {},
   "outputs": [
    {
     "name": "stdout",
     "output_type": "stream",
     "text": [
      "Julia Version 1.5.3\n",
      "Commit 788b2c77c1 (2020-11-09 13:37 UTC)\n",
      "Platform Info:\n",
      "  OS: macOS (x86_64-apple-darwin18.7.0)\n",
      "  CPU: Apple M1\n",
      "  WORD_SIZE: 64\n",
      "  LIBM: libopenlibm\n",
      "  LLVM: libLLVM-9.0.1 (ORCJIT, westmere)\n"
     ]
    }
   ],
   "source": [
    "versioninfo()"
   ]
  },
  {
   "cell_type": "code",
   "execution_count": null,
   "id": "secondary-edition",
   "metadata": {},
   "outputs": [],
   "source": []
  }
 ],
 "metadata": {
  "kernelspec": {
   "display_name": "Julia 1.5.3",
   "language": "julia",
   "name": "julia-1.5"
  },
  "language_info": {
   "file_extension": ".jl",
   "mimetype": "application/julia",
   "name": "julia",
   "version": "1.5.3"
  }
 },
 "nbformat": 4,
 "nbformat_minor": 5
}
