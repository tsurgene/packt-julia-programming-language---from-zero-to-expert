{
 "cells": [
  {
   "cell_type": "markdown",
   "id": "isolated-issue",
   "metadata": {},
   "source": [
    "# Interfacing with Other Languages "
   ]
  },
  {
   "cell_type": "markdown",
   "id": "bulgarian-feature",
   "metadata": {},
   "source": [
    "## Calling Python Builtins and Custom Code"
   ]
  },
  {
   "cell_type": "markdown",
   "id": "settled-thanksgiving",
   "metadata": {},
   "source": [
    "First, let's install the package needed to interface with Python code. We give this as a **package mode** command. "
   ]
  },
  {
   "cell_type": "code",
   "execution_count": null,
   "id": "macro-mentor",
   "metadata": {},
   "outputs": [],
   "source": [
    "] add PyCall"
   ]
  },
  {
   "cell_type": "code",
   "execution_count": null,
   "id": "sweet-perspective",
   "metadata": {},
   "outputs": [],
   "source": [
    "using PyCall"
   ]
  },
  {
   "cell_type": "code",
   "execution_count": null,
   "id": "married-rehabilitation",
   "metadata": {},
   "outputs": [],
   "source": [
    "math = pyimport(\"math\")\n",
    "math.sin(math.pi / 4)"
   ]
  },
  {
   "cell_type": "code",
   "execution_count": null,
   "id": "developed-revelation",
   "metadata": {},
   "outputs": [],
   "source": [
    "math.sqrt(36)"
   ]
  },
  {
   "cell_type": "code",
   "execution_count": null,
   "id": "informational-violin",
   "metadata": {},
   "outputs": [],
   "source": [
    "push!(pyimport(\"sys\")[\"path\"], pwd());"
   ]
  },
  {
   "cell_type": "code",
   "execution_count": null,
   "id": "virgin-syndicate",
   "metadata": {},
   "outputs": [],
   "source": [
    "pyex = pyimport(\"pyex\")"
   ]
  },
  {
   "cell_type": "code",
   "execution_count": null,
   "id": "elementary-trustee",
   "metadata": {},
   "outputs": [],
   "source": [
    "pyex.sqrt(36)"
   ]
  },
  {
   "cell_type": "code",
   "execution_count": null,
   "id": "immediate-viking",
   "metadata": {},
   "outputs": [],
   "source": [
    "pyimport(\"importlib\").\"reload\"(pyex) # if you change something in python module, you have to reload it"
   ]
  },
  {
   "cell_type": "code",
   "execution_count": null,
   "id": "tested-walnut",
   "metadata": {},
   "outputs": [],
   "source": [
    "pyex.sqrt(36)"
   ]
  },
  {
   "cell_type": "markdown",
   "id": "empty-march",
   "metadata": {},
   "source": [
    "## Calling R"
   ]
  },
  {
   "cell_type": "markdown",
   "id": "premium-basics",
   "metadata": {},
   "source": [
    "I don't have R installed on my machine but if you do, you can run this simple example to see how you can call R operations from within Julia. "
   ]
  },
  {
   "cell_type": "code",
   "execution_count": null,
   "id": "related-welding",
   "metadata": {},
   "outputs": [],
   "source": [
    "] add RCall"
   ]
  },
  {
   "cell_type": "code",
   "execution_count": null,
   "id": "metallic-shanghai",
   "metadata": {},
   "outputs": [],
   "source": [
    "using RCall"
   ]
  },
  {
   "cell_type": "code",
   "execution_count": 1,
   "id": "sufficient-sympathy",
   "metadata": {},
   "outputs": [
    {
     "data": {
      "text/plain": [
       "3×1 Array{Float64,2}:\n",
       "  6.31203894396598\n",
       " -1.733433607576226\n",
       "  0.7197381393982236"
      ]
     },
     "execution_count": 1,
     "metadata": {},
     "output_type": "execute_result"
    }
   ],
   "source": [
    "X = randn(3,2)\n",
    "b = reshape([2.0, 3.0], 2,1)\n",
    "y = X * b + randn(3,1)"
   ]
  },
  {
   "cell_type": "code",
   "execution_count": 2,
   "id": "pediatric-youth",
   "metadata": {},
   "outputs": [
    {
     "data": {
      "text/plain": [
       "3×2 Array{Float64,2}:\n",
       " 1.27435    0.861433\n",
       " 0.376687  -0.839999\n",
       " 1.83388   -0.990183"
      ]
     },
     "execution_count": 2,
     "metadata": {},
     "output_type": "execute_result"
    }
   ],
   "source": [
    "X"
   ]
  },
  {
   "cell_type": "code",
   "execution_count": 3,
   "id": "responsible-passion",
   "metadata": {},
   "outputs": [
    {
     "data": {
      "text/plain": [
       "2×1 Array{Float64,2}:\n",
       " 2.0\n",
       " 3.0"
      ]
     },
     "execution_count": 3,
     "metadata": {},
     "output_type": "execute_result"
    }
   ],
   "source": [
    "b"
   ]
  },
  {
   "cell_type": "code",
   "execution_count": 4,
   "id": "acquired-picture",
   "metadata": {},
   "outputs": [
    {
     "data": {
      "text/plain": [
       "3×1 Array{Float64,2}:\n",
       "  6.31203894396598\n",
       " -1.733433607576226\n",
       "  0.7197381393982236"
      ]
     },
     "execution_count": 4,
     "metadata": {},
     "output_type": "execute_result"
    }
   ],
   "source": [
    "y"
   ]
  },
  {
   "cell_type": "code",
   "execution_count": null,
   "id": "stock-textbook",
   "metadata": {},
   "outputs": [],
   "source": [
    "@rput y\n",
    "@rput X"
   ]
  },
  {
   "cell_type": "code",
   "execution_count": null,
   "id": "experienced-tucson",
   "metadata": {},
   "outputs": [],
   "source": [
    "R\"z <- y * 3\"    # do something in R "
   ]
  },
  {
   "cell_type": "code",
   "execution_count": null,
   "id": "northern-night",
   "metadata": {},
   "outputs": [],
   "source": [
    "@rget z\n",
    "@show z      # z should now be available in Julia "
   ]
  }
 ],
 "metadata": {
  "kernelspec": {
   "display_name": "Julia 1.5.3",
   "language": "julia",
   "name": "julia-1.5"
  },
  "language_info": {
   "file_extension": ".jl",
   "mimetype": "application/julia",
   "name": "julia",
   "version": "1.5.3"
  }
 },
 "nbformat": 4,
 "nbformat_minor": 5
}
