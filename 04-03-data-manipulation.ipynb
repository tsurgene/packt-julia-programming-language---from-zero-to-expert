{
 "cells": [
  {
   "cell_type": "markdown",
   "id": "naked-giving",
   "metadata": {},
   "source": [
    "# Data Manipulation "
   ]
  },
  {
   "cell_type": "markdown",
   "id": "irish-spiritual",
   "metadata": {},
   "source": [
    "## Loading Data and Different Formats"
   ]
  },
  {
   "cell_type": "markdown",
   "id": "molecular-failing",
   "metadata": {},
   "source": [
    "Let's read the CSV file into a better format - Apache Arrow! "
   ]
  },
  {
   "cell_type": "code",
   "execution_count": null,
   "id": "closing-frederick",
   "metadata": {},
   "outputs": [],
   "source": [
    "download(\"https://archive.ics.uci.edu/ml/machine-learning-databases/auto-mpg/auto-mpg.data-original\",\n",
    "         \"data/auto.txt\")"
   ]
  },
  {
   "cell_type": "code",
   "execution_count": 1,
   "id": "conditional-canvas",
   "metadata": {},
   "outputs": [
    {
     "data": {
      "text/plain": [
       "406-element Array{String,1}:\n",
       " \"18.0   8.   307.0      130.0      3504.      12.0   70.  1.\\t\\\"chevrolet chevelle malibu\\\"\"\n",
       " \"15.0   8.   350.0      165.0      3693.      11.5   70.  1.\\t\\\"buick skylark 320\\\"\"\n",
       " \"18.0   8.   318.0      150.0      3436.      11.0   70.  1.\\t\\\"plymouth satellite\\\"\"\n",
       " \"16.0   8.   304.0      150.0      3433.      12.0   70.  1.\\t\\\"amc rebel sst\\\"\"\n",
       " \"17.0   8.   302.0      140.0      3449.      10.5   70.  1.\\t\\\"ford torino\\\"\"\n",
       " \"15.0   8.   429.0      198.0      4341.      10.0   70.  1.\\t\\\"ford galaxie 500\\\"\"\n",
       " \"14.0   8.   454.0      220.0      4354.       9.0   70.  1.\\t\\\"chevrolet impala\\\"\"\n",
       " \"14.0   8.   440.0      215.0      4312.       8.5   70.  1.\\t\\\"plymouth fury iii\\\"\"\n",
       " \"14.0   8.   455.0      225.0      4425.      10.0   70.  1.\\t\\\"pontiac catalina\\\"\"\n",
       " \"15.0   8.   390.0      190.0      3850.       8.5   70.  1.\\t\\\"amc ambassador dpl\\\"\"\n",
       " \"NA     4.   133.0      115.0      3090.      17.5   70.  2.\\t\\\"citroen ds-21 pallas\\\"\"\n",
       " \"NA     8.   350.0      165.0      4142.      11.5   70.  1.\\t\\\"chevrolet chevelle concours (sw)\\\"\"\n",
       " \"NA     8.   351.0      153.0      4034.      11.0   70.  1.\\t\\\"ford torino (sw)\\\"\"\n",
       " ⋮\n",
       " \"25.0   6.   181.0      110.0      2945.      16.4   82.  1.\\t\\\"buick century limited\\\"\"\n",
       " \"38.0   6.   262.0      85.00      3015.      17.0   82.  1.\\t\\\"oldsmobile cutlass ciera (diesel)\\\"\"\n",
       " \"26.0   4.   156.0      92.00      2585.      14.5   82.  1.\\t\\\"chrysler lebaron medallion\\\"\"\n",
       " \"22.0   6.   232.0      112.0      2835       14.7   82.  1.\\t\\\"ford granada l\\\"\"\n",
       " \"32.0   4.   144.0      96.00      2665.      13.9   82.  3.\\t\\\"toyota celica gt\\\"\"\n",
       " \"36.0   4.   135.0      84.00      2370.      13.0   82.  1.\\t\\\"dodge charger 2.2\\\"\"\n",
       " \"27.0   4.   151.0      90.00      2950.      17.3   82.  1.\\t\\\"chevrolet camaro\\\"\"\n",
       " \"27.0   4.   140.0      86.00      2790.      15.6   82.  1.\\t\\\"ford mustang gl\\\"\"\n",
       " \"44.0   4.   97.00      52.00      2130.      24.6   82.  2.\\t\\\"vw pickup\\\"\"\n",
       " \"32.0   4.   135.0      84.00      2295.      11.6   82.  1.\\t\\\"dodge rampage\\\"\"\n",
       " \"28.0   4.   120.0      79.00      2625.      18.6   82.  1.\\t\\\"ford ranger\\\"\"\n",
       " \"31.0   4.   119.0      82.00      2720.      19.4   82.  1.\\t\\\"chevy s-10\\\"\""
      ]
     },
     "execution_count": 1,
     "metadata": {},
     "output_type": "execute_result"
    }
   ],
   "source": [
    "readlines(\"data/auto.txt\")   # Just to see if it's there"
   ]
  },
  {
   "cell_type": "code",
   "execution_count": 2,
   "id": "african-roommate",
   "metadata": {},
   "outputs": [],
   "source": [
    "using CSV\n",
    "using DataFrames"
   ]
  },
  {
   "cell_type": "code",
   "execution_count": 3,
   "id": "medieval-jason",
   "metadata": {},
   "outputs": [
    {
     "name": "stderr",
     "output_type": "stream",
     "text": [
      "┌ Warning: thread = 1 warning: parsed expected 9 columns, but didn't reach end of line around data row: 1. Ignoring any extra columns on this row\n",
      "└ @ CSV /Users/nam/.julia/packages/CSV/YUbbG/src/file.jl:604\n"
     ]
    },
    {
     "data": {
      "text/html": [
       "<table class=\"data-frame\"><thead><tr><th></th><th>mpg</th><th>cylinders</th><th>displacement</th><th>horsepower</th><th>weight</th><th>acceleration</th><th>year</th><th>origin</th></tr><tr><th></th><th>Float64</th><th>Float64</th><th>Float64</th><th>Float64</th><th>Float64</th><th>Float64</th><th>Float64</th><th>String</th></tr></thead><tbody><p>1 rows × 9 columns (omitted printing of 1 columns)</p><tr><th>1</th><td>18.0</td><td>8.0</td><td>307.0</td><td>130.0</td><td>3504.0</td><td>12.0</td><td>70.0</td><td>1.\\t\"chevrolet</td></tr></tbody></table>"
      ],
      "text/latex": [
       "\\begin{tabular}{r|ccccccccc}\n",
       "\t& mpg & cylinders & displacement & horsepower & weight & acceleration & year & origin & \\\\\n",
       "\t\\hline\n",
       "\t& Float64 & Float64 & Float64 & Float64 & Float64 & Float64 & Float64 & String & \\\\\n",
       "\t\\hline\n",
       "\t1 & 18.0 & 8.0 & 307.0 & 130.0 & 3504.0 & 12.0 & 70.0 & 1.\\textbackslash{}t\"chevrolet & $\\dots$ \\\\\n",
       "\\end{tabular}\n"
      ],
      "text/plain": [
       "\u001b[1m1×9 DataFrame\u001b[0m\n",
       "\u001b[1m Row \u001b[0m│\u001b[1m mpg     \u001b[0m\u001b[1m cylinders \u001b[0m\u001b[1m displacement \u001b[0m\u001b[1m horsepower \u001b[0m\u001b[1m weight  \u001b[0m\u001b[1m acceleration \u001b[0m\u001b[1m ye\u001b[0m ⋯\n",
       "\u001b[1m     \u001b[0m│\u001b[90m Float64 \u001b[0m\u001b[90m Float64   \u001b[0m\u001b[90m Float64      \u001b[0m\u001b[90m Float64    \u001b[0m\u001b[90m Float64 \u001b[0m\u001b[90m Float64      \u001b[0m\u001b[90m Fl\u001b[0m ⋯\n",
       "─────┼──────────────────────────────────────────────────────────────────────────\n",
       "   1 │    18.0        8.0         307.0       130.0   3504.0          12.0     ⋯\n",
       "\u001b[36m                                                               3 columns omitted\u001b[0m"
      ]
     },
     "execution_count": 3,
     "metadata": {},
     "output_type": "execute_result"
    }
   ],
   "source": [
    "df = CSV.File(\"data/auto.txt\",\n",
    "               delim=' ',\n",
    "               ignorerepeated=true,\n",
    "               header=[:mpg, :cylinders, :displacement, :horsepower,\n",
    "                       :weight, :acceleration, :year, :origin, :name],\n",
    "               missingstring=\"NA\") |>\n",
    "      DataFrame"
   ]
  },
  {
   "cell_type": "markdown",
   "id": "higher-tennis",
   "metadata": {},
   "source": [
    "That didn't work well. So, let's try to fix this. "
   ]
  },
  {
   "cell_type": "code",
   "execution_count": 4,
   "id": "driving-finder",
   "metadata": {},
   "outputs": [],
   "source": [
    "raw_str = read(\"data/auto.txt\", String);"
   ]
  },
  {
   "cell_type": "code",
   "execution_count": 5,
   "id": "involved-offer",
   "metadata": {},
   "outputs": [],
   "source": [
    "str_no_tab = replace(raw_str, '\\t'=>' ');"
   ]
  },
  {
   "cell_type": "code",
   "execution_count": 6,
   "id": "embedded-grocery",
   "metadata": {},
   "outputs": [
    {
     "data": {
      "text/plain": [
       "IOBuffer(data=UInt8[...], readable=true, writable=false, seekable=true, append=false, size=32149, maxsize=Inf, ptr=1, mark=-1)"
      ]
     },
     "execution_count": 6,
     "metadata": {},
     "output_type": "execute_result"
    }
   ],
   "source": [
    "io = IOBuffer(str_no_tab)"
   ]
  },
  {
   "cell_type": "code",
   "execution_count": 7,
   "id": "regular-invitation",
   "metadata": {},
   "outputs": [
    {
     "data": {
      "text/html": [
       "<table class=\"data-frame\"><thead><tr><th></th><th>mpg</th><th>cylinders</th><th>displacement</th><th>horsepower</th><th>weight</th><th>acceleration</th><th>year</th><th>origin</th></tr><tr><th></th><th>Float64?</th><th>Float64</th><th>Float64</th><th>Float64?</th><th>Float64</th><th>Float64</th><th>Float64</th><th>Float64</th></tr></thead><tbody><p>406 rows × 9 columns (omitted printing of 1 columns)</p><tr><th>1</th><td>18.0</td><td>8.0</td><td>307.0</td><td>130.0</td><td>3504.0</td><td>12.0</td><td>70.0</td><td>1.0</td></tr><tr><th>2</th><td>15.0</td><td>8.0</td><td>350.0</td><td>165.0</td><td>3693.0</td><td>11.5</td><td>70.0</td><td>1.0</td></tr><tr><th>3</th><td>18.0</td><td>8.0</td><td>318.0</td><td>150.0</td><td>3436.0</td><td>11.0</td><td>70.0</td><td>1.0</td></tr><tr><th>4</th><td>16.0</td><td>8.0</td><td>304.0</td><td>150.0</td><td>3433.0</td><td>12.0</td><td>70.0</td><td>1.0</td></tr><tr><th>5</th><td>17.0</td><td>8.0</td><td>302.0</td><td>140.0</td><td>3449.0</td><td>10.5</td><td>70.0</td><td>1.0</td></tr><tr><th>6</th><td>15.0</td><td>8.0</td><td>429.0</td><td>198.0</td><td>4341.0</td><td>10.0</td><td>70.0</td><td>1.0</td></tr><tr><th>7</th><td>14.0</td><td>8.0</td><td>454.0</td><td>220.0</td><td>4354.0</td><td>9.0</td><td>70.0</td><td>1.0</td></tr><tr><th>8</th><td>14.0</td><td>8.0</td><td>440.0</td><td>215.0</td><td>4312.0</td><td>8.5</td><td>70.0</td><td>1.0</td></tr><tr><th>9</th><td>14.0</td><td>8.0</td><td>455.0</td><td>225.0</td><td>4425.0</td><td>10.0</td><td>70.0</td><td>1.0</td></tr><tr><th>10</th><td>15.0</td><td>8.0</td><td>390.0</td><td>190.0</td><td>3850.0</td><td>8.5</td><td>70.0</td><td>1.0</td></tr><tr><th>11</th><td><em>missing</em></td><td>4.0</td><td>133.0</td><td>115.0</td><td>3090.0</td><td>17.5</td><td>70.0</td><td>2.0</td></tr><tr><th>12</th><td><em>missing</em></td><td>8.0</td><td>350.0</td><td>165.0</td><td>4142.0</td><td>11.5</td><td>70.0</td><td>1.0</td></tr><tr><th>13</th><td><em>missing</em></td><td>8.0</td><td>351.0</td><td>153.0</td><td>4034.0</td><td>11.0</td><td>70.0</td><td>1.0</td></tr><tr><th>14</th><td><em>missing</em></td><td>8.0</td><td>383.0</td><td>175.0</td><td>4166.0</td><td>10.5</td><td>70.0</td><td>1.0</td></tr><tr><th>15</th><td><em>missing</em></td><td>8.0</td><td>360.0</td><td>175.0</td><td>3850.0</td><td>11.0</td><td>70.0</td><td>1.0</td></tr><tr><th>16</th><td>15.0</td><td>8.0</td><td>383.0</td><td>170.0</td><td>3563.0</td><td>10.0</td><td>70.0</td><td>1.0</td></tr><tr><th>17</th><td>14.0</td><td>8.0</td><td>340.0</td><td>160.0</td><td>3609.0</td><td>8.0</td><td>70.0</td><td>1.0</td></tr><tr><th>18</th><td><em>missing</em></td><td>8.0</td><td>302.0</td><td>140.0</td><td>3353.0</td><td>8.0</td><td>70.0</td><td>1.0</td></tr><tr><th>19</th><td>15.0</td><td>8.0</td><td>400.0</td><td>150.0</td><td>3761.0</td><td>9.5</td><td>70.0</td><td>1.0</td></tr><tr><th>20</th><td>14.0</td><td>8.0</td><td>455.0</td><td>225.0</td><td>3086.0</td><td>10.0</td><td>70.0</td><td>1.0</td></tr><tr><th>21</th><td>24.0</td><td>4.0</td><td>113.0</td><td>95.0</td><td>2372.0</td><td>15.0</td><td>70.0</td><td>3.0</td></tr><tr><th>22</th><td>22.0</td><td>6.0</td><td>198.0</td><td>95.0</td><td>2833.0</td><td>15.5</td><td>70.0</td><td>1.0</td></tr><tr><th>23</th><td>18.0</td><td>6.0</td><td>199.0</td><td>97.0</td><td>2774.0</td><td>15.5</td><td>70.0</td><td>1.0</td></tr><tr><th>24</th><td>21.0</td><td>6.0</td><td>200.0</td><td>85.0</td><td>2587.0</td><td>16.0</td><td>70.0</td><td>1.0</td></tr><tr><th>25</th><td>27.0</td><td>4.0</td><td>97.0</td><td>88.0</td><td>2130.0</td><td>14.5</td><td>70.0</td><td>3.0</td></tr><tr><th>26</th><td>26.0</td><td>4.0</td><td>97.0</td><td>46.0</td><td>1835.0</td><td>20.5</td><td>70.0</td><td>2.0</td></tr><tr><th>27</th><td>25.0</td><td>4.0</td><td>110.0</td><td>87.0</td><td>2672.0</td><td>17.5</td><td>70.0</td><td>2.0</td></tr><tr><th>28</th><td>24.0</td><td>4.0</td><td>107.0</td><td>90.0</td><td>2430.0</td><td>14.5</td><td>70.0</td><td>2.0</td></tr><tr><th>29</th><td>25.0</td><td>4.0</td><td>104.0</td><td>95.0</td><td>2375.0</td><td>17.5</td><td>70.0</td><td>2.0</td></tr><tr><th>30</th><td>26.0</td><td>4.0</td><td>121.0</td><td>113.0</td><td>2234.0</td><td>12.5</td><td>70.0</td><td>2.0</td></tr><tr><th>&vellip;</th><td>&vellip;</td><td>&vellip;</td><td>&vellip;</td><td>&vellip;</td><td>&vellip;</td><td>&vellip;</td><td>&vellip;</td><td>&vellip;</td></tr></tbody></table>"
      ],
      "text/latex": [
       "\\begin{tabular}{r|ccccccccc}\n",
       "\t& mpg & cylinders & displacement & horsepower & weight & acceleration & year & origin & \\\\\n",
       "\t\\hline\n",
       "\t& Float64? & Float64 & Float64 & Float64? & Float64 & Float64 & Float64 & Float64 & \\\\\n",
       "\t\\hline\n",
       "\t1 & 18.0 & 8.0 & 307.0 & 130.0 & 3504.0 & 12.0 & 70.0 & 1.0 & $\\dots$ \\\\\n",
       "\t2 & 15.0 & 8.0 & 350.0 & 165.0 & 3693.0 & 11.5 & 70.0 & 1.0 & $\\dots$ \\\\\n",
       "\t3 & 18.0 & 8.0 & 318.0 & 150.0 & 3436.0 & 11.0 & 70.0 & 1.0 & $\\dots$ \\\\\n",
       "\t4 & 16.0 & 8.0 & 304.0 & 150.0 & 3433.0 & 12.0 & 70.0 & 1.0 & $\\dots$ \\\\\n",
       "\t5 & 17.0 & 8.0 & 302.0 & 140.0 & 3449.0 & 10.5 & 70.0 & 1.0 & $\\dots$ \\\\\n",
       "\t6 & 15.0 & 8.0 & 429.0 & 198.0 & 4341.0 & 10.0 & 70.0 & 1.0 & $\\dots$ \\\\\n",
       "\t7 & 14.0 & 8.0 & 454.0 & 220.0 & 4354.0 & 9.0 & 70.0 & 1.0 & $\\dots$ \\\\\n",
       "\t8 & 14.0 & 8.0 & 440.0 & 215.0 & 4312.0 & 8.5 & 70.0 & 1.0 & $\\dots$ \\\\\n",
       "\t9 & 14.0 & 8.0 & 455.0 & 225.0 & 4425.0 & 10.0 & 70.0 & 1.0 & $\\dots$ \\\\\n",
       "\t10 & 15.0 & 8.0 & 390.0 & 190.0 & 3850.0 & 8.5 & 70.0 & 1.0 & $\\dots$ \\\\\n",
       "\t11 & \\emph{missing} & 4.0 & 133.0 & 115.0 & 3090.0 & 17.5 & 70.0 & 2.0 & $\\dots$ \\\\\n",
       "\t12 & \\emph{missing} & 8.0 & 350.0 & 165.0 & 4142.0 & 11.5 & 70.0 & 1.0 & $\\dots$ \\\\\n",
       "\t13 & \\emph{missing} & 8.0 & 351.0 & 153.0 & 4034.0 & 11.0 & 70.0 & 1.0 & $\\dots$ \\\\\n",
       "\t14 & \\emph{missing} & 8.0 & 383.0 & 175.0 & 4166.0 & 10.5 & 70.0 & 1.0 & $\\dots$ \\\\\n",
       "\t15 & \\emph{missing} & 8.0 & 360.0 & 175.0 & 3850.0 & 11.0 & 70.0 & 1.0 & $\\dots$ \\\\\n",
       "\t16 & 15.0 & 8.0 & 383.0 & 170.0 & 3563.0 & 10.0 & 70.0 & 1.0 & $\\dots$ \\\\\n",
       "\t17 & 14.0 & 8.0 & 340.0 & 160.0 & 3609.0 & 8.0 & 70.0 & 1.0 & $\\dots$ \\\\\n",
       "\t18 & \\emph{missing} & 8.0 & 302.0 & 140.0 & 3353.0 & 8.0 & 70.0 & 1.0 & $\\dots$ \\\\\n",
       "\t19 & 15.0 & 8.0 & 400.0 & 150.0 & 3761.0 & 9.5 & 70.0 & 1.0 & $\\dots$ \\\\\n",
       "\t20 & 14.0 & 8.0 & 455.0 & 225.0 & 3086.0 & 10.0 & 70.0 & 1.0 & $\\dots$ \\\\\n",
       "\t21 & 24.0 & 4.0 & 113.0 & 95.0 & 2372.0 & 15.0 & 70.0 & 3.0 & $\\dots$ \\\\\n",
       "\t22 & 22.0 & 6.0 & 198.0 & 95.0 & 2833.0 & 15.5 & 70.0 & 1.0 & $\\dots$ \\\\\n",
       "\t23 & 18.0 & 6.0 & 199.0 & 97.0 & 2774.0 & 15.5 & 70.0 & 1.0 & $\\dots$ \\\\\n",
       "\t24 & 21.0 & 6.0 & 200.0 & 85.0 & 2587.0 & 16.0 & 70.0 & 1.0 & $\\dots$ \\\\\n",
       "\t25 & 27.0 & 4.0 & 97.0 & 88.0 & 2130.0 & 14.5 & 70.0 & 3.0 & $\\dots$ \\\\\n",
       "\t26 & 26.0 & 4.0 & 97.0 & 46.0 & 1835.0 & 20.5 & 70.0 & 2.0 & $\\dots$ \\\\\n",
       "\t27 & 25.0 & 4.0 & 110.0 & 87.0 & 2672.0 & 17.5 & 70.0 & 2.0 & $\\dots$ \\\\\n",
       "\t28 & 24.0 & 4.0 & 107.0 & 90.0 & 2430.0 & 14.5 & 70.0 & 2.0 & $\\dots$ \\\\\n",
       "\t29 & 25.0 & 4.0 & 104.0 & 95.0 & 2375.0 & 17.5 & 70.0 & 2.0 & $\\dots$ \\\\\n",
       "\t30 & 26.0 & 4.0 & 121.0 & 113.0 & 2234.0 & 12.5 & 70.0 & 2.0 & $\\dots$ \\\\\n",
       "\t$\\dots$ & $\\dots$ & $\\dots$ & $\\dots$ & $\\dots$ & $\\dots$ & $\\dots$ & $\\dots$ & $\\dots$ &  \\\\\n",
       "\\end{tabular}\n"
      ],
      "text/plain": [
       "\u001b[1m406×9 DataFrame\u001b[0m\n",
       "\u001b[1m Row \u001b[0m│\u001b[1m mpg       \u001b[0m\u001b[1m cylinders \u001b[0m\u001b[1m displacement \u001b[0m\u001b[1m horsepower \u001b[0m\u001b[1m weight  \u001b[0m\u001b[1m acceleration \u001b[0m\u001b[1m \u001b[0m ⋯\n",
       "\u001b[1m     \u001b[0m│\u001b[90m Float64?  \u001b[0m\u001b[90m Float64   \u001b[0m\u001b[90m Float64      \u001b[0m\u001b[90m Float64?   \u001b[0m\u001b[90m Float64 \u001b[0m\u001b[90m Float64      \u001b[0m\u001b[90m \u001b[0m ⋯\n",
       "─────┼──────────────────────────────────────────────────────────────────────────\n",
       "   1 │      18.0        8.0         307.0       130.0   3504.0          12.0   ⋯\n",
       "   2 │      15.0        8.0         350.0       165.0   3693.0          11.5\n",
       "   3 │      18.0        8.0         318.0       150.0   3436.0          11.0\n",
       "   4 │      16.0        8.0         304.0       150.0   3433.0          12.0\n",
       "   5 │      17.0        8.0         302.0       140.0   3449.0          10.5   ⋯\n",
       "   6 │      15.0        8.0         429.0       198.0   4341.0          10.0\n",
       "   7 │      14.0        8.0         454.0       220.0   4354.0           9.0\n",
       "   8 │      14.0        8.0         440.0       215.0   4312.0           8.5\n",
       "   9 │      14.0        8.0         455.0       225.0   4425.0          10.0   ⋯\n",
       "  10 │      15.0        8.0         390.0       190.0   3850.0           8.5\n",
       "  11 │\u001b[90m missing   \u001b[0m       4.0         133.0       115.0   3090.0          17.5\n",
       "  ⋮  │     ⋮          ⋮           ⋮            ⋮          ⋮          ⋮         ⋱\n",
       " 397 │      26.0        4.0         156.0        92.0   2585.0          14.5\n",
       " 398 │      22.0        6.0         232.0       112.0   2835.0          14.7   ⋯\n",
       " 399 │      32.0        4.0         144.0        96.0   2665.0          13.9\n",
       " 400 │      36.0        4.0         135.0        84.0   2370.0          13.0\n",
       " 401 │      27.0        4.0         151.0        90.0   2950.0          17.3\n",
       " 402 │      27.0        4.0         140.0        86.0   2790.0          15.6   ⋯\n",
       " 403 │      44.0        4.0          97.0        52.0   2130.0          24.6\n",
       " 404 │      32.0        4.0         135.0        84.0   2295.0          11.6\n",
       " 405 │      28.0        4.0         120.0        79.0   2625.0          18.6\n",
       " 406 │      31.0        4.0         119.0        82.0   2720.0          19.4   ⋯\n",
       "\u001b[36m                                                  3 columns and 385 rows omitted\u001b[0m"
      ]
     },
     "execution_count": 7,
     "metadata": {},
     "output_type": "execute_result"
    }
   ],
   "source": [
    "df = CSV.File(io,\n",
    "               delim=' ',\n",
    "               ignorerepeated=true,\n",
    "               header=[:mpg, :cylinders, :displacement, :horsepower,\n",
    "                       :weight, :acceleration, :year, :origin, :name],\n",
    "               missingstring=\"NA\") |>\n",
    "      DataFrame"
   ]
  },
  {
   "cell_type": "markdown",
   "id": "attended-legend",
   "metadata": {},
   "source": [
    "## Missing Values "
   ]
  },
  {
   "cell_type": "code",
   "execution_count": 8,
   "id": "emotional-angel",
   "metadata": {},
   "outputs": [
    {
     "data": {
      "text/plain": [
       "14"
      ]
     },
     "execution_count": 8,
     "metadata": {},
     "output_type": "execute_result"
    }
   ],
   "source": [
    "sum(count(ismissing, col) for col in eachcol(df))"
   ]
  },
  {
   "cell_type": "code",
   "execution_count": 9,
   "id": "floppy-tackle",
   "metadata": {},
   "outputs": [
    {
     "data": {
      "text/plain": [
       "14"
      ]
     },
     "execution_count": 9,
     "metadata": {},
     "output_type": "execute_result"
    }
   ],
   "source": [
    "count(ismissing, Matrix(df)) # much cleaner "
   ]
  },
  {
   "cell_type": "code",
   "execution_count": 10,
   "id": "inside-queen",
   "metadata": {},
   "outputs": [
    {
     "data": {
      "text/html": [
       "<table class=\"data-frame\"><thead><tr><th></th><th>mpg</th><th>cylinders</th><th>displacement</th><th>horsepower</th><th>weight</th><th>acceleration</th><th>year</th><th>origin</th></tr><tr><th></th><th>Int64</th><th>Int64</th><th>Int64</th><th>Int64</th><th>Int64</th><th>Int64</th><th>Int64</th><th>Int64</th></tr></thead><tbody><p>1 rows × 9 columns (omitted printing of 1 columns)</p><tr><th>1</th><td>8</td><td>0</td><td>0</td><td>6</td><td>0</td><td>0</td><td>0</td><td>0</td></tr></tbody></table>"
      ],
      "text/latex": [
       "\\begin{tabular}{r|ccccccccc}\n",
       "\t& mpg & cylinders & displacement & horsepower & weight & acceleration & year & origin & \\\\\n",
       "\t\\hline\n",
       "\t& Int64 & Int64 & Int64 & Int64 & Int64 & Int64 & Int64 & Int64 & \\\\\n",
       "\t\\hline\n",
       "\t1 & 8 & 0 & 0 & 6 & 0 & 0 & 0 & 0 & $\\dots$ \\\\\n",
       "\\end{tabular}\n"
      ],
      "text/plain": [
       "\u001b[1m1×9 DataFrame\u001b[0m\n",
       "\u001b[1m Row \u001b[0m│\u001b[1m mpg   \u001b[0m\u001b[1m cylinders \u001b[0m\u001b[1m displacement \u001b[0m\u001b[1m horsepower \u001b[0m\u001b[1m weight \u001b[0m\u001b[1m acceleration \u001b[0m\u001b[1m year \u001b[0m ⋯\n",
       "\u001b[1m     \u001b[0m│\u001b[90m Int64 \u001b[0m\u001b[90m Int64     \u001b[0m\u001b[90m Int64        \u001b[0m\u001b[90m Int64      \u001b[0m\u001b[90m Int64  \u001b[0m\u001b[90m Int64        \u001b[0m\u001b[90m Int64\u001b[0m ⋯\n",
       "─────┼──────────────────────────────────────────────────────────────────────────\n",
       "   1 │     8          0             0           6       0             0      0 ⋯\n",
       "\u001b[36m                                                               2 columns omitted\u001b[0m"
      ]
     },
     "execution_count": 10,
     "metadata": {},
     "output_type": "execute_result"
    }
   ],
   "source": [
    "mapcols(x -> count(ismissing, x), df)   \n",
    "# take a column and send it to the function \n",
    "# this is more descriptive, of course "
   ]
  },
  {
   "cell_type": "markdown",
   "id": "alpine-collaboration",
   "metadata": {},
   "source": [
    "## Adding a Column based on Data "
   ]
  },
  {
   "cell_type": "markdown",
   "id": "cubic-quilt",
   "metadata": {},
   "source": [
    "Let's take the name and take it's first part for \"brand\". "
   ]
  },
  {
   "cell_type": "code",
   "execution_count": 11,
   "id": "assigned-determination",
   "metadata": {},
   "outputs": [
    {
     "data": {
      "text/plain": [
       "406-element Array{String,1}:\n",
       " \"chevrolet chevelle malibu\"\n",
       " \"buick skylark 320\"\n",
       " \"plymouth satellite\"\n",
       " \"amc rebel sst\"\n",
       " \"ford torino\"\n",
       " \"ford galaxie 500\"\n",
       " \"chevrolet impala\"\n",
       " \"plymouth fury iii\"\n",
       " \"pontiac catalina\"\n",
       " \"amc ambassador dpl\"\n",
       " \"citroen ds-21 pallas\"\n",
       " \"chevrolet chevelle concours (sw)\"\n",
       " \"ford torino (sw)\"\n",
       " ⋮\n",
       " \"buick century limited\"\n",
       " \"oldsmobile cutlass ciera (diesel)\"\n",
       " \"chrysler lebaron medallion\"\n",
       " \"ford granada l\"\n",
       " \"toyota celica gt\"\n",
       " \"dodge charger 2.2\"\n",
       " \"chevrolet camaro\"\n",
       " \"ford mustang gl\"\n",
       " \"vw pickup\"\n",
       " \"dodge rampage\"\n",
       " \"ford ranger\"\n",
       " \"chevy s-10\""
      ]
     },
     "execution_count": 11,
     "metadata": {},
     "output_type": "execute_result"
    }
   ],
   "source": [
    "df.name"
   ]
  },
  {
   "cell_type": "code",
   "execution_count": 13,
   "id": "specific-proof",
   "metadata": {},
   "outputs": [
    {
     "data": {
      "text/plain": [
       "406-element Array{SubString{String},1}:\n",
       " \"chevrolet\"\n",
       " \"buick\"\n",
       " \"plymouth\"\n",
       " \"amc\"\n",
       " \"ford\"\n",
       " \"ford\"\n",
       " \"chevrolet\"\n",
       " \"plymouth\"\n",
       " \"pontiac\"\n",
       " \"amc\"\n",
       " \"citroen\"\n",
       " \"chevrolet\"\n",
       " \"ford\"\n",
       " ⋮\n",
       " \"buick\"\n",
       " \"oldsmobile\"\n",
       " \"chrysler\"\n",
       " \"ford\"\n",
       " \"toyota\"\n",
       " \"dodge\"\n",
       " \"chevrolet\"\n",
       " \"ford\"\n",
       " \"vw\"\n",
       " \"dodge\"\n",
       " \"ford\"\n",
       " \"chevy\""
      ]
     },
     "execution_count": 13,
     "metadata": {},
     "output_type": "execute_result"
    }
   ],
   "source": [
    "split.(df.name)\n",
    "df.brand = first.(split.(df.name))"
   ]
  },
  {
   "cell_type": "code",
   "execution_count": 15,
   "id": "diagnostic-shanghai",
   "metadata": {},
   "outputs": [
    {
     "data": {
      "text/html": [
       "<table class=\"data-frame\"><thead><tr><th></th><th>name</th><th>brand</th></tr><tr><th></th><th>String</th><th>SubStri…</th></tr></thead><tbody><p>10 rows × 2 columns</p><tr><th>1</th><td>chevrolet chevelle malibu</td><td>chevrolet</td></tr><tr><th>2</th><td>buick skylark 320</td><td>buick</td></tr><tr><th>3</th><td>plymouth satellite</td><td>plymouth</td></tr><tr><th>4</th><td>amc rebel sst</td><td>amc</td></tr><tr><th>5</th><td>ford torino</td><td>ford</td></tr><tr><th>6</th><td>ford galaxie 500</td><td>ford</td></tr><tr><th>7</th><td>chevrolet impala</td><td>chevrolet</td></tr><tr><th>8</th><td>plymouth fury iii</td><td>plymouth</td></tr><tr><th>9</th><td>pontiac catalina</td><td>pontiac</td></tr><tr><th>10</th><td>amc ambassador dpl</td><td>amc</td></tr></tbody></table>"
      ],
      "text/latex": [
       "\\begin{tabular}{r|cc}\n",
       "\t& name & brand\\\\\n",
       "\t\\hline\n",
       "\t& String & SubStri…\\\\\n",
       "\t\\hline\n",
       "\t1 & chevrolet chevelle malibu & chevrolet \\\\\n",
       "\t2 & buick skylark 320 & buick \\\\\n",
       "\t3 & plymouth satellite & plymouth \\\\\n",
       "\t4 & amc rebel sst & amc \\\\\n",
       "\t5 & ford torino & ford \\\\\n",
       "\t6 & ford galaxie 500 & ford \\\\\n",
       "\t7 & chevrolet impala & chevrolet \\\\\n",
       "\t8 & plymouth fury iii & plymouth \\\\\n",
       "\t9 & pontiac catalina & pontiac \\\\\n",
       "\t10 & amc ambassador dpl & amc \\\\\n",
       "\\end{tabular}\n"
      ],
      "text/plain": [
       "\u001b[1m10×2 DataFrame\u001b[0m\n",
       "\u001b[1m Row \u001b[0m│\u001b[1m name                      \u001b[0m\u001b[1m brand     \u001b[0m\n",
       "\u001b[1m     \u001b[0m│\u001b[90m String                    \u001b[0m\u001b[90m SubStrin… \u001b[0m\n",
       "─────┼──────────────────────────────────────\n",
       "   1 │ chevrolet chevelle malibu  chevrolet\n",
       "   2 │ buick skylark 320          buick\n",
       "   3 │ plymouth satellite         plymouth\n",
       "   4 │ amc rebel sst              amc\n",
       "   5 │ ford torino                ford\n",
       "   6 │ ford galaxie 500           ford\n",
       "   7 │ chevrolet impala           chevrolet\n",
       "   8 │ plymouth fury iii          plymouth\n",
       "   9 │ pontiac catalina           pontiac\n",
       "  10 │ amc ambassador dpl         amc"
      ]
     },
     "execution_count": 15,
     "metadata": {},
     "output_type": "execute_result"
    }
   ],
   "source": [
    "df[1:10, [\"name\", \"brand\"]]"
   ]
  },
  {
   "cell_type": "code",
   "execution_count": 16,
   "id": "apart-apache",
   "metadata": {},
   "outputs": [
    {
     "data": {
      "text/plain": [
       "(406, 10)"
      ]
     },
     "execution_count": 16,
     "metadata": {},
     "output_type": "execute_result"
    }
   ],
   "source": [
    "size(df)"
   ]
  },
  {
   "cell_type": "code",
   "execution_count": 17,
   "id": "neural-genome",
   "metadata": {},
   "outputs": [],
   "source": [
    "df2 = dropmissing(df);"
   ]
  },
  {
   "cell_type": "code",
   "execution_count": 18,
   "id": "annoying-egypt",
   "metadata": {},
   "outputs": [
    {
     "data": {
      "text/plain": [
       "(392, 10)"
      ]
     },
     "execution_count": 18,
     "metadata": {},
     "output_type": "execute_result"
    }
   ],
   "source": [
    "size(df2)"
   ]
  },
  {
   "cell_type": "code",
   "execution_count": 19,
   "id": "accessible-annex",
   "metadata": {},
   "outputs": [
    {
     "data": {
      "text/html": [
       "<table class=\"data-frame\"><thead><tr><th></th><th>mpg</th><th>cylinders</th><th>displacement</th><th>horsepower</th><th>weight</th><th>acceleration</th><th>year</th><th>origin</th></tr><tr><th></th><th>Int64</th><th>Int64</th><th>Int64</th><th>Int64</th><th>Int64</th><th>Int64</th><th>Int64</th><th>Int64</th></tr></thead><tbody><p>1 rows × 10 columns (omitted printing of 2 columns)</p><tr><th>1</th><td>0</td><td>0</td><td>0</td><td>0</td><td>0</td><td>0</td><td>0</td><td>0</td></tr></tbody></table>"
      ],
      "text/latex": [
       "\\begin{tabular}{r|ccccccccc}\n",
       "\t& mpg & cylinders & displacement & horsepower & weight & acceleration & year & origin & \\\\\n",
       "\t\\hline\n",
       "\t& Int64 & Int64 & Int64 & Int64 & Int64 & Int64 & Int64 & Int64 & \\\\\n",
       "\t\\hline\n",
       "\t1 & 0 & 0 & 0 & 0 & 0 & 0 & 0 & 0 & $\\dots$ \\\\\n",
       "\\end{tabular}\n"
      ],
      "text/plain": [
       "\u001b[1m1×10 DataFrame\u001b[0m\n",
       "\u001b[1m Row \u001b[0m│\u001b[1m mpg   \u001b[0m\u001b[1m cylinders \u001b[0m\u001b[1m displacement \u001b[0m\u001b[1m horsepower \u001b[0m\u001b[1m weight \u001b[0m\u001b[1m acceleration \u001b[0m\u001b[1m year \u001b[0m ⋯\n",
       "\u001b[1m     \u001b[0m│\u001b[90m Int64 \u001b[0m\u001b[90m Int64     \u001b[0m\u001b[90m Int64        \u001b[0m\u001b[90m Int64      \u001b[0m\u001b[90m Int64  \u001b[0m\u001b[90m Int64        \u001b[0m\u001b[90m Int64\u001b[0m ⋯\n",
       "─────┼──────────────────────────────────────────────────────────────────────────\n",
       "   1 │     0          0             0           0       0             0      0 ⋯\n",
       "\u001b[36m                                                               3 columns omitted\u001b[0m"
      ]
     },
     "execution_count": 19,
     "metadata": {},
     "output_type": "execute_result"
    }
   ],
   "source": [
    "mapcols(x -> count(ismissing, x), df2)   "
   ]
  },
  {
   "cell_type": "code",
   "execution_count": 20,
   "id": "qualified-latin",
   "metadata": {},
   "outputs": [
    {
     "data": {
      "text/html": [
       "<table class=\"data-frame\"><thead><tr><th></th><th>mpg</th><th>cylinders</th><th>displacement</th><th>horsepower</th><th>weight</th><th>acceleration</th><th>year</th><th>origin</th></tr><tr><th></th><th>Float64</th><th>Float64</th><th>Float64</th><th>Float64</th><th>Float64</th><th>Float64</th><th>Float64</th><th>Float64</th></tr></thead><tbody><p>4 rows × 10 columns (omitted printing of 2 columns)</p><tr><th>1</th><td>25.0</td><td>4.0</td><td>104.0</td><td>95.0</td><td>2375.0</td><td>17.5</td><td>70.0</td><td>2.0</td></tr><tr><th>2</th><td>24.0</td><td>4.0</td><td>121.0</td><td>110.0</td><td>2660.0</td><td>14.0</td><td>73.0</td><td>2.0</td></tr><tr><th>3</th><td>25.0</td><td>4.0</td><td>121.0</td><td>115.0</td><td>2671.0</td><td>13.5</td><td>75.0</td><td>2.0</td></tr><tr><th>4</th><td>21.6</td><td>4.0</td><td>121.0</td><td>115.0</td><td>2795.0</td><td>15.7</td><td>78.0</td><td>2.0</td></tr></tbody></table>"
      ],
      "text/latex": [
       "\\begin{tabular}{r|ccccccccc}\n",
       "\t& mpg & cylinders & displacement & horsepower & weight & acceleration & year & origin & \\\\\n",
       "\t\\hline\n",
       "\t& Float64 & Float64 & Float64 & Float64 & Float64 & Float64 & Float64 & Float64 & \\\\\n",
       "\t\\hline\n",
       "\t1 & 25.0 & 4.0 & 104.0 & 95.0 & 2375.0 & 17.5 & 70.0 & 2.0 & $\\dots$ \\\\\n",
       "\t2 & 24.0 & 4.0 & 121.0 & 110.0 & 2660.0 & 14.0 & 73.0 & 2.0 & $\\dots$ \\\\\n",
       "\t3 & 25.0 & 4.0 & 121.0 & 115.0 & 2671.0 & 13.5 & 75.0 & 2.0 & $\\dots$ \\\\\n",
       "\t4 & 21.6 & 4.0 & 121.0 & 115.0 & 2795.0 & 15.7 & 78.0 & 2.0 & $\\dots$ \\\\\n",
       "\\end{tabular}\n"
      ],
      "text/plain": [
       "\u001b[1m4×10 DataFrame\u001b[0m\n",
       "\u001b[1m Row \u001b[0m│\u001b[1m mpg     \u001b[0m\u001b[1m cylinders \u001b[0m\u001b[1m displacement \u001b[0m\u001b[1m horsepower \u001b[0m\u001b[1m weight  \u001b[0m\u001b[1m acceleration \u001b[0m\u001b[1m ye\u001b[0m ⋯\n",
       "\u001b[1m     \u001b[0m│\u001b[90m Float64 \u001b[0m\u001b[90m Float64   \u001b[0m\u001b[90m Float64      \u001b[0m\u001b[90m Float64    \u001b[0m\u001b[90m Float64 \u001b[0m\u001b[90m Float64      \u001b[0m\u001b[90m Fl\u001b[0m ⋯\n",
       "─────┼──────────────────────────────────────────────────────────────────────────\n",
       "   1 │    25.0        4.0         104.0        95.0   2375.0          17.5     ⋯\n",
       "   2 │    24.0        4.0         121.0       110.0   2660.0          14.0\n",
       "   3 │    25.0        4.0         121.0       115.0   2671.0          13.5\n",
       "   4 │    21.6        4.0         121.0       115.0   2795.0          15.7\n",
       "\u001b[36m                                                               4 columns omitted\u001b[0m"
      ]
     },
     "execution_count": 20,
     "metadata": {},
     "output_type": "execute_result"
    }
   ],
   "source": [
    "df2[df2.brand .== \"saab\", :]  # index-style syntax"
   ]
  },
  {
   "cell_type": "code",
   "execution_count": 21,
   "id": "behavioral-enough",
   "metadata": {},
   "outputs": [
    {
     "data": {
      "text/html": [
       "<table class=\"data-frame\"><thead><tr><th></th><th>mpg</th><th>cylinders</th><th>displacement</th><th>horsepower</th><th>weight</th><th>acceleration</th><th>year</th><th>origin</th></tr><tr><th></th><th>Float64</th><th>Float64</th><th>Float64</th><th>Float64</th><th>Float64</th><th>Float64</th><th>Float64</th><th>Float64</th></tr></thead><tbody><p>4 rows × 10 columns (omitted printing of 2 columns)</p><tr><th>1</th><td>25.0</td><td>4.0</td><td>104.0</td><td>95.0</td><td>2375.0</td><td>17.5</td><td>70.0</td><td>2.0</td></tr><tr><th>2</th><td>24.0</td><td>4.0</td><td>121.0</td><td>110.0</td><td>2660.0</td><td>14.0</td><td>73.0</td><td>2.0</td></tr><tr><th>3</th><td>25.0</td><td>4.0</td><td>121.0</td><td>115.0</td><td>2671.0</td><td>13.5</td><td>75.0</td><td>2.0</td></tr><tr><th>4</th><td>21.6</td><td>4.0</td><td>121.0</td><td>115.0</td><td>2795.0</td><td>15.7</td><td>78.0</td><td>2.0</td></tr></tbody></table>"
      ],
      "text/latex": [
       "\\begin{tabular}{r|ccccccccc}\n",
       "\t& mpg & cylinders & displacement & horsepower & weight & acceleration & year & origin & \\\\\n",
       "\t\\hline\n",
       "\t& Float64 & Float64 & Float64 & Float64 & Float64 & Float64 & Float64 & Float64 & \\\\\n",
       "\t\\hline\n",
       "\t1 & 25.0 & 4.0 & 104.0 & 95.0 & 2375.0 & 17.5 & 70.0 & 2.0 & $\\dots$ \\\\\n",
       "\t2 & 24.0 & 4.0 & 121.0 & 110.0 & 2660.0 & 14.0 & 73.0 & 2.0 & $\\dots$ \\\\\n",
       "\t3 & 25.0 & 4.0 & 121.0 & 115.0 & 2671.0 & 13.5 & 75.0 & 2.0 & $\\dots$ \\\\\n",
       "\t4 & 21.6 & 4.0 & 121.0 & 115.0 & 2795.0 & 15.7 & 78.0 & 2.0 & $\\dots$ \\\\\n",
       "\\end{tabular}\n"
      ],
      "text/plain": [
       "\u001b[1m4×10 DataFrame\u001b[0m\n",
       "\u001b[1m Row \u001b[0m│\u001b[1m mpg     \u001b[0m\u001b[1m cylinders \u001b[0m\u001b[1m displacement \u001b[0m\u001b[1m horsepower \u001b[0m\u001b[1m weight  \u001b[0m\u001b[1m acceleration \u001b[0m\u001b[1m ye\u001b[0m ⋯\n",
       "\u001b[1m     \u001b[0m│\u001b[90m Float64 \u001b[0m\u001b[90m Float64   \u001b[0m\u001b[90m Float64      \u001b[0m\u001b[90m Float64    \u001b[0m\u001b[90m Float64 \u001b[0m\u001b[90m Float64      \u001b[0m\u001b[90m Fl\u001b[0m ⋯\n",
       "─────┼──────────────────────────────────────────────────────────────────────────\n",
       "   1 │    25.0        4.0         104.0        95.0   2375.0          17.5     ⋯\n",
       "   2 │    24.0        4.0         121.0       110.0   2660.0          14.0\n",
       "   3 │    25.0        4.0         121.0       115.0   2671.0          13.5\n",
       "   4 │    21.6        4.0         121.0       115.0   2795.0          15.7\n",
       "\u001b[36m                                                               4 columns omitted\u001b[0m"
      ]
     },
     "execution_count": 21,
     "metadata": {},
     "output_type": "execute_result"
    }
   ],
   "source": [
    "# same as above \n",
    "filter(row -> row.brand == \"saab\", df2)"
   ]
  },
  {
   "cell_type": "markdown",
   "id": "verbal-reproduction",
   "metadata": {},
   "source": [
    "## Saving For Future Use "
   ]
  },
  {
   "cell_type": "code",
   "execution_count": 22,
   "id": "horizontal-meditation",
   "metadata": {},
   "outputs": [
    {
     "data": {
      "text/plain": [
       "\"data/auto-cleaned.csv\""
      ]
     },
     "execution_count": 22,
     "metadata": {},
     "output_type": "execute_result"
    }
   ],
   "source": [
    "CSV.write(\"data/auto-cleaned.csv\", df2)"
   ]
  },
  {
   "cell_type": "markdown",
   "id": "magnetic-cannon",
   "metadata": {},
   "source": [
    "We will also use Arrow to save our data. Highly recommended for storing all data. Read more here: https://arrow.apache.org/"
   ]
  },
  {
   "cell_type": "code",
   "execution_count": null,
   "id": "middle-lindsay",
   "metadata": {},
   "outputs": [],
   "source": [
    "] add Arrow "
   ]
  },
  {
   "cell_type": "code",
   "execution_count": 23,
   "id": "rocky-hacker",
   "metadata": {},
   "outputs": [],
   "source": [
    "using Arrow"
   ]
  },
  {
   "cell_type": "code",
   "execution_count": 24,
   "id": "serious-practitioner",
   "metadata": {},
   "outputs": [
    {
     "data": {
      "text/plain": [
       "\"data/auto-cleaned.arrow\""
      ]
     },
     "execution_count": 24,
     "metadata": {},
     "output_type": "execute_result"
    }
   ],
   "source": [
    "Arrow.write(\"data/auto-cleaned.arrow\", df2)"
   ]
  },
  {
   "cell_type": "markdown",
   "id": "narrative-value",
   "metadata": {},
   "source": [
    "## Further Data Manipulations "
   ]
  },
  {
   "cell_type": "code",
   "execution_count": 25,
   "id": "compliant-midnight",
   "metadata": {},
   "outputs": [
    {
     "data": {
      "text/html": [
       "<table class=\"data-frame\"><thead><tr><th></th><th>mpg</th><th>cylinders</th><th>displacement</th><th>horsepower</th><th>weight</th><th>acceleration</th><th>year</th><th>origin</th></tr><tr><th></th><th>Float64</th><th>Float64</th><th>Float64</th><th>Float64</th><th>Float64</th><th>Float64</th><th>Float64</th><th>Float64</th></tr></thead><tbody><p>392 rows × 10 columns (omitted printing of 2 columns)</p><tr><th>1</th><td>18.0</td><td>8.0</td><td>307.0</td><td>130.0</td><td>3504.0</td><td>12.0</td><td>70.0</td><td>1.0</td></tr><tr><th>2</th><td>15.0</td><td>8.0</td><td>350.0</td><td>165.0</td><td>3693.0</td><td>11.5</td><td>70.0</td><td>1.0</td></tr><tr><th>3</th><td>18.0</td><td>8.0</td><td>318.0</td><td>150.0</td><td>3436.0</td><td>11.0</td><td>70.0</td><td>1.0</td></tr><tr><th>4</th><td>16.0</td><td>8.0</td><td>304.0</td><td>150.0</td><td>3433.0</td><td>12.0</td><td>70.0</td><td>1.0</td></tr><tr><th>5</th><td>17.0</td><td>8.0</td><td>302.0</td><td>140.0</td><td>3449.0</td><td>10.5</td><td>70.0</td><td>1.0</td></tr><tr><th>6</th><td>15.0</td><td>8.0</td><td>429.0</td><td>198.0</td><td>4341.0</td><td>10.0</td><td>70.0</td><td>1.0</td></tr><tr><th>7</th><td>14.0</td><td>8.0</td><td>454.0</td><td>220.0</td><td>4354.0</td><td>9.0</td><td>70.0</td><td>1.0</td></tr><tr><th>8</th><td>14.0</td><td>8.0</td><td>440.0</td><td>215.0</td><td>4312.0</td><td>8.5</td><td>70.0</td><td>1.0</td></tr><tr><th>9</th><td>14.0</td><td>8.0</td><td>455.0</td><td>225.0</td><td>4425.0</td><td>10.0</td><td>70.0</td><td>1.0</td></tr><tr><th>10</th><td>15.0</td><td>8.0</td><td>390.0</td><td>190.0</td><td>3850.0</td><td>8.5</td><td>70.0</td><td>1.0</td></tr><tr><th>11</th><td>15.0</td><td>8.0</td><td>383.0</td><td>170.0</td><td>3563.0</td><td>10.0</td><td>70.0</td><td>1.0</td></tr><tr><th>12</th><td>14.0</td><td>8.0</td><td>340.0</td><td>160.0</td><td>3609.0</td><td>8.0</td><td>70.0</td><td>1.0</td></tr><tr><th>13</th><td>15.0</td><td>8.0</td><td>400.0</td><td>150.0</td><td>3761.0</td><td>9.5</td><td>70.0</td><td>1.0</td></tr><tr><th>14</th><td>14.0</td><td>8.0</td><td>455.0</td><td>225.0</td><td>3086.0</td><td>10.0</td><td>70.0</td><td>1.0</td></tr><tr><th>15</th><td>24.0</td><td>4.0</td><td>113.0</td><td>95.0</td><td>2372.0</td><td>15.0</td><td>70.0</td><td>3.0</td></tr><tr><th>16</th><td>22.0</td><td>6.0</td><td>198.0</td><td>95.0</td><td>2833.0</td><td>15.5</td><td>70.0</td><td>1.0</td></tr><tr><th>17</th><td>18.0</td><td>6.0</td><td>199.0</td><td>97.0</td><td>2774.0</td><td>15.5</td><td>70.0</td><td>1.0</td></tr><tr><th>18</th><td>21.0</td><td>6.0</td><td>200.0</td><td>85.0</td><td>2587.0</td><td>16.0</td><td>70.0</td><td>1.0</td></tr><tr><th>19</th><td>27.0</td><td>4.0</td><td>97.0</td><td>88.0</td><td>2130.0</td><td>14.5</td><td>70.0</td><td>3.0</td></tr><tr><th>20</th><td>26.0</td><td>4.0</td><td>97.0</td><td>46.0</td><td>1835.0</td><td>20.5</td><td>70.0</td><td>2.0</td></tr><tr><th>21</th><td>25.0</td><td>4.0</td><td>110.0</td><td>87.0</td><td>2672.0</td><td>17.5</td><td>70.0</td><td>2.0</td></tr><tr><th>22</th><td>24.0</td><td>4.0</td><td>107.0</td><td>90.0</td><td>2430.0</td><td>14.5</td><td>70.0</td><td>2.0</td></tr><tr><th>23</th><td>25.0</td><td>4.0</td><td>104.0</td><td>95.0</td><td>2375.0</td><td>17.5</td><td>70.0</td><td>2.0</td></tr><tr><th>24</th><td>26.0</td><td>4.0</td><td>121.0</td><td>113.0</td><td>2234.0</td><td>12.5</td><td>70.0</td><td>2.0</td></tr><tr><th>25</th><td>21.0</td><td>6.0</td><td>199.0</td><td>90.0</td><td>2648.0</td><td>15.0</td><td>70.0</td><td>1.0</td></tr><tr><th>26</th><td>10.0</td><td>8.0</td><td>360.0</td><td>215.0</td><td>4615.0</td><td>14.0</td><td>70.0</td><td>1.0</td></tr><tr><th>27</th><td>10.0</td><td>8.0</td><td>307.0</td><td>200.0</td><td>4376.0</td><td>15.0</td><td>70.0</td><td>1.0</td></tr><tr><th>28</th><td>11.0</td><td>8.0</td><td>318.0</td><td>210.0</td><td>4382.0</td><td>13.5</td><td>70.0</td><td>1.0</td></tr><tr><th>29</th><td>9.0</td><td>8.0</td><td>304.0</td><td>193.0</td><td>4732.0</td><td>18.5</td><td>70.0</td><td>1.0</td></tr><tr><th>30</th><td>27.0</td><td>4.0</td><td>97.0</td><td>88.0</td><td>2130.0</td><td>14.5</td><td>71.0</td><td>3.0</td></tr><tr><th>&vellip;</th><td>&vellip;</td><td>&vellip;</td><td>&vellip;</td><td>&vellip;</td><td>&vellip;</td><td>&vellip;</td><td>&vellip;</td><td>&vellip;</td></tr></tbody></table>"
      ],
      "text/latex": [
       "\\begin{tabular}{r|ccccccccc}\n",
       "\t& mpg & cylinders & displacement & horsepower & weight & acceleration & year & origin & \\\\\n",
       "\t\\hline\n",
       "\t& Float64 & Float64 & Float64 & Float64 & Float64 & Float64 & Float64 & Float64 & \\\\\n",
       "\t\\hline\n",
       "\t1 & 18.0 & 8.0 & 307.0 & 130.0 & 3504.0 & 12.0 & 70.0 & 1.0 & $\\dots$ \\\\\n",
       "\t2 & 15.0 & 8.0 & 350.0 & 165.0 & 3693.0 & 11.5 & 70.0 & 1.0 & $\\dots$ \\\\\n",
       "\t3 & 18.0 & 8.0 & 318.0 & 150.0 & 3436.0 & 11.0 & 70.0 & 1.0 & $\\dots$ \\\\\n",
       "\t4 & 16.0 & 8.0 & 304.0 & 150.0 & 3433.0 & 12.0 & 70.0 & 1.0 & $\\dots$ \\\\\n",
       "\t5 & 17.0 & 8.0 & 302.0 & 140.0 & 3449.0 & 10.5 & 70.0 & 1.0 & $\\dots$ \\\\\n",
       "\t6 & 15.0 & 8.0 & 429.0 & 198.0 & 4341.0 & 10.0 & 70.0 & 1.0 & $\\dots$ \\\\\n",
       "\t7 & 14.0 & 8.0 & 454.0 & 220.0 & 4354.0 & 9.0 & 70.0 & 1.0 & $\\dots$ \\\\\n",
       "\t8 & 14.0 & 8.0 & 440.0 & 215.0 & 4312.0 & 8.5 & 70.0 & 1.0 & $\\dots$ \\\\\n",
       "\t9 & 14.0 & 8.0 & 455.0 & 225.0 & 4425.0 & 10.0 & 70.0 & 1.0 & $\\dots$ \\\\\n",
       "\t10 & 15.0 & 8.0 & 390.0 & 190.0 & 3850.0 & 8.5 & 70.0 & 1.0 & $\\dots$ \\\\\n",
       "\t11 & 15.0 & 8.0 & 383.0 & 170.0 & 3563.0 & 10.0 & 70.0 & 1.0 & $\\dots$ \\\\\n",
       "\t12 & 14.0 & 8.0 & 340.0 & 160.0 & 3609.0 & 8.0 & 70.0 & 1.0 & $\\dots$ \\\\\n",
       "\t13 & 15.0 & 8.0 & 400.0 & 150.0 & 3761.0 & 9.5 & 70.0 & 1.0 & $\\dots$ \\\\\n",
       "\t14 & 14.0 & 8.0 & 455.0 & 225.0 & 3086.0 & 10.0 & 70.0 & 1.0 & $\\dots$ \\\\\n",
       "\t15 & 24.0 & 4.0 & 113.0 & 95.0 & 2372.0 & 15.0 & 70.0 & 3.0 & $\\dots$ \\\\\n",
       "\t16 & 22.0 & 6.0 & 198.0 & 95.0 & 2833.0 & 15.5 & 70.0 & 1.0 & $\\dots$ \\\\\n",
       "\t17 & 18.0 & 6.0 & 199.0 & 97.0 & 2774.0 & 15.5 & 70.0 & 1.0 & $\\dots$ \\\\\n",
       "\t18 & 21.0 & 6.0 & 200.0 & 85.0 & 2587.0 & 16.0 & 70.0 & 1.0 & $\\dots$ \\\\\n",
       "\t19 & 27.0 & 4.0 & 97.0 & 88.0 & 2130.0 & 14.5 & 70.0 & 3.0 & $\\dots$ \\\\\n",
       "\t20 & 26.0 & 4.0 & 97.0 & 46.0 & 1835.0 & 20.5 & 70.0 & 2.0 & $\\dots$ \\\\\n",
       "\t21 & 25.0 & 4.0 & 110.0 & 87.0 & 2672.0 & 17.5 & 70.0 & 2.0 & $\\dots$ \\\\\n",
       "\t22 & 24.0 & 4.0 & 107.0 & 90.0 & 2430.0 & 14.5 & 70.0 & 2.0 & $\\dots$ \\\\\n",
       "\t23 & 25.0 & 4.0 & 104.0 & 95.0 & 2375.0 & 17.5 & 70.0 & 2.0 & $\\dots$ \\\\\n",
       "\t24 & 26.0 & 4.0 & 121.0 & 113.0 & 2234.0 & 12.5 & 70.0 & 2.0 & $\\dots$ \\\\\n",
       "\t25 & 21.0 & 6.0 & 199.0 & 90.0 & 2648.0 & 15.0 & 70.0 & 1.0 & $\\dots$ \\\\\n",
       "\t26 & 10.0 & 8.0 & 360.0 & 215.0 & 4615.0 & 14.0 & 70.0 & 1.0 & $\\dots$ \\\\\n",
       "\t27 & 10.0 & 8.0 & 307.0 & 200.0 & 4376.0 & 15.0 & 70.0 & 1.0 & $\\dots$ \\\\\n",
       "\t28 & 11.0 & 8.0 & 318.0 & 210.0 & 4382.0 & 13.5 & 70.0 & 1.0 & $\\dots$ \\\\\n",
       "\t29 & 9.0 & 8.0 & 304.0 & 193.0 & 4732.0 & 18.5 & 70.0 & 1.0 & $\\dots$ \\\\\n",
       "\t30 & 27.0 & 4.0 & 97.0 & 88.0 & 2130.0 & 14.5 & 71.0 & 3.0 & $\\dots$ \\\\\n",
       "\t$\\dots$ & $\\dots$ & $\\dots$ & $\\dots$ & $\\dots$ & $\\dots$ & $\\dots$ & $\\dots$ & $\\dots$ &  \\\\\n",
       "\\end{tabular}\n"
      ],
      "text/plain": [
       "\u001b[1m392×10 DataFrame\u001b[0m\n",
       "\u001b[1m Row \u001b[0m│\u001b[1m mpg     \u001b[0m\u001b[1m cylinders \u001b[0m\u001b[1m displacement \u001b[0m\u001b[1m horsepower \u001b[0m\u001b[1m weight  \u001b[0m\u001b[1m acceleration \u001b[0m\u001b[1m ye\u001b[0m ⋯\n",
       "\u001b[1m     \u001b[0m│\u001b[90m Float64 \u001b[0m\u001b[90m Float64   \u001b[0m\u001b[90m Float64      \u001b[0m\u001b[90m Float64    \u001b[0m\u001b[90m Float64 \u001b[0m\u001b[90m Float64      \u001b[0m\u001b[90m Fl\u001b[0m ⋯\n",
       "─────┼──────────────────────────────────────────────────────────────────────────\n",
       "   1 │    18.0        8.0         307.0       130.0   3504.0          12.0     ⋯\n",
       "   2 │    15.0        8.0         350.0       165.0   3693.0          11.5\n",
       "   3 │    18.0        8.0         318.0       150.0   3436.0          11.0\n",
       "   4 │    16.0        8.0         304.0       150.0   3433.0          12.0\n",
       "   5 │    17.0        8.0         302.0       140.0   3449.0          10.5     ⋯\n",
       "   6 │    15.0        8.0         429.0       198.0   4341.0          10.0\n",
       "   7 │    14.0        8.0         454.0       220.0   4354.0           9.0\n",
       "   8 │    14.0        8.0         440.0       215.0   4312.0           8.5\n",
       "   9 │    14.0        8.0         455.0       225.0   4425.0          10.0     ⋯\n",
       "  10 │    15.0        8.0         390.0       190.0   3850.0           8.5\n",
       "  11 │    15.0        8.0         383.0       170.0   3563.0          10.0\n",
       "  ⋮  │    ⋮         ⋮           ⋮            ⋮          ⋮          ⋮           ⋱\n",
       " 383 │    26.0        4.0         156.0        92.0   2585.0          14.5\n",
       " 384 │    22.0        6.0         232.0       112.0   2835.0          14.7     ⋯\n",
       " 385 │    32.0        4.0         144.0        96.0   2665.0          13.9\n",
       " 386 │    36.0        4.0         135.0        84.0   2370.0          13.0\n",
       " 387 │    27.0        4.0         151.0        90.0   2950.0          17.3\n",
       " 388 │    27.0        4.0         140.0        86.0   2790.0          15.6     ⋯\n",
       " 389 │    44.0        4.0          97.0        52.0   2130.0          24.6\n",
       " 390 │    32.0        4.0         135.0        84.0   2295.0          11.6\n",
       " 391 │    28.0        4.0         120.0        79.0   2625.0          18.6\n",
       " 392 │    31.0        4.0         119.0        82.0   2720.0          19.4     ⋯\n",
       "\u001b[36m                                                  4 columns and 371 rows omitted\u001b[0m"
      ]
     },
     "execution_count": 25,
     "metadata": {},
     "output_type": "execute_result"
    }
   ],
   "source": [
    "df2 = Arrow.Table(\"data/auto-cleaned.arrow\") |> DataFrame"
   ]
  },
  {
   "cell_type": "code",
   "execution_count": 26,
   "id": "jewish-express",
   "metadata": {},
   "outputs": [
    {
     "data": {
      "text/html": [
       "<p><b>GroupedDataFrame with 37 groups based on key: brand</b></p><p><i>First Group (43 rows): brand = \"chevrolet\"</i></p><table class=\"data-frame\"><thead><tr><th></th><th>mpg</th><th>cylinders</th><th>displacement</th><th>horsepower</th><th>weight</th><th>acceleration</th><th>year</th><th>origin</th></tr><tr><th></th><th>Float64</th><th>Float64</th><th>Float64</th><th>Float64</th><th>Float64</th><th>Float64</th><th>Float64</th><th>Float64</th></tr></thead><tbody><tr><th>1</th><td>18.0</td><td>8.0</td><td>307.0</td><td>130.0</td><td>3504.0</td><td>12.0</td><td>70.0</td><td>1.0</td></tr><tr><th>2</th><td>14.0</td><td>8.0</td><td>454.0</td><td>220.0</td><td>4354.0</td><td>9.0</td><td>70.0</td><td>1.0</td></tr><tr><th>3</th><td>15.0</td><td>8.0</td><td>400.0</td><td>150.0</td><td>3761.0</td><td>9.5</td><td>70.0</td><td>1.0</td></tr><tr><th>4</th><td>28.0</td><td>4.0</td><td>140.0</td><td>90.0</td><td>2264.0</td><td>15.5</td><td>71.0</td><td>1.0</td></tr><tr><th>5</th><td>17.0</td><td>6.0</td><td>250.0</td><td>100.0</td><td>3329.0</td><td>15.5</td><td>71.0</td><td>1.0</td></tr><tr><th>6</th><td>14.0</td><td>8.0</td><td>350.0</td><td>165.0</td><td>4209.0</td><td>12.0</td><td>71.0</td><td>1.0</td></tr><tr><th>7</th><td>22.0</td><td>4.0</td><td>140.0</td><td>72.0</td><td>2408.0</td><td>19.0</td><td>71.0</td><td>1.0</td></tr><tr><th>8</th><td>20.0</td><td>4.0</td><td>140.0</td><td>90.0</td><td>2408.0</td><td>19.5</td><td>72.0</td><td>1.0</td></tr><tr><th>9</th><td>13.0</td><td>8.0</td><td>350.0</td><td>165.0</td><td>4274.0</td><td>12.0</td><td>72.0</td><td>1.0</td></tr><tr><th>10</th><td>13.0</td><td>8.0</td><td>307.0</td><td>130.0</td><td>4098.0</td><td>14.0</td><td>72.0</td><td>1.0</td></tr><tr><th>11</th><td>13.0</td><td>8.0</td><td>350.0</td><td>145.0</td><td>3988.0</td><td>13.0</td><td>73.0</td><td>1.0</td></tr><tr><th>12</th><td>13.0</td><td>8.0</td><td>400.0</td><td>150.0</td><td>4464.0</td><td>12.0</td><td>73.0</td><td>1.0</td></tr><tr><th>13</th><td>16.0</td><td>6.0</td><td>250.0</td><td>100.0</td><td>3278.0</td><td>18.0</td><td>73.0</td><td>1.0</td></tr><tr><th>14</th><td>11.0</td><td>8.0</td><td>400.0</td><td>150.0</td><td>4997.0</td><td>14.0</td><td>73.0</td><td>1.0</td></tr><tr><th>15</th><td>21.0</td><td>4.0</td><td>140.0</td><td>72.0</td><td>2401.0</td><td>19.5</td><td>73.0</td><td>1.0</td></tr><tr><th>16</th><td>15.0</td><td>8.0</td><td>350.0</td><td>145.0</td><td>4082.0</td><td>13.0</td><td>73.0</td><td>1.0</td></tr><tr><th>17</th><td>15.0</td><td>6.0</td><td>250.0</td><td>100.0</td><td>3336.0</td><td>17.0</td><td>74.0</td><td>1.0</td></tr><tr><th>18</th><td>25.0</td><td>4.0</td><td>140.0</td><td>75.0</td><td>2542.0</td><td>17.0</td><td>74.0</td><td>1.0</td></tr><tr><th>19</th><td>16.0</td><td>6.0</td><td>250.0</td><td>100.0</td><td>3781.0</td><td>17.0</td><td>74.0</td><td>1.0</td></tr><tr><th>20</th><td>18.0</td><td>6.0</td><td>250.0</td><td>105.0</td><td>3459.0</td><td>16.0</td><td>75.0</td><td>1.0</td></tr><tr><th>21</th><td>15.0</td><td>8.0</td><td>350.0</td><td>145.0</td><td>4440.0</td><td>14.0</td><td>75.0</td><td>1.0</td></tr><tr><th>22</th><td>20.0</td><td>8.0</td><td>262.0</td><td>110.0</td><td>3221.0</td><td>13.5</td><td>75.0</td><td>1.0</td></tr><tr><th>23</th><td>17.5</td><td>8.0</td><td>305.0</td><td>140.0</td><td>4215.0</td><td>13.0</td><td>76.0</td><td>1.0</td></tr><tr><th>24</th><td>22.0</td><td>6.0</td><td>250.0</td><td>105.0</td><td>3353.0</td><td>14.5</td><td>76.0</td><td>1.0</td></tr><tr><th>25</th><td>29.0</td><td>4.0</td><td>85.0</td><td>52.0</td><td>2035.0</td><td>22.2</td><td>76.0</td><td>1.0</td></tr><tr><th>26</th><td>24.5</td><td>4.0</td><td>98.0</td><td>60.0</td><td>2164.0</td><td>22.1</td><td>76.0</td><td>1.0</td></tr><tr><th>27</th><td>17.5</td><td>8.0</td><td>305.0</td><td>145.0</td><td>3880.0</td><td>12.5</td><td>77.0</td><td>1.0</td></tr><tr><th>28</th><td>17.5</td><td>6.0</td><td>250.0</td><td>110.0</td><td>3520.0</td><td>16.4</td><td>77.0</td><td>1.0</td></tr><tr><th>29</th><td>15.5</td><td>8.0</td><td>350.0</td><td>170.0</td><td>4165.0</td><td>11.4</td><td>77.0</td><td>1.0</td></tr><tr><th>30</th><td>30.5</td><td>4.0</td><td>98.0</td><td>63.0</td><td>2051.0</td><td>17.0</td><td>77.0</td><td>1.0</td></tr><tr><th>&vellip;</th><td>&vellip;</td><td>&vellip;</td><td>&vellip;</td><td>&vellip;</td><td>&vellip;</td><td>&vellip;</td><td>&vellip;</td><td>&vellip;</td></tr></tbody></table><p>&vellip;</p><p><i>Last Group (1 row): brand = \"nissan\"</i></p><table class=\"data-frame\"><thead><tr><th></th><th>mpg</th><th>cylinders</th><th>displacement</th><th>horsepower</th><th>weight</th><th>acceleration</th><th>year</th><th>origin</th></tr><tr><th></th><th>Float64</th><th>Float64</th><th>Float64</th><th>Float64</th><th>Float64</th><th>Float64</th><th>Float64</th><th>Float64</th></tr></thead><tbody><tr><th>1</th><td>36.0</td><td>4.0</td><td>120.0</td><td>88.0</td><td>2160.0</td><td>14.5</td><td>82.0</td><td>3.0</td></tr></tbody></table>"
      ],
      "text/latex": [
       "GroupedDataFrame with 37 groups based on key: brand\n",
       "\n",
       "First Group (43 rows): brand = \"chevrolet\"\n",
       "\n",
       "\\begin{tabular}{r|ccccccccc}\n",
       "\t& mpg & cylinders & displacement & horsepower & weight & acceleration & year & origin & \\\\\n",
       "\t\\hline\n",
       "\t& Float64 & Float64 & Float64 & Float64 & Float64 & Float64 & Float64 & Float64 & \\\\\n",
       "\t\\hline\n",
       "\t1 & 18.0 & 8.0 & 307.0 & 130.0 & 3504.0 & 12.0 & 70.0 & 1.0 & $\\dots$ \\\\\n",
       "\t2 & 14.0 & 8.0 & 454.0 & 220.0 & 4354.0 & 9.0 & 70.0 & 1.0 & $\\dots$ \\\\\n",
       "\t3 & 15.0 & 8.0 & 400.0 & 150.0 & 3761.0 & 9.5 & 70.0 & 1.0 & $\\dots$ \\\\\n",
       "\t4 & 28.0 & 4.0 & 140.0 & 90.0 & 2264.0 & 15.5 & 71.0 & 1.0 & $\\dots$ \\\\\n",
       "\t5 & 17.0 & 6.0 & 250.0 & 100.0 & 3329.0 & 15.5 & 71.0 & 1.0 & $\\dots$ \\\\\n",
       "\t6 & 14.0 & 8.0 & 350.0 & 165.0 & 4209.0 & 12.0 & 71.0 & 1.0 & $\\dots$ \\\\\n",
       "\t7 & 22.0 & 4.0 & 140.0 & 72.0 & 2408.0 & 19.0 & 71.0 & 1.0 & $\\dots$ \\\\\n",
       "\t8 & 20.0 & 4.0 & 140.0 & 90.0 & 2408.0 & 19.5 & 72.0 & 1.0 & $\\dots$ \\\\\n",
       "\t9 & 13.0 & 8.0 & 350.0 & 165.0 & 4274.0 & 12.0 & 72.0 & 1.0 & $\\dots$ \\\\\n",
       "\t10 & 13.0 & 8.0 & 307.0 & 130.0 & 4098.0 & 14.0 & 72.0 & 1.0 & $\\dots$ \\\\\n",
       "\t11 & 13.0 & 8.0 & 350.0 & 145.0 & 3988.0 & 13.0 & 73.0 & 1.0 & $\\dots$ \\\\\n",
       "\t12 & 13.0 & 8.0 & 400.0 & 150.0 & 4464.0 & 12.0 & 73.0 & 1.0 & $\\dots$ \\\\\n",
       "\t13 & 16.0 & 6.0 & 250.0 & 100.0 & 3278.0 & 18.0 & 73.0 & 1.0 & $\\dots$ \\\\\n",
       "\t14 & 11.0 & 8.0 & 400.0 & 150.0 & 4997.0 & 14.0 & 73.0 & 1.0 & $\\dots$ \\\\\n",
       "\t15 & 21.0 & 4.0 & 140.0 & 72.0 & 2401.0 & 19.5 & 73.0 & 1.0 & $\\dots$ \\\\\n",
       "\t16 & 15.0 & 8.0 & 350.0 & 145.0 & 4082.0 & 13.0 & 73.0 & 1.0 & $\\dots$ \\\\\n",
       "\t17 & 15.0 & 6.0 & 250.0 & 100.0 & 3336.0 & 17.0 & 74.0 & 1.0 & $\\dots$ \\\\\n",
       "\t18 & 25.0 & 4.0 & 140.0 & 75.0 & 2542.0 & 17.0 & 74.0 & 1.0 & $\\dots$ \\\\\n",
       "\t19 & 16.0 & 6.0 & 250.0 & 100.0 & 3781.0 & 17.0 & 74.0 & 1.0 & $\\dots$ \\\\\n",
       "\t20 & 18.0 & 6.0 & 250.0 & 105.0 & 3459.0 & 16.0 & 75.0 & 1.0 & $\\dots$ \\\\\n",
       "\t21 & 15.0 & 8.0 & 350.0 & 145.0 & 4440.0 & 14.0 & 75.0 & 1.0 & $\\dots$ \\\\\n",
       "\t22 & 20.0 & 8.0 & 262.0 & 110.0 & 3221.0 & 13.5 & 75.0 & 1.0 & $\\dots$ \\\\\n",
       "\t23 & 17.5 & 8.0 & 305.0 & 140.0 & 4215.0 & 13.0 & 76.0 & 1.0 & $\\dots$ \\\\\n",
       "\t24 & 22.0 & 6.0 & 250.0 & 105.0 & 3353.0 & 14.5 & 76.0 & 1.0 & $\\dots$ \\\\\n",
       "\t25 & 29.0 & 4.0 & 85.0 & 52.0 & 2035.0 & 22.2 & 76.0 & 1.0 & $\\dots$ \\\\\n",
       "\t26 & 24.5 & 4.0 & 98.0 & 60.0 & 2164.0 & 22.1 & 76.0 & 1.0 & $\\dots$ \\\\\n",
       "\t27 & 17.5 & 8.0 & 305.0 & 145.0 & 3880.0 & 12.5 & 77.0 & 1.0 & $\\dots$ \\\\\n",
       "\t28 & 17.5 & 6.0 & 250.0 & 110.0 & 3520.0 & 16.4 & 77.0 & 1.0 & $\\dots$ \\\\\n",
       "\t29 & 15.5 & 8.0 & 350.0 & 170.0 & 4165.0 & 11.4 & 77.0 & 1.0 & $\\dots$ \\\\\n",
       "\t30 & 30.5 & 4.0 & 98.0 & 63.0 & 2051.0 & 17.0 & 77.0 & 1.0 & $\\dots$ \\\\\n",
       "\t$\\dots$ & $\\dots$ & $\\dots$ & $\\dots$ & $\\dots$ & $\\dots$ & $\\dots$ & $\\dots$ & $\\dots$ &  \\\\\n",
       "\\end{tabular}\n",
       "\n",
       "$\\dots$\n",
       "\n",
       "Last Group (1 row): brand = \"nissan\"\n",
       "\n",
       "\\begin{tabular}{r|ccccccccc}\n",
       "\t& mpg & cylinders & displacement & horsepower & weight & acceleration & year & origin & \\\\\n",
       "\t\\hline\n",
       "\t& Float64 & Float64 & Float64 & Float64 & Float64 & Float64 & Float64 & Float64 & \\\\\n",
       "\t\\hline\n",
       "\t1 & 36.0 & 4.0 & 120.0 & 88.0 & 2160.0 & 14.5 & 82.0 & 3.0 & $\\dots$ \\\\\n",
       "\\end{tabular}\n"
      ],
      "text/plain": [
       "GroupedDataFrame with 37 groups based on key: brand\n",
       "First Group (43 rows): brand = \"chevrolet\"\n",
       "\u001b[1m Row \u001b[0m│\u001b[1m mpg     \u001b[0m\u001b[1m cylinders \u001b[0m\u001b[1m displacement \u001b[0m\u001b[1m horsepower \u001b[0m\u001b[1m weight  \u001b[0m\u001b[1m acceleration \u001b[0m\u001b[1m ye\u001b[0m ⋯\n",
       "\u001b[1m     \u001b[0m│\u001b[90m Float64 \u001b[0m\u001b[90m Float64   \u001b[0m\u001b[90m Float64      \u001b[0m\u001b[90m Float64    \u001b[0m\u001b[90m Float64 \u001b[0m\u001b[90m Float64      \u001b[0m\u001b[90m Fl\u001b[0m ⋯\n",
       "─────┼──────────────────────────────────────────────────────────────────────────\n",
       "   1 │    18.0        8.0         307.0       130.0   3504.0          12.0     ⋯\n",
       "   2 │    14.0        8.0         454.0       220.0   4354.0           9.0\n",
       "   3 │    15.0        8.0         400.0       150.0   3761.0           9.5\n",
       "   4 │    28.0        4.0         140.0        90.0   2264.0          15.5\n",
       "   5 │    17.0        6.0         250.0       100.0   3329.0          15.5     ⋯\n",
       "   6 │    14.0        8.0         350.0       165.0   4209.0          12.0\n",
       "   7 │    22.0        4.0         140.0        72.0   2408.0          19.0\n",
       "   8 │    20.0        4.0         140.0        90.0   2408.0          19.5\n",
       "   9 │    13.0        8.0         350.0       165.0   4274.0          12.0     ⋯\n",
       "  10 │    13.0        8.0         307.0       130.0   4098.0          14.0\n",
       "  11 │    13.0        8.0         350.0       145.0   3988.0          13.0\n",
       "  ⋮  │    ⋮         ⋮           ⋮            ⋮          ⋮          ⋮           ⋱\n",
       "  33 │    30.0        4.0          98.0        68.0   2155.0          16.5\n",
       "  34 │    17.0        8.0         305.0       130.0   3840.0          15.4     ⋯\n",
       "  35 │    19.2        8.0         267.0       125.0   3605.0          15.0\n",
       "  36 │    28.8        6.0         173.0       115.0   2595.0          11.3\n",
       "  37 │    32.1        4.0          98.0        70.0   2120.0          15.5\n",
       "  38 │    28.0        4.0         151.0        90.0   2678.0          16.5     ⋯\n",
       "  39 │    23.5        6.0         173.0       110.0   2725.0          12.6\n",
       "  40 │    28.0        4.0         112.0        88.0   2605.0          19.6\n",
       "  41 │    27.0        4.0         112.0        88.0   2640.0          18.6\n",
       "  42 │    34.0        4.0         112.0        88.0   2395.0          18.0     ⋯\n",
       "  43 │    27.0        4.0         151.0        90.0   2950.0          17.3\n",
       "\u001b[36m                                                   4 columns and 21 rows omitted\u001b[0m\n",
       "⋮\n",
       "Last Group (1 row): brand = \"nissan\"\n",
       "\u001b[1m Row \u001b[0m│\u001b[1m mpg     \u001b[0m\u001b[1m cylinders \u001b[0m\u001b[1m displacement \u001b[0m\u001b[1m horsepower \u001b[0m\u001b[1m weight  \u001b[0m\u001b[1m acceleration \u001b[0m\u001b[1m ye\u001b[0m ⋯\n",
       "\u001b[1m     \u001b[0m│\u001b[90m Float64 \u001b[0m\u001b[90m Float64   \u001b[0m\u001b[90m Float64      \u001b[0m\u001b[90m Float64    \u001b[0m\u001b[90m Float64 \u001b[0m\u001b[90m Float64      \u001b[0m\u001b[90m Fl\u001b[0m ⋯\n",
       "─────┼──────────────────────────────────────────────────────────────────────────\n",
       "   1 │    36.0        4.0         120.0        88.0   2160.0          14.5     ⋯\n",
       "\u001b[36m                                                               4 columns omitted\u001b[0m"
      ]
     },
     "execution_count": 26,
     "metadata": {},
     "output_type": "execute_result"
    }
   ],
   "source": [
    "grouped_brands = groupby(df2, :brand)"
   ]
  },
  {
   "cell_type": "code",
   "execution_count": 29,
   "id": "consistent-cycling",
   "metadata": {},
   "outputs": [
    {
     "data": {
      "text/html": [
       "<table class=\"data-frame\"><thead><tr><th></th><th>mpg</th><th>cylinders</th><th>displacement</th><th>horsepower</th><th>weight</th><th>acceleration</th><th>year</th><th>origin</th></tr><tr><th></th><th>Float64</th><th>Float64</th><th>Float64</th><th>Float64</th><th>Float64</th><th>Float64</th><th>Float64</th><th>Float64</th></tr></thead><tbody><p>48 rows × 10 columns (omitted printing of 2 columns)</p><tr><th>1</th><td>17.0</td><td>8.0</td><td>302.0</td><td>140.0</td><td>3449.0</td><td>10.5</td><td>70.0</td><td>1.0</td></tr><tr><th>2</th><td>15.0</td><td>8.0</td><td>429.0</td><td>198.0</td><td>4341.0</td><td>10.0</td><td>70.0</td><td>1.0</td></tr><tr><th>3</th><td>21.0</td><td>6.0</td><td>200.0</td><td>85.0</td><td>2587.0</td><td>16.0</td><td>70.0</td><td>1.0</td></tr><tr><th>4</th><td>10.0</td><td>8.0</td><td>360.0</td><td>215.0</td><td>4615.0</td><td>14.0</td><td>70.0</td><td>1.0</td></tr><tr><th>5</th><td>19.0</td><td>6.0</td><td>250.0</td><td>88.0</td><td>3302.0</td><td>15.5</td><td>71.0</td><td>1.0</td></tr><tr><th>6</th><td>14.0</td><td>8.0</td><td>351.0</td><td>153.0</td><td>4154.0</td><td>13.5</td><td>71.0</td><td>1.0</td></tr><tr><th>7</th><td>13.0</td><td>8.0</td><td>400.0</td><td>170.0</td><td>4746.0</td><td>12.0</td><td>71.0</td><td>1.0</td></tr><tr><th>8</th><td>18.0</td><td>6.0</td><td>250.0</td><td>88.0</td><td>3139.0</td><td>14.5</td><td>71.0</td><td>1.0</td></tr><tr><th>9</th><td>21.0</td><td>4.0</td><td>122.0</td><td>86.0</td><td>2226.0</td><td>16.5</td><td>72.0</td><td>1.0</td></tr><tr><th>10</th><td>14.0</td><td>8.0</td><td>351.0</td><td>153.0</td><td>4129.0</td><td>13.0</td><td>72.0</td><td>1.0</td></tr><tr><th>11</th><td>13.0</td><td>8.0</td><td>302.0</td><td>140.0</td><td>4294.0</td><td>16.0</td><td>72.0</td><td>1.0</td></tr><tr><th>12</th><td>22.0</td><td>4.0</td><td>122.0</td><td>86.0</td><td>2395.0</td><td>16.0</td><td>72.0</td><td>1.0</td></tr><tr><th>13</th><td>14.0</td><td>8.0</td><td>302.0</td><td>137.0</td><td>4042.0</td><td>14.5</td><td>73.0</td><td>1.0</td></tr><tr><th>14</th><td>13.0</td><td>8.0</td><td>351.0</td><td>158.0</td><td>4363.0</td><td>13.0</td><td>73.0</td><td>1.0</td></tr><tr><th>15</th><td>18.0</td><td>6.0</td><td>250.0</td><td>88.0</td><td>3021.0</td><td>16.5</td><td>73.0</td><td>1.0</td></tr><tr><th>16</th><td>12.0</td><td>8.0</td><td>400.0</td><td>167.0</td><td>4906.0</td><td>12.5</td><td>73.0</td><td>1.0</td></tr><tr><th>17</th><td>19.0</td><td>4.0</td><td>122.0</td><td>85.0</td><td>2310.0</td><td>18.5</td><td>73.0</td><td>1.0</td></tr><tr><th>18</th><td>26.0</td><td>4.0</td><td>122.0</td><td>80.0</td><td>2451.0</td><td>16.5</td><td>74.0</td><td>1.0</td></tr><tr><th>19</th><td>16.0</td><td>8.0</td><td>302.0</td><td>140.0</td><td>4141.0</td><td>14.0</td><td>74.0</td><td>1.0</td></tr><tr><th>20</th><td>14.0</td><td>8.0</td><td>302.0</td><td>140.0</td><td>4638.0</td><td>16.0</td><td>74.0</td><td>1.0</td></tr><tr><th>21</th><td>15.0</td><td>6.0</td><td>250.0</td><td>72.0</td><td>3158.0</td><td>19.5</td><td>75.0</td><td>1.0</td></tr><tr><th>22</th><td>14.0</td><td>8.0</td><td>351.0</td><td>148.0</td><td>4657.0</td><td>13.5</td><td>75.0</td><td>1.0</td></tr><tr><th>23</th><td>13.0</td><td>8.0</td><td>302.0</td><td>129.0</td><td>3169.0</td><td>12.0</td><td>75.0</td><td>1.0</td></tr><tr><th>24</th><td>23.0</td><td>4.0</td><td>140.0</td><td>83.0</td><td>2639.0</td><td>17.0</td><td>75.0</td><td>1.0</td></tr><tr><th>25</th><td>18.0</td><td>6.0</td><td>171.0</td><td>97.0</td><td>2984.0</td><td>14.5</td><td>75.0</td><td>1.0</td></tr><tr><th>26</th><td>14.5</td><td>8.0</td><td>351.0</td><td>152.0</td><td>4215.0</td><td>12.8</td><td>76.0</td><td>1.0</td></tr><tr><th>27</th><td>24.0</td><td>6.0</td><td>200.0</td><td>81.0</td><td>3012.0</td><td>17.6</td><td>76.0</td><td>1.0</td></tr><tr><th>28</th><td>18.0</td><td>6.0</td><td>250.0</td><td>78.0</td><td>3574.0</td><td>21.0</td><td>76.0</td><td>1.0</td></tr><tr><th>29</th><td>26.5</td><td>4.0</td><td>140.0</td><td>72.0</td><td>2565.0</td><td>13.6</td><td>76.0</td><td>1.0</td></tr><tr><th>30</th><td>13.0</td><td>8.0</td><td>302.0</td><td>130.0</td><td>3870.0</td><td>15.0</td><td>76.0</td><td>1.0</td></tr><tr><th>&vellip;</th><td>&vellip;</td><td>&vellip;</td><td>&vellip;</td><td>&vellip;</td><td>&vellip;</td><td>&vellip;</td><td>&vellip;</td><td>&vellip;</td></tr></tbody></table>"
      ],
      "text/latex": [
       "\\begin{tabular}{r|ccccccccc}\n",
       "\t& mpg & cylinders & displacement & horsepower & weight & acceleration & year & origin & \\\\\n",
       "\t\\hline\n",
       "\t& Float64 & Float64 & Float64 & Float64 & Float64 & Float64 & Float64 & Float64 & \\\\\n",
       "\t\\hline\n",
       "\t1 & 17.0 & 8.0 & 302.0 & 140.0 & 3449.0 & 10.5 & 70.0 & 1.0 & $\\dots$ \\\\\n",
       "\t2 & 15.0 & 8.0 & 429.0 & 198.0 & 4341.0 & 10.0 & 70.0 & 1.0 & $\\dots$ \\\\\n",
       "\t3 & 21.0 & 6.0 & 200.0 & 85.0 & 2587.0 & 16.0 & 70.0 & 1.0 & $\\dots$ \\\\\n",
       "\t4 & 10.0 & 8.0 & 360.0 & 215.0 & 4615.0 & 14.0 & 70.0 & 1.0 & $\\dots$ \\\\\n",
       "\t5 & 19.0 & 6.0 & 250.0 & 88.0 & 3302.0 & 15.5 & 71.0 & 1.0 & $\\dots$ \\\\\n",
       "\t6 & 14.0 & 8.0 & 351.0 & 153.0 & 4154.0 & 13.5 & 71.0 & 1.0 & $\\dots$ \\\\\n",
       "\t7 & 13.0 & 8.0 & 400.0 & 170.0 & 4746.0 & 12.0 & 71.0 & 1.0 & $\\dots$ \\\\\n",
       "\t8 & 18.0 & 6.0 & 250.0 & 88.0 & 3139.0 & 14.5 & 71.0 & 1.0 & $\\dots$ \\\\\n",
       "\t9 & 21.0 & 4.0 & 122.0 & 86.0 & 2226.0 & 16.5 & 72.0 & 1.0 & $\\dots$ \\\\\n",
       "\t10 & 14.0 & 8.0 & 351.0 & 153.0 & 4129.0 & 13.0 & 72.0 & 1.0 & $\\dots$ \\\\\n",
       "\t11 & 13.0 & 8.0 & 302.0 & 140.0 & 4294.0 & 16.0 & 72.0 & 1.0 & $\\dots$ \\\\\n",
       "\t12 & 22.0 & 4.0 & 122.0 & 86.0 & 2395.0 & 16.0 & 72.0 & 1.0 & $\\dots$ \\\\\n",
       "\t13 & 14.0 & 8.0 & 302.0 & 137.0 & 4042.0 & 14.5 & 73.0 & 1.0 & $\\dots$ \\\\\n",
       "\t14 & 13.0 & 8.0 & 351.0 & 158.0 & 4363.0 & 13.0 & 73.0 & 1.0 & $\\dots$ \\\\\n",
       "\t15 & 18.0 & 6.0 & 250.0 & 88.0 & 3021.0 & 16.5 & 73.0 & 1.0 & $\\dots$ \\\\\n",
       "\t16 & 12.0 & 8.0 & 400.0 & 167.0 & 4906.0 & 12.5 & 73.0 & 1.0 & $\\dots$ \\\\\n",
       "\t17 & 19.0 & 4.0 & 122.0 & 85.0 & 2310.0 & 18.5 & 73.0 & 1.0 & $\\dots$ \\\\\n",
       "\t18 & 26.0 & 4.0 & 122.0 & 80.0 & 2451.0 & 16.5 & 74.0 & 1.0 & $\\dots$ \\\\\n",
       "\t19 & 16.0 & 8.0 & 302.0 & 140.0 & 4141.0 & 14.0 & 74.0 & 1.0 & $\\dots$ \\\\\n",
       "\t20 & 14.0 & 8.0 & 302.0 & 140.0 & 4638.0 & 16.0 & 74.0 & 1.0 & $\\dots$ \\\\\n",
       "\t21 & 15.0 & 6.0 & 250.0 & 72.0 & 3158.0 & 19.5 & 75.0 & 1.0 & $\\dots$ \\\\\n",
       "\t22 & 14.0 & 8.0 & 351.0 & 148.0 & 4657.0 & 13.5 & 75.0 & 1.0 & $\\dots$ \\\\\n",
       "\t23 & 13.0 & 8.0 & 302.0 & 129.0 & 3169.0 & 12.0 & 75.0 & 1.0 & $\\dots$ \\\\\n",
       "\t24 & 23.0 & 4.0 & 140.0 & 83.0 & 2639.0 & 17.0 & 75.0 & 1.0 & $\\dots$ \\\\\n",
       "\t25 & 18.0 & 6.0 & 171.0 & 97.0 & 2984.0 & 14.5 & 75.0 & 1.0 & $\\dots$ \\\\\n",
       "\t26 & 14.5 & 8.0 & 351.0 & 152.0 & 4215.0 & 12.8 & 76.0 & 1.0 & $\\dots$ \\\\\n",
       "\t27 & 24.0 & 6.0 & 200.0 & 81.0 & 3012.0 & 17.6 & 76.0 & 1.0 & $\\dots$ \\\\\n",
       "\t28 & 18.0 & 6.0 & 250.0 & 78.0 & 3574.0 & 21.0 & 76.0 & 1.0 & $\\dots$ \\\\\n",
       "\t29 & 26.5 & 4.0 & 140.0 & 72.0 & 2565.0 & 13.6 & 76.0 & 1.0 & $\\dots$ \\\\\n",
       "\t30 & 13.0 & 8.0 & 302.0 & 130.0 & 3870.0 & 15.0 & 76.0 & 1.0 & $\\dots$ \\\\\n",
       "\t$\\dots$ & $\\dots$ & $\\dots$ & $\\dots$ & $\\dots$ & $\\dots$ & $\\dots$ & $\\dots$ & $\\dots$ &  \\\\\n",
       "\\end{tabular}\n"
      ],
      "text/plain": [
       "\u001b[1m48×10 SubDataFrame\u001b[0m\n",
       "\u001b[1m Row \u001b[0m│\u001b[1m mpg     \u001b[0m\u001b[1m cylinders \u001b[0m\u001b[1m displacement \u001b[0m\u001b[1m horsepower \u001b[0m\u001b[1m weight  \u001b[0m\u001b[1m acceleration \u001b[0m\u001b[1m ye\u001b[0m ⋯\n",
       "\u001b[1m     \u001b[0m│\u001b[90m Float64 \u001b[0m\u001b[90m Float64   \u001b[0m\u001b[90m Float64      \u001b[0m\u001b[90m Float64    \u001b[0m\u001b[90m Float64 \u001b[0m\u001b[90m Float64      \u001b[0m\u001b[90m Fl\u001b[0m ⋯\n",
       "─────┼──────────────────────────────────────────────────────────────────────────\n",
       "   1 │    17.0        8.0         302.0       140.0   3449.0          10.5     ⋯\n",
       "   2 │    15.0        8.0         429.0       198.0   4341.0          10.0\n",
       "   3 │    21.0        6.0         200.0        85.0   2587.0          16.0\n",
       "   4 │    10.0        8.0         360.0       215.0   4615.0          14.0\n",
       "   5 │    19.0        6.0         250.0        88.0   3302.0          15.5     ⋯\n",
       "   6 │    14.0        8.0         351.0       153.0   4154.0          13.5\n",
       "   7 │    13.0        8.0         400.0       170.0   4746.0          12.0\n",
       "   8 │    18.0        6.0         250.0        88.0   3139.0          14.5\n",
       "   9 │    21.0        4.0         122.0        86.0   2226.0          16.5     ⋯\n",
       "  10 │    14.0        8.0         351.0       153.0   4129.0          13.0\n",
       "  11 │    13.0        8.0         302.0       140.0   4294.0          16.0\n",
       "  ⋮  │    ⋮         ⋮           ⋮            ⋮          ⋮          ⋮           ⋱\n",
       "  39 │    17.6        8.0         302.0       129.0   3725.0          13.4\n",
       "  40 │    15.5        8.0         351.0       142.0   4054.0          14.3     ⋯\n",
       "  41 │    26.4        4.0         140.0        88.0   2870.0          18.1\n",
       "  42 │    34.4        4.0          98.0        65.0   2045.0          16.2\n",
       "  43 │    29.9        4.0          98.0        65.0   2380.0          20.7\n",
       "  44 │    20.2        6.0         200.0        88.0   3060.0          17.1     ⋯\n",
       "  45 │    24.0        4.0         140.0        92.0   2865.0          16.4\n",
       "  46 │    22.0        6.0         232.0       112.0   2835.0          14.7\n",
       "  47 │    27.0        4.0         140.0        86.0   2790.0          15.6\n",
       "  48 │    28.0        4.0         120.0        79.0   2625.0          18.6     ⋯\n",
       "\u001b[36m                                                   4 columns and 27 rows omitted\u001b[0m"
      ]
     },
     "execution_count": 29,
     "metadata": {},
     "output_type": "execute_result"
    }
   ],
   "source": [
    "grouped_brands[ (\"ford\", )]       \n",
    "\n",
    "# Notice the trailing comma!\n",
    "\n",
    "# This has to be a tuple because we could've grouped \n",
    "#  by more than one cols "
   ]
  },
  {
   "cell_type": "code",
   "execution_count": 30,
   "id": "modular-telling",
   "metadata": {},
   "outputs": [],
   "source": [
    "using Statistics"
   ]
  },
  {
   "cell_type": "code",
   "execution_count": 31,
   "id": "defensive-nursing",
   "metadata": {},
   "outputs": [
    {
     "data": {
      "text/html": [
       "<table class=\"data-frame\"><thead><tr><th></th><th>brand</th><th>mpg_mean</th></tr><tr><th></th><th>String</th><th>Float64</th></tr></thead><tbody><p>37 rows × 2 columns</p><tr><th>1</th><td>chevrolet</td><td>20.4721</td></tr><tr><th>2</th><td>buick</td><td>19.1824</td></tr><tr><th>3</th><td>plymouth</td><td>21.7032</td></tr><tr><th>4</th><td>amc</td><td>18.0704</td></tr><tr><th>5</th><td>ford</td><td>19.475</td></tr><tr><th>6</th><td>pontiac</td><td>20.0125</td></tr><tr><th>7</th><td>dodge</td><td>22.0607</td></tr><tr><th>8</th><td>toyota</td><td>28.372</td></tr><tr><th>9</th><td>datsun</td><td>31.113</td></tr><tr><th>10</th><td>volkswagen</td><td>29.1067</td></tr><tr><th>11</th><td>peugeot</td><td>23.6875</td></tr><tr><th>12</th><td>audi</td><td>26.7143</td></tr><tr><th>13</th><td>saab</td><td>23.9</td></tr><tr><th>14</th><td>bmw</td><td>23.75</td></tr><tr><th>15</th><td>chevy</td><td>18.0</td></tr><tr><th>16</th><td>hi</td><td>9.0</td></tr><tr><th>17</th><td>mercury</td><td>19.1182</td></tr><tr><th>18</th><td>opel</td><td>25.75</td></tr><tr><th>19</th><td>fiat</td><td>28.9125</td></tr><tr><th>20</th><td>oldsmobile</td><td>21.1</td></tr><tr><th>21</th><td>chrysler</td><td>17.2667</td></tr><tr><th>22</th><td>mazda</td><td>30.86</td></tr><tr><th>23</th><td>volvo</td><td>21.1167</td></tr><tr><th>24</th><td>renault</td><td>29.6667</td></tr><tr><th>25</th><td>toyouta</td><td>23.0</td></tr><tr><th>26</th><td>maxda</td><td>26.05</td></tr><tr><th>27</th><td>honda</td><td>33.7615</td></tr><tr><th>28</th><td>subaru</td><td>30.525</td></tr><tr><th>29</th><td>chevroelt</td><td>16.0</td></tr><tr><th>30</th><td>capri</td><td>25.0</td></tr><tr><th>&vellip;</th><td>&vellip;</td><td>&vellip;</td></tr></tbody></table>"
      ],
      "text/latex": [
       "\\begin{tabular}{r|cc}\n",
       "\t& brand & mpg\\_mean\\\\\n",
       "\t\\hline\n",
       "\t& String & Float64\\\\\n",
       "\t\\hline\n",
       "\t1 & chevrolet & 20.4721 \\\\\n",
       "\t2 & buick & 19.1824 \\\\\n",
       "\t3 & plymouth & 21.7032 \\\\\n",
       "\t4 & amc & 18.0704 \\\\\n",
       "\t5 & ford & 19.475 \\\\\n",
       "\t6 & pontiac & 20.0125 \\\\\n",
       "\t7 & dodge & 22.0607 \\\\\n",
       "\t8 & toyota & 28.372 \\\\\n",
       "\t9 & datsun & 31.113 \\\\\n",
       "\t10 & volkswagen & 29.1067 \\\\\n",
       "\t11 & peugeot & 23.6875 \\\\\n",
       "\t12 & audi & 26.7143 \\\\\n",
       "\t13 & saab & 23.9 \\\\\n",
       "\t14 & bmw & 23.75 \\\\\n",
       "\t15 & chevy & 18.0 \\\\\n",
       "\t16 & hi & 9.0 \\\\\n",
       "\t17 & mercury & 19.1182 \\\\\n",
       "\t18 & opel & 25.75 \\\\\n",
       "\t19 & fiat & 28.9125 \\\\\n",
       "\t20 & oldsmobile & 21.1 \\\\\n",
       "\t21 & chrysler & 17.2667 \\\\\n",
       "\t22 & mazda & 30.86 \\\\\n",
       "\t23 & volvo & 21.1167 \\\\\n",
       "\t24 & renault & 29.6667 \\\\\n",
       "\t25 & toyouta & 23.0 \\\\\n",
       "\t26 & maxda & 26.05 \\\\\n",
       "\t27 & honda & 33.7615 \\\\\n",
       "\t28 & subaru & 30.525 \\\\\n",
       "\t29 & chevroelt & 16.0 \\\\\n",
       "\t30 & capri & 25.0 \\\\\n",
       "\t$\\dots$ & $\\dots$ & $\\dots$ \\\\\n",
       "\\end{tabular}\n"
      ],
      "text/plain": [
       "\u001b[1m37×2 DataFrame\u001b[0m\n",
       "\u001b[1m Row \u001b[0m│\u001b[1m brand         \u001b[0m\u001b[1m mpg_mean \u001b[0m\n",
       "\u001b[1m     \u001b[0m│\u001b[90m String        \u001b[0m\u001b[90m Float64  \u001b[0m\n",
       "─────┼─────────────────────────\n",
       "   1 │ chevrolet       20.4721\n",
       "   2 │ buick           19.1824\n",
       "   3 │ plymouth        21.7032\n",
       "   4 │ amc             18.0704\n",
       "   5 │ ford            19.475\n",
       "   6 │ pontiac         20.0125\n",
       "   7 │ dodge           22.0607\n",
       "   8 │ toyota          28.372\n",
       "   9 │ datsun          31.113\n",
       "  10 │ volkswagen      29.1067\n",
       "  11 │ peugeot         23.6875\n",
       "  ⋮  │       ⋮           ⋮\n",
       "  28 │ subaru          30.525\n",
       "  29 │ chevroelt       16.0\n",
       "  30 │ capri           25.0\n",
       "  31 │ vw              39.0167\n",
       "  32 │ mercedes-benz   23.25\n",
       "  33 │ cadillac        19.75\n",
       "  34 │ mercedes        25.4\n",
       "  35 │ vokswagen       29.8\n",
       "  36 │ triumph         35.0\n",
       "  37 │ nissan          36.0\n",
       "\u001b[36m                16 rows omitted\u001b[0m"
      ]
     },
     "execution_count": 31,
     "metadata": {},
     "output_type": "execute_result"
    }
   ],
   "source": [
    "brand_mpg = combine(grouped_brands, :mpg => mean)"
   ]
  },
  {
   "cell_type": "code",
   "execution_count": 32,
   "id": "superior-rugby",
   "metadata": {},
   "outputs": [
    {
     "data": {
      "text/plain": [
       "10"
      ]
     },
     "execution_count": 32,
     "metadata": {},
     "output_type": "execute_result"
    }
   ],
   "source": [
    "ENV[\"LINES\"] = 10    # I find the large number of rows annoying "
   ]
  },
  {
   "cell_type": "code",
   "execution_count": 33,
   "id": "rising-therapy",
   "metadata": {},
   "outputs": [
    {
     "data": {
      "text/html": [
       "<table class=\"data-frame\"><thead><tr><th></th><th>brand</th><th>mpg_mean</th></tr><tr><th></th><th>String</th><th>Float64</th></tr></thead><tbody><p>37 rows × 2 columns</p><tr><th>1</th><td>chevrolet</td><td>20.4721</td></tr><tr><th>2</th><td>buick</td><td>19.1824</td></tr><tr><th>3</th><td>plymouth</td><td>21.7032</td></tr><tr><th>4</th><td>amc</td><td>18.0704</td></tr><tr><th>5</th><td>ford</td><td>19.475</td></tr><tr><th>6</th><td>pontiac</td><td>20.0125</td></tr><tr><th>7</th><td>dodge</td><td>22.0607</td></tr><tr><th>8</th><td>toyota</td><td>28.372</td></tr><tr><th>9</th><td>datsun</td><td>31.113</td></tr><tr><th>10</th><td>volkswagen</td><td>29.1067</td></tr><tr><th>&vellip;</th><td>&vellip;</td><td>&vellip;</td></tr></tbody></table>"
      ],
      "text/latex": [
       "\\begin{tabular}{r|cc}\n",
       "\t& brand & mpg\\_mean\\\\\n",
       "\t\\hline\n",
       "\t& String & Float64\\\\\n",
       "\t\\hline\n",
       "\t1 & chevrolet & 20.4721 \\\\\n",
       "\t2 & buick & 19.1824 \\\\\n",
       "\t3 & plymouth & 21.7032 \\\\\n",
       "\t4 & amc & 18.0704 \\\\\n",
       "\t5 & ford & 19.475 \\\\\n",
       "\t6 & pontiac & 20.0125 \\\\\n",
       "\t7 & dodge & 22.0607 \\\\\n",
       "\t8 & toyota & 28.372 \\\\\n",
       "\t9 & datsun & 31.113 \\\\\n",
       "\t10 & volkswagen & 29.1067 \\\\\n",
       "\t$\\dots$ & $\\dots$ & $\\dots$ \\\\\n",
       "\\end{tabular}\n"
      ],
      "text/plain": [
       "\u001b[1m37×2 DataFrame\u001b[0m\n",
       "\u001b[1m Row \u001b[0m│\u001b[1m brand     \u001b[0m\u001b[1m mpg_mean \u001b[0m\n",
       "\u001b[1m     \u001b[0m│\u001b[90m String    \u001b[0m\u001b[90m Float64  \u001b[0m\n",
       "─────┼─────────────────────\n",
       "   1 │ chevrolet   20.4721\n",
       "  ⋮  │     ⋮         ⋮\n",
       "\u001b[36m            36 rows omitted\u001b[0m"
      ]
     },
     "execution_count": 33,
     "metadata": {},
     "output_type": "execute_result"
    }
   ],
   "source": [
    "brand_mpg = combine(grouped_brands, :mpg => mean)\n",
    "\n",
    "# takes the mean column from each group and \n",
    "# passes it to the mean function \n",
    "# creates a 'group_name' -> 'aggregate' "
   ]
  },
  {
   "cell_type": "markdown",
   "id": "abroad-editing",
   "metadata": {},
   "source": [
    "We can also sort it based on the mean. "
   ]
  },
  {
   "cell_type": "code",
   "execution_count": 34,
   "id": "musical-platinum",
   "metadata": {},
   "outputs": [
    {
     "data": {
      "text/html": [
       "<table class=\"data-frame\"><thead><tr><th></th><th>brand</th><th>mpg_mean</th></tr><tr><th></th><th>String</th><th>Float64</th></tr></thead><tbody><p>37 rows × 2 columns</p><tr><th>1</th><td>vw</td><td>39.0167</td></tr><tr><th>2</th><td>nissan</td><td>36.0</td></tr><tr><th>3</th><td>triumph</td><td>35.0</td></tr><tr><th>4</th><td>honda</td><td>33.7615</td></tr><tr><th>5</th><td>datsun</td><td>31.113</td></tr><tr><th>6</th><td>mazda</td><td>30.86</td></tr><tr><th>7</th><td>subaru</td><td>30.525</td></tr><tr><th>8</th><td>vokswagen</td><td>29.8</td></tr><tr><th>9</th><td>renault</td><td>29.6667</td></tr><tr><th>10</th><td>volkswagen</td><td>29.1067</td></tr><tr><th>&vellip;</th><td>&vellip;</td><td>&vellip;</td></tr></tbody></table>"
      ],
      "text/latex": [
       "\\begin{tabular}{r|cc}\n",
       "\t& brand & mpg\\_mean\\\\\n",
       "\t\\hline\n",
       "\t& String & Float64\\\\\n",
       "\t\\hline\n",
       "\t1 & vw & 39.0167 \\\\\n",
       "\t2 & nissan & 36.0 \\\\\n",
       "\t3 & triumph & 35.0 \\\\\n",
       "\t4 & honda & 33.7615 \\\\\n",
       "\t5 & datsun & 31.113 \\\\\n",
       "\t6 & mazda & 30.86 \\\\\n",
       "\t7 & subaru & 30.525 \\\\\n",
       "\t8 & vokswagen & 29.8 \\\\\n",
       "\t9 & renault & 29.6667 \\\\\n",
       "\t10 & volkswagen & 29.1067 \\\\\n",
       "\t$\\dots$ & $\\dots$ & $\\dots$ \\\\\n",
       "\\end{tabular}\n"
      ],
      "text/plain": [
       "\u001b[1m37×2 DataFrame\u001b[0m\n",
       "\u001b[1m Row \u001b[0m│\u001b[1m brand     \u001b[0m\u001b[1m mpg_mean \u001b[0m\n",
       "\u001b[1m     \u001b[0m│\u001b[90m String    \u001b[0m\u001b[90m Float64  \u001b[0m\n",
       "─────┼─────────────────────\n",
       "   1 │ vw          39.0167\n",
       "  ⋮  │     ⋮         ⋮\n",
       "\u001b[36m            36 rows omitted\u001b[0m"
      ]
     },
     "execution_count": 34,
     "metadata": {},
     "output_type": "execute_result"
    }
   ],
   "source": [
    "sort!(brand_mpg, :mpg_mean, rev=true)  # in-place sort"
   ]
  },
  {
   "cell_type": "markdown",
   "id": "freelance-franklin",
   "metadata": {},
   "source": [
    "## Piping and Data Wrangling "
   ]
  },
  {
   "cell_type": "markdown",
   "id": "engaging-graduation",
   "metadata": {},
   "source": [
    "There are usually many stages through which we want our data to go through. These are \"assembled\" or chained together. Piping makes this very readable for us. "
   ]
  },
  {
   "cell_type": "markdown",
   "id": "blank-anderson",
   "metadata": {},
   "source": [
    "We want to read the data from our original data set, group it by brand and then use combine to calculate aggregates on it. "
   ]
  },
  {
   "cell_type": "code",
   "execution_count": 35,
   "id": "stone-evaluation",
   "metadata": {},
   "outputs": [
    {
     "data": {
      "text/plain": [
       "406-element Array{Float64,1}:\n",
       " 1.0\n",
       " 1.0\n",
       " 1.0\n",
       " ⋮\n",
       " 1.0\n",
       " 1.0"
      ]
     },
     "execution_count": 35,
     "metadata": {},
     "output_type": "execute_result"
    }
   ],
   "source": [
    "df.origin  # where the brand is from "
   ]
  },
  {
   "cell_type": "code",
   "execution_count": 36,
   "id": "institutional-carter",
   "metadata": {},
   "outputs": [
    {
     "data": {
      "text/html": [
       "<table class=\"data-frame\"><thead><tr><th></th><th>brand</th><th>origin_function</th></tr><tr><th></th><th>SubStri…</th><th>Int64</th></tr></thead><tbody><p>38 rows × 2 columns</p><tr><th>1</th><td>chevrolet</td><td>1</td></tr><tr><th>2</th><td>buick</td><td>1</td></tr><tr><th>3</th><td>plymouth</td><td>1</td></tr><tr><th>4</th><td>amc</td><td>1</td></tr><tr><th>5</th><td>ford</td><td>1</td></tr><tr><th>6</th><td>pontiac</td><td>1</td></tr><tr><th>7</th><td>citroen</td><td>1</td></tr><tr><th>8</th><td>dodge</td><td>1</td></tr><tr><th>9</th><td>toyota</td><td>1</td></tr><tr><th>10</th><td>datsun</td><td>1</td></tr><tr><th>&vellip;</th><td>&vellip;</td><td>&vellip;</td></tr></tbody></table>"
      ],
      "text/latex": [
       "\\begin{tabular}{r|cc}\n",
       "\t& brand & origin\\_function\\\\\n",
       "\t\\hline\n",
       "\t& SubStri… & Int64\\\\\n",
       "\t\\hline\n",
       "\t1 & chevrolet & 1 \\\\\n",
       "\t2 & buick & 1 \\\\\n",
       "\t3 & plymouth & 1 \\\\\n",
       "\t4 & amc & 1 \\\\\n",
       "\t5 & ford & 1 \\\\\n",
       "\t6 & pontiac & 1 \\\\\n",
       "\t7 & citroen & 1 \\\\\n",
       "\t8 & dodge & 1 \\\\\n",
       "\t9 & toyota & 1 \\\\\n",
       "\t10 & datsun & 1 \\\\\n",
       "\t$\\dots$ & $\\dots$ & $\\dots$ \\\\\n",
       "\\end{tabular}\n"
      ],
      "text/plain": [
       "\u001b[1m38×2 DataFrame\u001b[0m\n",
       "\u001b[1m Row \u001b[0m│\u001b[1m brand     \u001b[0m\u001b[1m origin_function \u001b[0m\n",
       "\u001b[1m     \u001b[0m│\u001b[90m SubStrin… \u001b[0m\u001b[90m Int64           \u001b[0m\n",
       "─────┼────────────────────────────\n",
       "   1 │ chevrolet                1\n",
       "  ⋮  │     ⋮             ⋮\n",
       "\u001b[36m                   37 rows omitted\u001b[0m"
      ]
     },
     "execution_count": 36,
     "metadata": {},
     "output_type": "execute_result"
    }
   ],
   "source": [
    "orig_brand = groupby(df, :brand)\n",
    "orig_brand = combine(orig_brand, \n",
    "                     :origin => x -> length(unique(x)))\n",
    "\n",
    "# notice the name of the resulting column"
   ]
  },
  {
   "cell_type": "code",
   "execution_count": null,
   "id": "personalized-airport",
   "metadata": {},
   "outputs": [],
   "source": [
    "# We can make this prettier and less error-prone. "
   ]
  },
  {
   "cell_type": "code",
   "execution_count": null,
   "id": "fuzzy-bearing",
   "metadata": {},
   "outputs": [],
   "source": [
    "] add Pipe "
   ]
  },
  {
   "cell_type": "code",
   "execution_count": 37,
   "id": "capable-tribune",
   "metadata": {},
   "outputs": [],
   "source": [
    "using Pipe"
   ]
  },
  {
   "cell_type": "code",
   "execution_count": 38,
   "id": "matched-usage",
   "metadata": {},
   "outputs": [
    {
     "data": {
      "text/html": [
       "<table class=\"data-frame\"><thead><tr><th></th><th>brand</th><th>origin_function</th></tr><tr><th></th><th>SubStri…</th><th>Int64</th></tr></thead><tbody><p>38 rows × 2 columns</p><tr><th>1</th><td>chevrolet</td><td>1</td></tr><tr><th>2</th><td>buick</td><td>1</td></tr><tr><th>3</th><td>plymouth</td><td>1</td></tr><tr><th>4</th><td>amc</td><td>1</td></tr><tr><th>5</th><td>ford</td><td>1</td></tr><tr><th>6</th><td>pontiac</td><td>1</td></tr><tr><th>7</th><td>citroen</td><td>1</td></tr><tr><th>8</th><td>dodge</td><td>1</td></tr><tr><th>9</th><td>toyota</td><td>1</td></tr><tr><th>10</th><td>datsun</td><td>1</td></tr><tr><th>&vellip;</th><td>&vellip;</td><td>&vellip;</td></tr></tbody></table>"
      ],
      "text/latex": [
       "\\begin{tabular}{r|cc}\n",
       "\t& brand & origin\\_function\\\\\n",
       "\t\\hline\n",
       "\t& SubStri… & Int64\\\\\n",
       "\t\\hline\n",
       "\t1 & chevrolet & 1 \\\\\n",
       "\t2 & buick & 1 \\\\\n",
       "\t3 & plymouth & 1 \\\\\n",
       "\t4 & amc & 1 \\\\\n",
       "\t5 & ford & 1 \\\\\n",
       "\t6 & pontiac & 1 \\\\\n",
       "\t7 & citroen & 1 \\\\\n",
       "\t8 & dodge & 1 \\\\\n",
       "\t9 & toyota & 1 \\\\\n",
       "\t10 & datsun & 1 \\\\\n",
       "\t$\\dots$ & $\\dots$ & $\\dots$ \\\\\n",
       "\\end{tabular}\n"
      ],
      "text/plain": [
       "\u001b[1m38×2 DataFrame\u001b[0m\n",
       "\u001b[1m Row \u001b[0m│\u001b[1m brand     \u001b[0m\u001b[1m origin_function \u001b[0m\n",
       "\u001b[1m     \u001b[0m│\u001b[90m SubStrin… \u001b[0m\u001b[90m Int64           \u001b[0m\n",
       "─────┼────────────────────────────\n",
       "   1 │ chevrolet                1\n",
       "  ⋮  │     ⋮             ⋮\n",
       "\u001b[36m                   37 rows omitted\u001b[0m"
      ]
     },
     "execution_count": 38,
     "metadata": {},
     "output_type": "execute_result"
    }
   ],
   "source": [
    "orig_brand = @pipe df |>  \n",
    "            groupby(_, :brand)  |>  \n",
    "            combine(_, :origin => x -> length(unique(x)))"
   ]
  },
  {
   "cell_type": "code",
   "execution_count": 39,
   "id": "fitted-bunny",
   "metadata": {},
   "outputs": [
    {
     "data": {
      "text/plain": [
       "(1, 1)"
      ]
     },
     "execution_count": 39,
     "metadata": {},
     "output_type": "execute_result"
    }
   ],
   "source": [
    "# each brand should have an origin of 1. Let's verify. \n",
    "extrema(orig_brand.origin_function)"
   ]
  },
  {
   "cell_type": "markdown",
   "id": "opened-praise",
   "metadata": {},
   "source": [
    "We can also count the number of data points for each brand. "
   ]
  },
  {
   "cell_type": "code",
   "execution_count": 40,
   "id": "signed-technical",
   "metadata": {},
   "outputs": [
    {
     "data": {
      "text/html": [
       "<table class=\"data-frame\"><thead><tr><th></th><th>origin</th><th>brand</th><th>nrow</th></tr><tr><th></th><th>Float64</th><th>SubStri…</th><th>Int64</th></tr></thead><tbody><p>38 rows × 3 columns</p><tr><th>1</th><td>1.0</td><td>ford</td><td>53</td></tr><tr><th>2</th><td>1.0</td><td>chevrolet</td><td>44</td></tr><tr><th>3</th><td>1.0</td><td>plymouth</td><td>32</td></tr><tr><th>4</th><td>1.0</td><td>amc</td><td>29</td></tr><tr><th>5</th><td>1.0</td><td>dodge</td><td>28</td></tr><tr><th>6</th><td>3.0</td><td>toyota</td><td>25</td></tr><tr><th>7</th><td>3.0</td><td>datsun</td><td>23</td></tr><tr><th>8</th><td>1.0</td><td>buick</td><td>17</td></tr><tr><th>9</th><td>1.0</td><td>pontiac</td><td>16</td></tr><tr><th>10</th><td>2.0</td><td>volkswagen</td><td>16</td></tr><tr><th>&vellip;</th><td>&vellip;</td><td>&vellip;</td><td>&vellip;</td></tr></tbody></table>"
      ],
      "text/latex": [
       "\\begin{tabular}{r|ccc}\n",
       "\t& origin & brand & nrow\\\\\n",
       "\t\\hline\n",
       "\t& Float64 & SubStri… & Int64\\\\\n",
       "\t\\hline\n",
       "\t1 & 1.0 & ford & 53 \\\\\n",
       "\t2 & 1.0 & chevrolet & 44 \\\\\n",
       "\t3 & 1.0 & plymouth & 32 \\\\\n",
       "\t4 & 1.0 & amc & 29 \\\\\n",
       "\t5 & 1.0 & dodge & 28 \\\\\n",
       "\t6 & 3.0 & toyota & 25 \\\\\n",
       "\t7 & 3.0 & datsun & 23 \\\\\n",
       "\t8 & 1.0 & buick & 17 \\\\\n",
       "\t9 & 1.0 & pontiac & 16 \\\\\n",
       "\t10 & 2.0 & volkswagen & 16 \\\\\n",
       "\t$\\dots$ & $\\dots$ & $\\dots$ & $\\dots$ \\\\\n",
       "\\end{tabular}\n"
      ],
      "text/plain": [
       "\u001b[1m38×3 DataFrame\u001b[0m\n",
       "\u001b[1m Row \u001b[0m│\u001b[1m origin  \u001b[0m\u001b[1m brand     \u001b[0m\u001b[1m nrow  \u001b[0m\n",
       "\u001b[1m     \u001b[0m│\u001b[90m Float64 \u001b[0m\u001b[90m SubStrin… \u001b[0m\u001b[90m Int64 \u001b[0m\n",
       "─────┼───────────────────────────\n",
       "   1 │     1.0  ford          53\n",
       "  ⋮  │    ⋮         ⋮        ⋮\n",
       "\u001b[36m                  37 rows omitted\u001b[0m"
      ]
     },
     "execution_count": 40,
     "metadata": {},
     "output_type": "execute_result"
    }
   ],
   "source": [
    "origin_brand2 = @pipe df |>\n",
    "                groupby(_, [:origin, :brand]) |>\n",
    "                combine(_, nrow)  |> \n",
    "                sort(_, :nrow, rev=true)"
   ]
  },
  {
   "cell_type": "code",
   "execution_count": 41,
   "id": "flush-attempt",
   "metadata": {},
   "outputs": [
    {
     "data": {
      "text/html": [
       "<table class=\"data-frame\"><thead><tr><th></th><th>brand</th><th>1.0</th><th>3.0</th><th>2.0</th></tr><tr><th></th><th>SubStri…</th><th>Int64?</th><th>Int64?</th><th>Int64?</th></tr></thead><tbody><p>38 rows × 4 columns</p><tr><th>1</th><td>ford</td><td>53</td><td><em>missing</em></td><td><em>missing</em></td></tr><tr><th>2</th><td>chevrolet</td><td>44</td><td><em>missing</em></td><td><em>missing</em></td></tr><tr><th>3</th><td>plymouth</td><td>32</td><td><em>missing</em></td><td><em>missing</em></td></tr><tr><th>4</th><td>amc</td><td>29</td><td><em>missing</em></td><td><em>missing</em></td></tr><tr><th>5</th><td>dodge</td><td>28</td><td><em>missing</em></td><td><em>missing</em></td></tr><tr><th>6</th><td>toyota</td><td><em>missing</em></td><td>25</td><td><em>missing</em></td></tr><tr><th>7</th><td>datsun</td><td><em>missing</em></td><td>23</td><td><em>missing</em></td></tr><tr><th>8</th><td>buick</td><td>17</td><td><em>missing</em></td><td><em>missing</em></td></tr><tr><th>9</th><td>pontiac</td><td>16</td><td><em>missing</em></td><td><em>missing</em></td></tr><tr><th>10</th><td>volkswagen</td><td><em>missing</em></td><td><em>missing</em></td><td>16</td></tr><tr><th>&vellip;</th><td>&vellip;</td><td>&vellip;</td><td>&vellip;</td><td>&vellip;</td></tr></tbody></table>"
      ],
      "text/latex": [
       "\\begin{tabular}{r|cccc}\n",
       "\t& brand & 1.0 & 3.0 & 2.0\\\\\n",
       "\t\\hline\n",
       "\t& SubStri… & Int64? & Int64? & Int64?\\\\\n",
       "\t\\hline\n",
       "\t1 & ford & 53 & \\emph{missing} & \\emph{missing} \\\\\n",
       "\t2 & chevrolet & 44 & \\emph{missing} & \\emph{missing} \\\\\n",
       "\t3 & plymouth & 32 & \\emph{missing} & \\emph{missing} \\\\\n",
       "\t4 & amc & 29 & \\emph{missing} & \\emph{missing} \\\\\n",
       "\t5 & dodge & 28 & \\emph{missing} & \\emph{missing} \\\\\n",
       "\t6 & toyota & \\emph{missing} & 25 & \\emph{missing} \\\\\n",
       "\t7 & datsun & \\emph{missing} & 23 & \\emph{missing} \\\\\n",
       "\t8 & buick & 17 & \\emph{missing} & \\emph{missing} \\\\\n",
       "\t9 & pontiac & 16 & \\emph{missing} & \\emph{missing} \\\\\n",
       "\t10 & volkswagen & \\emph{missing} & \\emph{missing} & 16 \\\\\n",
       "\t$\\dots$ & $\\dots$ & $\\dots$ & $\\dots$ & $\\dots$ \\\\\n",
       "\\end{tabular}\n"
      ],
      "text/plain": [
       "\u001b[1m38×4 DataFrame\u001b[0m\n",
       "\u001b[1m Row \u001b[0m│\u001b[1m brand     \u001b[0m\u001b[1m 1.0     \u001b[0m\u001b[1m 3.0     \u001b[0m\u001b[1m 2.0     \u001b[0m\n",
       "\u001b[1m     \u001b[0m│\u001b[90m SubStrin… \u001b[0m\u001b[90m Int64?  \u001b[0m\u001b[90m Int64?  \u001b[0m\u001b[90m Int64?  \u001b[0m\n",
       "─────┼──────────────────────────────────────\n",
       "   1 │ ford            53 \u001b[90m missing \u001b[0m\u001b[90m missing \u001b[0m\n",
       "  ⋮  │     ⋮         ⋮        ⋮        ⋮\n",
       "\u001b[36m                             37 rows omitted\u001b[0m"
      ]
     },
     "execution_count": 41,
     "metadata": {},
     "output_type": "execute_result"
    }
   ],
   "source": [
    "origin_vs_brand = unstack(origin_brand2, \n",
    "                        :brand, :origin, :nrow)"
   ]
  },
  {
   "cell_type": "code",
   "execution_count": 42,
   "id": "fatal-speech",
   "metadata": {},
   "outputs": [
    {
     "data": {
      "text/html": [
       "<table class=\"data-frame\"><thead><tr><th></th><th>brand</th><th>1.0</th><th>3.0</th><th>2.0</th></tr><tr><th></th><th>SubStri…</th><th>Int64</th><th>Int64</th><th>Int64</th></tr></thead><tbody><p>38 rows × 4 columns</p><tr><th>1</th><td>ford</td><td>53</td><td>0</td><td>0</td></tr><tr><th>2</th><td>chevrolet</td><td>44</td><td>0</td><td>0</td></tr><tr><th>3</th><td>plymouth</td><td>32</td><td>0</td><td>0</td></tr><tr><th>4</th><td>amc</td><td>29</td><td>0</td><td>0</td></tr><tr><th>5</th><td>dodge</td><td>28</td><td>0</td><td>0</td></tr><tr><th>6</th><td>toyota</td><td>0</td><td>25</td><td>0</td></tr><tr><th>7</th><td>datsun</td><td>0</td><td>23</td><td>0</td></tr><tr><th>8</th><td>buick</td><td>17</td><td>0</td><td>0</td></tr><tr><th>9</th><td>pontiac</td><td>16</td><td>0</td><td>0</td></tr><tr><th>10</th><td>volkswagen</td><td>0</td><td>0</td><td>16</td></tr><tr><th>&vellip;</th><td>&vellip;</td><td>&vellip;</td><td>&vellip;</td><td>&vellip;</td></tr></tbody></table>"
      ],
      "text/latex": [
       "\\begin{tabular}{r|cccc}\n",
       "\t& brand & 1.0 & 3.0 & 2.0\\\\\n",
       "\t\\hline\n",
       "\t& SubStri… & Int64 & Int64 & Int64\\\\\n",
       "\t\\hline\n",
       "\t1 & ford & 53 & 0 & 0 \\\\\n",
       "\t2 & chevrolet & 44 & 0 & 0 \\\\\n",
       "\t3 & plymouth & 32 & 0 & 0 \\\\\n",
       "\t4 & amc & 29 & 0 & 0 \\\\\n",
       "\t5 & dodge & 28 & 0 & 0 \\\\\n",
       "\t6 & toyota & 0 & 25 & 0 \\\\\n",
       "\t7 & datsun & 0 & 23 & 0 \\\\\n",
       "\t8 & buick & 17 & 0 & 0 \\\\\n",
       "\t9 & pontiac & 16 & 0 & 0 \\\\\n",
       "\t10 & volkswagen & 0 & 0 & 16 \\\\\n",
       "\t$\\dots$ & $\\dots$ & $\\dots$ & $\\dots$ & $\\dots$ \\\\\n",
       "\\end{tabular}\n"
      ],
      "text/plain": [
       "\u001b[1m38×4 DataFrame\u001b[0m\n",
       "\u001b[1m Row \u001b[0m│\u001b[1m brand     \u001b[0m\u001b[1m 1.0   \u001b[0m\u001b[1m 3.0   \u001b[0m\u001b[1m 2.0   \u001b[0m\n",
       "\u001b[1m     \u001b[0m│\u001b[90m SubStrin… \u001b[0m\u001b[90m Int64 \u001b[0m\u001b[90m Int64 \u001b[0m\u001b[90m Int64 \u001b[0m\n",
       "─────┼────────────────────────────────\n",
       "   1 │ ford          53      0      0\n",
       "  ⋮  │     ⋮        ⋮      ⋮      ⋮\n",
       "\u001b[36m                       37 rows omitted\u001b[0m"
      ]
     },
     "execution_count": 42,
     "metadata": {},
     "output_type": "execute_result"
    }
   ],
   "source": [
    "coalesce.(origin_vs_brand, 0)   \n",
    "# replace missing values with 0 because \n",
    "# that makes sense here "
   ]
  },
  {
   "cell_type": "code",
   "execution_count": null,
   "id": "congressional-globe",
   "metadata": {},
   "outputs": [],
   "source": []
  }
 ],
 "metadata": {
  "kernelspec": {
   "display_name": "Julia 1.5.3",
   "language": "julia",
   "name": "julia-1.5"
  },
  "language_info": {
   "file_extension": ".jl",
   "mimetype": "application/julia",
   "name": "julia",
   "version": "1.5.3"
  }
 },
 "nbformat": 4,
 "nbformat_minor": 5
}
