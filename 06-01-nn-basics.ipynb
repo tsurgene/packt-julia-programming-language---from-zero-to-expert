{
 "cells": [
  {
   "cell_type": "markdown",
   "id": "neutral-endorsement",
   "metadata": {},
   "source": [
    "# Neural Networks with Flux "
   ]
  },
  {
   "cell_type": "markdown",
   "id": "communist-parcel",
   "metadata": {},
   "source": [
    "Flux is a very popular package in Julia for machine learning. \n",
    "\n",
    "Personally, I think it's the best of both worlds with the speed of tensorflow and the nice interface provided by Keras. "
   ]
  },
  {
   "cell_type": "markdown",
   "id": "liked-number",
   "metadata": {},
   "source": [
    "You can read more about it here: https://fluxml.ai/Flux.jl/stable/ "
   ]
  },
  {
   "cell_type": "code",
   "execution_count": null,
   "id": "governing-neutral",
   "metadata": {},
   "outputs": [],
   "source": [
    "] add Flux"
   ]
  },
  {
   "cell_type": "code",
   "execution_count": 28,
   "id": "advanced-canadian",
   "metadata": {},
   "outputs": [],
   "source": [
    "using Flux "
   ]
  },
  {
   "cell_type": "markdown",
   "id": "anticipated-asset",
   "metadata": {},
   "source": [
    "## Bare-bones (Core) Flux "
   ]
  },
  {
   "cell_type": "code",
   "execution_count": 29,
   "id": "greatest-stone",
   "metadata": {},
   "outputs": [],
   "source": [
    "f(x) = 3x^2 + 2x + 1;      # gradient 6x+2"
   ]
  },
  {
   "cell_type": "code",
   "execution_count": 30,
   "id": "compound-internship",
   "metadata": {},
   "outputs": [
    {
     "data": {
      "text/plain": [
       "(14,)"
      ]
     },
     "execution_count": 30,
     "metadata": {},
     "output_type": "execute_result"
    }
   ],
   "source": [
    "gradient(f, 2)"
   ]
  },
  {
   "cell_type": "code",
   "execution_count": 31,
   "id": "guided-wildlife",
   "metadata": {},
   "outputs": [],
   "source": [
    "df(x) = gradient(f, x)[1];"
   ]
  },
  {
   "cell_type": "code",
   "execution_count": 32,
   "id": "handy-modern",
   "metadata": {},
   "outputs": [
    {
     "data": {
      "text/plain": [
       "14"
      ]
     },
     "execution_count": 32,
     "metadata": {},
     "output_type": "execute_result"
    }
   ],
   "source": [
    "df(2)"
   ]
  },
  {
   "cell_type": "markdown",
   "id": "connected-fiber",
   "metadata": {},
   "source": [
    "## Multiple Params for Functions "
   ]
  },
  {
   "cell_type": "code",
   "execution_count": 33,
   "id": "portable-wagon",
   "metadata": {},
   "outputs": [],
   "source": [
    "f(x, y) = sum((x .- y) .^ 2);        # we'll pass it vectors "
   ]
  },
  {
   "cell_type": "code",
   "execution_count": 34,
   "id": "cleared-aging",
   "metadata": {},
   "outputs": [
    {
     "data": {
      "text/plain": [
       "([0, 2], [0, -2])"
      ]
     },
     "execution_count": 34,
     "metadata": {},
     "output_type": "execute_result"
    }
   ],
   "source": [
    "w = [2, 1];\n",
    "b = [2, 0]; \n",
    "\n",
    "gradient(f, w, b)                    # two vectors need to be given "
   ]
  },
  {
   "cell_type": "code",
   "execution_count": 35,
   "id": "animal-garbage",
   "metadata": {},
   "outputs": [
    {
     "data": {
      "text/plain": [
       "Grads(...)"
      ]
     },
     "execution_count": 35,
     "metadata": {},
     "output_type": "execute_result"
    }
   ],
   "source": [
    "gs = gradient(params(w, b)) do       # for these param values \n",
    "         f(w, b)                     # calculate gradient of \n",
    "     end"
   ]
  },
  {
   "cell_type": "code",
   "execution_count": 36,
   "id": "mechanical-enhancement",
   "metadata": {},
   "outputs": [
    {
     "data": {
      "text/plain": [
       "IdDict{Any,Any} with 4 entries:\n",
       "  :(Main.w) => [0, 2]\n",
       "  :(Main.b) => [0, -2]\n",
       "  [2, 1]    => [0, 2]\n",
       "  [2, 0]    => [0, -2]"
      ]
     },
     "execution_count": 36,
     "metadata": {},
     "output_type": "execute_result"
    }
   ],
   "source": [
    "gs.grads"
   ]
  },
  {
   "cell_type": "code",
   "execution_count": 40,
   "id": "consecutive-parliament",
   "metadata": {},
   "outputs": [
    {
     "data": {
      "text/plain": [
       "2-element Array{Int64,1}:\n",
       " 0\n",
       " 2"
      ]
     },
     "execution_count": 40,
     "metadata": {},
     "output_type": "execute_result"
    }
   ],
   "source": [
    "gs[w]"
   ]
  },
  {
   "cell_type": "code",
   "execution_count": 41,
   "id": "authentic-latvia",
   "metadata": {},
   "outputs": [
    {
     "data": {
      "text/plain": [
       "2-element Array{Int64,1}:\n",
       "  0\n",
       " -2"
      ]
     },
     "execution_count": 41,
     "metadata": {},
     "output_type": "execute_result"
    }
   ],
   "source": [
    "gs[b]"
   ]
  },
  {
   "cell_type": "markdown",
   "id": "through-intensity",
   "metadata": {},
   "source": [
    "## Basic Model for Flux "
   ]
  },
  {
   "cell_type": "code",
   "execution_count": 42,
   "id": "engaging-rhythm",
   "metadata": {},
   "outputs": [
    {
     "data": {
      "text/plain": [
       "2-element Array{Float64,1}:\n",
       " 0.5792834723593561\n",
       " 0.6533511251836333"
      ]
     },
     "execution_count": 42,
     "metadata": {},
     "output_type": "execute_result"
    }
   ],
   "source": [
    "W = rand(2, 5)         # Weights\n",
    "b = rand(2)            # biases "
   ]
  },
  {
   "cell_type": "code",
   "execution_count": 43,
   "id": "honest-antenna",
   "metadata": {},
   "outputs": [
    {
     "data": {
      "text/plain": [
       "predict (generic function with 1 method)"
      ]
     },
     "execution_count": 43,
     "metadata": {},
     "output_type": "execute_result"
    }
   ],
   "source": [
    "predict(x) = W*x .+ b      # forward pass, uses global scope W and b "
   ]
  },
  {
   "cell_type": "code",
   "execution_count": 44,
   "id": "thermal-intensity",
   "metadata": {},
   "outputs": [
    {
     "data": {
      "text/plain": [
       "loss (generic function with 1 method)"
      ]
     },
     "execution_count": 44,
     "metadata": {},
     "output_type": "execute_result"
    }
   ],
   "source": [
    "function loss(x, y)\n",
    "  ŷ = predict(x)           # write as y\\hat [tab]\n",
    "  sum((y .- ŷ).^2)\n",
    "end"
   ]
  },
  {
   "cell_type": "code",
   "execution_count": 45,
   "id": "hidden-degree",
   "metadata": {},
   "outputs": [
    {
     "data": {
      "text/plain": [
       "([0.6858514468292465, 0.135899214410778, 0.7533025147545231, 0.3924204473716366, 0.22413119822323835], [0.48450730477280257, 0.16463816502426232])"
      ]
     },
     "execution_count": 45,
     "metadata": {},
     "output_type": "execute_result"
    }
   ],
   "source": [
    "x, y = rand(5), rand(2) # Dummy data"
   ]
  },
  {
   "cell_type": "code",
   "execution_count": 46,
   "id": "stunning-compression",
   "metadata": {},
   "outputs": [
    {
     "data": {
      "text/plain": [
       "3.602176949144343"
      ]
     },
     "execution_count": 46,
     "metadata": {},
     "output_type": "execute_result"
    }
   ],
   "source": [
    "loss(x, y)       # note the value here "
   ]
  },
  {
   "cell_type": "code",
   "execution_count": 47,
   "id": "altered-bhutan",
   "metadata": {},
   "outputs": [
    {
     "data": {
      "text/plain": [
       "Grads(...)"
      ]
     },
     "execution_count": 47,
     "metadata": {},
     "output_type": "execute_result"
    }
   ],
   "source": [
    "gs = gradient(params(W, b)) do       # derivative with respect to W and b\n",
    "        loss(x, y)                   # for this function \n",
    "     end "
   ]
  },
  {
   "cell_type": "code",
   "execution_count": 55,
   "id": "sustained-hardwood",
   "metadata": {},
   "outputs": [
    {
     "data": {
      "text/plain": [
       "Grads(...)"
      ]
     },
     "execution_count": 55,
     "metadata": {},
     "output_type": "execute_result"
    }
   ],
   "source": [
    "# We can write the above more precisely as: \n",
    "gs = gradient(() -> loss(x, y), params(W, b))"
   ]
  },
  {
   "cell_type": "code",
   "execution_count": 49,
   "id": "better-laser",
   "metadata": {},
   "outputs": [
    {
     "data": {
      "text/plain": [
       "IdDict{Any,Any} with 6 entries:\n",
       "  :(Main.y)                 => [-1.33315, -3.55407]\n",
       "  :(Main.W)                 => [0.914343 0.181174 … 0.523155 0.298801; 2.43756 …\n",
       "  :(Main.b)                 => [1.33315, 3.55407]\n",
       "  :(Main.x)                 => [0.575817, 3.00394, 3.56709, 2.87903, 3.21702]\n",
       "  [0.205791 0.955902 … 0.1… => [0.914343 0.181174 … 0.523155 0.298801; 2.43756 …\n",
       "  [0.579283, 0.653351]      => [1.33315, 3.55407]"
      ]
     },
     "execution_count": 49,
     "metadata": {},
     "output_type": "execute_result"
    }
   ],
   "source": [
    "gs.grads"
   ]
  },
  {
   "cell_type": "code",
   "execution_count": 56,
   "id": "technological-integer",
   "metadata": {},
   "outputs": [
    {
     "data": {
      "text/plain": [
       "2×5 Array{Float64,2}:\n",
       " 0.500959  0.0992633  0.550226  0.286631  0.16371\n",
       " 1.33552   0.264628   1.46686   0.764136  0.436437"
      ]
     },
     "execution_count": 56,
     "metadata": {},
     "output_type": "execute_result"
    }
   ],
   "source": [
    "W̄ = gs[W]               # \\bar "
   ]
  },
  {
   "cell_type": "code",
   "execution_count": null,
   "id": "crazy-symbol",
   "metadata": {},
   "outputs": [],
   "source": [
    "# Let's update weights based on these gradients "
   ]
  },
  {
   "cell_type": "code",
   "execution_count": 57,
   "id": "awful-disabled",
   "metadata": {},
   "outputs": [
    {
     "data": {
      "text/plain": [
       "2×5 Array{Float64,2}:\n",
       "  0.064261  0.927858  0.161026  0.0732403  -0.0380862\n",
       " -0.292485  0.411886  0.470538  0.536334    0.778801"
      ]
     },
     "execution_count": 57,
     "metadata": {},
     "output_type": "execute_result"
    }
   ],
   "source": [
    "W .-= 0.1 .* W̄"
   ]
  },
  {
   "cell_type": "code",
   "execution_count": 58,
   "id": "developing-breakdown",
   "metadata": {},
   "outputs": [
    {
     "data": {
      "text/plain": [
       "0.6048184065650787"
      ]
     },
     "execution_count": 58,
     "metadata": {},
     "output_type": "execute_result"
    }
   ],
   "source": [
    "loss(x, y)     # loss decreases (of course)"
   ]
  },
  {
   "cell_type": "code",
   "execution_count": 59,
   "id": "analyzed-fabric",
   "metadata": {},
   "outputs": [
    {
     "data": {
      "text/plain": [
       "2-element Array{Float64,1}:\n",
       " 0.37292658357370606\n",
       " 0.10322037450199653"
      ]
     },
     "execution_count": 59,
     "metadata": {},
     "output_type": "execute_result"
    }
   ],
   "source": [
    "# We can also update the bias terms \n",
    "b̄ = gs[b]\n",
    "b .-= 0.1 .* b̄"
   ]
  },
  {
   "cell_type": "code",
   "execution_count": 60,
   "id": "rural-cinema",
   "metadata": {},
   "outputs": [
    {
     "data": {
      "text/plain": [
       "0.3245906072543485"
      ]
     },
     "execution_count": 60,
     "metadata": {},
     "output_type": "execute_result"
    }
   ],
   "source": [
    "loss(x, y)     # even better "
   ]
  },
  {
   "cell_type": "markdown",
   "id": "blind-validity",
   "metadata": {},
   "source": [
    "That was a very simple single layer neural network (or perceptron) in just a few minutes from scratch. This is very similar to tensorflow but without all the messy bits. Let's build on this to get a few more layers in. "
   ]
  },
  {
   "cell_type": "code",
   "execution_count": 61,
   "id": "white-baker",
   "metadata": {},
   "outputs": [
    {
     "data": {
      "text/plain": [
       "1.8604677763147346"
      ]
     },
     "execution_count": 61,
     "metadata": {},
     "output_type": "execute_result"
    }
   ],
   "source": [
    "W = rand(2, 5)         # Weights\n",
    "b = rand(2)            # biases \n",
    "\n",
    "predict(x) = W*x .+ b  \n",
    "\n",
    "function loss(x, y)\n",
    "  ŷ = predict(x)           # write as y\\hat [tab]\n",
    "  sum((y .- ŷ).^2)\n",
    "end\n",
    "\n",
    "x, y = rand(5), rand(2) # Dummy data\n",
    "loss(x, y) "
   ]
  },
  {
   "cell_type": "code",
   "execution_count": 80,
   "id": "valued-enlargement",
   "metadata": {},
   "outputs": [
    {
     "data": {
      "text/plain": [
       "4.3322346123682517e-19"
      ]
     },
     "execution_count": 80,
     "metadata": {},
     "output_type": "execute_result"
    }
   ],
   "source": [
    "gs = gradient(() -> loss(x, y), params(W, b))\n",
    "W̄ = gs[W] \n",
    "W .-= 0.1 .* W̄\n",
    "\n",
    "b̄ = gs[b]\n",
    "\n",
    "b .-= 0.1 .* b̄\n",
    "loss(x, y) "
   ]
  },
  {
   "cell_type": "code",
   "execution_count": null,
   "id": "prime-figure",
   "metadata": {},
   "outputs": [],
   "source": []
  }
 ],
 "metadata": {
  "kernelspec": {
   "display_name": "Julia 1.5.3",
   "language": "julia",
   "name": "julia-1.5"
  },
  "language_info": {
   "file_extension": ".jl",
   "mimetype": "application/julia",
   "name": "julia",
   "version": "1.5.3"
  }
 },
 "nbformat": 4,
 "nbformat_minor": 5
}
