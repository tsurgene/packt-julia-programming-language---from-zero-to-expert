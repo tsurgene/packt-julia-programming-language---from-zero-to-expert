{
 "cells": [
  {
   "cell_type": "markdown",
   "id": "armed-tulsa",
   "metadata": {},
   "source": [
    "# Saving and Loading Models"
   ]
  },
  {
   "cell_type": "markdown",
   "id": "included-claim",
   "metadata": {},
   "source": [
    "We're going to start off with our code from the last section. Then, we will save the model weights and load them again at a later time to continue training. "
   ]
  },
  {
   "cell_type": "code",
   "execution_count": 1,
   "id": "received-mauritius",
   "metadata": {},
   "outputs": [
    {
     "data": {
      "text/plain": [
       "get_training_test_data (generic function with 2 methods)"
      ]
     },
     "execution_count": 1,
     "metadata": {},
     "output_type": "execute_result"
    }
   ],
   "source": [
    "using Flux, Statistics \n",
    "using Flux.Data.MNIST\n",
    "using Flux: onehotbatch\n",
    "using Base.Iterators: partition\n",
    "using Flux: onecold, crossentropy, throttle\n",
    "\n",
    "function get_training_test_data(batch_size=1000) \n",
    "    # load and fix train data \n",
    "    train_labels = onehotbatch(MNIST.labels(), 0:9) \n",
    "    \n",
    "    # label and imgs are combined for training \n",
    "    imgs = MNIST.images()\n",
    "    imgs = convert(Array{Array{Float32, 2}, 1}, float.(imgs));    # hack needed to convert everything to Float32\n",
    "    train = [ (cat(imgs[i]..., dims = 4),   train_labels[:,i])\n",
    "               for i in partition(1:60_000, batch_size)  ]\n",
    "    \n",
    "    # test images and labels sent separately \n",
    "    test_imgs = MNIST.images(:test)[1:1000];\n",
    "    test_imgs = convert(Array{Array{Float32, 2}, 1}, float.(test_imgs));\n",
    "    test_imgs = cat(test_imgs..., dims = 4);\n",
    "    test_labels = onehotbatch(MNIST.labels(:test)[1:1000], 0:9);\n",
    "    \n",
    "    return (train, test_imgs, test_labels)\n",
    "    \n",
    "end"
   ]
  },
  {
   "cell_type": "code",
   "execution_count": 2,
   "id": "aerial-economy",
   "metadata": {},
   "outputs": [
    {
     "data": {
      "text/plain": [
       "Chain(Conv((3, 3), 1=>16, relu), MaxPool((2, 2), pad = (0, 0, 0, 0), stride = (2, 2)), Conv((3, 3), 16=>8, relu), MaxPool((2, 2), pad = (0, 0, 0, 0), stride = (2, 2)), flatten, Dense(200, 10), softmax)"
      ]
     },
     "execution_count": 2,
     "metadata": {},
     "output_type": "execute_result"
    }
   ],
   "source": [
    "model = Chain(\n",
    "        Conv((3,3), 1=>16, relu),\n",
    "        MaxPool((2,2)),\n",
    "        Conv((3,3), 16=>8, relu),\n",
    "        MaxPool((2,2)),\n",
    "        flatten,\n",
    "        Dense(200, 10),\n",
    "        softmax\n",
    "    )"
   ]
  },
  {
   "cell_type": "code",
   "execution_count": null,
   "id": "seventh-croatia",
   "metadata": {},
   "outputs": [],
   "source": [
    "train, tX, tY =  get_training_test_data();"
   ]
  },
  {
   "cell_type": "code",
   "execution_count": null,
   "id": "exposed-cooler",
   "metadata": {},
   "outputs": [],
   "source": [
    "loss(x, y) = Flux.Losses.crossentropy(model(x), y)\n",
    "opt=ADAM()\n",
    "\n",
    "accuracy(x, y) = mean(onecold(model(x)) .== onecold(y))     \n",
    "evalcb = throttle(() -> @show(accuracy(tX, tY)), 10);"
   ]
  },
  {
   "cell_type": "code",
   "execution_count": null,
   "id": "opposed-export",
   "metadata": {},
   "outputs": [],
   "source": [
    "Flux.train!(loss, params(model), train, opt, cb = evalcb)"
   ]
  },
  {
   "cell_type": "code",
   "execution_count": null,
   "id": "southeast-still",
   "metadata": {},
   "outputs": [],
   "source": [
    "] add BSON"
   ]
  },
  {
   "cell_type": "code",
   "execution_count": null,
   "id": "overhead-property",
   "metadata": {},
   "outputs": [],
   "source": [
    "using BSON: @save"
   ]
  },
  {
   "cell_type": "code",
   "execution_count": null,
   "id": "alert-speaker",
   "metadata": {},
   "outputs": [],
   "source": [
    "mkdir(\"saves\")"
   ]
  },
  {
   "cell_type": "code",
   "execution_count": null,
   "id": "everyday-scout",
   "metadata": {},
   "outputs": [],
   "source": [
    "@save \"saves/mymodel-01.bson\" model"
   ]
  },
  {
   "cell_type": "markdown",
   "id": "moderate-curtis",
   "metadata": {},
   "source": [
    "Let's now restart the kernel so that the whole thing goes away and then reload from the saved file. "
   ]
  },
  {
   "cell_type": "code",
   "execution_count": 3,
   "id": "premium-throw",
   "metadata": {},
   "outputs": [],
   "source": [
    "train, tX, tY =  get_training_test_data();"
   ]
  },
  {
   "cell_type": "code",
   "execution_count": 4,
   "id": "confirmed-correction",
   "metadata": {},
   "outputs": [],
   "source": [
    "using BSON: @load"
   ]
  },
  {
   "cell_type": "code",
   "execution_count": 5,
   "id": "adult-biodiversity",
   "metadata": {},
   "outputs": [],
   "source": [
    "@load \"saves/mymodel-01.bson\" model"
   ]
  },
  {
   "cell_type": "code",
   "execution_count": 6,
   "id": "automotive-airfare",
   "metadata": {},
   "outputs": [
    {
     "data": {
      "text/plain": [
       "Chain(Conv((3, 3), 1=>16, relu), MaxPool((2, 2), pad = (0, 0, 0, 0), stride = (2, 2)), Conv((3, 3), 16=>8, relu), MaxPool((2, 2), pad = (0, 0, 0, 0), stride = (2, 2)), flatten, Dense(200, 10), softmax)"
      ]
     },
     "execution_count": 6,
     "metadata": {},
     "output_type": "execute_result"
    }
   ],
   "source": [
    "model"
   ]
  },
  {
   "cell_type": "code",
   "execution_count": 7,
   "id": "therapeutic-organ",
   "metadata": {},
   "outputs": [],
   "source": [
    "loss(x, y) = Flux.Losses.crossentropy(model(x), y)\n",
    "opt=ADAM()\n",
    "\n",
    "accuracy(x, y) = mean(onecold(model(x)) .== onecold(y))     \n",
    "evalcb = throttle(() -> @show(accuracy(tX, tY)), 10);"
   ]
  },
  {
   "cell_type": "code",
   "execution_count": 8,
   "id": "ideal-deviation",
   "metadata": {},
   "outputs": [
    {
     "name": "stdout",
     "output_type": "stream",
     "text": [
      "accuracy(tX, tY) = 0.74\n",
      "accuracy(tX, tY) = 0.82\n",
      "accuracy(tX, tY) = 0.853\n"
     ]
    }
   ],
   "source": [
    "Flux.train!(loss, params(model), train, opt, cb = evalcb)  # as you can see, model has resumed training "
   ]
  },
  {
   "cell_type": "markdown",
   "id": "metallic-independence",
   "metadata": {},
   "source": [
    "## Saving Checkpoints Automatically "
   ]
  },
  {
   "cell_type": "code",
   "execution_count": 9,
   "id": "owned-messaging",
   "metadata": {},
   "outputs": [],
   "source": [
    "using BSON: @save"
   ]
  },
  {
   "cell_type": "code",
   "execution_count": 10,
   "id": "joined-organic",
   "metadata": {},
   "outputs": [],
   "source": [
    "using Dates: now"
   ]
  },
  {
   "cell_type": "code",
   "execution_count": 11,
   "id": "selective-output",
   "metadata": {},
   "outputs": [
    {
     "data": {
      "text/plain": [
       "(::Flux.var\"#throttled#42\"{Flux.var\"#throttled#38#43\"{Bool,Bool,var\"#5#6\",Int64}}) (generic function with 1 method)"
      ]
     },
     "execution_count": 11,
     "metadata": {},
     "output_type": "execute_result"
    }
   ],
   "source": [
    "# evalcb = throttle(() -> @show(accuracy(tX, tY)), 10);  # let's rewrite this for multi-line function \n",
    "evalcb_checkpoints = throttle(10) do \n",
    "    @show accuracy(tX, tY)\n",
    "    @save \"saves/model-checkpoint-$(now()).bson\" model\n",
    "end"
   ]
  },
  {
   "cell_type": "code",
   "execution_count": 12,
   "id": "smart-superior",
   "metadata": {},
   "outputs": [
    {
     "name": "stdout",
     "output_type": "stream",
     "text": [
      "accuracy(tX, tY) = 0.852\n",
      "accuracy(tX, tY) = 0.89\n"
     ]
    }
   ],
   "source": [
    "Flux.train!(loss, params(model), train, opt, cb = evalcb_checkpoints)"
   ]
  },
  {
   "cell_type": "code",
   "execution_count": null,
   "id": "conceptual-nancy",
   "metadata": {},
   "outputs": [],
   "source": []
  }
 ],
 "metadata": {
  "kernelspec": {
   "display_name": "Julia 1.5.3",
   "language": "julia",
   "name": "julia-1.5"
  },
  "language_info": {
   "file_extension": ".jl",
   "mimetype": "application/julia",
   "name": "julia",
   "version": "1.5.3"
  }
 },
 "nbformat": 4,
 "nbformat_minor": 5
}
