{
 "cells": [
  {
   "cell_type": "markdown",
   "id": "silent-corruption",
   "metadata": {},
   "source": [
    "# Data Basics "
   ]
  },
  {
   "cell_type": "markdown",
   "id": "explicit-soldier",
   "metadata": {},
   "source": [
    "## Reading CSV Files "
   ]
  },
  {
   "cell_type": "code",
   "execution_count": null,
   "id": "dress-grove",
   "metadata": {},
   "outputs": [],
   "source": [
    "] add DataFrames      # usually not needed"
   ]
  },
  {
   "cell_type": "code",
   "execution_count": null,
   "id": "promising-capitol",
   "metadata": {},
   "outputs": [],
   "source": [
    "] add CSV             # usually not needed"
   ]
  },
  {
   "cell_type": "code",
   "execution_count": 1,
   "id": "expanded-victor",
   "metadata": {},
   "outputs": [],
   "source": [
    "using DataFrames"
   ]
  },
  {
   "cell_type": "code",
   "execution_count": 2,
   "id": "elegant-inflation",
   "metadata": {},
   "outputs": [],
   "source": [
    "using CSV"
   ]
  },
  {
   "cell_type": "code",
   "execution_count": 3,
   "id": "violent-appointment",
   "metadata": {},
   "outputs": [
    {
     "data": {
      "text/html": [
       "<table class=\"data-frame\"><thead><tr><th></th><th>x1</th><th>x2</th><th>x3</th><th>x4</th><th>y1</th><th>y2</th><th>y3</th><th>y4</th></tr><tr><th></th><th>Int64</th><th>Int64</th><th>Int64</th><th>Int64</th><th>Float64</th><th>Float64</th><th>Float64</th><th>Float64</th></tr></thead><tbody><p>11 rows × 8 columns</p><tr><th>1</th><td>10</td><td>10</td><td>10</td><td>8</td><td>8.04</td><td>9.14</td><td>7.46</td><td>6.58</td></tr><tr><th>2</th><td>8</td><td>8</td><td>8</td><td>8</td><td>6.95</td><td>8.14</td><td>6.77</td><td>5.76</td></tr><tr><th>3</th><td>13</td><td>13</td><td>13</td><td>8</td><td>7.58</td><td>8.74</td><td>12.74</td><td>7.71</td></tr><tr><th>4</th><td>9</td><td>9</td><td>9</td><td>8</td><td>8.81</td><td>8.77</td><td>7.11</td><td>8.84</td></tr><tr><th>5</th><td>11</td><td>11</td><td>11</td><td>8</td><td>8.33</td><td>9.26</td><td>7.81</td><td>8.47</td></tr><tr><th>6</th><td>14</td><td>14</td><td>14</td><td>8</td><td>9.96</td><td>8.1</td><td>8.84</td><td>7.04</td></tr><tr><th>7</th><td>6</td><td>6</td><td>6</td><td>8</td><td>7.24</td><td>6.13</td><td>6.08</td><td>5.25</td></tr><tr><th>8</th><td>4</td><td>4</td><td>4</td><td>19</td><td>4.26</td><td>3.1</td><td>5.39</td><td>12.5</td></tr><tr><th>9</th><td>12</td><td>12</td><td>12</td><td>8</td><td>10.84</td><td>9.13</td><td>8.15</td><td>5.56</td></tr><tr><th>10</th><td>7</td><td>7</td><td>7</td><td>8</td><td>4.82</td><td>7.26</td><td>6.42</td><td>7.91</td></tr><tr><th>11</th><td>5</td><td>5</td><td>5</td><td>8</td><td>5.68</td><td>4.74</td><td>5.73</td><td>6.89</td></tr></tbody></table>"
      ],
      "text/latex": [
       "\\begin{tabular}{r|cccccccc}\n",
       "\t& x1 & x2 & x3 & x4 & y1 & y2 & y3 & y4\\\\\n",
       "\t\\hline\n",
       "\t& Int64 & Int64 & Int64 & Int64 & Float64 & Float64 & Float64 & Float64\\\\\n",
       "\t\\hline\n",
       "\t1 & 10 & 10 & 10 & 8 & 8.04 & 9.14 & 7.46 & 6.58 \\\\\n",
       "\t2 & 8 & 8 & 8 & 8 & 6.95 & 8.14 & 6.77 & 5.76 \\\\\n",
       "\t3 & 13 & 13 & 13 & 8 & 7.58 & 8.74 & 12.74 & 7.71 \\\\\n",
       "\t4 & 9 & 9 & 9 & 8 & 8.81 & 8.77 & 7.11 & 8.84 \\\\\n",
       "\t5 & 11 & 11 & 11 & 8 & 8.33 & 9.26 & 7.81 & 8.47 \\\\\n",
       "\t6 & 14 & 14 & 14 & 8 & 9.96 & 8.1 & 8.84 & 7.04 \\\\\n",
       "\t7 & 6 & 6 & 6 & 8 & 7.24 & 6.13 & 6.08 & 5.25 \\\\\n",
       "\t8 & 4 & 4 & 4 & 19 & 4.26 & 3.1 & 5.39 & 12.5 \\\\\n",
       "\t9 & 12 & 12 & 12 & 8 & 10.84 & 9.13 & 8.15 & 5.56 \\\\\n",
       "\t10 & 7 & 7 & 7 & 8 & 4.82 & 7.26 & 6.42 & 7.91 \\\\\n",
       "\t11 & 5 & 5 & 5 & 8 & 5.68 & 4.74 & 5.73 & 6.89 \\\\\n",
       "\\end{tabular}\n"
      ],
      "text/plain": [
       "\u001b[1m11×8 DataFrame\u001b[0m\n",
       "\u001b[1m Row \u001b[0m│\u001b[1m x1    \u001b[0m\u001b[1m x2    \u001b[0m\u001b[1m x3    \u001b[0m\u001b[1m x4    \u001b[0m\u001b[1m y1      \u001b[0m\u001b[1m y2      \u001b[0m\u001b[1m y3      \u001b[0m\u001b[1m y4      \u001b[0m\n",
       "\u001b[1m     \u001b[0m│\u001b[90m Int64 \u001b[0m\u001b[90m Int64 \u001b[0m\u001b[90m Int64 \u001b[0m\u001b[90m Int64 \u001b[0m\u001b[90m Float64 \u001b[0m\u001b[90m Float64 \u001b[0m\u001b[90m Float64 \u001b[0m\u001b[90m Float64 \u001b[0m\n",
       "─────┼────────────────────────────────────────────────────────────────\n",
       "   1 │    10     10     10      8     8.04     9.14     7.46     6.58\n",
       "   2 │     8      8      8      8     6.95     8.14     6.77     5.76\n",
       "   3 │    13     13     13      8     7.58     8.74    12.74     7.71\n",
       "   4 │     9      9      9      8     8.81     8.77     7.11     8.84\n",
       "   5 │    11     11     11      8     8.33     9.26     7.81     8.47\n",
       "   6 │    14     14     14      8     9.96     8.1      8.84     7.04\n",
       "   7 │     6      6      6      8     7.24     6.13     6.08     5.25\n",
       "   8 │     4      4      4     19     4.26     3.1      5.39    12.5\n",
       "   9 │    12     12     12      8    10.84     9.13     8.15     5.56\n",
       "  10 │     7      7      7      8     4.82     7.26     6.42     7.91\n",
       "  11 │     5      5      5      8     5.68     4.74     5.73     6.89"
      ]
     },
     "execution_count": 3,
     "metadata": {},
     "output_type": "execute_result"
    }
   ],
   "source": [
    "df = CSV.File(\"data/anscombe.csv\") |> DataFrame"
   ]
  },
  {
   "cell_type": "code",
   "execution_count": null,
   "id": "everyday-cedar",
   "metadata": {},
   "outputs": [],
   "source": [
    "df.x1"
   ]
  },
  {
   "cell_type": "code",
   "execution_count": null,
   "id": "educational-hacker",
   "metadata": {},
   "outputs": [],
   "source": [
    "df.\"x1\"     # strange, but sometimes useful "
   ]
  },
  {
   "cell_type": "code",
   "execution_count": null,
   "id": "dedicated-dream",
   "metadata": {},
   "outputs": [],
   "source": [
    "df[1:4, :x1]"
   ]
  },
  {
   "cell_type": "code",
   "execution_count": null,
   "id": "subsequent-lebanon",
   "metadata": {},
   "outputs": [],
   "source": [
    "select(df, r\"x\")           # you can make in-place selection using the bang variant of select "
   ]
  },
  {
   "cell_type": "code",
   "execution_count": null,
   "id": "impressed-joyce",
   "metadata": {},
   "outputs": [],
   "source": [
    "df"
   ]
  },
  {
   "cell_type": "markdown",
   "id": "fundamental-orbit",
   "metadata": {},
   "source": [
    "## Descriptive Study"
   ]
  },
  {
   "cell_type": "code",
   "execution_count": null,
   "id": "concrete-cooperative",
   "metadata": {},
   "outputs": [],
   "source": [
    "describe(df)"
   ]
  },
  {
   "cell_type": "code",
   "execution_count": null,
   "id": "stopped-recall",
   "metadata": {},
   "outputs": [],
   "source": [
    "describe(df, :mean, :std)"
   ]
  },
  {
   "cell_type": "code",
   "execution_count": null,
   "id": "living-rolling",
   "metadata": {},
   "outputs": [],
   "source": [
    "nrow(df), ncol(df)"
   ]
  },
  {
   "cell_type": "code",
   "execution_count": null,
   "id": "fourth-cradle",
   "metadata": {},
   "outputs": [],
   "source": [
    "size(df)"
   ]
  },
  {
   "cell_type": "code",
   "execution_count": null,
   "id": "neutral-devon",
   "metadata": {},
   "outputs": [],
   "source": [
    "df.id = 1:nrow(df)"
   ]
  },
  {
   "cell_type": "code",
   "execution_count": null,
   "id": "designed-mexican",
   "metadata": {},
   "outputs": [],
   "source": [
    "df"
   ]
  },
  {
   "cell_type": "markdown",
   "id": "economic-dress",
   "metadata": {},
   "source": [
    "We want to find global minimum and maximum for X and Y separately. "
   ]
  },
  {
   "cell_type": "code",
   "execution_count": null,
   "id": "recreational-shoulder",
   "metadata": {},
   "outputs": [],
   "source": [
    "extrema([ [13, 2, 5, 7] [2, 4, 5, 6]]) "
   ]
  },
  {
   "cell_type": "code",
   "execution_count": null,
   "id": "incoming-evolution",
   "metadata": {},
   "outputs": [],
   "source": [
    "select(df, r\"x\")"
   ]
  },
  {
   "cell_type": "code",
   "execution_count": null,
   "id": "former-promise",
   "metadata": {},
   "outputs": [],
   "source": [
    "Matrix(select(df, r\"x\"))"
   ]
  },
  {
   "cell_type": "code",
   "execution_count": null,
   "id": "serious-savage",
   "metadata": {},
   "outputs": [],
   "source": [
    "extrema(Matrix(select(df, r\"x\")))"
   ]
  },
  {
   "cell_type": "code",
   "execution_count": null,
   "id": "silver-horizon",
   "metadata": {},
   "outputs": [],
   "source": [
    "extrema(Matrix(select(df, r\"x\")))  .+ (-1, 1)"
   ]
  },
  {
   "cell_type": "code",
   "execution_count": 4,
   "id": "guided-julian",
   "metadata": {},
   "outputs": [
    {
     "data": {
      "text/plain": [
       "2-element Array{Int64,1}:\n",
       "  3\n",
       " 20"
      ]
     },
     "execution_count": 4,
     "metadata": {},
     "output_type": "execute_result"
    }
   ],
   "source": [
    "xlim = collect(extrema(Matrix(select(df, r\"x\")))  .+ (-1, 1))\n",
    "# turn them to an Array{Int64}"
   ]
  },
  {
   "cell_type": "code",
   "execution_count": 5,
   "id": "inside-riverside",
   "metadata": {},
   "outputs": [
    {
     "data": {
      "text/plain": [
       "2-element Array{Float64,1}:\n",
       "  2.1\n",
       " 13.74"
      ]
     },
     "execution_count": 5,
     "metadata": {},
     "output_type": "execute_result"
    }
   ],
   "source": [
    "ylim = collect(extrema(Matrix(select(df, r\"y\")))  .+ (-1, 1))"
   ]
  },
  {
   "cell_type": "code",
   "execution_count": null,
   "id": "large-small",
   "metadata": {},
   "outputs": [],
   "source": [
    "] add PyPlot"
   ]
  },
  {
   "cell_type": "code",
   "execution_count": null,
   "id": "political-lawsuit",
   "metadata": {},
   "outputs": [],
   "source": [
    "] add GLM"
   ]
  },
  {
   "cell_type": "code",
   "execution_count": null,
   "id": "local-breathing",
   "metadata": {},
   "outputs": [],
   "source": [
    "using PyPlot"
   ]
  },
  {
   "cell_type": "code",
   "execution_count": null,
   "id": "taken-planning",
   "metadata": {},
   "outputs": [],
   "source": [
    "using GLM"
   ]
  },
  {
   "cell_type": "code",
   "execution_count": null,
   "id": "victorian-diploma",
   "metadata": {},
   "outputs": [],
   "source": [
    "fig, axs = plt.subplots(2, 2)\n",
    "fig.tight_layout(pad=4.0)\n",
    "for i in 1:4\n",
    "    x = Symbol(\"x\", i)\n",
    "    y = Symbol(\"y\", i)\n",
    "    model = lm(term(y)~term(x), df)\n",
    "    axs[i].plot(xlim, predict(model, DataFrame(x => xlim)), color=\"orange\")\n",
    "    axs[i].scatter(df[:, x], df[:, y])\n",
    "    axs[i].set_xlim(xlim)\n",
    "    axs[i].set_ylim(ylim)\n",
    "    axs[i].set_xlabel(\"x$i\")\n",
    "    axs[i].set_ylabel(\"y$i\")\n",
    "    a, b = round.(coef(model), digits=2)\n",
    "    c = round(100 * r2(model), digits=2)\n",
    "    axs[i].set_title(string(\"R²=$c%, $y=$a+$b$x\"))\n",
    "end"
   ]
  },
  {
   "cell_type": "code",
   "execution_count": 6,
   "id": "sudden-return",
   "metadata": {},
   "outputs": [],
   "source": [
    "using Plots"
   ]
  },
  {
   "cell_type": "code",
   "execution_count": 7,
   "id": "tired-attack",
   "metadata": {},
   "outputs": [
    {
     "data": {
      "image/svg+xml": [
       "<?xml version=\"1.0\" encoding=\"utf-8\"?>\n",
       "<svg xmlns=\"http://www.w3.org/2000/svg\" xmlns:xlink=\"http://www.w3.org/1999/xlink\" width=\"800\" height=\"400\" viewBox=\"0 0 3200 1600\">\n",
       "<defs>\n",
       "  <clipPath id=\"clip680\">\n",
       "    <rect x=\"0\" y=\"0\" width=\"3200\" height=\"1600\"/>\n",
       "  </clipPath>\n",
       "</defs>\n",
       "<path clip-path=\"url(#clip680)\" d=\"\n",
       "M0 1600 L3200 1600 L3200 0 L0 0  Z\n",
       "  \" fill=\"#ffffff\" fill-rule=\"evenodd\" fill-opacity=\"1\"/>\n",
       "<defs>\n",
       "  <clipPath id=\"clip681\">\n",
       "    <rect x=\"640\" y=\"0\" width=\"2241\" height=\"1600\"/>\n",
       "  </clipPath>\n",
       "</defs>\n",
       "<path clip-path=\"url(#clip680)\" d=\"\n",
       "M230.94 643.7 L1552.76 643.7 L1552.76 47.2441 L230.94 47.2441  Z\n",
       "  \" fill=\"#ffffff\" fill-rule=\"evenodd\" fill-opacity=\"1\"/>\n",
       "<defs>\n",
       "  <clipPath id=\"clip682\">\n",
       "    <rect x=\"230\" y=\"47\" width=\"1323\" height=\"597\"/>\n",
       "  </clipPath>\n",
       "</defs>\n",
       "<polyline clip-path=\"url(#clip682)\" style=\"stroke:#000000; stroke-width:2; stroke-opacity:0.1; fill:none\" points=\"\n",
       "  415.055,643.7 415.055,47.2441 \n",
       "  \"/>\n",
       "<polyline clip-path=\"url(#clip682)\" style=\"stroke:#000000; stroke-width:2; stroke-opacity:0.1; fill:none\" points=\"\n",
       "  781.819,643.7 781.819,47.2441 \n",
       "  \"/>\n",
       "<polyline clip-path=\"url(#clip682)\" style=\"stroke:#000000; stroke-width:2; stroke-opacity:0.1; fill:none\" points=\"\n",
       "  1148.58,643.7 1148.58,47.2441 \n",
       "  \"/>\n",
       "<polyline clip-path=\"url(#clip682)\" style=\"stroke:#000000; stroke-width:2; stroke-opacity:0.1; fill:none\" points=\"\n",
       "  1515.35,643.7 1515.35,47.2441 \n",
       "  \"/>\n",
       "<polyline clip-path=\"url(#clip680)\" style=\"stroke:#000000; stroke-width:4; stroke-opacity:1; fill:none\" points=\"\n",
       "  230.94,643.7 1552.76,643.7 \n",
       "  \"/>\n",
       "<polyline clip-path=\"url(#clip680)\" style=\"stroke:#000000; stroke-width:4; stroke-opacity:1; fill:none\" points=\"\n",
       "  415.055,643.7 415.055,636.542 \n",
       "  \"/>\n",
       "<polyline clip-path=\"url(#clip680)\" style=\"stroke:#000000; stroke-width:4; stroke-opacity:1; fill:none\" points=\"\n",
       "  781.819,643.7 781.819,636.542 \n",
       "  \"/>\n",
       "<polyline clip-path=\"url(#clip680)\" style=\"stroke:#000000; stroke-width:4; stroke-opacity:1; fill:none\" points=\"\n",
       "  1148.58,643.7 1148.58,636.542 \n",
       "  \"/>\n",
       "<polyline clip-path=\"url(#clip680)\" style=\"stroke:#000000; stroke-width:4; stroke-opacity:1; fill:none\" points=\"\n",
       "  1515.35,643.7 1515.35,636.542 \n",
       "  \"/>\n",
       "<path clip-path=\"url(#clip680)\" d=\"M 0 0 M405.333 676.212 L423.689 676.212 L423.689 680.147 L409.615 680.147 L409.615 688.619 Q410.634 688.272 411.652 688.11 Q412.671 687.925 413.689 687.925 Q419.476 687.925 422.856 691.096 Q426.236 694.267 426.236 699.684 Q426.236 705.263 422.764 708.364 Q419.291 711.443 412.972 711.443 Q410.796 711.443 408.527 711.073 Q406.282 710.702 403.875 709.962 L403.875 705.263 Q405.958 706.397 408.18 706.952 Q410.402 707.508 412.879 707.508 Q416.884 707.508 419.222 705.402 Q421.56 703.295 421.56 699.684 Q421.56 696.073 419.222 693.966 Q416.884 691.86 412.879 691.86 Q411.004 691.86 409.129 692.277 Q407.277 692.693 405.333 693.573 L405.333 676.212 Z\" fill=\"#000000\" fill-rule=\"evenodd\" fill-opacity=\"1\" /><path clip-path=\"url(#clip680)\" d=\"M 0 0 M758.694 706.837 L766.333 706.837 L766.333 680.471 L758.023 682.138 L758.023 677.879 L766.286 676.212 L770.962 676.212 L770.962 706.837 L778.601 706.837 L778.601 710.772 L758.694 710.772 L758.694 706.837 Z\" fill=\"#000000\" fill-rule=\"evenodd\" fill-opacity=\"1\" /><path clip-path=\"url(#clip680)\" d=\"M 0 0 M793.671 679.291 Q790.06 679.291 788.231 682.855 Q786.425 686.397 786.425 693.527 Q786.425 700.633 788.231 704.198 Q790.06 707.739 793.671 707.739 Q797.305 707.739 799.11 704.198 Q800.939 700.633 800.939 693.527 Q800.939 686.397 799.11 682.855 Q797.305 679.291 793.671 679.291 M793.671 675.587 Q799.481 675.587 802.536 680.193 Q805.615 684.777 805.615 693.527 Q805.615 702.253 802.536 706.86 Q799.481 711.443 793.671 711.443 Q787.86 711.443 784.782 706.86 Q781.726 702.253 781.726 693.527 Q781.726 684.777 784.782 680.193 Q787.86 675.587 793.671 675.587 Z\" fill=\"#000000\" fill-rule=\"evenodd\" fill-opacity=\"1\" /><path clip-path=\"url(#clip680)\" d=\"M 0 0 M1125.96 706.837 L1133.59 706.837 L1133.59 680.471 L1125.28 682.138 L1125.28 677.879 L1133.55 676.212 L1138.22 676.212 L1138.22 706.837 L1145.86 706.837 L1145.86 710.772 L1125.96 710.772 L1125.96 706.837 Z\" fill=\"#000000\" fill-rule=\"evenodd\" fill-opacity=\"1\" /><path clip-path=\"url(#clip680)\" d=\"M 0 0 M1150.98 676.212 L1169.33 676.212 L1169.33 680.147 L1155.26 680.147 L1155.26 688.619 Q1156.28 688.272 1157.3 688.11 Q1158.32 687.925 1159.33 687.925 Q1165.12 687.925 1168.5 691.096 Q1171.88 694.267 1171.88 699.684 Q1171.88 705.263 1168.41 708.364 Q1164.94 711.443 1158.62 711.443 Q1156.44 711.443 1154.17 711.073 Q1151.93 710.702 1149.52 709.962 L1149.52 705.263 Q1151.6 706.397 1153.83 706.952 Q1156.05 707.508 1158.52 707.508 Q1162.53 707.508 1164.87 705.402 Q1167.21 703.295 1167.21 699.684 Q1167.21 696.073 1164.87 693.966 Q1162.53 691.86 1158.52 691.86 Q1156.65 691.86 1154.77 692.277 Q1152.92 692.693 1150.98 693.573 L1150.98 676.212 Z\" fill=\"#000000\" fill-rule=\"evenodd\" fill-opacity=\"1\" /><path clip-path=\"url(#clip680)\" d=\"M 0 0 M1496.49 706.837 L1512.81 706.837 L1512.81 710.772 L1490.87 710.772 L1490.87 706.837 Q1493.53 704.082 1498.11 699.452 Q1502.72 694.8 1503.9 693.457 Q1506.14 690.934 1507.02 689.198 Q1507.93 687.439 1507.93 685.749 Q1507.93 682.994 1505.98 681.258 Q1504.06 679.522 1500.96 679.522 Q1498.76 679.522 1496.31 680.286 Q1493.88 681.05 1491.1 682.601 L1491.1 677.879 Q1493.92 676.744 1496.38 676.166 Q1498.83 675.587 1500.87 675.587 Q1506.24 675.587 1509.43 678.272 Q1512.63 680.957 1512.63 685.448 Q1512.63 687.578 1511.82 689.499 Q1511.03 691.397 1508.92 693.99 Q1508.34 694.661 1505.24 697.878 Q1502.14 701.073 1496.49 706.837 Z\" fill=\"#000000\" fill-rule=\"evenodd\" fill-opacity=\"1\" /><path clip-path=\"url(#clip680)\" d=\"M 0 0 M1527.88 679.291 Q1524.27 679.291 1522.44 682.855 Q1520.64 686.397 1520.64 693.527 Q1520.64 700.633 1522.44 704.198 Q1524.27 707.739 1527.88 707.739 Q1531.51 707.739 1533.32 704.198 Q1535.15 700.633 1535.15 693.527 Q1535.15 686.397 1533.32 682.855 Q1531.51 679.291 1527.88 679.291 M1527.88 675.587 Q1533.69 675.587 1536.75 680.193 Q1539.83 684.777 1539.83 693.527 Q1539.83 702.253 1536.75 706.86 Q1533.69 711.443 1527.88 711.443 Q1522.07 711.443 1518.99 706.86 Q1515.94 702.253 1515.94 693.527 Q1515.94 684.777 1518.99 680.193 Q1522.07 675.587 1527.88 675.587 Z\" fill=\"#000000\" fill-rule=\"evenodd\" fill-opacity=\"1\" /><path clip-path=\"url(#clip680)\" d=\"M 0 0 M890.734 764.916 L877.843 782.262 L891.402 800.564 L884.496 800.564 L874.119 786.559 L863.743 800.564 L856.837 800.564 L870.682 781.912 L858.014 764.916 L864.921 764.916 L874.374 777.615 L883.827 764.916 L890.734 764.916 Z\" fill=\"#000000\" fill-rule=\"evenodd\" fill-opacity=\"1\" /><path clip-path=\"url(#clip680)\" d=\"M 0 0 M899.487 795.153 L909.99 795.153 L909.99 758.9 L898.564 761.192 L898.564 755.335 L909.927 753.044 L916.356 753.044 L916.356 795.153 L926.859 795.153 L926.859 800.564 L899.487 800.564 L899.487 795.153 Z\" fill=\"#000000\" fill-rule=\"evenodd\" fill-opacity=\"1\" /><polyline clip-path=\"url(#clip682)\" style=\"stroke:#000000; stroke-width:2; stroke-opacity:0.1; fill:none\" points=\"\n",
       "  230.94,607.482 1552.76,607.482 \n",
       "  \"/>\n",
       "<polyline clip-path=\"url(#clip682)\" style=\"stroke:#000000; stroke-width:2; stroke-opacity:0.1; fill:none\" points=\"\n",
       "  230.94,486.629 1552.76,486.629 \n",
       "  \"/>\n",
       "<polyline clip-path=\"url(#clip682)\" style=\"stroke:#000000; stroke-width:2; stroke-opacity:0.1; fill:none\" points=\"\n",
       "  230.94,365.775 1552.76,365.775 \n",
       "  \"/>\n",
       "<polyline clip-path=\"url(#clip682)\" style=\"stroke:#000000; stroke-width:2; stroke-opacity:0.1; fill:none\" points=\"\n",
       "  230.94,244.922 1552.76,244.922 \n",
       "  \"/>\n",
       "<polyline clip-path=\"url(#clip682)\" style=\"stroke:#000000; stroke-width:2; stroke-opacity:0.1; fill:none\" points=\"\n",
       "  230.94,124.068 1552.76,124.068 \n",
       "  \"/>\n",
       "<polyline clip-path=\"url(#clip680)\" style=\"stroke:#000000; stroke-width:4; stroke-opacity:1; fill:none\" points=\"\n",
       "  230.94,643.7 230.94,47.2441 \n",
       "  \"/>\n",
       "<polyline clip-path=\"url(#clip680)\" style=\"stroke:#000000; stroke-width:4; stroke-opacity:1; fill:none\" points=\"\n",
       "  230.94,607.482 246.802,607.482 \n",
       "  \"/>\n",
       "<polyline clip-path=\"url(#clip680)\" style=\"stroke:#000000; stroke-width:4; stroke-opacity:1; fill:none\" points=\"\n",
       "  230.94,486.629 246.802,486.629 \n",
       "  \"/>\n",
       "<polyline clip-path=\"url(#clip680)\" style=\"stroke:#000000; stroke-width:4; stroke-opacity:1; fill:none\" points=\"\n",
       "  230.94,365.775 246.802,365.775 \n",
       "  \"/>\n",
       "<polyline clip-path=\"url(#clip680)\" style=\"stroke:#000000; stroke-width:4; stroke-opacity:1; fill:none\" points=\"\n",
       "  230.94,244.922 246.802,244.922 \n",
       "  \"/>\n",
       "<polyline clip-path=\"url(#clip680)\" style=\"stroke:#000000; stroke-width:4; stroke-opacity:1; fill:none\" points=\"\n",
       "  230.94,124.068 246.802,124.068 \n",
       "  \"/>\n",
       "<path clip-path=\"url(#clip680)\" d=\"M 0 0 M130.649 620.827 L146.968 620.827 L146.968 624.762 L125.024 624.762 L125.024 620.827 Q127.686 618.073 132.269 613.443 Q136.875 608.79 138.056 607.448 Q140.301 604.925 141.181 603.188 Q142.084 601.429 142.084 599.739 Q142.084 596.985 140.139 595.249 Q138.218 593.513 135.116 593.513 Q132.917 593.513 130.463 594.277 Q128.033 595.04 125.255 596.591 L125.255 591.869 Q128.079 590.735 130.533 590.156 Q132.986 589.577 135.023 589.577 Q140.394 589.577 143.588 592.263 Q146.783 594.948 146.783 599.439 Q146.783 601.568 145.972 603.489 Q145.185 605.388 143.079 607.98 Q142.5 608.651 139.398 611.869 Q136.297 615.063 130.649 620.827 Z\" fill=\"#000000\" fill-rule=\"evenodd\" fill-opacity=\"1\" /><path clip-path=\"url(#clip680)\" d=\"M 0 0 M152.037 618.883 L156.922 618.883 L156.922 624.762 L152.037 624.762 L152.037 618.883 Z\" fill=\"#000000\" fill-rule=\"evenodd\" fill-opacity=\"1\" /><path clip-path=\"url(#clip680)\" d=\"M 0 0 M162.037 590.202 L180.394 590.202 L180.394 594.138 L166.32 594.138 L166.32 602.61 Q167.338 602.263 168.357 602.101 Q169.375 601.915 170.394 601.915 Q176.181 601.915 179.56 605.087 Q182.94 608.258 182.94 613.675 Q182.94 619.253 179.468 622.355 Q175.995 625.434 169.676 625.434 Q167.5 625.434 165.232 625.063 Q162.986 624.693 160.579 623.952 L160.579 619.253 Q162.662 620.387 164.884 620.943 Q167.107 621.499 169.583 621.499 Q173.588 621.499 175.926 619.392 Q178.264 617.286 178.264 613.675 Q178.264 610.063 175.926 607.957 Q173.588 605.851 169.583 605.851 Q167.708 605.851 165.833 606.267 Q163.982 606.684 162.037 607.563 L162.037 590.202 Z\" fill=\"#000000\" fill-rule=\"evenodd\" fill-opacity=\"1\" /><path clip-path=\"url(#clip680)\" d=\"M 0 0 M125.07 469.349 L143.426 469.349 L143.426 473.284 L129.352 473.284 L129.352 481.756 Q130.371 481.409 131.389 481.247 Q132.408 481.062 133.426 481.062 Q139.213 481.062 142.593 484.233 Q145.972 487.404 145.972 492.821 Q145.972 498.4 142.5 501.502 Q139.028 504.58 132.709 504.58 Q130.533 504.58 128.264 504.21 Q126.019 503.839 123.612 503.099 L123.612 498.4 Q125.695 499.534 127.917 500.089 Q130.139 500.645 132.616 500.645 Q136.621 500.645 138.959 498.539 Q141.297 496.432 141.297 492.821 Q141.297 489.21 138.959 487.103 Q136.621 484.997 132.616 484.997 Q130.741 484.997 128.866 485.414 Q127.014 485.83 125.07 486.71 L125.07 469.349 Z\" fill=\"#000000\" fill-rule=\"evenodd\" fill-opacity=\"1\" /><path clip-path=\"url(#clip680)\" d=\"M 0 0 M151.042 498.029 L155.926 498.029 L155.926 503.909 L151.042 503.909 L151.042 498.029 Z\" fill=\"#000000\" fill-rule=\"evenodd\" fill-opacity=\"1\" /><path clip-path=\"url(#clip680)\" d=\"M 0 0 M170.996 472.428 Q167.384 472.428 165.556 475.992 Q163.75 479.534 163.75 486.664 Q163.75 493.77 165.556 497.335 Q167.384 500.877 170.996 500.877 Q174.63 500.877 176.435 497.335 Q178.264 493.77 178.264 486.664 Q178.264 479.534 176.435 475.992 Q174.63 472.428 170.996 472.428 M170.996 468.724 Q176.806 468.724 179.861 473.33 Q182.94 477.914 182.94 486.664 Q182.94 495.39 179.861 499.997 Q176.806 504.58 170.996 504.58 Q165.185 504.58 162.107 499.997 Q159.051 495.39 159.051 486.664 Q159.051 477.914 162.107 473.33 Q165.185 468.724 170.996 468.724 Z\" fill=\"#000000\" fill-rule=\"evenodd\" fill-opacity=\"1\" /><path clip-path=\"url(#clip680)\" d=\"M 0 0 M124.746 348.495 L146.968 348.495 L146.968 350.486 L134.422 383.055 L129.537 383.055 L141.343 352.431 L124.746 352.431 L124.746 348.495 Z\" fill=\"#000000\" fill-rule=\"evenodd\" fill-opacity=\"1\" /><path clip-path=\"url(#clip680)\" d=\"M 0 0 M152.037 377.176 L156.922 377.176 L156.922 383.055 L152.037 383.055 L152.037 377.176 Z\" fill=\"#000000\" fill-rule=\"evenodd\" fill-opacity=\"1\" /><path clip-path=\"url(#clip680)\" d=\"M 0 0 M162.037 348.495 L180.394 348.495 L180.394 352.431 L166.32 352.431 L166.32 360.903 Q167.338 360.555 168.357 360.393 Q169.375 360.208 170.394 360.208 Q176.181 360.208 179.56 363.38 Q182.94 366.551 182.94 371.967 Q182.94 377.546 179.468 380.648 Q175.995 383.727 169.676 383.727 Q167.5 383.727 165.232 383.356 Q162.986 382.986 160.579 382.245 L160.579 377.546 Q162.662 378.68 164.884 379.236 Q167.107 379.791 169.583 379.791 Q173.588 379.791 175.926 377.685 Q178.264 375.579 178.264 371.967 Q178.264 368.356 175.926 366.25 Q173.588 364.143 169.583 364.143 Q167.708 364.143 165.833 364.56 Q163.982 364.977 162.037 365.856 L162.037 348.495 Z\" fill=\"#000000\" fill-rule=\"evenodd\" fill-opacity=\"1\" /><path clip-path=\"url(#clip680)\" d=\"M 0 0 M99.0515 258.267 L106.69 258.267 L106.69 231.901 L98.3802 233.568 L98.3802 229.308 L106.644 227.642 L111.32 227.642 L111.32 258.267 L118.959 258.267 L118.959 262.202 L99.0515 262.202 L99.0515 258.267 Z\" fill=\"#000000\" fill-rule=\"evenodd\" fill-opacity=\"1\" /><path clip-path=\"url(#clip680)\" d=\"M 0 0 M134.028 230.721 Q130.417 230.721 128.588 234.285 Q126.783 237.827 126.783 244.957 Q126.783 252.063 128.588 255.628 Q130.417 259.169 134.028 259.169 Q137.662 259.169 139.468 255.628 Q141.297 252.063 141.297 244.957 Q141.297 237.827 139.468 234.285 Q137.662 230.721 134.028 230.721 M134.028 227.017 Q139.838 227.017 142.894 231.623 Q145.972 236.207 145.972 244.957 Q145.972 253.683 142.894 258.29 Q139.838 262.873 134.028 262.873 Q128.218 262.873 125.139 258.29 Q122.084 253.683 122.084 244.957 Q122.084 236.207 125.139 231.623 Q128.218 227.017 134.028 227.017 Z\" fill=\"#000000\" fill-rule=\"evenodd\" fill-opacity=\"1\" /><path clip-path=\"url(#clip680)\" d=\"M 0 0 M151.042 256.322 L155.926 256.322 L155.926 262.202 L151.042 262.202 L151.042 256.322 Z\" fill=\"#000000\" fill-rule=\"evenodd\" fill-opacity=\"1\" /><path clip-path=\"url(#clip680)\" d=\"M 0 0 M170.996 230.721 Q167.384 230.721 165.556 234.285 Q163.75 237.827 163.75 244.957 Q163.75 252.063 165.556 255.628 Q167.384 259.169 170.996 259.169 Q174.63 259.169 176.435 255.628 Q178.264 252.063 178.264 244.957 Q178.264 237.827 176.435 234.285 Q174.63 230.721 170.996 230.721 M170.996 227.017 Q176.806 227.017 179.861 231.623 Q182.94 236.207 182.94 244.957 Q182.94 253.683 179.861 258.29 Q176.806 262.873 170.996 262.873 Q165.185 262.873 162.107 258.29 Q159.051 253.683 159.051 244.957 Q159.051 236.207 162.107 231.623 Q165.185 227.017 170.996 227.017 Z\" fill=\"#000000\" fill-rule=\"evenodd\" fill-opacity=\"1\" /><path clip-path=\"url(#clip680)\" d=\"M 0 0 M101.644 137.413 L109.283 137.413 L109.283 111.048 L100.973 112.714 L100.973 108.455 L109.237 106.788 L113.912 106.788 L113.912 137.413 L121.551 137.413 L121.551 141.348 L101.644 141.348 L101.644 137.413 Z\" fill=\"#000000\" fill-rule=\"evenodd\" fill-opacity=\"1\" /><path clip-path=\"url(#clip680)\" d=\"M 0 0 M130.649 137.413 L146.968 137.413 L146.968 141.348 L125.024 141.348 L125.024 137.413 Q127.686 134.658 132.269 130.029 Q136.875 125.376 138.056 124.034 Q140.301 121.51 141.181 119.774 Q142.084 118.015 142.084 116.325 Q142.084 113.571 140.139 111.835 Q138.218 110.098 135.116 110.098 Q132.917 110.098 130.463 110.862 Q128.033 111.626 125.255 113.177 L125.255 108.455 Q128.079 107.321 130.533 106.742 Q132.986 106.163 135.023 106.163 Q140.394 106.163 143.588 108.848 Q146.783 111.534 146.783 116.024 Q146.783 118.154 145.972 120.075 Q145.185 121.973 143.079 124.566 Q142.5 125.237 139.398 128.455 Q136.297 131.649 130.649 137.413 Z\" fill=\"#000000\" fill-rule=\"evenodd\" fill-opacity=\"1\" /><path clip-path=\"url(#clip680)\" d=\"M 0 0 M152.037 135.469 L156.922 135.469 L156.922 141.348 L152.037 141.348 L152.037 135.469 Z\" fill=\"#000000\" fill-rule=\"evenodd\" fill-opacity=\"1\" /><path clip-path=\"url(#clip680)\" d=\"M 0 0 M162.037 106.788 L180.394 106.788 L180.394 110.723 L166.32 110.723 L166.32 119.196 Q167.338 118.848 168.357 118.686 Q169.375 118.501 170.394 118.501 Q176.181 118.501 179.56 121.672 Q182.94 124.844 182.94 130.26 Q182.94 135.839 179.468 138.941 Q175.995 142.02 169.676 142.02 Q167.5 142.02 165.232 141.649 Q162.986 141.279 160.579 140.538 L160.579 135.839 Q162.662 136.973 164.884 137.529 Q167.107 138.084 169.583 138.084 Q173.588 138.084 175.926 135.978 Q178.264 133.871 178.264 130.26 Q178.264 126.649 175.926 124.543 Q173.588 122.436 169.583 122.436 Q167.708 122.436 165.833 122.853 Q163.982 123.27 162.037 124.149 L162.037 106.788 Z\" fill=\"#000000\" fill-rule=\"evenodd\" fill-opacity=\"1\" /><path clip-path=\"url(#clip680)\" d=\"M 0 0 M39.4343 361.514 Q45.8 363.996 47.7416 366.351 Q49.6831 368.707 49.6831 372.654 L49.6831 377.332 L44.7815 377.332 L44.7815 373.895 Q44.7815 371.476 43.6357 370.139 Q42.4899 368.802 38.2248 367.179 L35.5512 366.129 L0.4762 380.547 L0.4762 374.34 L28.358 363.2 L0.4762 352.06 L0.4762 345.854 L39.4343 361.514 Z\" fill=\"#000000\" fill-rule=\"evenodd\" fill-opacity=\"1\" /><path clip-path=\"url(#clip680)\" d=\"M 0 0 M30.7133 337.769 L30.7133 327.266 L-5.53939 327.266 L-3.24774 338.692 L-9.10419 338.692 L-11.3958 327.33 L-11.3958 320.9 L30.7133 320.9 L30.7133 310.397 L36.1242 310.397 L36.1242 337.769 L30.7133 337.769 Z\" fill=\"#000000\" fill-rule=\"evenodd\" fill-opacity=\"1\" /><circle clip-path=\"url(#clip682)\" cx=\"781.819\" cy=\"339.671\" r=\"14\" fill=\"#1b9e77\" fill-rule=\"evenodd\" fill-opacity=\"0.8\" stroke=\"#000000\" stroke-opacity=\"0.8\" stroke-width=\"3.2\"/>\n",
       "<circle clip-path=\"url(#clip682)\" cx=\"635.113\" cy=\"392.363\" r=\"14\" fill=\"#1b9e77\" fill-rule=\"evenodd\" fill-opacity=\"0.8\" stroke=\"#000000\" stroke-opacity=\"0.8\" stroke-width=\"3.2\"/>\n",
       "<circle clip-path=\"url(#clip682)\" cx=\"1001.88\" cy=\"361.908\" r=\"14\" fill=\"#1b9e77\" fill-rule=\"evenodd\" fill-opacity=\"0.8\" stroke=\"#000000\" stroke-opacity=\"0.8\" stroke-width=\"3.2\"/>\n",
       "<circle clip-path=\"url(#clip682)\" cx=\"708.466\" cy=\"302.448\" r=\"14\" fill=\"#1b9e77\" fill-rule=\"evenodd\" fill-opacity=\"0.8\" stroke=\"#000000\" stroke-opacity=\"0.8\" stroke-width=\"3.2\"/>\n",
       "<circle clip-path=\"url(#clip682)\" cx=\"855.172\" cy=\"325.652\" r=\"14\" fill=\"#1b9e77\" fill-rule=\"evenodd\" fill-opacity=\"0.8\" stroke=\"#000000\" stroke-opacity=\"0.8\" stroke-width=\"3.2\"/>\n",
       "<circle clip-path=\"url(#clip682)\" cx=\"1075.23\" cy=\"246.855\" r=\"14\" fill=\"#1b9e77\" fill-rule=\"evenodd\" fill-opacity=\"0.8\" stroke=\"#000000\" stroke-opacity=\"0.8\" stroke-width=\"3.2\"/>\n",
       "<circle clip-path=\"url(#clip682)\" cx=\"488.408\" cy=\"378.344\" r=\"14\" fill=\"#1b9e77\" fill-rule=\"evenodd\" fill-opacity=\"0.8\" stroke=\"#000000\" stroke-opacity=\"0.8\" stroke-width=\"3.2\"/>\n",
       "<circle clip-path=\"url(#clip682)\" cx=\"341.702\" cy=\"522.402\" r=\"14\" fill=\"#1b9e77\" fill-rule=\"evenodd\" fill-opacity=\"0.8\" stroke=\"#000000\" stroke-opacity=\"0.8\" stroke-width=\"3.2\"/>\n",
       "<circle clip-path=\"url(#clip682)\" cx=\"928.524\" cy=\"204.315\" r=\"14\" fill=\"#1b9e77\" fill-rule=\"evenodd\" fill-opacity=\"0.8\" stroke=\"#000000\" stroke-opacity=\"0.8\" stroke-width=\"3.2\"/>\n",
       "<circle clip-path=\"url(#clip682)\" cx=\"561.761\" cy=\"495.33\" r=\"14\" fill=\"#1b9e77\" fill-rule=\"evenodd\" fill-opacity=\"0.8\" stroke=\"#000000\" stroke-opacity=\"0.8\" stroke-width=\"3.2\"/>\n",
       "<circle clip-path=\"url(#clip682)\" cx=\"415.055\" cy=\"453.757\" r=\"14\" fill=\"#1b9e77\" fill-rule=\"evenodd\" fill-opacity=\"0.8\" stroke=\"#000000\" stroke-opacity=\"0.8\" stroke-width=\"3.2\"/>\n",
       "<polyline clip-path=\"url(#clip682)\" style=\"stroke:#1b9e77; stroke-width:4; stroke-opacity:0.8; fill:none\" points=\"\n",
       "  341.702,486.607 1075.23,244.856 \n",
       "  \"/>\n",
       "<path clip-path=\"url(#clip680)\" d=\"\n",
       "M1830.94 643.7 L3152.76 643.7 L3152.76 47.2441 L1830.94 47.2441  Z\n",
       "  \" fill=\"#ffffff\" fill-rule=\"evenodd\" fill-opacity=\"1\"/>\n",
       "<defs>\n",
       "  <clipPath id=\"clip683\">\n",
       "    <rect x=\"1830\" y=\"47\" width=\"1323\" height=\"597\"/>\n",
       "  </clipPath>\n",
       "</defs>\n",
       "<polyline clip-path=\"url(#clip683)\" style=\"stroke:#000000; stroke-width:2; stroke-opacity:0.1; fill:none\" points=\"\n",
       "  2015.06,643.7 2015.06,47.2441 \n",
       "  \"/>\n",
       "<polyline clip-path=\"url(#clip683)\" style=\"stroke:#000000; stroke-width:2; stroke-opacity:0.1; fill:none\" points=\"\n",
       "  2381.82,643.7 2381.82,47.2441 \n",
       "  \"/>\n",
       "<polyline clip-path=\"url(#clip683)\" style=\"stroke:#000000; stroke-width:2; stroke-opacity:0.1; fill:none\" points=\"\n",
       "  2748.58,643.7 2748.58,47.2441 \n",
       "  \"/>\n",
       "<polyline clip-path=\"url(#clip683)\" style=\"stroke:#000000; stroke-width:2; stroke-opacity:0.1; fill:none\" points=\"\n",
       "  3115.35,643.7 3115.35,47.2441 \n",
       "  \"/>\n",
       "<polyline clip-path=\"url(#clip680)\" style=\"stroke:#000000; stroke-width:4; stroke-opacity:1; fill:none\" points=\"\n",
       "  1830.94,643.7 3152.76,643.7 \n",
       "  \"/>\n",
       "<polyline clip-path=\"url(#clip680)\" style=\"stroke:#000000; stroke-width:4; stroke-opacity:1; fill:none\" points=\"\n",
       "  2015.06,643.7 2015.06,636.542 \n",
       "  \"/>\n",
       "<polyline clip-path=\"url(#clip680)\" style=\"stroke:#000000; stroke-width:4; stroke-opacity:1; fill:none\" points=\"\n",
       "  2381.82,643.7 2381.82,636.542 \n",
       "  \"/>\n",
       "<polyline clip-path=\"url(#clip680)\" style=\"stroke:#000000; stroke-width:4; stroke-opacity:1; fill:none\" points=\"\n",
       "  2748.58,643.7 2748.58,636.542 \n",
       "  \"/>\n",
       "<polyline clip-path=\"url(#clip680)\" style=\"stroke:#000000; stroke-width:4; stroke-opacity:1; fill:none\" points=\"\n",
       "  3115.35,643.7 3115.35,636.542 \n",
       "  \"/>\n",
       "<path clip-path=\"url(#clip680)\" d=\"M 0 0 M2005.33 676.212 L2023.69 676.212 L2023.69 680.147 L2009.62 680.147 L2009.62 688.619 Q2010.63 688.272 2011.65 688.11 Q2012.67 687.925 2013.69 687.925 Q2019.48 687.925 2022.86 691.096 Q2026.24 694.267 2026.24 699.684 Q2026.24 705.263 2022.76 708.364 Q2019.29 711.443 2012.97 711.443 Q2010.8 711.443 2008.53 711.073 Q2006.28 710.702 2003.87 709.962 L2003.87 705.263 Q2005.96 706.397 2008.18 706.952 Q2010.4 707.508 2012.88 707.508 Q2016.88 707.508 2019.22 705.402 Q2021.56 703.295 2021.56 699.684 Q2021.56 696.073 2019.22 693.966 Q2016.88 691.86 2012.88 691.86 Q2011 691.86 2009.13 692.277 Q2007.28 692.693 2005.33 693.573 L2005.33 676.212 Z\" fill=\"#000000\" fill-rule=\"evenodd\" fill-opacity=\"1\" /><path clip-path=\"url(#clip680)\" d=\"M 0 0 M2358.69 706.837 L2366.33 706.837 L2366.33 680.471 L2358.02 682.138 L2358.02 677.879 L2366.29 676.212 L2370.96 676.212 L2370.96 706.837 L2378.6 706.837 L2378.6 710.772 L2358.69 710.772 L2358.69 706.837 Z\" fill=\"#000000\" fill-rule=\"evenodd\" fill-opacity=\"1\" /><path clip-path=\"url(#clip680)\" d=\"M 0 0 M2393.67 679.291 Q2390.06 679.291 2388.23 682.855 Q2386.43 686.397 2386.43 693.527 Q2386.43 700.633 2388.23 704.198 Q2390.06 707.739 2393.67 707.739 Q2397.3 707.739 2399.11 704.198 Q2400.94 700.633 2400.94 693.527 Q2400.94 686.397 2399.11 682.855 Q2397.3 679.291 2393.67 679.291 M2393.67 675.587 Q2399.48 675.587 2402.54 680.193 Q2405.61 684.777 2405.61 693.527 Q2405.61 702.253 2402.54 706.86 Q2399.48 711.443 2393.67 711.443 Q2387.86 711.443 2384.78 706.86 Q2381.73 702.253 2381.73 693.527 Q2381.73 684.777 2384.78 680.193 Q2387.86 675.587 2393.67 675.587 Z\" fill=\"#000000\" fill-rule=\"evenodd\" fill-opacity=\"1\" /><path clip-path=\"url(#clip680)\" d=\"M 0 0 M2725.96 706.837 L2733.59 706.837 L2733.59 680.471 L2725.28 682.138 L2725.28 677.879 L2733.55 676.212 L2738.22 676.212 L2738.22 706.837 L2745.86 706.837 L2745.86 710.772 L2725.96 710.772 L2725.96 706.837 Z\" fill=\"#000000\" fill-rule=\"evenodd\" fill-opacity=\"1\" /><path clip-path=\"url(#clip680)\" d=\"M 0 0 M2750.98 676.212 L2769.33 676.212 L2769.33 680.147 L2755.26 680.147 L2755.26 688.619 Q2756.28 688.272 2757.3 688.11 Q2758.32 687.925 2759.33 687.925 Q2765.12 687.925 2768.5 691.096 Q2771.88 694.267 2771.88 699.684 Q2771.88 705.263 2768.41 708.364 Q2764.94 711.443 2758.62 711.443 Q2756.44 711.443 2754.17 711.073 Q2751.93 710.702 2749.52 709.962 L2749.52 705.263 Q2751.6 706.397 2753.83 706.952 Q2756.05 707.508 2758.52 707.508 Q2762.53 707.508 2764.87 705.402 Q2767.21 703.295 2767.21 699.684 Q2767.21 696.073 2764.87 693.966 Q2762.53 691.86 2758.52 691.86 Q2756.65 691.86 2754.77 692.277 Q2752.92 692.693 2750.98 693.573 L2750.98 676.212 Z\" fill=\"#000000\" fill-rule=\"evenodd\" fill-opacity=\"1\" /><path clip-path=\"url(#clip680)\" d=\"M 0 0 M3096.49 706.837 L3112.81 706.837 L3112.81 710.772 L3090.87 710.772 L3090.87 706.837 Q3093.53 704.082 3098.11 699.452 Q3102.72 694.8 3103.9 693.457 Q3106.14 690.934 3107.02 689.198 Q3107.93 687.439 3107.93 685.749 Q3107.93 682.994 3105.98 681.258 Q3104.06 679.522 3100.96 679.522 Q3098.76 679.522 3096.31 680.286 Q3093.88 681.05 3091.1 682.601 L3091.1 677.879 Q3093.92 676.744 3096.38 676.166 Q3098.83 675.587 3100.87 675.587 Q3106.24 675.587 3109.43 678.272 Q3112.63 680.957 3112.63 685.448 Q3112.63 687.578 3111.82 689.499 Q3111.03 691.397 3108.92 693.99 Q3108.34 694.661 3105.24 697.878 Q3102.14 701.073 3096.49 706.837 Z\" fill=\"#000000\" fill-rule=\"evenodd\" fill-opacity=\"1\" /><path clip-path=\"url(#clip680)\" d=\"M 0 0 M3127.88 679.291 Q3124.27 679.291 3122.44 682.855 Q3120.64 686.397 3120.64 693.527 Q3120.64 700.633 3122.44 704.198 Q3124.27 707.739 3127.88 707.739 Q3131.51 707.739 3133.32 704.198 Q3135.15 700.633 3135.15 693.527 Q3135.15 686.397 3133.32 682.855 Q3131.51 679.291 3127.88 679.291 M3127.88 675.587 Q3133.69 675.587 3136.75 680.193 Q3139.83 684.777 3139.83 693.527 Q3139.83 702.253 3136.75 706.86 Q3133.69 711.443 3127.88 711.443 Q3122.07 711.443 3118.99 706.86 Q3115.94 702.253 3115.94 693.527 Q3115.94 684.777 3118.99 680.193 Q3122.07 675.587 3127.88 675.587 Z\" fill=\"#000000\" fill-rule=\"evenodd\" fill-opacity=\"1\" /><path clip-path=\"url(#clip680)\" d=\"M 0 0 M2490.99 764.916 L2478.1 782.262 L2491.66 800.564 L2484.75 800.564 L2474.37 786.559 L2464 800.564 L2457.09 800.564 L2470.94 781.912 L2458.27 764.916 L2465.18 764.916 L2474.63 777.615 L2484.08 764.916 L2490.99 764.916 Z\" fill=\"#000000\" fill-rule=\"evenodd\" fill-opacity=\"1\" /><path clip-path=\"url(#clip680)\" d=\"M 0 0 M2504.17 795.153 L2526.6 795.153 L2526.6 800.564 L2496.43 800.564 L2496.43 795.153 Q2500.09 791.365 2506.39 785 Q2512.73 778.602 2514.35 776.756 Q2517.44 773.287 2518.65 770.9 Q2519.89 768.481 2519.89 766.157 Q2519.89 762.37 2517.22 759.982 Q2514.57 757.595 2510.31 757.595 Q2507.28 757.595 2503.91 758.646 Q2500.57 759.696 2496.75 761.829 L2496.75 755.335 Q2500.63 753.776 2504.01 752.98 Q2507.38 752.184 2510.18 752.184 Q2517.57 752.184 2521.96 755.877 Q2526.35 759.569 2526.35 765.743 Q2526.35 768.672 2525.24 771.313 Q2524.15 773.923 2521.26 777.488 Q2520.46 778.411 2516.2 782.835 Q2511.93 787.228 2504.17 795.153 Z\" fill=\"#000000\" fill-rule=\"evenodd\" fill-opacity=\"1\" /><polyline clip-path=\"url(#clip683)\" style=\"stroke:#000000; stroke-width:2; stroke-opacity:0.1; fill:none\" points=\"\n",
       "  1830.94,607.482 3152.76,607.482 \n",
       "  \"/>\n",
       "<polyline clip-path=\"url(#clip683)\" style=\"stroke:#000000; stroke-width:2; stroke-opacity:0.1; fill:none\" points=\"\n",
       "  1830.94,486.629 3152.76,486.629 \n",
       "  \"/>\n",
       "<polyline clip-path=\"url(#clip683)\" style=\"stroke:#000000; stroke-width:2; stroke-opacity:0.1; fill:none\" points=\"\n",
       "  1830.94,365.775 3152.76,365.775 \n",
       "  \"/>\n",
       "<polyline clip-path=\"url(#clip683)\" style=\"stroke:#000000; stroke-width:2; stroke-opacity:0.1; fill:none\" points=\"\n",
       "  1830.94,244.922 3152.76,244.922 \n",
       "  \"/>\n",
       "<polyline clip-path=\"url(#clip683)\" style=\"stroke:#000000; stroke-width:2; stroke-opacity:0.1; fill:none\" points=\"\n",
       "  1830.94,124.068 3152.76,124.068 \n",
       "  \"/>\n",
       "<polyline clip-path=\"url(#clip680)\" style=\"stroke:#000000; stroke-width:4; stroke-opacity:1; fill:none\" points=\"\n",
       "  1830.94,643.7 1830.94,47.2441 \n",
       "  \"/>\n",
       "<polyline clip-path=\"url(#clip680)\" style=\"stroke:#000000; stroke-width:4; stroke-opacity:1; fill:none\" points=\"\n",
       "  1830.94,607.482 1846.8,607.482 \n",
       "  \"/>\n",
       "<polyline clip-path=\"url(#clip680)\" style=\"stroke:#000000; stroke-width:4; stroke-opacity:1; fill:none\" points=\"\n",
       "  1830.94,486.629 1846.8,486.629 \n",
       "  \"/>\n",
       "<polyline clip-path=\"url(#clip680)\" style=\"stroke:#000000; stroke-width:4; stroke-opacity:1; fill:none\" points=\"\n",
       "  1830.94,365.775 1846.8,365.775 \n",
       "  \"/>\n",
       "<polyline clip-path=\"url(#clip680)\" style=\"stroke:#000000; stroke-width:4; stroke-opacity:1; fill:none\" points=\"\n",
       "  1830.94,244.922 1846.8,244.922 \n",
       "  \"/>\n",
       "<polyline clip-path=\"url(#clip680)\" style=\"stroke:#000000; stroke-width:4; stroke-opacity:1; fill:none\" points=\"\n",
       "  1830.94,124.068 1846.8,124.068 \n",
       "  \"/>\n",
       "<path clip-path=\"url(#clip680)\" d=\"M 0 0 M1730.65 620.827 L1746.97 620.827 L1746.97 624.762 L1725.02 624.762 L1725.02 620.827 Q1727.69 618.073 1732.27 613.443 Q1736.88 608.79 1738.06 607.448 Q1740.3 604.925 1741.18 603.188 Q1742.08 601.429 1742.08 599.739 Q1742.08 596.985 1740.14 595.249 Q1738.22 593.513 1735.12 593.513 Q1732.92 593.513 1730.46 594.277 Q1728.03 595.04 1725.26 596.591 L1725.26 591.869 Q1728.08 590.735 1730.53 590.156 Q1732.99 589.577 1735.02 589.577 Q1740.39 589.577 1743.59 592.263 Q1746.78 594.948 1746.78 599.439 Q1746.78 601.568 1745.97 603.489 Q1745.19 605.388 1743.08 607.98 Q1742.5 608.651 1739.4 611.869 Q1736.3 615.063 1730.65 620.827 Z\" fill=\"#000000\" fill-rule=\"evenodd\" fill-opacity=\"1\" /><path clip-path=\"url(#clip680)\" d=\"M 0 0 M1752.04 618.883 L1756.92 618.883 L1756.92 624.762 L1752.04 624.762 L1752.04 618.883 Z\" fill=\"#000000\" fill-rule=\"evenodd\" fill-opacity=\"1\" /><path clip-path=\"url(#clip680)\" d=\"M 0 0 M1762.04 590.202 L1780.39 590.202 L1780.39 594.138 L1766.32 594.138 L1766.32 602.61 Q1767.34 602.263 1768.36 602.101 Q1769.38 601.915 1770.39 601.915 Q1776.18 601.915 1779.56 605.087 Q1782.94 608.258 1782.94 613.675 Q1782.94 619.253 1779.47 622.355 Q1776 625.434 1769.68 625.434 Q1767.5 625.434 1765.23 625.063 Q1762.99 624.693 1760.58 623.952 L1760.58 619.253 Q1762.66 620.387 1764.88 620.943 Q1767.11 621.499 1769.58 621.499 Q1773.59 621.499 1775.93 619.392 Q1778.26 617.286 1778.26 613.675 Q1778.26 610.063 1775.93 607.957 Q1773.59 605.851 1769.58 605.851 Q1767.71 605.851 1765.83 606.267 Q1763.98 606.684 1762.04 607.563 L1762.04 590.202 Z\" fill=\"#000000\" fill-rule=\"evenodd\" fill-opacity=\"1\" /><path clip-path=\"url(#clip680)\" d=\"M 0 0 M1725.07 469.349 L1743.43 469.349 L1743.43 473.284 L1729.35 473.284 L1729.35 481.756 Q1730.37 481.409 1731.39 481.247 Q1732.41 481.062 1733.43 481.062 Q1739.21 481.062 1742.59 484.233 Q1745.97 487.404 1745.97 492.821 Q1745.97 498.4 1742.5 501.502 Q1739.03 504.58 1732.71 504.58 Q1730.53 504.58 1728.26 504.21 Q1726.02 503.839 1723.61 503.099 L1723.61 498.4 Q1725.69 499.534 1727.92 500.089 Q1730.14 500.645 1732.62 500.645 Q1736.62 500.645 1738.96 498.539 Q1741.3 496.432 1741.3 492.821 Q1741.3 489.21 1738.96 487.103 Q1736.62 484.997 1732.62 484.997 Q1730.74 484.997 1728.87 485.414 Q1727.01 485.83 1725.07 486.71 L1725.07 469.349 Z\" fill=\"#000000\" fill-rule=\"evenodd\" fill-opacity=\"1\" /><path clip-path=\"url(#clip680)\" d=\"M 0 0 M1751.04 498.029 L1755.93 498.029 L1755.93 503.909 L1751.04 503.909 L1751.04 498.029 Z\" fill=\"#000000\" fill-rule=\"evenodd\" fill-opacity=\"1\" /><path clip-path=\"url(#clip680)\" d=\"M 0 0 M1771 472.428 Q1767.38 472.428 1765.56 475.992 Q1763.75 479.534 1763.75 486.664 Q1763.75 493.77 1765.56 497.335 Q1767.38 500.877 1771 500.877 Q1774.63 500.877 1776.44 497.335 Q1778.26 493.77 1778.26 486.664 Q1778.26 479.534 1776.44 475.992 Q1774.63 472.428 1771 472.428 M1771 468.724 Q1776.81 468.724 1779.86 473.33 Q1782.94 477.914 1782.94 486.664 Q1782.94 495.39 1779.86 499.997 Q1776.81 504.58 1771 504.58 Q1765.19 504.58 1762.11 499.997 Q1759.05 495.39 1759.05 486.664 Q1759.05 477.914 1762.11 473.33 Q1765.19 468.724 1771 468.724 Z\" fill=\"#000000\" fill-rule=\"evenodd\" fill-opacity=\"1\" /><path clip-path=\"url(#clip680)\" d=\"M 0 0 M1724.75 348.495 L1746.97 348.495 L1746.97 350.486 L1734.42 383.055 L1729.54 383.055 L1741.34 352.431 L1724.75 352.431 L1724.75 348.495 Z\" fill=\"#000000\" fill-rule=\"evenodd\" fill-opacity=\"1\" /><path clip-path=\"url(#clip680)\" d=\"M 0 0 M1752.04 377.176 L1756.92 377.176 L1756.92 383.055 L1752.04 383.055 L1752.04 377.176 Z\" fill=\"#000000\" fill-rule=\"evenodd\" fill-opacity=\"1\" /><path clip-path=\"url(#clip680)\" d=\"M 0 0 M1762.04 348.495 L1780.39 348.495 L1780.39 352.431 L1766.32 352.431 L1766.32 360.903 Q1767.34 360.555 1768.36 360.393 Q1769.38 360.208 1770.39 360.208 Q1776.18 360.208 1779.56 363.38 Q1782.94 366.551 1782.94 371.967 Q1782.94 377.546 1779.47 380.648 Q1776 383.727 1769.68 383.727 Q1767.5 383.727 1765.23 383.356 Q1762.99 382.986 1760.58 382.245 L1760.58 377.546 Q1762.66 378.68 1764.88 379.236 Q1767.11 379.791 1769.58 379.791 Q1773.59 379.791 1775.93 377.685 Q1778.26 375.579 1778.26 371.967 Q1778.26 368.356 1775.93 366.25 Q1773.59 364.143 1769.58 364.143 Q1767.71 364.143 1765.83 364.56 Q1763.98 364.977 1762.04 365.856 L1762.04 348.495 Z\" fill=\"#000000\" fill-rule=\"evenodd\" fill-opacity=\"1\" /><path clip-path=\"url(#clip680)\" d=\"M 0 0 M1699.05 258.267 L1706.69 258.267 L1706.69 231.901 L1698.38 233.568 L1698.38 229.308 L1706.64 227.642 L1711.32 227.642 L1711.32 258.267 L1718.96 258.267 L1718.96 262.202 L1699.05 262.202 L1699.05 258.267 Z\" fill=\"#000000\" fill-rule=\"evenodd\" fill-opacity=\"1\" /><path clip-path=\"url(#clip680)\" d=\"M 0 0 M1734.03 230.721 Q1730.42 230.721 1728.59 234.285 Q1726.78 237.827 1726.78 244.957 Q1726.78 252.063 1728.59 255.628 Q1730.42 259.169 1734.03 259.169 Q1737.66 259.169 1739.47 255.628 Q1741.3 252.063 1741.3 244.957 Q1741.3 237.827 1739.47 234.285 Q1737.66 230.721 1734.03 230.721 M1734.03 227.017 Q1739.84 227.017 1742.89 231.623 Q1745.97 236.207 1745.97 244.957 Q1745.97 253.683 1742.89 258.29 Q1739.84 262.873 1734.03 262.873 Q1728.22 262.873 1725.14 258.29 Q1722.08 253.683 1722.08 244.957 Q1722.08 236.207 1725.14 231.623 Q1728.22 227.017 1734.03 227.017 Z\" fill=\"#000000\" fill-rule=\"evenodd\" fill-opacity=\"1\" /><path clip-path=\"url(#clip680)\" d=\"M 0 0 M1751.04 256.322 L1755.93 256.322 L1755.93 262.202 L1751.04 262.202 L1751.04 256.322 Z\" fill=\"#000000\" fill-rule=\"evenodd\" fill-opacity=\"1\" /><path clip-path=\"url(#clip680)\" d=\"M 0 0 M1771 230.721 Q1767.38 230.721 1765.56 234.285 Q1763.75 237.827 1763.75 244.957 Q1763.75 252.063 1765.56 255.628 Q1767.38 259.169 1771 259.169 Q1774.63 259.169 1776.44 255.628 Q1778.26 252.063 1778.26 244.957 Q1778.26 237.827 1776.44 234.285 Q1774.63 230.721 1771 230.721 M1771 227.017 Q1776.81 227.017 1779.86 231.623 Q1782.94 236.207 1782.94 244.957 Q1782.94 253.683 1779.86 258.29 Q1776.81 262.873 1771 262.873 Q1765.19 262.873 1762.11 258.29 Q1759.05 253.683 1759.05 244.957 Q1759.05 236.207 1762.11 231.623 Q1765.19 227.017 1771 227.017 Z\" fill=\"#000000\" fill-rule=\"evenodd\" fill-opacity=\"1\" /><path clip-path=\"url(#clip680)\" d=\"M 0 0 M1701.64 137.413 L1709.28 137.413 L1709.28 111.048 L1700.97 112.714 L1700.97 108.455 L1709.24 106.788 L1713.91 106.788 L1713.91 137.413 L1721.55 137.413 L1721.55 141.348 L1701.64 141.348 L1701.64 137.413 Z\" fill=\"#000000\" fill-rule=\"evenodd\" fill-opacity=\"1\" /><path clip-path=\"url(#clip680)\" d=\"M 0 0 M1730.65 137.413 L1746.97 137.413 L1746.97 141.348 L1725.02 141.348 L1725.02 137.413 Q1727.69 134.658 1732.27 130.029 Q1736.88 125.376 1738.06 124.034 Q1740.3 121.51 1741.18 119.774 Q1742.08 118.015 1742.08 116.325 Q1742.08 113.571 1740.14 111.835 Q1738.22 110.098 1735.12 110.098 Q1732.92 110.098 1730.46 110.862 Q1728.03 111.626 1725.26 113.177 L1725.26 108.455 Q1728.08 107.321 1730.53 106.742 Q1732.99 106.163 1735.02 106.163 Q1740.39 106.163 1743.59 108.848 Q1746.78 111.534 1746.78 116.024 Q1746.78 118.154 1745.97 120.075 Q1745.19 121.973 1743.08 124.566 Q1742.5 125.237 1739.4 128.455 Q1736.3 131.649 1730.65 137.413 Z\" fill=\"#000000\" fill-rule=\"evenodd\" fill-opacity=\"1\" /><path clip-path=\"url(#clip680)\" d=\"M 0 0 M1752.04 135.469 L1756.92 135.469 L1756.92 141.348 L1752.04 141.348 L1752.04 135.469 Z\" fill=\"#000000\" fill-rule=\"evenodd\" fill-opacity=\"1\" /><path clip-path=\"url(#clip680)\" d=\"M 0 0 M1762.04 106.788 L1780.39 106.788 L1780.39 110.723 L1766.32 110.723 L1766.32 119.196 Q1767.34 118.848 1768.36 118.686 Q1769.38 118.501 1770.39 118.501 Q1776.18 118.501 1779.56 121.672 Q1782.94 124.844 1782.94 130.26 Q1782.94 135.839 1779.47 138.941 Q1776 142.02 1769.68 142.02 Q1767.5 142.02 1765.23 141.649 Q1762.99 141.279 1760.58 140.538 L1760.58 135.839 Q1762.66 136.973 1764.88 137.529 Q1767.11 138.084 1769.58 138.084 Q1773.59 138.084 1775.93 135.978 Q1778.26 133.871 1778.26 130.26 Q1778.26 126.649 1775.93 124.543 Q1773.59 122.436 1769.58 122.436 Q1767.71 122.436 1765.83 122.853 Q1763.98 123.27 1762.04 124.149 L1762.04 106.788 Z\" fill=\"#000000\" fill-rule=\"evenodd\" fill-opacity=\"1\" /><path clip-path=\"url(#clip680)\" d=\"M 0 0 M1639.43 361.259 Q1645.8 363.742 1647.74 366.097 Q1649.68 368.452 1649.68 372.399 L1649.68 377.078 L1644.78 377.078 L1644.78 373.64 Q1644.78 371.221 1643.64 369.884 Q1642.49 368.548 1638.22 366.924 L1635.55 365.874 L1600.48 380.292 L1600.48 374.086 L1628.36 362.946 L1600.48 351.806 L1600.48 345.599 L1639.43 361.259 Z\" fill=\"#000000\" fill-rule=\"evenodd\" fill-opacity=\"1\" /><path clip-path=\"url(#clip680)\" d=\"M 0 0 M1630.71 333.091 L1630.71 310.652 L1636.12 310.652 L1636.12 340.825 L1630.71 340.825 Q1626.93 337.165 1620.56 330.863 Q1614.16 324.529 1612.32 322.906 Q1608.85 319.818 1606.46 318.609 Q1604.04 317.367 1601.72 317.367 Q1597.93 317.367 1595.54 320.041 Q1593.16 322.683 1593.16 326.948 Q1593.16 329.971 1594.21 333.345 Q1595.26 336.687 1597.39 340.507 L1590.9 340.507 Q1589.34 336.624 1588.54 333.25 Q1587.74 329.876 1587.74 327.075 Q1587.74 319.691 1591.44 315.299 Q1595.13 310.906 1601.3 310.906 Q1604.23 310.906 1606.87 312.02 Q1609.48 313.102 1613.05 315.999 Q1613.97 316.794 1618.4 321.059 Q1622.79 325.325 1630.71 333.091 Z\" fill=\"#000000\" fill-rule=\"evenodd\" fill-opacity=\"1\" /><circle clip-path=\"url(#clip683)\" cx=\"2381.82\" cy=\"286.495\" r=\"14\" fill=\"#1b9e77\" fill-rule=\"evenodd\" fill-opacity=\"0.8\" stroke=\"#000000\" stroke-opacity=\"0.8\" stroke-width=\"3.2\"/>\n",
       "<circle clip-path=\"url(#clip683)\" cx=\"2235.11\" cy=\"334.837\" r=\"14\" fill=\"#1b9e77\" fill-rule=\"evenodd\" fill-opacity=\"0.8\" stroke=\"#000000\" stroke-opacity=\"0.8\" stroke-width=\"3.2\"/>\n",
       "<circle clip-path=\"url(#clip683)\" cx=\"2601.88\" cy=\"305.832\" r=\"14\" fill=\"#1b9e77\" fill-rule=\"evenodd\" fill-opacity=\"0.8\" stroke=\"#000000\" stroke-opacity=\"0.8\" stroke-width=\"3.2\"/>\n",
       "<circle clip-path=\"url(#clip683)\" cx=\"2308.47\" cy=\"304.382\" r=\"14\" fill=\"#1b9e77\" fill-rule=\"evenodd\" fill-opacity=\"0.8\" stroke=\"#000000\" stroke-opacity=\"0.8\" stroke-width=\"3.2\"/>\n",
       "<circle clip-path=\"url(#clip683)\" cx=\"2455.17\" cy=\"280.694\" r=\"14\" fill=\"#1b9e77\" fill-rule=\"evenodd\" fill-opacity=\"0.8\" stroke=\"#000000\" stroke-opacity=\"0.8\" stroke-width=\"3.2\"/>\n",
       "<circle clip-path=\"url(#clip683)\" cx=\"2675.23\" cy=\"336.771\" r=\"14\" fill=\"#1b9e77\" fill-rule=\"evenodd\" fill-opacity=\"0.8\" stroke=\"#000000\" stroke-opacity=\"0.8\" stroke-width=\"3.2\"/>\n",
       "<circle clip-path=\"url(#clip683)\" cx=\"2088.41\" cy=\"432.003\" r=\"14\" fill=\"#1b9e77\" fill-rule=\"evenodd\" fill-opacity=\"0.8\" stroke=\"#000000\" stroke-opacity=\"0.8\" stroke-width=\"3.2\"/>\n",
       "<circle clip-path=\"url(#clip683)\" cx=\"1941.7\" cy=\"578.478\" r=\"14\" fill=\"#1b9e77\" fill-rule=\"evenodd\" fill-opacity=\"0.8\" stroke=\"#000000\" stroke-opacity=\"0.8\" stroke-width=\"3.2\"/>\n",
       "<circle clip-path=\"url(#clip683)\" cx=\"2528.52\" cy=\"286.979\" r=\"14\" fill=\"#1b9e77\" fill-rule=\"evenodd\" fill-opacity=\"0.8\" stroke=\"#000000\" stroke-opacity=\"0.8\" stroke-width=\"3.2\"/>\n",
       "<circle clip-path=\"url(#clip683)\" cx=\"2161.76\" cy=\"377.377\" r=\"14\" fill=\"#1b9e77\" fill-rule=\"evenodd\" fill-opacity=\"0.8\" stroke=\"#000000\" stroke-opacity=\"0.8\" stroke-width=\"3.2\"/>\n",
       "<circle clip-path=\"url(#clip683)\" cx=\"2015.06\" cy=\"499.198\" r=\"14\" fill=\"#1b9e77\" fill-rule=\"evenodd\" fill-opacity=\"0.8\" stroke=\"#000000\" stroke-opacity=\"0.8\" stroke-width=\"3.2\"/>\n",
       "<polyline clip-path=\"url(#clip683)\" style=\"stroke:#1b9e77; stroke-width:4; stroke-opacity:0.8; fill:none\" points=\"\n",
       "  1941.7,486.585 2675.23,244.878 \n",
       "  \"/>\n",
       "<path clip-path=\"url(#clip680)\" d=\"\n",
       "M230.94 1443.7 L1552.76 1443.7 L1552.76 847.244 L230.94 847.244  Z\n",
       "  \" fill=\"#ffffff\" fill-rule=\"evenodd\" fill-opacity=\"1\"/>\n",
       "<defs>\n",
       "  <clipPath id=\"clip684\">\n",
       "    <rect x=\"230\" y=\"847\" width=\"1323\" height=\"597\"/>\n",
       "  </clipPath>\n",
       "</defs>\n",
       "<polyline clip-path=\"url(#clip684)\" style=\"stroke:#000000; stroke-width:2; stroke-opacity:0.1; fill:none\" points=\"\n",
       "  415.055,1443.7 415.055,847.244 \n",
       "  \"/>\n",
       "<polyline clip-path=\"url(#clip684)\" style=\"stroke:#000000; stroke-width:2; stroke-opacity:0.1; fill:none\" points=\"\n",
       "  781.819,1443.7 781.819,847.244 \n",
       "  \"/>\n",
       "<polyline clip-path=\"url(#clip684)\" style=\"stroke:#000000; stroke-width:2; stroke-opacity:0.1; fill:none\" points=\"\n",
       "  1148.58,1443.7 1148.58,847.244 \n",
       "  \"/>\n",
       "<polyline clip-path=\"url(#clip684)\" style=\"stroke:#000000; stroke-width:2; stroke-opacity:0.1; fill:none\" points=\"\n",
       "  1515.35,1443.7 1515.35,847.244 \n",
       "  \"/>\n",
       "<polyline clip-path=\"url(#clip680)\" style=\"stroke:#000000; stroke-width:4; stroke-opacity:1; fill:none\" points=\"\n",
       "  230.94,1443.7 1552.76,1443.7 \n",
       "  \"/>\n",
       "<polyline clip-path=\"url(#clip680)\" style=\"stroke:#000000; stroke-width:4; stroke-opacity:1; fill:none\" points=\"\n",
       "  415.055,1443.7 415.055,1436.54 \n",
       "  \"/>\n",
       "<polyline clip-path=\"url(#clip680)\" style=\"stroke:#000000; stroke-width:4; stroke-opacity:1; fill:none\" points=\"\n",
       "  781.819,1443.7 781.819,1436.54 \n",
       "  \"/>\n",
       "<polyline clip-path=\"url(#clip680)\" style=\"stroke:#000000; stroke-width:4; stroke-opacity:1; fill:none\" points=\"\n",
       "  1148.58,1443.7 1148.58,1436.54 \n",
       "  \"/>\n",
       "<polyline clip-path=\"url(#clip680)\" style=\"stroke:#000000; stroke-width:4; stroke-opacity:1; fill:none\" points=\"\n",
       "  1515.35,1443.7 1515.35,1436.54 \n",
       "  \"/>\n",
       "<path clip-path=\"url(#clip680)\" d=\"M 0 0 M405.333 1476.21 L423.689 1476.21 L423.689 1480.15 L409.615 1480.15 L409.615 1488.62 Q410.634 1488.27 411.652 1488.11 Q412.671 1487.92 413.689 1487.92 Q419.476 1487.92 422.856 1491.1 Q426.236 1494.27 426.236 1499.68 Q426.236 1505.26 422.764 1508.36 Q419.291 1511.44 412.972 1511.44 Q410.796 1511.44 408.527 1511.07 Q406.282 1510.7 403.875 1509.96 L403.875 1505.26 Q405.958 1506.4 408.18 1506.95 Q410.402 1507.51 412.879 1507.51 Q416.884 1507.51 419.222 1505.4 Q421.56 1503.3 421.56 1499.68 Q421.56 1496.07 419.222 1493.97 Q416.884 1491.86 412.879 1491.86 Q411.004 1491.86 409.129 1492.28 Q407.277 1492.69 405.333 1493.57 L405.333 1476.21 Z\" fill=\"#000000\" fill-rule=\"evenodd\" fill-opacity=\"1\" /><path clip-path=\"url(#clip680)\" d=\"M 0 0 M758.694 1506.84 L766.333 1506.84 L766.333 1480.47 L758.023 1482.14 L758.023 1477.88 L766.286 1476.21 L770.962 1476.21 L770.962 1506.84 L778.601 1506.84 L778.601 1510.77 L758.694 1510.77 L758.694 1506.84 Z\" fill=\"#000000\" fill-rule=\"evenodd\" fill-opacity=\"1\" /><path clip-path=\"url(#clip680)\" d=\"M 0 0 M793.671 1479.29 Q790.06 1479.29 788.231 1482.86 Q786.425 1486.4 786.425 1493.53 Q786.425 1500.63 788.231 1504.2 Q790.06 1507.74 793.671 1507.74 Q797.305 1507.74 799.11 1504.2 Q800.939 1500.63 800.939 1493.53 Q800.939 1486.4 799.11 1482.86 Q797.305 1479.29 793.671 1479.29 M793.671 1475.59 Q799.481 1475.59 802.536 1480.19 Q805.615 1484.78 805.615 1493.53 Q805.615 1502.25 802.536 1506.86 Q799.481 1511.44 793.671 1511.44 Q787.86 1511.44 784.782 1506.86 Q781.726 1502.25 781.726 1493.53 Q781.726 1484.78 784.782 1480.19 Q787.86 1475.59 793.671 1475.59 Z\" fill=\"#000000\" fill-rule=\"evenodd\" fill-opacity=\"1\" /><path clip-path=\"url(#clip680)\" d=\"M 0 0 M1125.96 1506.84 L1133.59 1506.84 L1133.59 1480.47 L1125.28 1482.14 L1125.28 1477.88 L1133.55 1476.21 L1138.22 1476.21 L1138.22 1506.84 L1145.86 1506.84 L1145.86 1510.77 L1125.96 1510.77 L1125.96 1506.84 Z\" fill=\"#000000\" fill-rule=\"evenodd\" fill-opacity=\"1\" /><path clip-path=\"url(#clip680)\" d=\"M 0 0 M1150.98 1476.21 L1169.33 1476.21 L1169.33 1480.15 L1155.26 1480.15 L1155.26 1488.62 Q1156.28 1488.27 1157.3 1488.11 Q1158.32 1487.92 1159.33 1487.92 Q1165.12 1487.92 1168.5 1491.1 Q1171.88 1494.27 1171.88 1499.68 Q1171.88 1505.26 1168.41 1508.36 Q1164.94 1511.44 1158.62 1511.44 Q1156.44 1511.44 1154.17 1511.07 Q1151.93 1510.7 1149.52 1509.96 L1149.52 1505.26 Q1151.6 1506.4 1153.83 1506.95 Q1156.05 1507.51 1158.52 1507.51 Q1162.53 1507.51 1164.87 1505.4 Q1167.21 1503.3 1167.21 1499.68 Q1167.21 1496.07 1164.87 1493.97 Q1162.53 1491.86 1158.52 1491.86 Q1156.65 1491.86 1154.77 1492.28 Q1152.92 1492.69 1150.98 1493.57 L1150.98 1476.21 Z\" fill=\"#000000\" fill-rule=\"evenodd\" fill-opacity=\"1\" /><path clip-path=\"url(#clip680)\" d=\"M 0 0 M1496.49 1506.84 L1512.81 1506.84 L1512.81 1510.77 L1490.87 1510.77 L1490.87 1506.84 Q1493.53 1504.08 1498.11 1499.45 Q1502.72 1494.8 1503.9 1493.46 Q1506.14 1490.93 1507.02 1489.2 Q1507.93 1487.44 1507.93 1485.75 Q1507.93 1482.99 1505.98 1481.26 Q1504.06 1479.52 1500.96 1479.52 Q1498.76 1479.52 1496.31 1480.29 Q1493.88 1481.05 1491.1 1482.6 L1491.1 1477.88 Q1493.92 1476.74 1496.38 1476.17 Q1498.83 1475.59 1500.87 1475.59 Q1506.24 1475.59 1509.43 1478.27 Q1512.63 1480.96 1512.63 1485.45 Q1512.63 1487.58 1511.82 1489.5 Q1511.03 1491.4 1508.92 1493.99 Q1508.34 1494.66 1505.24 1497.88 Q1502.14 1501.07 1496.49 1506.84 Z\" fill=\"#000000\" fill-rule=\"evenodd\" fill-opacity=\"1\" /><path clip-path=\"url(#clip680)\" d=\"M 0 0 M1527.88 1479.29 Q1524.27 1479.29 1522.44 1482.86 Q1520.64 1486.4 1520.64 1493.53 Q1520.64 1500.63 1522.44 1504.2 Q1524.27 1507.74 1527.88 1507.74 Q1531.51 1507.74 1533.32 1504.2 Q1535.15 1500.63 1535.15 1493.53 Q1535.15 1486.4 1533.32 1482.86 Q1531.51 1479.29 1527.88 1479.29 M1527.88 1475.59 Q1533.69 1475.59 1536.75 1480.19 Q1539.83 1484.78 1539.83 1493.53 Q1539.83 1502.25 1536.75 1506.86 Q1533.69 1511.44 1527.88 1511.44 Q1522.07 1511.44 1518.99 1506.86 Q1515.94 1502.25 1515.94 1493.53 Q1515.94 1484.78 1518.99 1480.19 Q1522.07 1475.59 1527.88 1475.59 Z\" fill=\"#000000\" fill-rule=\"evenodd\" fill-opacity=\"1\" /><path clip-path=\"url(#clip680)\" d=\"M 0 0 M890.336 1564.92 L877.445 1582.26 L891.004 1600.56 L884.098 1600.56 L873.722 1586.56 L863.345 1600.56 L856.439 1600.56 L870.284 1581.91 L857.616 1564.92 L864.523 1564.92 L873.976 1577.62 L883.429 1564.92 L890.336 1564.92 Z\" fill=\"#000000\" fill-rule=\"evenodd\" fill-opacity=\"1\" /><path clip-path=\"url(#clip680)\" d=\"M 0 0 M917.454 1574.94 Q922.069 1575.93 924.647 1579.05 Q927.257 1582.17 927.257 1586.75 Q927.257 1593.78 922.419 1597.64 Q917.581 1601.49 908.669 1601.49 Q905.677 1601.49 902.495 1600.88 Q899.344 1600.31 895.97 1599.13 L895.97 1592.92 Q898.643 1594.48 901.826 1595.28 Q905.009 1596.08 908.478 1596.08 Q914.526 1596.08 917.677 1593.69 Q920.86 1591.3 920.86 1586.75 Q920.86 1582.55 917.9 1580.19 Q914.971 1577.81 909.72 1577.81 L904.181 1577.81 L904.181 1572.52 L909.974 1572.52 Q914.717 1572.52 917.231 1570.65 Q919.746 1568.74 919.746 1565.17 Q919.746 1561.51 917.136 1559.57 Q914.558 1557.6 909.72 1557.6 Q907.078 1557.6 904.054 1558.17 Q901.03 1558.74 897.402 1559.95 L897.402 1554.22 Q901.062 1553.2 904.245 1552.69 Q907.46 1552.18 910.293 1552.18 Q917.613 1552.18 921.878 1555.53 Q926.143 1558.84 926.143 1564.5 Q926.143 1568.45 923.883 1571.19 Q921.623 1573.89 917.454 1574.94 Z\" fill=\"#000000\" fill-rule=\"evenodd\" fill-opacity=\"1\" /><polyline clip-path=\"url(#clip684)\" style=\"stroke:#000000; stroke-width:2; stroke-opacity:0.1; fill:none\" points=\"\n",
       "  230.94,1407.48 1552.76,1407.48 \n",
       "  \"/>\n",
       "<polyline clip-path=\"url(#clip684)\" style=\"stroke:#000000; stroke-width:2; stroke-opacity:0.1; fill:none\" points=\"\n",
       "  230.94,1286.63 1552.76,1286.63 \n",
       "  \"/>\n",
       "<polyline clip-path=\"url(#clip684)\" style=\"stroke:#000000; stroke-width:2; stroke-opacity:0.1; fill:none\" points=\"\n",
       "  230.94,1165.78 1552.76,1165.78 \n",
       "  \"/>\n",
       "<polyline clip-path=\"url(#clip684)\" style=\"stroke:#000000; stroke-width:2; stroke-opacity:0.1; fill:none\" points=\"\n",
       "  230.94,1044.92 1552.76,1044.92 \n",
       "  \"/>\n",
       "<polyline clip-path=\"url(#clip684)\" style=\"stroke:#000000; stroke-width:2; stroke-opacity:0.1; fill:none\" points=\"\n",
       "  230.94,924.068 1552.76,924.068 \n",
       "  \"/>\n",
       "<polyline clip-path=\"url(#clip680)\" style=\"stroke:#000000; stroke-width:4; stroke-opacity:1; fill:none\" points=\"\n",
       "  230.94,1443.7 230.94,847.244 \n",
       "  \"/>\n",
       "<polyline clip-path=\"url(#clip680)\" style=\"stroke:#000000; stroke-width:4; stroke-opacity:1; fill:none\" points=\"\n",
       "  230.94,1407.48 246.802,1407.48 \n",
       "  \"/>\n",
       "<polyline clip-path=\"url(#clip680)\" style=\"stroke:#000000; stroke-width:4; stroke-opacity:1; fill:none\" points=\"\n",
       "  230.94,1286.63 246.802,1286.63 \n",
       "  \"/>\n",
       "<polyline clip-path=\"url(#clip680)\" style=\"stroke:#000000; stroke-width:4; stroke-opacity:1; fill:none\" points=\"\n",
       "  230.94,1165.78 246.802,1165.78 \n",
       "  \"/>\n",
       "<polyline clip-path=\"url(#clip680)\" style=\"stroke:#000000; stroke-width:4; stroke-opacity:1; fill:none\" points=\"\n",
       "  230.94,1044.92 246.802,1044.92 \n",
       "  \"/>\n",
       "<polyline clip-path=\"url(#clip680)\" style=\"stroke:#000000; stroke-width:4; stroke-opacity:1; fill:none\" points=\"\n",
       "  230.94,924.068 246.802,924.068 \n",
       "  \"/>\n",
       "<path clip-path=\"url(#clip680)\" d=\"M 0 0 M130.649 1420.83 L146.968 1420.83 L146.968 1424.76 L125.024 1424.76 L125.024 1420.83 Q127.686 1418.07 132.269 1413.44 Q136.875 1408.79 138.056 1407.45 Q140.301 1404.92 141.181 1403.19 Q142.084 1401.43 142.084 1399.74 Q142.084 1396.98 140.139 1395.25 Q138.218 1393.51 135.116 1393.51 Q132.917 1393.51 130.463 1394.28 Q128.033 1395.04 125.255 1396.59 L125.255 1391.87 Q128.079 1390.73 130.533 1390.16 Q132.986 1389.58 135.023 1389.58 Q140.394 1389.58 143.588 1392.26 Q146.783 1394.95 146.783 1399.44 Q146.783 1401.57 145.972 1403.49 Q145.185 1405.39 143.079 1407.98 Q142.5 1408.65 139.398 1411.87 Q136.297 1415.06 130.649 1420.83 Z\" fill=\"#000000\" fill-rule=\"evenodd\" fill-opacity=\"1\" /><path clip-path=\"url(#clip680)\" d=\"M 0 0 M152.037 1418.88 L156.922 1418.88 L156.922 1424.76 L152.037 1424.76 L152.037 1418.88 Z\" fill=\"#000000\" fill-rule=\"evenodd\" fill-opacity=\"1\" /><path clip-path=\"url(#clip680)\" d=\"M 0 0 M162.037 1390.2 L180.394 1390.2 L180.394 1394.14 L166.32 1394.14 L166.32 1402.61 Q167.338 1402.26 168.357 1402.1 Q169.375 1401.92 170.394 1401.92 Q176.181 1401.92 179.56 1405.09 Q182.94 1408.26 182.94 1413.67 Q182.94 1419.25 179.468 1422.36 Q175.995 1425.43 169.676 1425.43 Q167.5 1425.43 165.232 1425.06 Q162.986 1424.69 160.579 1423.95 L160.579 1419.25 Q162.662 1420.39 164.884 1420.94 Q167.107 1421.5 169.583 1421.5 Q173.588 1421.5 175.926 1419.39 Q178.264 1417.29 178.264 1413.67 Q178.264 1410.06 175.926 1407.96 Q173.588 1405.85 169.583 1405.85 Q167.708 1405.85 165.833 1406.27 Q163.982 1406.68 162.037 1407.56 L162.037 1390.2 Z\" fill=\"#000000\" fill-rule=\"evenodd\" fill-opacity=\"1\" /><path clip-path=\"url(#clip680)\" d=\"M 0 0 M125.07 1269.35 L143.426 1269.35 L143.426 1273.28 L129.352 1273.28 L129.352 1281.76 Q130.371 1281.41 131.389 1281.25 Q132.408 1281.06 133.426 1281.06 Q139.213 1281.06 142.593 1284.23 Q145.972 1287.4 145.972 1292.82 Q145.972 1298.4 142.5 1301.5 Q139.028 1304.58 132.709 1304.58 Q130.533 1304.58 128.264 1304.21 Q126.019 1303.84 123.612 1303.1 L123.612 1298.4 Q125.695 1299.53 127.917 1300.09 Q130.139 1300.65 132.616 1300.65 Q136.621 1300.65 138.959 1298.54 Q141.297 1296.43 141.297 1292.82 Q141.297 1289.21 138.959 1287.1 Q136.621 1285 132.616 1285 Q130.741 1285 128.866 1285.41 Q127.014 1285.83 125.07 1286.71 L125.07 1269.35 Z\" fill=\"#000000\" fill-rule=\"evenodd\" fill-opacity=\"1\" /><path clip-path=\"url(#clip680)\" d=\"M 0 0 M151.042 1298.03 L155.926 1298.03 L155.926 1303.91 L151.042 1303.91 L151.042 1298.03 Z\" fill=\"#000000\" fill-rule=\"evenodd\" fill-opacity=\"1\" /><path clip-path=\"url(#clip680)\" d=\"M 0 0 M170.996 1272.43 Q167.384 1272.43 165.556 1275.99 Q163.75 1279.53 163.75 1286.66 Q163.75 1293.77 165.556 1297.33 Q167.384 1300.88 170.996 1300.88 Q174.63 1300.88 176.435 1297.33 Q178.264 1293.77 178.264 1286.66 Q178.264 1279.53 176.435 1275.99 Q174.63 1272.43 170.996 1272.43 M170.996 1268.72 Q176.806 1268.72 179.861 1273.33 Q182.94 1277.91 182.94 1286.66 Q182.94 1295.39 179.861 1300 Q176.806 1304.58 170.996 1304.58 Q165.185 1304.58 162.107 1300 Q159.051 1295.39 159.051 1286.66 Q159.051 1277.91 162.107 1273.33 Q165.185 1268.72 170.996 1268.72 Z\" fill=\"#000000\" fill-rule=\"evenodd\" fill-opacity=\"1\" /><path clip-path=\"url(#clip680)\" d=\"M 0 0 M124.746 1148.5 L146.968 1148.5 L146.968 1150.49 L134.422 1183.06 L129.537 1183.06 L141.343 1152.43 L124.746 1152.43 L124.746 1148.5 Z\" fill=\"#000000\" fill-rule=\"evenodd\" fill-opacity=\"1\" /><path clip-path=\"url(#clip680)\" d=\"M 0 0 M152.037 1177.18 L156.922 1177.18 L156.922 1183.06 L152.037 1183.06 L152.037 1177.18 Z\" fill=\"#000000\" fill-rule=\"evenodd\" fill-opacity=\"1\" /><path clip-path=\"url(#clip680)\" d=\"M 0 0 M162.037 1148.5 L180.394 1148.5 L180.394 1152.43 L166.32 1152.43 L166.32 1160.9 Q167.338 1160.56 168.357 1160.39 Q169.375 1160.21 170.394 1160.21 Q176.181 1160.21 179.56 1163.38 Q182.94 1166.55 182.94 1171.97 Q182.94 1177.55 179.468 1180.65 Q175.995 1183.73 169.676 1183.73 Q167.5 1183.73 165.232 1183.36 Q162.986 1182.99 160.579 1182.25 L160.579 1177.55 Q162.662 1178.68 164.884 1179.24 Q167.107 1179.79 169.583 1179.79 Q173.588 1179.79 175.926 1177.69 Q178.264 1175.58 178.264 1171.97 Q178.264 1168.36 175.926 1166.25 Q173.588 1164.14 169.583 1164.14 Q167.708 1164.14 165.833 1164.56 Q163.982 1164.98 162.037 1165.86 L162.037 1148.5 Z\" fill=\"#000000\" fill-rule=\"evenodd\" fill-opacity=\"1\" /><path clip-path=\"url(#clip680)\" d=\"M 0 0 M99.0515 1058.27 L106.69 1058.27 L106.69 1031.9 L98.3802 1033.57 L98.3802 1029.31 L106.644 1027.64 L111.32 1027.64 L111.32 1058.27 L118.959 1058.27 L118.959 1062.2 L99.0515 1062.2 L99.0515 1058.27 Z\" fill=\"#000000\" fill-rule=\"evenodd\" fill-opacity=\"1\" /><path clip-path=\"url(#clip680)\" d=\"M 0 0 M134.028 1030.72 Q130.417 1030.72 128.588 1034.29 Q126.783 1037.83 126.783 1044.96 Q126.783 1052.06 128.588 1055.63 Q130.417 1059.17 134.028 1059.17 Q137.662 1059.17 139.468 1055.63 Q141.297 1052.06 141.297 1044.96 Q141.297 1037.83 139.468 1034.29 Q137.662 1030.72 134.028 1030.72 M134.028 1027.02 Q139.838 1027.02 142.894 1031.62 Q145.972 1036.21 145.972 1044.96 Q145.972 1053.68 142.894 1058.29 Q139.838 1062.87 134.028 1062.87 Q128.218 1062.87 125.139 1058.29 Q122.084 1053.68 122.084 1044.96 Q122.084 1036.21 125.139 1031.62 Q128.218 1027.02 134.028 1027.02 Z\" fill=\"#000000\" fill-rule=\"evenodd\" fill-opacity=\"1\" /><path clip-path=\"url(#clip680)\" d=\"M 0 0 M151.042 1056.32 L155.926 1056.32 L155.926 1062.2 L151.042 1062.2 L151.042 1056.32 Z\" fill=\"#000000\" fill-rule=\"evenodd\" fill-opacity=\"1\" /><path clip-path=\"url(#clip680)\" d=\"M 0 0 M170.996 1030.72 Q167.384 1030.72 165.556 1034.29 Q163.75 1037.83 163.75 1044.96 Q163.75 1052.06 165.556 1055.63 Q167.384 1059.17 170.996 1059.17 Q174.63 1059.17 176.435 1055.63 Q178.264 1052.06 178.264 1044.96 Q178.264 1037.83 176.435 1034.29 Q174.63 1030.72 170.996 1030.72 M170.996 1027.02 Q176.806 1027.02 179.861 1031.62 Q182.94 1036.21 182.94 1044.96 Q182.94 1053.68 179.861 1058.29 Q176.806 1062.87 170.996 1062.87 Q165.185 1062.87 162.107 1058.29 Q159.051 1053.68 159.051 1044.96 Q159.051 1036.21 162.107 1031.62 Q165.185 1027.02 170.996 1027.02 Z\" fill=\"#000000\" fill-rule=\"evenodd\" fill-opacity=\"1\" /><path clip-path=\"url(#clip680)\" d=\"M 0 0 M101.644 937.413 L109.283 937.413 L109.283 911.048 L100.973 912.714 L100.973 908.455 L109.237 906.788 L113.912 906.788 L113.912 937.413 L121.551 937.413 L121.551 941.348 L101.644 941.348 L101.644 937.413 Z\" fill=\"#000000\" fill-rule=\"evenodd\" fill-opacity=\"1\" /><path clip-path=\"url(#clip680)\" d=\"M 0 0 M130.649 937.413 L146.968 937.413 L146.968 941.348 L125.024 941.348 L125.024 937.413 Q127.686 934.658 132.269 930.029 Q136.875 925.376 138.056 924.034 Q140.301 921.51 141.181 919.774 Q142.084 918.015 142.084 916.325 Q142.084 913.571 140.139 911.835 Q138.218 910.098 135.116 910.098 Q132.917 910.098 130.463 910.862 Q128.033 911.626 125.255 913.177 L125.255 908.455 Q128.079 907.321 130.533 906.742 Q132.986 906.163 135.023 906.163 Q140.394 906.163 143.588 908.848 Q146.783 911.534 146.783 916.024 Q146.783 918.154 145.972 920.075 Q145.185 921.973 143.079 924.566 Q142.5 925.237 139.398 928.455 Q136.297 931.649 130.649 937.413 Z\" fill=\"#000000\" fill-rule=\"evenodd\" fill-opacity=\"1\" /><path clip-path=\"url(#clip680)\" d=\"M 0 0 M152.037 935.469 L156.922 935.469 L156.922 941.348 L152.037 941.348 L152.037 935.469 Z\" fill=\"#000000\" fill-rule=\"evenodd\" fill-opacity=\"1\" /><path clip-path=\"url(#clip680)\" d=\"M 0 0 M162.037 906.788 L180.394 906.788 L180.394 910.723 L166.32 910.723 L166.32 919.196 Q167.338 918.848 168.357 918.686 Q169.375 918.501 170.394 918.501 Q176.181 918.501 179.56 921.672 Q182.94 924.844 182.94 930.26 Q182.94 935.839 179.468 938.941 Q175.995 942.02 169.676 942.02 Q167.5 942.02 165.232 941.649 Q162.986 941.279 160.579 940.538 L160.579 935.839 Q162.662 936.973 164.884 937.529 Q167.107 938.084 169.583 938.084 Q173.588 938.084 175.926 935.978 Q178.264 933.871 178.264 930.26 Q178.264 926.649 175.926 924.543 Q173.588 922.436 169.583 922.436 Q167.708 922.436 165.833 922.853 Q163.982 923.27 162.037 924.149 L162.037 906.788 Z\" fill=\"#000000\" fill-rule=\"evenodd\" fill-opacity=\"1\" /><path clip-path=\"url(#clip680)\" d=\"M 0 0 M39.4343 1161.91 Q45.8 1164.39 47.7416 1166.75 Q49.6831 1169.1 49.6831 1173.05 L49.6831 1177.73 L44.7815 1177.73 L44.7815 1174.29 Q44.7815 1171.87 43.6357 1170.54 Q42.4899 1169.2 38.2248 1167.58 L35.5512 1166.53 L0.4762 1180.94 L0.4762 1174.74 L28.358 1163.6 L0.4762 1152.46 L0.4762 1146.25 L39.4343 1161.91 Z\" fill=\"#000000\" fill-rule=\"evenodd\" fill-opacity=\"1\" /><path clip-path=\"url(#clip680)\" d=\"M 0 0 M10.5022 1119.8 Q11.4889 1115.19 14.6081 1112.61 Q17.7273 1110 22.3106 1110 Q29.3447 1110 33.1959 1114.84 Q37.0472 1119.67 37.0472 1128.59 Q37.0472 1131.58 36.4424 1134.76 Q35.8695 1137.91 34.6919 1141.29 L28.4853 1141.29 Q30.0449 1138.61 30.8406 1135.43 Q31.6363 1132.25 31.6363 1128.78 Q31.6363 1122.73 29.2492 1119.58 Q26.8621 1116.4 22.3106 1116.4 Q18.1092 1116.4 15.7539 1119.36 Q13.3668 1122.28 13.3668 1127.54 L13.3668 1133.07 L8.08322 1133.07 L8.08322 1127.28 Q8.08322 1122.54 6.20534 1120.03 Q4.29562 1117.51 0.730829 1117.51 Q-2.92945 1117.51 -4.87099 1120.12 Q-6.84436 1122.7 -6.84436 1127.54 Q-6.84436 1130.18 -6.27145 1133.2 Q-5.69854 1136.23 -4.48905 1139.85 L-10.2182 1139.85 Q-11.2367 1136.19 -11.746 1133.01 Q-12.2552 1129.8 -12.2552 1126.96 Q-12.2552 1119.64 -8.91322 1115.38 Q-5.60305 1111.11 0.0624294 1111.11 Q4.00917 1111.11 6.74642 1113.37 Q9.45185 1115.63 10.5022 1119.8 Z\" fill=\"#000000\" fill-rule=\"evenodd\" fill-opacity=\"1\" /><circle clip-path=\"url(#clip684)\" cx=\"781.819\" cy=\"1167.71\" r=\"14\" fill=\"#1b9e77\" fill-rule=\"evenodd\" fill-opacity=\"0.8\" stroke=\"#000000\" stroke-opacity=\"0.8\" stroke-width=\"3.2\"/>\n",
       "<circle clip-path=\"url(#clip684)\" cx=\"635.113\" cy=\"1201.06\" r=\"14\" fill=\"#1b9e77\" fill-rule=\"evenodd\" fill-opacity=\"0.8\" stroke=\"#000000\" stroke-opacity=\"0.8\" stroke-width=\"3.2\"/>\n",
       "<circle clip-path=\"url(#clip684)\" cx=\"1001.88\" cy=\"912.466\" r=\"14\" fill=\"#1b9e77\" fill-rule=\"evenodd\" fill-opacity=\"0.8\" stroke=\"#000000\" stroke-opacity=\"0.8\" stroke-width=\"3.2\"/>\n",
       "<circle clip-path=\"url(#clip684)\" cx=\"708.466\" cy=\"1184.63\" r=\"14\" fill=\"#1b9e77\" fill-rule=\"evenodd\" fill-opacity=\"0.8\" stroke=\"#000000\" stroke-opacity=\"0.8\" stroke-width=\"3.2\"/>\n",
       "<circle clip-path=\"url(#clip684)\" cx=\"855.172\" cy=\"1150.79\" r=\"14\" fill=\"#1b9e77\" fill-rule=\"evenodd\" fill-opacity=\"0.8\" stroke=\"#000000\" stroke-opacity=\"0.8\" stroke-width=\"3.2\"/>\n",
       "<circle clip-path=\"url(#clip684)\" cx=\"1075.23\" cy=\"1101\" r=\"14\" fill=\"#1b9e77\" fill-rule=\"evenodd\" fill-opacity=\"0.8\" stroke=\"#000000\" stroke-opacity=\"0.8\" stroke-width=\"3.2\"/>\n",
       "<circle clip-path=\"url(#clip684)\" cx=\"488.408\" cy=\"1234.42\" r=\"14\" fill=\"#1b9e77\" fill-rule=\"evenodd\" fill-opacity=\"0.8\" stroke=\"#000000\" stroke-opacity=\"0.8\" stroke-width=\"3.2\"/>\n",
       "<circle clip-path=\"url(#clip684)\" cx=\"341.702\" cy=\"1267.78\" r=\"14\" fill=\"#1b9e77\" fill-rule=\"evenodd\" fill-opacity=\"0.8\" stroke=\"#000000\" stroke-opacity=\"0.8\" stroke-width=\"3.2\"/>\n",
       "<circle clip-path=\"url(#clip684)\" cx=\"928.524\" cy=\"1134.35\" r=\"14\" fill=\"#1b9e77\" fill-rule=\"evenodd\" fill-opacity=\"0.8\" stroke=\"#000000\" stroke-opacity=\"0.8\" stroke-width=\"3.2\"/>\n",
       "<circle clip-path=\"url(#clip684)\" cx=\"561.761\" cy=\"1217.98\" r=\"14\" fill=\"#1b9e77\" fill-rule=\"evenodd\" fill-opacity=\"0.8\" stroke=\"#000000\" stroke-opacity=\"0.8\" stroke-width=\"3.2\"/>\n",
       "<circle clip-path=\"url(#clip684)\" cx=\"415.055\" cy=\"1251.34\" r=\"14\" fill=\"#1b9e77\" fill-rule=\"evenodd\" fill-opacity=\"0.8\" stroke=\"#000000\" stroke-opacity=\"0.8\" stroke-width=\"3.2\"/>\n",
       "<polyline clip-path=\"url(#clip684)\" style=\"stroke:#1b9e77; stroke-width:4; stroke-opacity:0.8; fill:none\" points=\"\n",
       "  341.702,1286.56 1075.23,1044.99 \n",
       "  \"/>\n",
       "<path clip-path=\"url(#clip680)\" d=\"\n",
       "M1830.94 1443.7 L3152.76 1443.7 L3152.76 847.244 L1830.94 847.244  Z\n",
       "  \" fill=\"#ffffff\" fill-rule=\"evenodd\" fill-opacity=\"1\"/>\n",
       "<defs>\n",
       "  <clipPath id=\"clip685\">\n",
       "    <rect x=\"1830\" y=\"847\" width=\"1323\" height=\"597\"/>\n",
       "  </clipPath>\n",
       "</defs>\n",
       "<polyline clip-path=\"url(#clip685)\" style=\"stroke:#000000; stroke-width:2; stroke-opacity:0.1; fill:none\" points=\"\n",
       "  2015.06,1443.7 2015.06,847.244 \n",
       "  \"/>\n",
       "<polyline clip-path=\"url(#clip685)\" style=\"stroke:#000000; stroke-width:2; stroke-opacity:0.1; fill:none\" points=\"\n",
       "  2381.82,1443.7 2381.82,847.244 \n",
       "  \"/>\n",
       "<polyline clip-path=\"url(#clip685)\" style=\"stroke:#000000; stroke-width:2; stroke-opacity:0.1; fill:none\" points=\"\n",
       "  2748.58,1443.7 2748.58,847.244 \n",
       "  \"/>\n",
       "<polyline clip-path=\"url(#clip685)\" style=\"stroke:#000000; stroke-width:2; stroke-opacity:0.1; fill:none\" points=\"\n",
       "  3115.35,1443.7 3115.35,847.244 \n",
       "  \"/>\n",
       "<polyline clip-path=\"url(#clip680)\" style=\"stroke:#000000; stroke-width:4; stroke-opacity:1; fill:none\" points=\"\n",
       "  1830.94,1443.7 3152.76,1443.7 \n",
       "  \"/>\n",
       "<polyline clip-path=\"url(#clip680)\" style=\"stroke:#000000; stroke-width:4; stroke-opacity:1; fill:none\" points=\"\n",
       "  2015.06,1443.7 2015.06,1436.54 \n",
       "  \"/>\n",
       "<polyline clip-path=\"url(#clip680)\" style=\"stroke:#000000; stroke-width:4; stroke-opacity:1; fill:none\" points=\"\n",
       "  2381.82,1443.7 2381.82,1436.54 \n",
       "  \"/>\n",
       "<polyline clip-path=\"url(#clip680)\" style=\"stroke:#000000; stroke-width:4; stroke-opacity:1; fill:none\" points=\"\n",
       "  2748.58,1443.7 2748.58,1436.54 \n",
       "  \"/>\n",
       "<polyline clip-path=\"url(#clip680)\" style=\"stroke:#000000; stroke-width:4; stroke-opacity:1; fill:none\" points=\"\n",
       "  3115.35,1443.7 3115.35,1436.54 \n",
       "  \"/>\n",
       "<path clip-path=\"url(#clip680)\" d=\"M 0 0 M2005.33 1476.21 L2023.69 1476.21 L2023.69 1480.15 L2009.62 1480.15 L2009.62 1488.62 Q2010.63 1488.27 2011.65 1488.11 Q2012.67 1487.92 2013.69 1487.92 Q2019.48 1487.92 2022.86 1491.1 Q2026.24 1494.27 2026.24 1499.68 Q2026.24 1505.26 2022.76 1508.36 Q2019.29 1511.44 2012.97 1511.44 Q2010.8 1511.44 2008.53 1511.07 Q2006.28 1510.7 2003.87 1509.96 L2003.87 1505.26 Q2005.96 1506.4 2008.18 1506.95 Q2010.4 1507.51 2012.88 1507.51 Q2016.88 1507.51 2019.22 1505.4 Q2021.56 1503.3 2021.56 1499.68 Q2021.56 1496.07 2019.22 1493.97 Q2016.88 1491.86 2012.88 1491.86 Q2011 1491.86 2009.13 1492.28 Q2007.28 1492.69 2005.33 1493.57 L2005.33 1476.21 Z\" fill=\"#000000\" fill-rule=\"evenodd\" fill-opacity=\"1\" /><path clip-path=\"url(#clip680)\" d=\"M 0 0 M2358.69 1506.84 L2366.33 1506.84 L2366.33 1480.47 L2358.02 1482.14 L2358.02 1477.88 L2366.29 1476.21 L2370.96 1476.21 L2370.96 1506.84 L2378.6 1506.84 L2378.6 1510.77 L2358.69 1510.77 L2358.69 1506.84 Z\" fill=\"#000000\" fill-rule=\"evenodd\" fill-opacity=\"1\" /><path clip-path=\"url(#clip680)\" d=\"M 0 0 M2393.67 1479.29 Q2390.06 1479.29 2388.23 1482.86 Q2386.43 1486.4 2386.43 1493.53 Q2386.43 1500.63 2388.23 1504.2 Q2390.06 1507.74 2393.67 1507.74 Q2397.3 1507.74 2399.11 1504.2 Q2400.94 1500.63 2400.94 1493.53 Q2400.94 1486.4 2399.11 1482.86 Q2397.3 1479.29 2393.67 1479.29 M2393.67 1475.59 Q2399.48 1475.59 2402.54 1480.19 Q2405.61 1484.78 2405.61 1493.53 Q2405.61 1502.25 2402.54 1506.86 Q2399.48 1511.44 2393.67 1511.44 Q2387.86 1511.44 2384.78 1506.86 Q2381.73 1502.25 2381.73 1493.53 Q2381.73 1484.78 2384.78 1480.19 Q2387.86 1475.59 2393.67 1475.59 Z\" fill=\"#000000\" fill-rule=\"evenodd\" fill-opacity=\"1\" /><path clip-path=\"url(#clip680)\" d=\"M 0 0 M2725.96 1506.84 L2733.59 1506.84 L2733.59 1480.47 L2725.28 1482.14 L2725.28 1477.88 L2733.55 1476.21 L2738.22 1476.21 L2738.22 1506.84 L2745.86 1506.84 L2745.86 1510.77 L2725.96 1510.77 L2725.96 1506.84 Z\" fill=\"#000000\" fill-rule=\"evenodd\" fill-opacity=\"1\" /><path clip-path=\"url(#clip680)\" d=\"M 0 0 M2750.98 1476.21 L2769.33 1476.21 L2769.33 1480.15 L2755.26 1480.15 L2755.26 1488.62 Q2756.28 1488.27 2757.3 1488.11 Q2758.32 1487.92 2759.33 1487.92 Q2765.12 1487.92 2768.5 1491.1 Q2771.88 1494.27 2771.88 1499.68 Q2771.88 1505.26 2768.41 1508.36 Q2764.94 1511.44 2758.62 1511.44 Q2756.44 1511.44 2754.17 1511.07 Q2751.93 1510.7 2749.52 1509.96 L2749.52 1505.26 Q2751.6 1506.4 2753.83 1506.95 Q2756.05 1507.51 2758.52 1507.51 Q2762.53 1507.51 2764.87 1505.4 Q2767.21 1503.3 2767.21 1499.68 Q2767.21 1496.07 2764.87 1493.97 Q2762.53 1491.86 2758.52 1491.86 Q2756.65 1491.86 2754.77 1492.28 Q2752.92 1492.69 2750.98 1493.57 L2750.98 1476.21 Z\" fill=\"#000000\" fill-rule=\"evenodd\" fill-opacity=\"1\" /><path clip-path=\"url(#clip680)\" d=\"M 0 0 M3096.49 1506.84 L3112.81 1506.84 L3112.81 1510.77 L3090.87 1510.77 L3090.87 1506.84 Q3093.53 1504.08 3098.11 1499.45 Q3102.72 1494.8 3103.9 1493.46 Q3106.14 1490.93 3107.02 1489.2 Q3107.93 1487.44 3107.93 1485.75 Q3107.93 1482.99 3105.98 1481.26 Q3104.06 1479.52 3100.96 1479.52 Q3098.76 1479.52 3096.31 1480.29 Q3093.88 1481.05 3091.1 1482.6 L3091.1 1477.88 Q3093.92 1476.74 3096.38 1476.17 Q3098.83 1475.59 3100.87 1475.59 Q3106.24 1475.59 3109.43 1478.27 Q3112.63 1480.96 3112.63 1485.45 Q3112.63 1487.58 3111.82 1489.5 Q3111.03 1491.4 3108.92 1493.99 Q3108.34 1494.66 3105.24 1497.88 Q3102.14 1501.07 3096.49 1506.84 Z\" fill=\"#000000\" fill-rule=\"evenodd\" fill-opacity=\"1\" /><path clip-path=\"url(#clip680)\" d=\"M 0 0 M3127.88 1479.29 Q3124.27 1479.29 3122.44 1482.86 Q3120.64 1486.4 3120.64 1493.53 Q3120.64 1500.63 3122.44 1504.2 Q3124.27 1507.74 3127.88 1507.74 Q3131.51 1507.74 3133.32 1504.2 Q3135.15 1500.63 3135.15 1493.53 Q3135.15 1486.4 3133.32 1482.86 Q3131.51 1479.29 3127.88 1479.29 M3127.88 1475.59 Q3133.69 1475.59 3136.75 1480.19 Q3139.83 1484.78 3139.83 1493.53 Q3139.83 1502.25 3136.75 1506.86 Q3133.69 1511.44 3127.88 1511.44 Q3122.07 1511.44 3118.99 1506.86 Q3115.94 1502.25 3115.94 1493.53 Q3115.94 1484.78 3118.99 1480.19 Q3122.07 1475.59 3127.88 1475.59 Z\" fill=\"#000000\" fill-rule=\"evenodd\" fill-opacity=\"1\" /><path clip-path=\"url(#clip680)\" d=\"M 0 0 M2489.56 1564.92 L2476.67 1582.26 L2490.22 1600.56 L2483.32 1600.56 L2472.94 1586.56 L2462.57 1600.56 L2455.66 1600.56 L2469.5 1581.91 L2456.84 1564.92 L2463.74 1564.92 L2473.2 1577.62 L2482.65 1564.92 L2489.56 1564.92 Z\" fill=\"#000000\" fill-rule=\"evenodd\" fill-opacity=\"1\" /><path clip-path=\"url(#clip680)\" d=\"M 0 0 M2514.86 1558.65 L2498.63 1584.01 L2514.86 1584.01 L2514.86 1558.65 M2513.17 1553.04 L2521.26 1553.04 L2521.26 1584.01 L2528.04 1584.01 L2528.04 1589.36 L2521.26 1589.36 L2521.26 1600.56 L2514.86 1600.56 L2514.86 1589.36 L2493.41 1589.36 L2493.41 1583.15 L2513.17 1553.04 Z\" fill=\"#000000\" fill-rule=\"evenodd\" fill-opacity=\"1\" /><polyline clip-path=\"url(#clip685)\" style=\"stroke:#000000; stroke-width:2; stroke-opacity:0.1; fill:none\" points=\"\n",
       "  1830.94,1407.48 3152.76,1407.48 \n",
       "  \"/>\n",
       "<polyline clip-path=\"url(#clip685)\" style=\"stroke:#000000; stroke-width:2; stroke-opacity:0.1; fill:none\" points=\"\n",
       "  1830.94,1286.63 3152.76,1286.63 \n",
       "  \"/>\n",
       "<polyline clip-path=\"url(#clip685)\" style=\"stroke:#000000; stroke-width:2; stroke-opacity:0.1; fill:none\" points=\"\n",
       "  1830.94,1165.78 3152.76,1165.78 \n",
       "  \"/>\n",
       "<polyline clip-path=\"url(#clip685)\" style=\"stroke:#000000; stroke-width:2; stroke-opacity:0.1; fill:none\" points=\"\n",
       "  1830.94,1044.92 3152.76,1044.92 \n",
       "  \"/>\n",
       "<polyline clip-path=\"url(#clip685)\" style=\"stroke:#000000; stroke-width:2; stroke-opacity:0.1; fill:none\" points=\"\n",
       "  1830.94,924.068 3152.76,924.068 \n",
       "  \"/>\n",
       "<polyline clip-path=\"url(#clip680)\" style=\"stroke:#000000; stroke-width:4; stroke-opacity:1; fill:none\" points=\"\n",
       "  1830.94,1443.7 1830.94,847.244 \n",
       "  \"/>\n",
       "<polyline clip-path=\"url(#clip680)\" style=\"stroke:#000000; stroke-width:4; stroke-opacity:1; fill:none\" points=\"\n",
       "  1830.94,1407.48 1846.8,1407.48 \n",
       "  \"/>\n",
       "<polyline clip-path=\"url(#clip680)\" style=\"stroke:#000000; stroke-width:4; stroke-opacity:1; fill:none\" points=\"\n",
       "  1830.94,1286.63 1846.8,1286.63 \n",
       "  \"/>\n",
       "<polyline clip-path=\"url(#clip680)\" style=\"stroke:#000000; stroke-width:4; stroke-opacity:1; fill:none\" points=\"\n",
       "  1830.94,1165.78 1846.8,1165.78 \n",
       "  \"/>\n",
       "<polyline clip-path=\"url(#clip680)\" style=\"stroke:#000000; stroke-width:4; stroke-opacity:1; fill:none\" points=\"\n",
       "  1830.94,1044.92 1846.8,1044.92 \n",
       "  \"/>\n",
       "<polyline clip-path=\"url(#clip680)\" style=\"stroke:#000000; stroke-width:4; stroke-opacity:1; fill:none\" points=\"\n",
       "  1830.94,924.068 1846.8,924.068 \n",
       "  \"/>\n",
       "<path clip-path=\"url(#clip680)\" d=\"M 0 0 M1730.65 1420.83 L1746.97 1420.83 L1746.97 1424.76 L1725.02 1424.76 L1725.02 1420.83 Q1727.69 1418.07 1732.27 1413.44 Q1736.88 1408.79 1738.06 1407.45 Q1740.3 1404.92 1741.18 1403.19 Q1742.08 1401.43 1742.08 1399.74 Q1742.08 1396.98 1740.14 1395.25 Q1738.22 1393.51 1735.12 1393.51 Q1732.92 1393.51 1730.46 1394.28 Q1728.03 1395.04 1725.26 1396.59 L1725.26 1391.87 Q1728.08 1390.73 1730.53 1390.16 Q1732.99 1389.58 1735.02 1389.58 Q1740.39 1389.58 1743.59 1392.26 Q1746.78 1394.95 1746.78 1399.44 Q1746.78 1401.57 1745.97 1403.49 Q1745.19 1405.39 1743.08 1407.98 Q1742.5 1408.65 1739.4 1411.87 Q1736.3 1415.06 1730.65 1420.83 Z\" fill=\"#000000\" fill-rule=\"evenodd\" fill-opacity=\"1\" /><path clip-path=\"url(#clip680)\" d=\"M 0 0 M1752.04 1418.88 L1756.92 1418.88 L1756.92 1424.76 L1752.04 1424.76 L1752.04 1418.88 Z\" fill=\"#000000\" fill-rule=\"evenodd\" fill-opacity=\"1\" /><path clip-path=\"url(#clip680)\" d=\"M 0 0 M1762.04 1390.2 L1780.39 1390.2 L1780.39 1394.14 L1766.32 1394.14 L1766.32 1402.61 Q1767.34 1402.26 1768.36 1402.1 Q1769.38 1401.92 1770.39 1401.92 Q1776.18 1401.92 1779.56 1405.09 Q1782.94 1408.26 1782.94 1413.67 Q1782.94 1419.25 1779.47 1422.36 Q1776 1425.43 1769.68 1425.43 Q1767.5 1425.43 1765.23 1425.06 Q1762.99 1424.69 1760.58 1423.95 L1760.58 1419.25 Q1762.66 1420.39 1764.88 1420.94 Q1767.11 1421.5 1769.58 1421.5 Q1773.59 1421.5 1775.93 1419.39 Q1778.26 1417.29 1778.26 1413.67 Q1778.26 1410.06 1775.93 1407.96 Q1773.59 1405.85 1769.58 1405.85 Q1767.71 1405.85 1765.83 1406.27 Q1763.98 1406.68 1762.04 1407.56 L1762.04 1390.2 Z\" fill=\"#000000\" fill-rule=\"evenodd\" fill-opacity=\"1\" /><path clip-path=\"url(#clip680)\" d=\"M 0 0 M1725.07 1269.35 L1743.43 1269.35 L1743.43 1273.28 L1729.35 1273.28 L1729.35 1281.76 Q1730.37 1281.41 1731.39 1281.25 Q1732.41 1281.06 1733.43 1281.06 Q1739.21 1281.06 1742.59 1284.23 Q1745.97 1287.4 1745.97 1292.82 Q1745.97 1298.4 1742.5 1301.5 Q1739.03 1304.58 1732.71 1304.58 Q1730.53 1304.58 1728.26 1304.21 Q1726.02 1303.84 1723.61 1303.1 L1723.61 1298.4 Q1725.69 1299.53 1727.92 1300.09 Q1730.14 1300.65 1732.62 1300.65 Q1736.62 1300.65 1738.96 1298.54 Q1741.3 1296.43 1741.3 1292.82 Q1741.3 1289.21 1738.96 1287.1 Q1736.62 1285 1732.62 1285 Q1730.74 1285 1728.87 1285.41 Q1727.01 1285.83 1725.07 1286.71 L1725.07 1269.35 Z\" fill=\"#000000\" fill-rule=\"evenodd\" fill-opacity=\"1\" /><path clip-path=\"url(#clip680)\" d=\"M 0 0 M1751.04 1298.03 L1755.93 1298.03 L1755.93 1303.91 L1751.04 1303.91 L1751.04 1298.03 Z\" fill=\"#000000\" fill-rule=\"evenodd\" fill-opacity=\"1\" /><path clip-path=\"url(#clip680)\" d=\"M 0 0 M1771 1272.43 Q1767.38 1272.43 1765.56 1275.99 Q1763.75 1279.53 1763.75 1286.66 Q1763.75 1293.77 1765.56 1297.33 Q1767.38 1300.88 1771 1300.88 Q1774.63 1300.88 1776.44 1297.33 Q1778.26 1293.77 1778.26 1286.66 Q1778.26 1279.53 1776.44 1275.99 Q1774.63 1272.43 1771 1272.43 M1771 1268.72 Q1776.81 1268.72 1779.86 1273.33 Q1782.94 1277.91 1782.94 1286.66 Q1782.94 1295.39 1779.86 1300 Q1776.81 1304.58 1771 1304.58 Q1765.19 1304.58 1762.11 1300 Q1759.05 1295.39 1759.05 1286.66 Q1759.05 1277.91 1762.11 1273.33 Q1765.19 1268.72 1771 1268.72 Z\" fill=\"#000000\" fill-rule=\"evenodd\" fill-opacity=\"1\" /><path clip-path=\"url(#clip680)\" d=\"M 0 0 M1724.75 1148.5 L1746.97 1148.5 L1746.97 1150.49 L1734.42 1183.06 L1729.54 1183.06 L1741.34 1152.43 L1724.75 1152.43 L1724.75 1148.5 Z\" fill=\"#000000\" fill-rule=\"evenodd\" fill-opacity=\"1\" /><path clip-path=\"url(#clip680)\" d=\"M 0 0 M1752.04 1177.18 L1756.92 1177.18 L1756.92 1183.06 L1752.04 1183.06 L1752.04 1177.18 Z\" fill=\"#000000\" fill-rule=\"evenodd\" fill-opacity=\"1\" /><path clip-path=\"url(#clip680)\" d=\"M 0 0 M1762.04 1148.5 L1780.39 1148.5 L1780.39 1152.43 L1766.32 1152.43 L1766.32 1160.9 Q1767.34 1160.56 1768.36 1160.39 Q1769.38 1160.21 1770.39 1160.21 Q1776.18 1160.21 1779.56 1163.38 Q1782.94 1166.55 1782.94 1171.97 Q1782.94 1177.55 1779.47 1180.65 Q1776 1183.73 1769.68 1183.73 Q1767.5 1183.73 1765.23 1183.36 Q1762.99 1182.99 1760.58 1182.25 L1760.58 1177.55 Q1762.66 1178.68 1764.88 1179.24 Q1767.11 1179.79 1769.58 1179.79 Q1773.59 1179.79 1775.93 1177.69 Q1778.26 1175.58 1778.26 1171.97 Q1778.26 1168.36 1775.93 1166.25 Q1773.59 1164.14 1769.58 1164.14 Q1767.71 1164.14 1765.83 1164.56 Q1763.98 1164.98 1762.04 1165.86 L1762.04 1148.5 Z\" fill=\"#000000\" fill-rule=\"evenodd\" fill-opacity=\"1\" /><path clip-path=\"url(#clip680)\" d=\"M 0 0 M1699.05 1058.27 L1706.69 1058.27 L1706.69 1031.9 L1698.38 1033.57 L1698.38 1029.31 L1706.64 1027.64 L1711.32 1027.64 L1711.32 1058.27 L1718.96 1058.27 L1718.96 1062.2 L1699.05 1062.2 L1699.05 1058.27 Z\" fill=\"#000000\" fill-rule=\"evenodd\" fill-opacity=\"1\" /><path clip-path=\"url(#clip680)\" d=\"M 0 0 M1734.03 1030.72 Q1730.42 1030.72 1728.59 1034.29 Q1726.78 1037.83 1726.78 1044.96 Q1726.78 1052.06 1728.59 1055.63 Q1730.42 1059.17 1734.03 1059.17 Q1737.66 1059.17 1739.47 1055.63 Q1741.3 1052.06 1741.3 1044.96 Q1741.3 1037.83 1739.47 1034.29 Q1737.66 1030.72 1734.03 1030.72 M1734.03 1027.02 Q1739.84 1027.02 1742.89 1031.62 Q1745.97 1036.21 1745.97 1044.96 Q1745.97 1053.68 1742.89 1058.29 Q1739.84 1062.87 1734.03 1062.87 Q1728.22 1062.87 1725.14 1058.29 Q1722.08 1053.68 1722.08 1044.96 Q1722.08 1036.21 1725.14 1031.62 Q1728.22 1027.02 1734.03 1027.02 Z\" fill=\"#000000\" fill-rule=\"evenodd\" fill-opacity=\"1\" /><path clip-path=\"url(#clip680)\" d=\"M 0 0 M1751.04 1056.32 L1755.93 1056.32 L1755.93 1062.2 L1751.04 1062.2 L1751.04 1056.32 Z\" fill=\"#000000\" fill-rule=\"evenodd\" fill-opacity=\"1\" /><path clip-path=\"url(#clip680)\" d=\"M 0 0 M1771 1030.72 Q1767.38 1030.72 1765.56 1034.29 Q1763.75 1037.83 1763.75 1044.96 Q1763.75 1052.06 1765.56 1055.63 Q1767.38 1059.17 1771 1059.17 Q1774.63 1059.17 1776.44 1055.63 Q1778.26 1052.06 1778.26 1044.96 Q1778.26 1037.83 1776.44 1034.29 Q1774.63 1030.72 1771 1030.72 M1771 1027.02 Q1776.81 1027.02 1779.86 1031.62 Q1782.94 1036.21 1782.94 1044.96 Q1782.94 1053.68 1779.86 1058.29 Q1776.81 1062.87 1771 1062.87 Q1765.19 1062.87 1762.11 1058.29 Q1759.05 1053.68 1759.05 1044.96 Q1759.05 1036.21 1762.11 1031.62 Q1765.19 1027.02 1771 1027.02 Z\" fill=\"#000000\" fill-rule=\"evenodd\" fill-opacity=\"1\" /><path clip-path=\"url(#clip680)\" d=\"M 0 0 M1701.64 937.413 L1709.28 937.413 L1709.28 911.048 L1700.97 912.714 L1700.97 908.455 L1709.24 906.788 L1713.91 906.788 L1713.91 937.413 L1721.55 937.413 L1721.55 941.348 L1701.64 941.348 L1701.64 937.413 Z\" fill=\"#000000\" fill-rule=\"evenodd\" fill-opacity=\"1\" /><path clip-path=\"url(#clip680)\" d=\"M 0 0 M1730.65 937.413 L1746.97 937.413 L1746.97 941.348 L1725.02 941.348 L1725.02 937.413 Q1727.69 934.658 1732.27 930.029 Q1736.88 925.376 1738.06 924.034 Q1740.3 921.51 1741.18 919.774 Q1742.08 918.015 1742.08 916.325 Q1742.08 913.571 1740.14 911.835 Q1738.22 910.098 1735.12 910.098 Q1732.92 910.098 1730.46 910.862 Q1728.03 911.626 1725.26 913.177 L1725.26 908.455 Q1728.08 907.321 1730.53 906.742 Q1732.99 906.163 1735.02 906.163 Q1740.39 906.163 1743.59 908.848 Q1746.78 911.534 1746.78 916.024 Q1746.78 918.154 1745.97 920.075 Q1745.19 921.973 1743.08 924.566 Q1742.5 925.237 1739.4 928.455 Q1736.3 931.649 1730.65 937.413 Z\" fill=\"#000000\" fill-rule=\"evenodd\" fill-opacity=\"1\" /><path clip-path=\"url(#clip680)\" d=\"M 0 0 M1752.04 935.469 L1756.92 935.469 L1756.92 941.348 L1752.04 941.348 L1752.04 935.469 Z\" fill=\"#000000\" fill-rule=\"evenodd\" fill-opacity=\"1\" /><path clip-path=\"url(#clip680)\" d=\"M 0 0 M1762.04 906.788 L1780.39 906.788 L1780.39 910.723 L1766.32 910.723 L1766.32 919.196 Q1767.34 918.848 1768.36 918.686 Q1769.38 918.501 1770.39 918.501 Q1776.18 918.501 1779.56 921.672 Q1782.94 924.844 1782.94 930.26 Q1782.94 935.839 1779.47 938.941 Q1776 942.02 1769.68 942.02 Q1767.5 942.02 1765.23 941.649 Q1762.99 941.279 1760.58 940.538 L1760.58 935.839 Q1762.66 936.973 1764.88 937.529 Q1767.11 938.084 1769.58 938.084 Q1773.59 938.084 1775.93 935.978 Q1778.26 933.871 1778.26 930.26 Q1778.26 926.649 1775.93 924.543 Q1773.59 922.436 1769.58 922.436 Q1767.71 922.436 1765.83 922.853 Q1763.98 923.27 1762.04 924.149 L1762.04 906.788 Z\" fill=\"#000000\" fill-rule=\"evenodd\" fill-opacity=\"1\" /><path clip-path=\"url(#clip680)\" d=\"M 0 0 M1639.43 1162.69 Q1645.8 1165.17 1647.74 1167.53 Q1649.68 1169.88 1649.68 1173.83 L1649.68 1178.51 L1644.78 1178.51 L1644.78 1175.07 Q1644.78 1172.65 1643.64 1171.32 Q1642.49 1169.98 1638.22 1168.36 L1635.55 1167.31 L1600.48 1181.72 L1600.48 1175.52 L1628.36 1164.38 L1600.48 1153.24 L1600.48 1147.03 L1639.43 1162.69 Z\" fill=\"#000000\" fill-rule=\"evenodd\" fill-opacity=\"1\" /><path clip-path=\"url(#clip680)\" d=\"M 0 0 M1594.21 1122.4 L1619.57 1138.63 L1619.57 1122.4 L1594.21 1122.4 M1588.6 1124.08 L1588.6 1116 L1619.57 1116 L1619.57 1109.22 L1624.92 1109.22 L1624.92 1116 L1636.12 1116 L1636.12 1122.4 L1624.92 1122.4 L1624.92 1143.85 L1618.71 1143.85 L1588.6 1124.08 Z\" fill=\"#000000\" fill-rule=\"evenodd\" fill-opacity=\"1\" /><circle clip-path=\"url(#clip685)\" cx=\"2235.11\" cy=\"1210.25\" r=\"14\" fill=\"#1b9e77\" fill-rule=\"evenodd\" fill-opacity=\"0.8\" stroke=\"#000000\" stroke-opacity=\"0.8\" stroke-width=\"3.2\"/>\n",
       "<circle clip-path=\"url(#clip685)\" cx=\"2235.11\" cy=\"1249.89\" r=\"14\" fill=\"#1b9e77\" fill-rule=\"evenodd\" fill-opacity=\"0.8\" stroke=\"#000000\" stroke-opacity=\"0.8\" stroke-width=\"3.2\"/>\n",
       "<circle clip-path=\"url(#clip685)\" cx=\"2235.11\" cy=\"1155.62\" r=\"14\" fill=\"#1b9e77\" fill-rule=\"evenodd\" fill-opacity=\"0.8\" stroke=\"#000000\" stroke-opacity=\"0.8\" stroke-width=\"3.2\"/>\n",
       "<circle clip-path=\"url(#clip685)\" cx=\"2235.11\" cy=\"1101\" r=\"14\" fill=\"#1b9e77\" fill-rule=\"evenodd\" fill-opacity=\"0.8\" stroke=\"#000000\" stroke-opacity=\"0.8\" stroke-width=\"3.2\"/>\n",
       "<circle clip-path=\"url(#clip685)\" cx=\"2235.11\" cy=\"1118.88\" r=\"14\" fill=\"#1b9e77\" fill-rule=\"evenodd\" fill-opacity=\"0.8\" stroke=\"#000000\" stroke-opacity=\"0.8\" stroke-width=\"3.2\"/>\n",
       "<circle clip-path=\"url(#clip685)\" cx=\"2235.11\" cy=\"1188.01\" r=\"14\" fill=\"#1b9e77\" fill-rule=\"evenodd\" fill-opacity=\"0.8\" stroke=\"#000000\" stroke-opacity=\"0.8\" stroke-width=\"3.2\"/>\n",
       "<circle clip-path=\"url(#clip685)\" cx=\"2235.11\" cy=\"1274.54\" r=\"14\" fill=\"#1b9e77\" fill-rule=\"evenodd\" fill-opacity=\"0.8\" stroke=\"#000000\" stroke-opacity=\"0.8\" stroke-width=\"3.2\"/>\n",
       "<circle clip-path=\"url(#clip685)\" cx=\"3041.99\" cy=\"924.068\" r=\"14\" fill=\"#1b9e77\" fill-rule=\"evenodd\" fill-opacity=\"0.8\" stroke=\"#000000\" stroke-opacity=\"0.8\" stroke-width=\"3.2\"/>\n",
       "<circle clip-path=\"url(#clip685)\" cx=\"2235.11\" cy=\"1259.56\" r=\"14\" fill=\"#1b9e77\" fill-rule=\"evenodd\" fill-opacity=\"0.8\" stroke=\"#000000\" stroke-opacity=\"0.8\" stroke-width=\"3.2\"/>\n",
       "<circle clip-path=\"url(#clip685)\" cx=\"2235.11\" cy=\"1145.96\" r=\"14\" fill=\"#1b9e77\" fill-rule=\"evenodd\" fill-opacity=\"0.8\" stroke=\"#000000\" stroke-opacity=\"0.8\" stroke-width=\"3.2\"/>\n",
       "<circle clip-path=\"url(#clip685)\" cx=\"2235.11\" cy=\"1195.26\" r=\"14\" fill=\"#1b9e77\" fill-rule=\"evenodd\" fill-opacity=\"0.8\" stroke=\"#000000\" stroke-opacity=\"0.8\" stroke-width=\"3.2\"/>\n",
       "<polyline clip-path=\"url(#clip685)\" style=\"stroke:#1b9e77; stroke-width:4; stroke-opacity:0.8; fill:none\" points=\"\n",
       "  2235.11,1189.9 3041.99,924.068 \n",
       "  \"/>\n",
       "</svg>\n"
      ]
     },
     "execution_count": 7,
     "metadata": {},
     "output_type": "execute_result"
    }
   ],
   "source": [
    "plot_array = Any[]\n",
    "\n",
    "for i in 1:4    \n",
    "    x_vals = df[:, \"x$i\"]\n",
    "    y_vals = df[:, \"y$i\"]\n",
    "    \n",
    "    p = plot( x_vals, y_vals, \n",
    "              seriestype=:scatter, \n",
    "              xlabel=\"x$i\", ylabel=\"y$i\",\n",
    "              xlims=xlim, ylims=ylim, \n",
    "              smooth=true,\n",
    "              opacity=0.8, palette = :Dark2_5, \n",
    "            ) \n",
    "    \n",
    "    push!(plot_array, p)\n",
    "end\n",
    "\n",
    "plot(plot_array..., layout = (2, 2), legend = false, size = (800, 400))"
   ]
  },
  {
   "cell_type": "code",
   "execution_count": null,
   "id": "acquired-domain",
   "metadata": {},
   "outputs": [],
   "source": []
  }
 ],
 "metadata": {
  "kernelspec": {
   "display_name": "Julia 1.5.3",
   "language": "julia",
   "name": "julia-1.5"
  },
  "language_info": {
   "file_extension": ".jl",
   "mimetype": "application/julia",
   "name": "julia",
   "version": "1.5.3"
  }
 },
 "nbformat": 4,
 "nbformat_minor": 5
}
