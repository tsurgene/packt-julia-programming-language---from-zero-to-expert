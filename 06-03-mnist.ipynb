{
 "cells": [
  {
   "cell_type": "markdown",
   "id": "third-intake",
   "metadata": {},
   "source": [
    "# MNIST Example"
   ]
  },
  {
   "cell_type": "code",
   "execution_count": null,
   "id": "universal-yahoo",
   "metadata": {},
   "outputs": [],
   "source": [
    "using Random\n",
    "Random.seed!(1234);  # For experiment reproducibility. Can set this to any value. "
   ]
  },
  {
   "cell_type": "code",
   "execution_count": null,
   "id": "demonstrated-surveillance",
   "metadata": {},
   "outputs": [],
   "source": [
    "using Flux, Statistics \n",
    "using Flux.Data.MNIST\n",
    "using Flux: onehotbatch"
   ]
  },
  {
   "cell_type": "code",
   "execution_count": null,
   "id": "adequate-occasions",
   "metadata": {},
   "outputs": [],
   "source": [
    "imgs = MNIST.images()\n",
    "typeof(imgs)"
   ]
  },
  {
   "cell_type": "markdown",
   "id": "foster-mills",
   "metadata": {},
   "source": [
    "Let's dissect that a bit ... "
   ]
  },
  {
   "cell_type": "code",
   "execution_count": null,
   "id": "surprised-domain",
   "metadata": {},
   "outputs": [],
   "source": [
    "using Plots "
   ]
  },
  {
   "cell_type": "code",
   "execution_count": null,
   "id": "congressional-sodium",
   "metadata": {},
   "outputs": [],
   "source": [
    "Plots.scatter(imgs[1], size = (200, 200))  # Julia plots just 'knows' that this is suitable as an image"
   ]
  },
  {
   "cell_type": "code",
   "execution_count": null,
   "id": "embedded-clause",
   "metadata": {},
   "outputs": [],
   "source": [
    "@show size(imgs)     \n",
    "@show size(imgs[1]) ;"
   ]
  },
  {
   "cell_type": "markdown",
   "id": "paperback-clone",
   "metadata": {},
   "source": [
    "## Loading and Encoding Labels "
   ]
  },
  {
   "cell_type": "code",
   "execution_count": null,
   "id": "white-transcript",
   "metadata": {},
   "outputs": [],
   "source": [
    "labels = MNIST.labels();"
   ]
  },
  {
   "cell_type": "code",
   "execution_count": null,
   "id": "forty-medium",
   "metadata": {},
   "outputs": [],
   "source": [
    "labels[1:5]"
   ]
  },
  {
   "cell_type": "code",
   "execution_count": null,
   "id": "wound-quality",
   "metadata": {},
   "outputs": [],
   "source": [
    "@show size(labels)"
   ]
  },
  {
   "cell_type": "code",
   "execution_count": null,
   "id": "executive-treasurer",
   "metadata": {},
   "outputs": [],
   "source": [
    "labels = onehotbatch(MNIST.labels(), 0:9)    # convert to one-hot encoding \n",
    "labels[:, 1:5]  # show first five labels "
   ]
  },
  {
   "cell_type": "code",
   "execution_count": null,
   "id": "potential-management",
   "metadata": {},
   "outputs": [],
   "source": [
    "@show size(labels);"
   ]
  },
  {
   "cell_type": "markdown",
   "id": "given-thomson",
   "metadata": {},
   "source": [
    "## Creating Batches and Preparing Data "
   ]
  },
  {
   "cell_type": "markdown",
   "id": "unexpected-compound",
   "metadata": {},
   "source": [
    "We can use the parition function in Julia base library to create batches. This way, we can easily manage the memory and speed trade-off. "
   ]
  },
  {
   "cell_type": "code",
   "execution_count": null,
   "id": "classical-penetration",
   "metadata": {},
   "outputs": [],
   "source": [
    "using Base.Iterators: partition"
   ]
  },
  {
   "cell_type": "code",
   "execution_count": null,
   "id": "medical-elements",
   "metadata": {},
   "outputs": [],
   "source": [
    "for i in partition(1:10, 5)    # create equal partitions of size 2 \n",
    "    println(i)\n",
    "end"
   ]
  },
  {
   "cell_type": "markdown",
   "id": "optional-alberta",
   "metadata": {},
   "source": [
    "Let's reshape the \"Gray Scale\" 28x28 to a float32. That's going to take a bit of effort."
   ]
  },
  {
   "cell_type": "code",
   "execution_count": null,
   "id": "shaped-invalid",
   "metadata": {},
   "outputs": [],
   "source": [
    "imgs[1]"
   ]
  },
  {
   "cell_type": "code",
   "execution_count": null,
   "id": "valid-white",
   "metadata": {},
   "outputs": [],
   "source": [
    "typeof(imgs[1][1])   # this needs to be converted to float "
   ]
  },
  {
   "cell_type": "code",
   "execution_count": null,
   "id": "innocent-aviation",
   "metadata": {},
   "outputs": [],
   "source": [
    "typeof(imgs)"
   ]
  },
  {
   "cell_type": "code",
   "execution_count": null,
   "id": "under-price",
   "metadata": {},
   "outputs": [],
   "source": [
    "typeof(float.(imgs))"
   ]
  },
  {
   "cell_type": "code",
   "execution_count": null,
   "id": "improved-modern",
   "metadata": {},
   "outputs": [],
   "source": [
    "imgs = convert(Array{Array{   Float32    , 2}, 1}, float.(imgs));    # hack needed to convert everything to Float32"
   ]
  },
  {
   "cell_type": "code",
   "execution_count": null,
   "id": "specific-underground",
   "metadata": {},
   "outputs": [],
   "source": [
    "size(imgs[1])"
   ]
  },
  {
   "cell_type": "code",
   "execution_count": null,
   "id": "liquid-budapest",
   "metadata": {},
   "outputs": [],
   "source": [
    "typeof(imgs)"
   ]
  },
  {
   "cell_type": "markdown",
   "id": "cellular-andorra",
   "metadata": {},
   "source": [
    "Let's make sure our model can handle more than one \"channels\" (for future proofing it.)"
   ]
  },
  {
   "cell_type": "code",
   "execution_count": null,
   "id": "documented-hospital",
   "metadata": {},
   "outputs": [],
   "source": [
    "t = (cat(imgs[1:2]..., dims = 4),   labels[:,1:2]);"
   ]
  },
  {
   "cell_type": "code",
   "execution_count": null,
   "id": "impressive-attraction",
   "metadata": {},
   "outputs": [],
   "source": [
    "t[1]"
   ]
  },
  {
   "cell_type": "code",
   "execution_count": null,
   "id": "intelligent-vertical",
   "metadata": {},
   "outputs": [],
   "source": [
    "batch_size = 1000;"
   ]
  },
  {
   "cell_type": "code",
   "execution_count": null,
   "id": "thirty-rehabilitation",
   "metadata": {},
   "outputs": [],
   "source": [
    "train = [ \n",
    "          (cat(imgs[i]..., dims = 4),   labels[:,i])\n",
    "            for i in partition(1:60_000, batch_size)\n",
    "        ]\n",
    ";"
   ]
  },
  {
   "cell_type": "code",
   "execution_count": null,
   "id": "traditional-samoa",
   "metadata": {},
   "outputs": [],
   "source": [
    "@show size(train)\n",
    "@show length(train[1])\n",
    "@show size(train[1][1]);\n",
    "@show size(train[1][2]);"
   ]
  },
  {
   "cell_type": "markdown",
   "id": "shaped-neutral",
   "metadata": {},
   "source": [
    "## Prepare Test Data"
   ]
  },
  {
   "cell_type": "code",
   "execution_count": null,
   "id": "trained-springer",
   "metadata": {},
   "outputs": [],
   "source": [
    "test_images = MNIST.images(:test)[1:1000];"
   ]
  },
  {
   "cell_type": "code",
   "execution_count": null,
   "id": "comfortable-chicago",
   "metadata": {},
   "outputs": [],
   "source": [
    "test_images = float.(test_images);"
   ]
  },
  {
   "cell_type": "code",
   "execution_count": null,
   "id": "miniature-generation",
   "metadata": {},
   "outputs": [],
   "source": [
    "typeof(test_images)"
   ]
  },
  {
   "cell_type": "code",
   "execution_count": null,
   "id": "composed-script",
   "metadata": {},
   "outputs": [],
   "source": [
    "test_images = convert(Array{Array{Float32, 2}, 1}, test_images);"
   ]
  },
  {
   "cell_type": "code",
   "execution_count": null,
   "id": "equivalent-cologne",
   "metadata": {},
   "outputs": [],
   "source": [
    "typeof(test_images)"
   ]
  },
  {
   "cell_type": "code",
   "execution_count": null,
   "id": "palestinian-cylinder",
   "metadata": {},
   "outputs": [],
   "source": [
    "# we have just a single batch for testing \n",
    "tX = cat(test_images..., dims = 4);\n",
    "tY = onehotbatch(MNIST.labels(:test)[1:1000], 0:9);"
   ]
  },
  {
   "cell_type": "code",
   "execution_count": null,
   "id": "needed-fraud",
   "metadata": {},
   "outputs": [],
   "source": [
    "@show size(tX)\n",
    "@show size(tY);"
   ]
  },
  {
   "cell_type": "markdown",
   "id": "trained-nevada",
   "metadata": {},
   "source": [
    "## The Actual CNN Model "
   ]
  },
  {
   "cell_type": "code",
   "execution_count": null,
   "id": "requested-calvin",
   "metadata": {},
   "outputs": [],
   "source": [
    "model = Chain(\n",
    "  Conv((3,3), 1=>16, relu),\n",
    "  MaxPool((2,2)),\n",
    "  Conv((3,3), 16=>8, relu),\n",
    "  MaxPool((2,2)),\n",
    "  flatten,\n",
    "  Dense(200, 10),\n",
    "  softmax)"
   ]
  },
  {
   "cell_type": "code",
   "execution_count": null,
   "id": "solid-stick",
   "metadata": {},
   "outputs": [],
   "source": [
    "using Flux: onecold, crossentropy, throttle"
   ]
  },
  {
   "cell_type": "code",
   "execution_count": null,
   "id": "virgin-discharge",
   "metadata": {},
   "outputs": [],
   "source": [
    "m = model "
   ]
  },
  {
   "cell_type": "code",
   "execution_count": null,
   "id": "grateful-thunder",
   "metadata": {},
   "outputs": [],
   "source": [
    "opt = ADAM()\n",
    "# opt = Descent() \n",
    "# opt = Momentum()\n",
    "# opt = Nesterov()\n",
    "# opt = NADAM() "
   ]
  },
  {
   "cell_type": "code",
   "execution_count": null,
   "id": "standing-manufacturer",
   "metadata": {},
   "outputs": [],
   "source": [
    "accuracy(x, y) = mean(onecold(m(x)) .== onecold(y))      # onecold is the inverse operation to one-hot"
   ]
  },
  {
   "cell_type": "code",
   "execution_count": null,
   "id": "thrown-wright",
   "metadata": {},
   "outputs": [],
   "source": [
    "loss(x, y) = Flux.Losses.crossentropy(m(x), y)"
   ]
  },
  {
   "cell_type": "code",
   "execution_count": null,
   "id": "adequate-sitting",
   "metadata": {},
   "outputs": [],
   "source": [
    "evalcb = throttle(  () -> @show(accuracy(tX, tY)),    10)"
   ]
  },
  {
   "cell_type": "code",
   "execution_count": null,
   "id": "informative-burlington",
   "metadata": {},
   "outputs": [],
   "source": [
    "Flux.train!(loss, params(m), train, opt, cb = evalcb)"
   ]
  },
  {
   "cell_type": "markdown",
   "id": "sporting-marine",
   "metadata": {},
   "source": [
    "## Let's See Some Clean Code"
   ]
  },
  {
   "cell_type": "code",
   "execution_count": 1,
   "id": "radio-heritage",
   "metadata": {},
   "outputs": [
    {
     "data": {
      "text/plain": [
       "train_model! (generic function with 1 method)"
      ]
     },
     "execution_count": 1,
     "metadata": {},
     "output_type": "execute_result"
    }
   ],
   "source": [
    "using Flux, Statistics \n",
    "using Flux.Data.MNIST\n",
    "using Flux: onehotbatch\n",
    "using Base.Iterators: partition\n",
    "using Flux: onecold, crossentropy, throttle\n",
    "\n",
    "function get_training_test_data(batch_size=1000) \n",
    "    # load and fix train data \n",
    "    train_labels = onehotbatch(MNIST.labels(), 0:9) \n",
    "    \n",
    "    # label and imgs are combined for training \n",
    "    imgs = MNIST.images()\n",
    "    imgs = convert(Array{Array{Float32, 2}, 1}, float.(imgs));    # hack needed to convert everything to Float32\n",
    "    train = [ (cat(imgs[i]..., dims = 4),   train_labels[:,i])\n",
    "               for i in partition(1:60_000, batch_size)  ]\n",
    "    \n",
    "    # test images and labels sent separately \n",
    "    test_imgs = MNIST.images(:test)[1:1000];\n",
    "    test_imgs = convert(Array{Array{Float32, 2}, 1}, float.(test_imgs));\n",
    "    test_imgs = cat(test_imgs..., dims = 4);\n",
    "    test_labels = onehotbatch(MNIST.labels(:test)[1:1000], 0:9);\n",
    "    \n",
    "    return (train, test_imgs, test_labels)\n",
    "    \n",
    "end\n",
    "\n",
    "function build_model()\n",
    "    model = Chain(\n",
    "        Conv((3,3), 1=>16, relu),\n",
    "        MaxPool((2,2)),\n",
    "        Conv((3,3), 16=>8, relu),\n",
    "        MaxPool((2,2)),\n",
    "        flatten,\n",
    "        Dense(200, 10),\n",
    "        softmax\n",
    "    )\n",
    "end \n",
    "\n",
    "function train_model!(; iterations=1, opt = ADAM())\n",
    "    m = build_model() \n",
    "    \n",
    "    train, tX, tY =  get_training_test_data()\n",
    "    loss(x, y) = Flux.Losses.crossentropy(m(x), y)\n",
    "    \n",
    "    accuracy(x, y) = mean(onecold(m(x)) .== onecold(y))     \n",
    "    evalcb = throttle(() -> @show(accuracy(tX, tY)), 10)\n",
    "    \n",
    "    for i in 1:iterations\n",
    "        Flux.train!(loss, params(m), train, opt, cb = evalcb)\n",
    "    end \n",
    "end "
   ]
  },
  {
   "cell_type": "code",
   "execution_count": 2,
   "id": "operating-green",
   "metadata": {},
   "outputs": [
    {
     "name": "stdout",
     "output_type": "stream",
     "text": [
      "accuracy(tX, tY) = 0.189\n",
      "accuracy(tX, tY) = 0.657\n",
      "accuracy(tX, tY) = 0.846\n",
      "accuracy(tX, tY) = 0.887\n"
     ]
    }
   ],
   "source": [
    "train_model!(iterations=3, opt=ADAM())"
   ]
  },
  {
   "cell_type": "code",
   "execution_count": 3,
   "id": "outside-objective",
   "metadata": {},
   "outputs": [
    {
     "name": "stdout",
     "output_type": "stream",
     "text": [
      "accuracy(tX, tY) = 0.169\n",
      "accuracy(tX, tY) = 0.677\n",
      "accuracy(tX, tY) = 0.835\n",
      "accuracy(tX, tY) = 0.894\n",
      "accuracy(tX, tY) = 0.916\n"
     ]
    }
   ],
   "source": [
    "train_model!(iterations=3, opt=NADAM())"
   ]
  },
  {
   "cell_type": "code",
   "execution_count": 4,
   "id": "textile-reggae",
   "metadata": {},
   "outputs": [
    {
     "name": "stdout",
     "output_type": "stream",
     "text": [
      "accuracy(tX, tY) = 0.108\n",
      "accuracy(tX, tY) = 0.141\n",
      "accuracy(tX, tY) = 0.182\n",
      "accuracy(tX, tY) = 0.373\n",
      "accuracy(tX, tY) = 0.661\n"
     ]
    }
   ],
   "source": [
    "train_model!(iterations=3, opt=RADAM())"
   ]
  },
  {
   "cell_type": "code",
   "execution_count": 5,
   "id": "fresh-raising",
   "metadata": {},
   "outputs": [
    {
     "name": "stdout",
     "output_type": "stream",
     "text": [
      "accuracy(tX, tY) = 0.126\n",
      "accuracy(tX, tY) = 0.601\n",
      "accuracy(tX, tY) = 0.88\n",
      "accuracy(tX, tY) = 0.908\n",
      "accuracy(tX, tY) = 0.918\n"
     ]
    }
   ],
   "source": [
    "train_model!(iterations=3, opt=Descent())"
   ]
  },
  {
   "cell_type": "code",
   "execution_count": 6,
   "id": "opposed-constitutional",
   "metadata": {},
   "outputs": [
    {
     "name": "stdout",
     "output_type": "stream",
     "text": [
      "accuracy(tX, tY) = 0.118\n",
      "accuracy(tX, tY) = 0.796\n",
      "accuracy(tX, tY) = 0.937\n",
      "accuracy(tX, tY) = 0.951\n",
      "accuracy(tX, tY) = 0.959\n"
     ]
    }
   ],
   "source": [
    "train_model!(iterations=3, opt=Descent(0.4))"
   ]
  },
  {
   "cell_type": "markdown",
   "id": "comparative-placement",
   "metadata": {},
   "source": [
    "More optimizers and options here: https://fluxml.ai/Flux.jl/stable/training/optimisers/"
   ]
  },
  {
   "cell_type": "code",
   "execution_count": null,
   "id": "celtic-duration",
   "metadata": {},
   "outputs": [],
   "source": []
  }
 ],
 "metadata": {
  "kernelspec": {
   "display_name": "Julia 1.5.3",
   "language": "julia",
   "name": "julia-1.5"
  },
  "language_info": {
   "file_extension": ".jl",
   "mimetype": "application/julia",
   "name": "julia",
   "version": "1.5.3"
  }
 },
 "nbformat": 4,
 "nbformat_minor": 5
}
